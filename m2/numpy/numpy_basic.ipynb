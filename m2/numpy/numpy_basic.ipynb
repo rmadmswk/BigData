{
 "cells": [
  {
   "cell_type": "markdown",
   "id": "d7aedf8e",
   "metadata": {},
   "source": [
    "### Numpy는 \"Numerical Python\"의 약자로 대규모 다차원 배열과 행렬 연산에 필요한 다양한 함수를 제공\n",
    "\n",
    "- Numerical Python을 의미하는 Numpy는 파이썬에서 선형대수 기반의 프로그램을 쉽게 만들 수 있도록 지원하는 대표적인 패키지\n",
    "- 많은 머신러닝 알고리즘이 넘파이 기반으로 작성되어 있으며 알고리즘의 입출력 데이터를 넘파이 배열 타입으로 사용함\n",
    "- 넘파이의 기본 데이터 타입은 ndarray.ndarray를 이용해 넘파이에서 다차원 배열을 쉽게 생성하고 다양한 연산 수행\n",
    "\n",
    "### Numpy 특징\n",
    "\n",
    "- 강력한 N차원 배열 객체\n",
    "- 정교한 브로드케스팅 기능\n",
    "- 유용한 선형 대수학, 푸리에 변환 및 난수 기능\n",
    "- 푸리에 변환은 시간이나 공간에 대한 함수를 시간 또는 공간 주파수 성분으로 분해하는 변환\n",
    "- 범용적 데이터 처리에 사용 가능한 다차원 컨테이너"
   ]
  },
  {
   "cell_type": "code",
   "execution_count": 1,
   "id": "94eef61e",
   "metadata": {},
   "outputs": [
    {
     "name": "stdout",
     "output_type": "stream",
     "text": [
      "Requirement already satisfied: numpy in c:\\users\\admin\\anaconda3\\envs\\cakd5\\lib\\site-packages (1.21.2)\n"
     ]
    }
   ],
   "source": [
    "!pip install numpy"
   ]
  },
  {
   "cell_type": "code",
   "execution_count": 2,
   "id": "efbb82ba",
   "metadata": {},
   "outputs": [
    {
     "name": "stdout",
     "output_type": "stream",
     "text": [
      "[0 1 2 3 4 5 6 7 8 9] <class 'numpy.ndarray'>\n"
     ]
    }
   ],
   "source": [
    "import numpy as np\n",
    "z = np.arange(10)\n",
    "print(z,type(z))"
   ]
  },
  {
   "cell_type": "code",
   "execution_count": 4,
   "id": "3bc4edb8",
   "metadata": {},
   "outputs": [],
   "source": [
    "my_arr = np.arange(1000000)\n",
    "my_list = list(range(1000000))"
   ]
  },
  {
   "cell_type": "code",
   "execution_count": 5,
   "id": "e9cfce74",
   "metadata": {},
   "outputs": [
    {
     "name": "stdout",
     "output_type": "stream",
     "text": [
      "Wall time: 11.5 ms\n"
     ]
    }
   ],
   "source": [
    "%time for _ in range(10): my_array2 = my_arr * 2"
   ]
  },
  {
   "cell_type": "code",
   "execution_count": 211,
   "id": "a3a3a725",
   "metadata": {},
   "outputs": [
    {
     "name": "stdout",
     "output_type": "stream",
     "text": [
      "Wall time: 547 ms\n"
     ]
    }
   ],
   "source": [
    "%time for _ in range(10): my_list2 = [x*2 for x in my_list]"
   ]
  },
  {
   "cell_type": "code",
   "execution_count": 10,
   "id": "ab7d6dfa",
   "metadata": {},
   "outputs": [
    {
     "name": "stdout",
     "output_type": "stream",
     "text": [
      "[[-0.06349282 -0.33832487  0.54876493]\n",
      " [-0.7336287  -0.10842476 -0.83316193]] \n",
      "\n",
      "[[-0.6349282  -3.38324873  5.48764931]\n",
      " [-7.33628705 -1.08424762 -8.33161932]] \n",
      "\n",
      "[[-0.12698564 -0.67664975  1.09752986]\n",
      " [-1.46725741 -0.21684952 -1.66632386]]\n"
     ]
    }
   ],
   "source": [
    "# 배열 연산\n",
    "# np.random.randn 가우시안 표준 정규분포에서 난수 매트릭스 array 생성\n",
    "data = np.random.randn(2,3) \n",
    "print(data, '\\n')\n",
    "print(data * 10, '\\n')\n",
    "print(data + data)"
   ]
  },
  {
   "cell_type": "code",
   "execution_count": 11,
   "id": "bc3a117f",
   "metadata": {},
   "outputs": [
    {
     "name": "stdout",
     "output_type": "stream",
     "text": [
      "(2, 3)\n",
      "float64\n",
      "2\n"
     ]
    }
   ],
   "source": [
    "print(data.shape) #크기\n",
    "print(data.dtype) #데이터 타입\n",
    "print(data.ndim) #차원\n"
   ]
  },
  {
   "cell_type": "markdown",
   "id": "bfdf5135",
   "metadata": {},
   "source": [
    "#다차원 배열\n",
    "<img src = 'numpy차원.jpg' STYLE = 'width:300px;'>"
   ]
  },
  {
   "cell_type": "code",
   "execution_count": 9,
   "id": "c442d0fc",
   "metadata": {},
   "outputs": [
    {
     "name": "stdout",
     "output_type": "stream",
     "text": [
      "<class 'list'> \n",
      "\n",
      "[[1 2 3 4]\n",
      " [5 6 7 8]] <class 'numpy.ndarray'>\n"
     ]
    }
   ],
   "source": [
    "import numpy as np\n",
    "data2 = [[1,2,3,4],[5,6,7,8]]\n",
    "print(type(data2),'\\n')\n",
    "arr2 = np.array(data2)\n",
    "print(arr2,type(arr2))"
   ]
  },
  {
   "cell_type": "code",
   "execution_count": 10,
   "id": "a6f9113f",
   "metadata": {},
   "outputs": [
    {
     "name": "stdout",
     "output_type": "stream",
     "text": [
      "2 \n",
      "\n",
      "(2, 4)\n"
     ]
    }
   ],
   "source": [
    "print(arr2.ndim,'\\n')\n",
    "print(arr2.shape)"
   ]
  },
  {
   "cell_type": "code",
   "execution_count": 11,
   "id": "624ca2e9",
   "metadata": {},
   "outputs": [
    {
     "name": "stdout",
     "output_type": "stream",
     "text": [
      "[1 2 3] <class 'numpy.ndarray'> (3,)\n"
     ]
    }
   ],
   "source": [
    "# 1차원 배열로 3개의 데이터\n",
    "array1 = np.array([1,2,3])\n",
    "print(array1,type(array1),array1.shape) #(.열)이 아닌 (열.)형태 출력"
   ]
  },
  {
   "cell_type": "code",
   "execution_count": null,
   "id": "848d0e18",
   "metadata": {},
   "outputs": [],
   "source": [
    "# 2차원 배열로 2개의 행(row)과 3개의 열(column) 으로 구성된 6개 데이터"
   ]
  },
  {
   "cell_type": "code",
   "execution_count": 212,
   "id": "d08a9164",
   "metadata": {},
   "outputs": [
    {
     "name": "stdout",
     "output_type": "stream",
     "text": [
      "[[1 2 3]\n",
      " [4 5 6]] <class 'numpy.ndarray'> (2, 3)\n"
     ]
    }
   ],
   "source": [
    "import numpy as np\n",
    "data2 = [[1,2,3],[4,5,6]]\n",
    "array2 = np.array(data2)\n",
    "print(array2,type(array2),array2.shape)"
   ]
  },
  {
   "cell_type": "code",
   "execution_count": 18,
   "id": "dc59c826",
   "metadata": {},
   "outputs": [
    {
     "name": "stdout",
     "output_type": "stream",
     "text": [
      "[[1 2 3]\n",
      " [2 3 4]] <class 'numpy.ndarray'> (2, 3)\n"
     ]
    }
   ],
   "source": [
    "array2 = np.array([[1,2,3],\n",
    "                 [2,3,4]])\n",
    "print(array2,type(array2),array2.shape)"
   ]
  },
  {
   "cell_type": "code",
   "execution_count": 19,
   "id": "6d921d1a",
   "metadata": {},
   "outputs": [
    {
     "name": "stdout",
     "output_type": "stream",
     "text": [
      "[[1 2 3]] (1, 3)\n"
     ]
    }
   ],
   "source": [
    "# 1개의 row와 3개의 column으로 구성된 2차원 배열\n",
    "array21 = np.array([[1,2,3]])\n",
    "print(array21,array21.shape)"
   ]
  },
  {
   "cell_type": "code",
   "execution_count": 29,
   "id": "478e0d2f",
   "metadata": {},
   "outputs": [
    {
     "name": "stdout",
     "output_type": "stream",
     "text": [
      "[[[1 2 3]\n",
      "  [4 5 6]]\n",
      "\n",
      " [[1 2 3]\n",
      "  [4 5 6]]\n",
      "\n",
      " [[1 2 3]\n",
      "  [4 5 6]]] (3, 2, 3) \n",
      "\n",
      "<class 'numpy.ndarray'>\n"
     ]
    }
   ],
   "source": [
    "# 3차원\n",
    "array3 = np.array([[[1,2,3],[4,5,6]],\n",
    "                  [[1,2,3],[4,5,6]],\n",
    "                  [[1,2,3],[4,5,6]]])\n",
    "\n",
    "\n",
    "print(array3, array3.shape,'\\n')\n",
    "print(type(array3)) \n",
    "\n",
    "\n",
    "# 2행 3열짜리 3개 3차원에 존재"
   ]
  },
  {
   "cell_type": "code",
   "execution_count": 30,
   "id": "cc1e7853",
   "metadata": {},
   "outputs": [],
   "source": [
    "# 경고 메시지 제외 처리\n",
    "import warnings\n",
    "warnings.filterwarnings('ignore')"
   ]
  },
  {
   "cell_type": "markdown",
   "id": "22733eb1",
   "metadata": {},
   "source": [
    "## 배열 생성 및 초기화\n",
    "\n",
    "- Numpy 는 원하는 shape로 배열을 설정하고 각 요소를 특정 값으로 초기화하는 zeros, ones, full, eye 함수 제공\n",
    "- 파라미터로 입력한 배열과 같은 shape의 배열을 만드는 zeros_like, ones_like, full_like 함수도 제공"
   ]
  },
  {
   "cell_type": "code",
   "execution_count": 32,
   "id": "43d4982d",
   "metadata": {},
   "outputs": [
    {
     "name": "stdout",
     "output_type": "stream",
     "text": [
      "[0. 0. 0. 0. 0. 0. 0. 0. 0. 0.] \n",
      "\n",
      "[[0. 0. 0. 0. 0. 0.]\n",
      " [0. 0. 0. 0. 0. 0.]\n",
      " [0. 0. 0. 0. 0. 0.]] \n",
      "\n",
      "[[[0. 0.]\n",
      "  [0. 0.]\n",
      "  [0. 0.]]\n",
      "\n",
      " [[0. 0.]\n",
      "  [0. 0.]\n",
      "  [0. 0.]]]\n"
     ]
    }
   ],
   "source": [
    "print(np.zeros(10),'\\n')\n",
    "print(np.zeros((3,6)),'\\n')\n",
    "print(np.zeros((2,3,2)))"
   ]
  },
  {
   "cell_type": "code",
   "execution_count": 41,
   "id": "dee68909",
   "metadata": {},
   "outputs": [
    {
     "name": "stdout",
     "output_type": "stream",
     "text": [
      "[1. 1. 1. 1. 1. 1. 1. 1. 1. 1.] \n",
      "\n",
      "[[1. 1. 1. 1. 1. 1.]\n",
      " [1. 1. 1. 1. 1. 1.]\n",
      " [1. 1. 1. 1. 1. 1.]] \n",
      "\n",
      "[[[1. 1.]\n",
      "  [1. 1.]\n",
      "  [1. 1.]]\n",
      "\n",
      " [[1. 1.]\n",
      "  [1. 1.]\n",
      "  [1. 1.]]]\n"
     ]
    }
   ],
   "source": [
    "print(np.ones(10),'\\n')\n",
    "print(np.ones((3,6)),'\\n')\n",
    "print(np.ones((2,3,2)))"
   ]
  },
  {
   "cell_type": "code",
   "execution_count": 42,
   "id": "367622e0",
   "metadata": {},
   "outputs": [
    {
     "data": {
      "text/plain": [
       "array([[5, 5],\n",
       "       [5, 5]])"
      ]
     },
     "execution_count": 42,
     "metadata": {},
     "output_type": "execute_result"
    }
   ],
   "source": [
    "ar1 = np.full((2,2),5)\n",
    "ar1"
   ]
  },
  {
   "cell_type": "code",
   "execution_count": 43,
   "id": "f7fa7fe7",
   "metadata": {},
   "outputs": [
    {
     "data": {
      "text/plain": [
       "array([[1., 0., 0.],\n",
       "       [0., 1., 0.],\n",
       "       [0., 0., 1.]])"
      ]
     },
     "execution_count": 43,
     "metadata": {},
     "output_type": "execute_result"
    }
   ],
   "source": [
    "# 항등행렬,단위행렬 이런게 있다.\n",
    "ar2 = np.eye(3)\n",
    "ar2 "
   ]
  },
  {
   "cell_type": "code",
   "execution_count": null,
   "id": "260c7ec8",
   "metadata": {},
   "outputs": [],
   "source": [
    "# [과제] zeros_like, ones_like,full_like 함수 구글링해서 예제 1개씩 만들기"
   ]
  },
  {
   "cell_type": "code",
   "execution_count": 44,
   "id": "560f90dc",
   "metadata": {},
   "outputs": [
    {
     "data": {
      "text/plain": [
       "array([ 0,  1,  2,  3,  4,  5,  6,  7,  8,  9, 10, 11, 12, 13, 14])"
      ]
     },
     "execution_count": 44,
     "metadata": {},
     "output_type": "execute_result"
    }
   ],
   "source": [
    "# arange 함수 : python range 함수의 배열 버전\n",
    "arr1 = np.arange(15)\n",
    "arr1"
   ]
  },
  {
   "cell_type": "code",
   "execution_count": 47,
   "id": "7e5e7475",
   "metadata": {},
   "outputs": [
    {
     "name": "stdout",
     "output_type": "stream",
     "text": [
      "[[ 0  1  2  3  4]\n",
      " [ 5  6  7  8  9]\n",
      " [10 11 12 13 14]] \n",
      "\n",
      "[[[ 0  1  2  3  4]\n",
      "  [ 5  6  7  8  9]\n",
      "  [10 11 12 13 14]]] \n",
      "\n"
     ]
    }
   ],
   "source": [
    "arr2 = arr1.reshape(3,5) # 2차원\n",
    "print(arr2,'\\n')\n",
    "arr3 = arr1.reshape(1,3,5) # 3차원\n",
    "print(arr3,'\\n')"
   ]
  },
  {
   "cell_type": "code",
   "execution_count": 49,
   "id": "27a596b6",
   "metadata": {},
   "outputs": [
    {
     "data": {
      "text/plain": [
       "array([[0, 1],\n",
       "       [2, 3],\n",
       "       [4, 5],\n",
       "       [6, 7],\n",
       "       [8, 9]])"
      ]
     },
     "execution_count": 49,
     "metadata": {},
     "output_type": "execute_result"
    }
   ],
   "source": [
    "# Q. array1에 reshape 함수를 이용,(5,2) 배열을 생성하고 크기를 출력\n",
    "array1 = np.arange(10)\n",
    "array2 = array1.reshape(5,2)\n",
    "array2"
   ]
  },
  {
   "cell_type": "code",
   "execution_count": 53,
   "id": "fef551b4",
   "metadata": {},
   "outputs": [
    {
     "name": "stdout",
     "output_type": "stream",
     "text": [
      "[[ 0  1  2  3  4]\n",
      " [ 5  6  7  8  9]\n",
      " [10 11 12 13 14]\n",
      " [15 16 17 18 19]\n",
      " [20 21 22 23 24]\n",
      " [25 26 27 28 29]] (6, 5) \n",
      "\n",
      "[[[ 0  1  2  3  4]\n",
      "  [ 5  6  7  8  9]\n",
      "  [10 11 12 13 14]\n",
      "  [15 16 17 18 19]\n",
      "  [20 21 22 23 24]\n",
      "  [25 26 27 28 29]]] (1, 6, 5)\n"
     ]
    }
   ],
   "source": [
    "#0~29 일차원 배열을 생성한 후 다시 2,3,차원 배열로 변환하여 출력\n",
    "array1 = np.arange(30)\n",
    "array2 = array1.reshape(6,5)\n",
    "print(array2,array2.shape,'\\n')\n",
    "array3 = array1.reshape(1,6,5)\n",
    "print(array3,array3.shape)\n"
   ]
  },
  {
   "cell_type": "code",
   "execution_count": 55,
   "id": "e3da5749",
   "metadata": {},
   "outputs": [
    {
     "name": "stdout",
     "output_type": "stream",
     "text": [
      "[[ 0  1  2  3  4  5]\n",
      " [ 6  7  8  9 10 11]\n",
      " [12 13 14 15 16 17]\n",
      " [18 19 20 21 22 23]\n",
      " [24 25 26 27 28 29]] (5, 6) \n",
      "\n",
      "[[[ 0  1  2  3  4]\n",
      "  [ 5  6  7  8  9]]\n",
      "\n",
      " [[10 11 12 13 14]\n",
      "  [15 16 17 18 19]]\n",
      "\n",
      " [[20 21 22 23 24]\n",
      "  [25 26 27 28 29]]] (3, 2, 5) \n",
      "\n"
     ]
    }
   ],
   "source": [
    "# reshape(-1,-1) 이용 , 차원 변경\n",
    "array1 = np.arange(30)\n",
    "ar12 = array1.reshape(5,-1)\n",
    "print(ar12,ar12.shape,'\\n')\n",
    "ar13 = array1.reshape(-1,2,5)\n",
    "print(ar13,ar13.shape,'\\n')"
   ]
  },
  {
   "cell_type": "code",
   "execution_count": 7,
   "id": "5bd2c3db",
   "metadata": {},
   "outputs": [
    {
     "name": "stdout",
     "output_type": "stream",
     "text": [
      "[ 0  1  2  3  4  5  6  7  8  9 10 11 12 13 14 15 16 17 18 19 20 21 22 23\n",
      " 24 25 26 27 28 29] (30,) \n",
      "\n",
      "[[[ 0  1  2  3  4]\n",
      "  [ 5  6  7  8  9]]\n",
      "\n",
      " [[10 11 12 13 14]\n",
      "  [15 16 17 18 19]]\n",
      "\n",
      " [[20 21 22 23 24]\n",
      "  [25 26 27 28 29]]] (3, 2, 5) \n",
      "\n"
     ]
    }
   ],
   "source": [
    "# 2 -> 1,3차원으로 변환하여 출력\n",
    "array1 = np.arange(30)\n",
    "ar12 = array1.reshape(-1)\n",
    "ar13 = array1.reshape(3,2,-1) # -1이 붙으면 자동완성 인것같네\n",
    "print(ar12,ar12.shape,'\\n')\n",
    "print(ar13,ar13.shape,'\\n')\n"
   ]
  },
  {
   "cell_type": "code",
   "execution_count": 58,
   "id": "27a37fc8",
   "metadata": {},
   "outputs": [
    {
     "name": "stdout",
     "output_type": "stream",
     "text": [
      "[ 0  1  2  3  4  5  6  7  8  9 10 11 12 13 14 15 16 17 18 19 20 21 22 23\n",
      " 24 25 26 27 28 29] (30,) \n",
      "\n",
      "[[ 0  1  2  3  4  5  6  7  8  9 10 11 12 13 14]\n",
      " [15 16 17 18 19 20 21 22 23 24 25 26 27 28 29]] (2, 15) \n",
      "\n"
     ]
    }
   ],
   "source": [
    "# 3 -> 1,2차원 변경\n",
    "ar3 = np.arange(30)\n",
    "ar1 = ar3.reshape(-1)\n",
    "ar2 = ar3.reshape(2,-1)\n",
    "print(ar1,ar1.shape,'\\n')\n",
    "print(ar2,ar2.shape,'\\n')\n"
   ]
  },
  {
   "cell_type": "markdown",
   "id": "b381231f",
   "metadata": {},
   "source": [
    "## 행렬의 종류\n",
    "\n",
    "- 정방행렬은 행과 열의 수가 같은 행렬\n",
    "- 대각행렬은 주대각선 원소를 제외한 모든 원소들이 0인 정방행렬\n",
    "- 항등행렬은 행렬 곱셈 연산에 항등원으로 작용하는 행렬\n",
    "- 영행렬은 모든 원소가 0인 행렬로 곱셈 연산에서 영원으로 작용하는 행렬\n",
    "- 전치행렬은 주대각선 원소를 기준으로 행과 열을 바꿔주는 행렬\n",
    "- 직교행렬은 행렬 A의 역행렬이 A의 전치행렬이고 A의 전치행렬과 A 행렬을 곱하였을 때 항등행렬이 나오는 행렬"
   ]
  },
  {
   "cell_type": "code",
   "execution_count": 59,
   "id": "02d9b43f",
   "metadata": {},
   "outputs": [
    {
     "data": {
      "text/plain": [
       "array([[7, 7, 7, 7, 7],\n",
       "       [7, 7, 7, 7, 7],\n",
       "       [7, 7, 7, 7, 7],\n",
       "       [7, 7, 7, 7, 7],\n",
       "       [7, 7, 7, 7, 7]])"
      ]
     },
     "execution_count": 59,
     "metadata": {},
     "output_type": "execute_result"
    }
   ],
   "source": [
    "# 정방행렬\n",
    "a = np.full((5,5),7)\n",
    "a"
   ]
  },
  {
   "cell_type": "code",
   "execution_count": 60,
   "id": "9245aa72",
   "metadata": {},
   "outputs": [
    {
     "data": {
      "text/plain": [
       "array([[1., 0., 0., 0., 0.],\n",
       "       [0., 1., 0., 0., 0.],\n",
       "       [0., 0., 1., 0., 0.],\n",
       "       [0., 0., 0., 1., 0.],\n",
       "       [0., 0., 0., 0., 1.]])"
      ]
     },
     "execution_count": 60,
     "metadata": {},
     "output_type": "execute_result"
    }
   ],
   "source": [
    "# 항등행렬, 단위행렬\n",
    "a = np.eye(5)\n",
    "a"
   ]
  },
  {
   "cell_type": "code",
   "execution_count": 62,
   "id": "76b16527",
   "metadata": {},
   "outputs": [
    {
     "data": {
      "text/plain": [
       "array([[0., 0., 0., 0., 0.],\n",
       "       [0., 0., 0., 0., 0.],\n",
       "       [0., 0., 0., 0., 0.],\n",
       "       [0., 0., 0., 0., 0.],\n",
       "       [0., 0., 0., 0., 0.]])"
      ]
     },
     "execution_count": 62,
     "metadata": {},
     "output_type": "execute_result"
    }
   ],
   "source": [
    "# 영행렬\n",
    "a = np.zeros(25)\n",
    "a.reshape(5,5)"
   ]
  },
  {
   "cell_type": "markdown",
   "id": "6f4c5fc4",
   "metadata": {},
   "source": [
    "## ndarray 데이터 형태 지정 및 변경"
   ]
  },
  {
   "cell_type": "markdown",
   "id": "e80d63de",
   "metadata": {},
   "source": [
    "<img src = '데이터형태.jpg' STYLE = 'width:300px;'>"
   ]
  },
  {
   "cell_type": "code",
   "execution_count": 65,
   "id": "a7422508",
   "metadata": {},
   "outputs": [
    {
     "name": "stdout",
     "output_type": "stream",
     "text": [
      "[1. 2. 3.] float64 \n",
      "\n",
      "[1 2 3] int32\n"
     ]
    }
   ],
   "source": [
    "# 데이터 타입 확인\n",
    "arr1 = np.array([1,2,3],dtype=np.float64)\n",
    "arr2 = np.array([1,2,3],dtype=np.int32)\n",
    "print(arr1,arr1.dtype,'\\n')\n",
    "print(arr2, arr2.dtype)"
   ]
  },
  {
   "cell_type": "code",
   "execution_count": 66,
   "id": "a39255a1",
   "metadata": {},
   "outputs": [
    {
     "name": "stdout",
     "output_type": "stream",
     "text": [
      "int32\n",
      "float64\n"
     ]
    }
   ],
   "source": [
    "# 타입 변경\n",
    "arr = np.array([1,2,3,4,5])\n",
    "print(arr.dtype)\n",
    "float_arr = arr.astype(np.float64)\n",
    "print(float_arr.dtype)"
   ]
  },
  {
   "cell_type": "code",
   "execution_count": 72,
   "id": "1395bd00",
   "metadata": {},
   "outputs": [
    {
     "name": "stdout",
     "output_type": "stream",
     "text": [
      "[  64  -17   59 -128  -74    1    0    0    0    0]\n",
      "[0 0 0 0 0 0 0 0 0 0]\n"
     ]
    }
   ],
   "source": [
    "# empty 함수 : shape와 dtype을 입력 받아 초기화되지 않은 배열을 만들어준다. cf.zeros함수\n",
    "# 실행할 때마다 값이 다른 것을 확인 할 수 있다. 이는 해당 메모리 영역에 어떤 데이터가 \n",
    "# 남아있떤지 상관없이 그대로 영역의 주소만 알려줄 뿐 초기화는 사용자에게 맡기기 때문\n",
    "print(np.empty(shape=(10,),dtype = np.int8))\n",
    "print(np.zeros(shape=(10,),dtype = np.int8))"
   ]
  },
  {
   "cell_type": "code",
   "execution_count": 75,
   "id": "72f91f0f",
   "metadata": {},
   "outputs": [
    {
     "name": "stdout",
     "output_type": "stream",
     "text": [
      "[b'1' b'2' b'3' b'4'] |S1\n"
     ]
    }
   ],
   "source": [
    "# 문자열 타입으로 배열 만들기\n",
    "# arr = np.array([1,2,3,4], dtype ='S')\n",
    "arr = np.array([1,2,3,4], dtype =np.string_)\n",
    "print(arr,arr.dtype)"
   ]
  },
  {
   "cell_type": "code",
   "execution_count": 74,
   "id": "20a036d8",
   "metadata": {},
   "outputs": [
    {
     "name": "stdout",
     "output_type": "stream",
     "text": [
      "[b'1' b'2' b'3' b'4'] float64\n"
     ]
    }
   ],
   "source": [
    "arr1 = arr.astype(float) # 뒤에 숫자가 없어도 default 값이 자동으로 들어간다.\n",
    "print(arr,arr1.dtype) # ('float32') -> default 값이 아닌 다른 값을 쓸때 써야됨."
   ]
  },
  {
   "cell_type": "code",
   "execution_count": 78,
   "id": "c46a4ea6",
   "metadata": {},
   "outputs": [
    {
     "name": "stdout",
     "output_type": "stream",
     "text": [
      "[1. 2. 2. 3. 3.] float64 \n",
      "\n",
      "[1 2 2 3 3] int32\n"
     ]
    }
   ],
   "source": [
    "# 정수와 실수로 구성된 list_e = [1,2,2,3,3]을 numpy를 이용해 실수,정수로 뽑아라\n",
    "list_e = [1,2,2,3,3]\n",
    "arr1 = np.array(list_e,dtype=np.float64)\n",
    "arr2 = np.array(list_e,dtype=np.int32)\n",
    "print(arr1,arr1.dtype,'\\n')\n",
    "print(arr2, arr2.dtype)"
   ]
  },
  {
   "cell_type": "code",
   "execution_count": 81,
   "id": "6e8f6a3d",
   "metadata": {},
   "outputs": [
    {
     "name": "stdout",
     "output_type": "stream",
     "text": [
      "[1.2 2.3 3. ] float64 \n",
      "\n",
      "[1 2 3] int32 \n",
      "\n"
     ]
    }
   ],
   "source": [
    "list_e = [1.2,2.3,3]\n",
    "array_e1 = np.array(list_e)\n",
    "print(array_e1,array_e1.dtype,'\\n')\n",
    "array_e2 = array_e1.astype(int)\n",
    "print(array_e2,array_e2.dtype,'\\n')"
   ]
  },
  {
   "cell_type": "code",
   "execution_count": 82,
   "id": "26d37f4c",
   "metadata": {},
   "outputs": [
    {
     "name": "stdout",
     "output_type": "stream",
     "text": [
      "[[1 2 3]\n",
      " [4 5 6]] int32\n"
     ]
    }
   ],
   "source": [
    "# 배열의 산술 연산\n",
    "arr = np.arange(1,7).reshape(2,3)\n",
    "print(arr,arr.dtype)\n"
   ]
  },
  {
   "cell_type": "code",
   "execution_count": 90,
   "id": "c5d5c86d",
   "metadata": {},
   "outputs": [
    {
     "data": {
      "text/plain": [
       "array([[  0.,  16.,   1.],\n",
       "       [ 49.,   4., 144.]])"
      ]
     },
     "execution_count": 90,
     "metadata": {},
     "output_type": "execute_result"
    }
   ],
   "source": [
    "arr * arr"
   ]
  },
  {
   "cell_type": "code",
   "execution_count": 89,
   "id": "243e968a",
   "metadata": {},
   "outputs": [
    {
     "data": {
      "text/plain": [
       "array([[0., 0., 0.],\n",
       "       [0., 0., 0.]])"
      ]
     },
     "execution_count": 89,
     "metadata": {},
     "output_type": "execute_result"
    }
   ],
   "source": [
    "arr - arr"
   ]
  },
  {
   "cell_type": "code",
   "execution_count": 87,
   "id": "40ed193b",
   "metadata": {},
   "outputs": [
    {
     "data": {
      "text/plain": [
       "array([[ 0.,  4.,  1.],\n",
       "       [ 7.,  2., 12.]])"
      ]
     },
     "execution_count": 87,
     "metadata": {},
     "output_type": "execute_result"
    }
   ],
   "source": [
    "arr2 = np.array([[0.,4.,1.],[7.,2.,12.]])\n",
    "arr2"
   ]
  },
  {
   "cell_type": "code",
   "execution_count": 91,
   "id": "9d686f55",
   "metadata": {},
   "outputs": [
    {
     "data": {
      "text/plain": [
       "array([[False, False, False],\n",
       "       [False, False, False]])"
      ]
     },
     "execution_count": 91,
     "metadata": {},
     "output_type": "execute_result"
    }
   ],
   "source": [
    "arr2 > arr"
   ]
  },
  {
   "cell_type": "code",
   "execution_count": 99,
   "id": "e2b728f2",
   "metadata": {},
   "outputs": [
    {
     "name": "stdout",
     "output_type": "stream",
     "text": [
      "[[ 11  24  39]\n",
      " [ 56  75  96]\n",
      " [119 144 171]] [[12 14 16]\n",
      " [18 20 22]\n",
      " [24 26 28]] [[10 10 10]\n",
      " [10 10 10]\n",
      " [10 10 10]] [[11.          6.          4.33333333]\n",
      " [ 3.5         3.          2.66666667]\n",
      " [ 2.42857143  2.25        2.11111111]]\n",
      "[[12 14 16]\n",
      " [18 20 22]\n",
      " [24 26 28]] \n",
      "\n",
      "[[10 10 10]\n",
      " [10 10 10]\n",
      " [10 10 10]] \n",
      "\n",
      "[[ 11  24  39]\n",
      " [ 56  75  96]\n",
      " [119 144 171]] \n",
      "\n",
      "[[11.          6.          4.33333333]\n",
      " [ 3.5         3.          2.66666667]\n",
      " [ 2.42857143  2.25        2.11111111]] \n",
      "\n"
     ]
    }
   ],
   "source": [
    "# 기본 사칙 연산\n",
    "value1 = np.arange(1,10).reshape(3,3)\n",
    "value2 = np.arange(11,20).reshape(3,3)\n",
    "\n",
    "a = value2 * value1\n",
    "b = value2 + value1\n",
    "c = value2 - value1\n",
    "d = value2 / value1\n",
    "print(a,b,c,d)\n",
    "print(np.add(value1,value2),'\\n') # 더하기\n",
    "print(np.subtract(value2,value1),'\\n') # 빼기\n",
    "print(np.multiply(value2,value1),'\\n') # 곱하기 \n",
    "print(np.divide(value2,value1),'\\n') # 나누기\n"
   ]
  },
  {
   "cell_type": "code",
   "execution_count": 100,
   "id": "4ff8fb46",
   "metadata": {},
   "outputs": [
    {
     "data": {
      "text/plain": [
       "array([[ 0.98532475, -0.42742051, -1.65843785,  0.92206831],\n",
       "       [ 0.81453708,  0.65303983,  1.35241757, -0.53106119],\n",
       "       [-0.79079582,  1.53516279, -0.43041108, -1.24602189],\n",
       "       [-0.3813673 ,  1.04329439, -0.13479538, -1.48886711],\n",
       "       [-0.37463016,  0.14101327,  0.25223678,  1.80323945]])"
      ]
     },
     "execution_count": 100,
     "metadata": {},
     "output_type": "execute_result"
    }
   ],
   "source": [
    "arr = np.random.randn(5,4)\n",
    "arr"
   ]
  },
  {
   "cell_type": "code",
   "execution_count": 103,
   "id": "d7029d04",
   "metadata": {},
   "outputs": [
    {
     "data": {
      "text/plain": [
       "(0.10192629653565169, 4)"
      ]
     },
     "execution_count": 103,
     "metadata": {},
     "output_type": "execute_result"
    }
   ],
   "source": [
    "arr.mean(),round(4)"
   ]
  },
  {
   "cell_type": "code",
   "execution_count": 107,
   "id": "ce0d9110",
   "metadata": {},
   "outputs": [
    {
     "data": {
      "text/plain": [
       "array([-0.04461633,  0.57223332, -0.2330165 , -0.24043385,  0.45546484])"
      ]
     },
     "execution_count": 107,
     "metadata": {},
     "output_type": "execute_result"
    }
   ],
   "source": [
    "arr.mean(axis=1)"
   ]
  },
  {
   "cell_type": "code",
   "execution_count": 110,
   "id": "2ddbad38",
   "metadata": {},
   "outputs": [
    {
     "data": {
      "text/plain": [
       "array([ 0.05061371,  0.58901795, -0.12379799, -0.10812849])"
      ]
     },
     "execution_count": 110,
     "metadata": {},
     "output_type": "execute_result"
    }
   ],
   "source": [
    "arr.mean(axis = 0)b"
   ]
  },
  {
   "cell_type": "code",
   "execution_count": 111,
   "id": "1ec3822f",
   "metadata": {},
   "outputs": [
    {
     "data": {
      "text/plain": [
       "2.0385"
      ]
     },
     "execution_count": 111,
     "metadata": {},
     "output_type": "execute_result"
    }
   ],
   "source": [
    "arr.sum().round(4)"
   ]
  },
  {
   "cell_type": "code",
   "execution_count": 116,
   "id": "34932a89",
   "metadata": {},
   "outputs": [
    {
     "data": {
      "text/plain": [
       "array([ 9.85324747e-01, -4.21148006e-01,  6.98447793e-01,  6.44016574e-01,\n",
       "        5.24575379e-01,  3.42568615e-01,  4.63295814e-01, -2.46038425e-01,\n",
       "        1.94566157e-01,  2.98690724e-01, -1.28559798e-01,  1.60188322e-01,\n",
       "       -6.10905872e-02, -6.37354670e-02,  8.59124636e-03, -1.27912242e-02,\n",
       "        4.79197839e-03,  6.75732563e-04,  1.70444607e-04,  3.07352439e-04])"
      ]
     },
     "execution_count": 116,
     "metadata": {},
     "output_type": "execute_result"
    }
   ],
   "source": [
    "arr.cumprod()"
   ]
  },
  {
   "cell_type": "code",
   "execution_count": 10,
   "id": "a11e4bc9",
   "metadata": {},
   "outputs": [
    {
     "data": {
      "text/plain": [
       "array([[1, 2, 3],\n",
       "       [4, 5, 6],\n",
       "       [7, 8, 9]])"
      ]
     },
     "execution_count": 10,
     "metadata": {},
     "output_type": "execute_result"
    }
   ],
   "source": [
    "# 인덱싱, 슬라이싱\n",
    "arr2d = np.arange(1,10).reshape(3,3)\n",
    "arr2d"
   ]
  },
  {
   "cell_type": "code",
   "execution_count": 214,
   "id": "14e33e4b",
   "metadata": {},
   "outputs": [
    {
     "data": {
      "text/plain": [
       "array([[7, 8, 9]])"
      ]
     },
     "execution_count": 214,
     "metadata": {},
     "output_type": "execute_result"
    }
   ],
   "source": [
    "arr2d[2:]"
   ]
  },
  {
   "cell_type": "code",
   "execution_count": 215,
   "id": "2f3a78d6",
   "metadata": {},
   "outputs": [
    {
     "data": {
      "text/plain": [
       "9"
      ]
     },
     "execution_count": 215,
     "metadata": {},
     "output_type": "execute_result"
    }
   ],
   "source": [
    "arr2d[2][2]"
   ]
  },
  {
   "cell_type": "code",
   "execution_count": 216,
   "id": "6e491179",
   "metadata": {},
   "outputs": [
    {
     "data": {
      "text/plain": [
       "array([1, 4, 7])"
      ]
     },
     "execution_count": 216,
     "metadata": {},
     "output_type": "execute_result"
    }
   ],
   "source": [
    "arr2d[:,0]"
   ]
  },
  {
   "cell_type": "code",
   "execution_count": 217,
   "id": "64dfffa9",
   "metadata": {},
   "outputs": [
    {
     "data": {
      "text/plain": [
       "array([[1, 2, 3],\n",
       "       [4, 5, 6]])"
      ]
     },
     "execution_count": 217,
     "metadata": {},
     "output_type": "execute_result"
    }
   ],
   "source": [
    "arr2d[:2,:]"
   ]
  },
  {
   "cell_type": "code",
   "execution_count": null,
   "id": "6ab1366a",
   "metadata": {},
   "outputs": [],
   "source": [
    "# arr2d를 다은 방식으로 아래와 같이 출력하세요.\n",
    "[[1, 2, 3],\n",
    "[4, 5, 6]]"
   ]
  },
  {
   "cell_type": "code",
   "execution_count": 219,
   "id": "d4ffed28",
   "metadata": {},
   "outputs": [
    {
     "data": {
      "text/plain": [
       "array([[1, 2, 3],\n",
       "       [7, 8, 9]])"
      ]
     },
     "execution_count": 219,
     "metadata": {},
     "output_type": "execute_result"
    }
   ],
   "source": [
    "# arr2d[:2][:]\n",
    "arr2d[[0,2],:]"
   ]
  },
  {
   "cell_type": "code",
   "execution_count": 16,
   "id": "a1deacee",
   "metadata": {},
   "outputs": [
    {
     "name": "stdout",
     "output_type": "stream",
     "text": [
      "[3 6]\n",
      "\n",
      "[[1 2]\n",
      " [4 5]]\n"
     ]
    }
   ],
   "source": [
    "# arr2d에서 [3,6], [[1,2],[4,5]]을 출력하세요.\n",
    "print(arr2d[:2,2])\n",
    "print()\n",
    "print(arr2d[:2,:2])"
   ]
  },
  {
   "cell_type": "code",
   "execution_count": 130,
   "id": "f26f7476",
   "metadata": {},
   "outputs": [
    {
     "data": {
      "text/plain": [
       "array([[ 0,  1,  2,  3,  4,  5],\n",
       "       [ 6,  7,  8,  9, 10, 11],\n",
       "       [12, 13, 14, 15, 16, 17],\n",
       "       [18, 19, 20, 21, 22, 23],\n",
       "       [24, 25, 26, 27, 28, 29]])"
      ]
     },
     "execution_count": 130,
     "metadata": {},
     "output_type": "execute_result"
    }
   ],
   "source": [
    "arr = np.arange(30).reshape(5,6)\n",
    "arr"
   ]
  },
  {
   "cell_type": "code",
   "execution_count": 152,
   "id": "3140b887",
   "metadata": {},
   "outputs": [
    {
     "name": "stdout",
     "output_type": "stream",
     "text": [
      "[14 15 16]\n",
      "[3 9]\n",
      "[ 1  7 13]\n",
      "[ 1  7 13]\n"
     ]
    }
   ],
   "source": [
    "print(arr[2][2:5]) # [] 앞이 행 [] 열과 열안에 순서, 행이 세로 열이 가로\n",
    "print(arr[[0,1],3])\n",
    "print(arr[[0,1,2],1])\n",
    "print(arr[:3,1]) # 3번째 행 앞까지, 열안에 순서 "
   ]
  },
  {
   "cell_type": "code",
   "execution_count": 157,
   "id": "09cc4cd6",
   "metadata": {},
   "outputs": [
    {
     "name": "stdout",
     "output_type": "stream",
     "text": [
      "[[0, 1, 2, 3, 4, 5], [6, 7, 8, 9, 10, 11], [12, 13, 14, 15, 16, 17], [18, 19, 20, 21, 22, 23], [24, 25, 26, 27, 28, 29]] <class 'list'>\n"
     ]
    }
   ],
   "source": [
    "# 배열을 리스트로 변환\n",
    "li = arr.tolist()\n",
    "print(li, type(li))"
   ]
  },
  {
   "cell_type": "code",
   "execution_count": 163,
   "id": "19d0cf06",
   "metadata": {},
   "outputs": [
    {
     "name": "stdout",
     "output_type": "stream",
     "text": [
      "[1 2 3 4 5 6 7 8 9]\n",
      "[6 7 8 9]\n",
      "[False False False False False  True  True  True  True]\n"
     ]
    }
   ],
   "source": [
    "# boolean indexing\n",
    "arr1d = np.arange(1,10)\n",
    "print(arr1d)\n",
    "arr3 = arr1d[arr1d>5] # 잘보자\n",
    "print(arr3)\n",
    "print(arr1d > 5)"
   ]
  },
  {
   "cell_type": "code",
   "execution_count": 171,
   "id": "af95f8b3",
   "metadata": {},
   "outputs": [
    {
     "name": "stdout",
     "output_type": "stream",
     "text": [
      "[6 7 8 9]\n",
      "[6 7 8 9]\n"
     ]
    }
   ],
   "source": [
    "# arr1d에서 일반 인덱스를 이용해서 [6,7,8,9]를 출력\n",
    "print(arr1d[5:])\n",
    "print(arr1d[5:9])"
   ]
  },
  {
   "cell_type": "code",
   "execution_count": 179,
   "id": "5a569c51",
   "metadata": {},
   "outputs": [
    {
     "name": "stdout",
     "output_type": "stream",
     "text": [
      "[ 1  2  3  4  5  6  7  8  9 10 11 12 13 14]\n",
      "[11 12 13 14]\n",
      "[11 12 13 14]\n",
      "[False False False False False False False False False False  True  True\n",
      "  True  True]\n"
     ]
    }
   ],
   "source": [
    "# Q 1~14까지 ndarray를 만들어 array_e로 지정하고 array_e/2 > 5을 인덱스로 추출\n",
    "\n",
    "ndarray = np.arange(1,15)\n",
    "print(ndarray)\n",
    "array_e = ndarray[(ndarray / 2) > 5]\n",
    "print(array_e)\n",
    "print(ndarray[10:])\n",
    "print((ndarray/2) > 5)"
   ]
  },
  {
   "cell_type": "code",
   "execution_count": 21,
   "id": "89d22ba0",
   "metadata": {},
   "outputs": [
    {
     "name": "stdout",
     "output_type": "stream",
     "text": [
      "[11 12 13 14]\n"
     ]
    }
   ],
   "source": [
    "ndarray = np.arange(15)\n",
    "array_e = ndarray[ndarray/2 >5]\n",
    "print(array_e)"
   ]
  },
  {
   "cell_type": "code",
   "execution_count": 180,
   "id": "6df7b704",
   "metadata": {},
   "outputs": [
    {
     "name": "stdout",
     "output_type": "stream",
     "text": [
      "['Bob' 'Joe' 'Will' 'Bob' 'Joe' 'Will' 'Joe'] \n",
      "\n",
      "[[ 0.91059118  0.40004098  0.63028804  0.24027392]\n",
      " [ 0.28086694  0.13929879 -0.30825581 -1.17491726]\n",
      " [ 1.08487772  0.00226345 -0.07415652  1.30962553]\n",
      " [ 0.75465218 -0.07031259 -0.57476968 -1.37852708]\n",
      " [ 1.53428106 -0.79094339 -0.4352792  -0.60457467]\n",
      " [-1.85955409 -0.94025101 -1.90514724  0.46007073]\n",
      " [-0.54642139  0.47378965 -1.81765321  1.22247644]]\n"
     ]
    }
   ],
   "source": [
    "# Q\n",
    "names = np.array(['Bob','Joe','Will','Bob','Joe','Will','Joe'])\n",
    "data = np.random.randn(7,4)\n",
    "print(names,'\\n')\n",
    "print(data)\n"
   ]
  },
  {
   "cell_type": "code",
   "execution_count": 181,
   "id": "78821bc2",
   "metadata": {},
   "outputs": [
    {
     "data": {
      "text/plain": [
       "array([ True, False, False,  True, False, False, False])"
      ]
     },
     "execution_count": 181,
     "metadata": {},
     "output_type": "execute_result"
    }
   ],
   "source": [
    "names == 'Bob'"
   ]
  },
  {
   "cell_type": "code",
   "execution_count": 182,
   "id": "619b32c4",
   "metadata": {},
   "outputs": [
    {
     "data": {
      "text/plain": [
       "array([[ 0.91059118,  0.40004098,  0.63028804,  0.24027392],\n",
       "       [ 0.75465218, -0.07031259, -0.57476968, -1.37852708]])"
      ]
     },
     "execution_count": 182,
     "metadata": {},
     "output_type": "execute_result"
    }
   ],
   "source": [
    "data[names == 'Bob']"
   ]
  },
  {
   "cell_type": "code",
   "execution_count": 183,
   "id": "6a3c68df",
   "metadata": {},
   "outputs": [
    {
     "data": {
      "text/plain": [
       "array([[ 0.63028804,  0.24027392],\n",
       "       [-0.57476968, -1.37852708]])"
      ]
     },
     "execution_count": 183,
     "metadata": {},
     "output_type": "execute_result"
    }
   ],
   "source": [
    "data[names == 'Bob', 2:]"
   ]
  },
  {
   "cell_type": "code",
   "execution_count": 186,
   "id": "7355eb02",
   "metadata": {},
   "outputs": [
    {
     "data": {
      "text/plain": [
       "array([[ 0.28086694,  0.13929879, -0.30825581, -1.17491726],\n",
       "       [ 1.08487772,  0.00226345, -0.07415652,  1.30962553],\n",
       "       [ 1.53428106, -0.79094339, -0.4352792 , -0.60457467],\n",
       "       [-1.85955409, -0.94025101, -1.90514724,  0.46007073],\n",
       "       [-0.54642139,  0.47378965, -1.81765321,  1.22247644]])"
      ]
     },
     "execution_count": 186,
     "metadata": {},
     "output_type": "execute_result"
    }
   ],
   "source": [
    "data[names != 'Bob']"
   ]
  },
  {
   "cell_type": "code",
   "execution_count": 199,
   "id": "90771698",
   "metadata": {},
   "outputs": [
    {
     "data": {
      "text/plain": [
       "array([[ 0.91059118,  0.40004098,  0.63028804,  0.24027392],\n",
       "       [ 1.08487772,  0.00226345, -0.07415652,  1.30962553],\n",
       "       [ 0.75465218, -0.07031259, -0.57476968, -1.37852708],\n",
       "       [-1.85955409, -0.94025101, -1.90514724,  0.46007073]])"
      ]
     },
     "execution_count": 199,
     "metadata": {},
     "output_type": "execute_result"
    }
   ],
   "source": [
    "# Bob이거나 Will인것 출력\n",
    "data[names != 'Joe']"
   ]
  },
  {
   "cell_type": "code",
   "execution_count": 202,
   "id": "79621cd6",
   "metadata": {},
   "outputs": [
    {
     "data": {
      "text/plain": [
       "array([[ 0.91059118,  0.40004098,  0.63028804,  0.24027392],\n",
       "       [ 1.08487772,  0.00226345, -0.07415652,  1.30962553],\n",
       "       [ 0.75465218, -0.07031259, -0.57476968, -1.37852708],\n",
       "       [-1.85955409, -0.94025101, -1.90514724,  0.46007073]])"
      ]
     },
     "execution_count": 202,
     "metadata": {},
     "output_type": "execute_result"
    }
   ],
   "source": [
    "mask = (names == 'Bob') | (names == 'Will')\n",
    "data[mask]"
   ]
  },
  {
   "cell_type": "code",
   "execution_count": 208,
   "id": "238c4ca7",
   "metadata": {},
   "outputs": [
    {
     "name": "stdout",
     "output_type": "stream",
     "text": [
      "[[0.91059118 0.40004098 0.63028804 0.24027392]\n",
      " [0.28086694 0.13929879 0.         0.        ]\n",
      " [1.08487772 0.00226345 0.         1.30962553]\n",
      " [0.75465218 0.         0.         0.        ]\n",
      " [1.53428106 0.         0.         0.        ]\n",
      " [0.         0.         0.         0.46007073]\n",
      " [0.         0.47378965 0.         1.22247644]]\n"
     ]
    }
   ],
   "source": [
    "# 음수를 모두 0으로 처리하여 출력\n",
    "data[data<0] = 0  # 잘보자\n",
    "print(data)\n",
    "\n"
   ]
  },
  {
   "cell_type": "code",
   "execution_count": 3,
   "id": "c2d4c794",
   "metadata": {},
   "outputs": [
    {
     "data": {
      "text/plain": [
       "array([[0., 0., 0., 0.],\n",
       "       [1., 1., 1., 1.],\n",
       "       [2., 2., 2., 2.],\n",
       "       [3., 3., 3., 3.],\n",
       "       [4., 4., 4., 4.],\n",
       "       [5., 5., 5., 5.],\n",
       "       [6., 6., 6., 6.],\n",
       "       [7., 7., 7., 7.]])"
      ]
     },
     "execution_count": 3,
     "metadata": {},
     "output_type": "execute_result"
    }
   ],
   "source": [
    "# Fancy indexing\n",
    "arr = np.empty((8,4))\n",
    "arr \n",
    "for i in range(8):\n",
    "    arr[i] = i\n",
    "arr"
   ]
  },
  {
   "cell_type": "code",
   "execution_count": 4,
   "id": "42bd6993",
   "metadata": {},
   "outputs": [
    {
     "data": {
      "text/plain": [
       "array([[4., 4., 4., 4.],\n",
       "       [3., 3., 3., 3.],\n",
       "       [0., 0., 0., 0.],\n",
       "       [6., 6., 6., 6.]])"
      ]
     },
     "execution_count": 4,
     "metadata": {},
     "output_type": "execute_result"
    }
   ],
   "source": [
    "arr[[4,3,0,6]]"
   ]
  },
  {
   "cell_type": "code",
   "execution_count": 5,
   "id": "f200be6b",
   "metadata": {},
   "outputs": [
    {
     "data": {
      "text/plain": [
       "array([[5., 5., 5., 5.],\n",
       "       [3., 3., 3., 3.],\n",
       "       [1., 1., 1., 1.]])"
      ]
     },
     "execution_count": 5,
     "metadata": {},
     "output_type": "execute_result"
    }
   ],
   "source": [
    "arr[[-3,-5,-7]]"
   ]
  },
  {
   "cell_type": "code",
   "execution_count": 7,
   "id": "d5643ff8",
   "metadata": {},
   "outputs": [
    {
     "name": "stdout",
     "output_type": "stream",
     "text": [
      "[[ 0  1  2  3]\n",
      " [ 4  5  6  7]\n",
      " [ 8  9 10 11]\n",
      " [12 13 14 15]\n",
      " [16 17 18 19]\n",
      " [20 21 22 23]\n",
      " [24 25 26 27]\n",
      " [28 29 30 31]] \n",
      "\n"
     ]
    },
    {
     "data": {
      "text/plain": [
       "array([ 4, 23, 29, 10])"
      ]
     },
     "execution_count": 7,
     "metadata": {},
     "output_type": "execute_result"
    }
   ],
   "source": [
    "arr = np.arange(32).reshape((8,4))\n",
    "print(arr,'\\n')\n",
    "\n",
    "arr[[1,5,7,2],[0,3,1,2]]"
   ]
  },
  {
   "cell_type": "code",
   "execution_count": 10,
   "id": "cc1ee945",
   "metadata": {},
   "outputs": [
    {
     "name": "stdout",
     "output_type": "stream",
     "text": [
      "[[ 4  5  6  7]\n",
      " [20 21 22 23]\n",
      " [28 29 30 31]\n",
      " [ 8  9 10 11]] \n",
      "\n",
      "[[ 4  7  5  6]\n",
      " [20 23 21 22]\n",
      " [28 31 29 30]\n",
      " [ 8 11  9 10]]\n"
     ]
    }
   ],
   "source": [
    "print(arr[[1,5,7,2]],'\\n')\n",
    "print(arr[[1,5,7,2]][:,[0,3,1,2]]) ## 열 순서 바꾸기 \n",
    "# 순서는 여기도 똑같이 0부터 시작임"
   ]
  },
  {
   "cell_type": "code",
   "execution_count": 11,
   "id": "94392b0b",
   "metadata": {},
   "outputs": [
    {
     "name": "stdout",
     "output_type": "stream",
     "text": [
      "[[ 0  1  2  3  4]\n",
      " [ 5  6  7  8  9]\n",
      " [10 11 12 13 14]] \n",
      "\n",
      "[[ 0  5 10]\n",
      " [ 1  6 11]\n",
      " [ 2  7 12]\n",
      " [ 3  8 13]\n",
      " [ 4  9 14]]\n"
     ]
    }
   ],
   "source": [
    "# 배열 전치와 축 바꾸기\n",
    "arr = np.arange(15).reshape(3,5)\n",
    "print(arr,'\\n')\n",
    "print(arr.T)"
   ]
  }
 ],
 "metadata": {
  "kernelspec": {
   "display_name": "Python 3 (ipykernel)",
   "language": "python",
   "name": "python3"
  },
  "language_info": {
   "codemirror_mode": {
    "name": "ipython",
    "version": 3
   },
   "file_extension": ".py",
   "mimetype": "text/x-python",
   "name": "python",
   "nbconvert_exporter": "python",
   "pygments_lexer": "ipython3",
   "version": "3.8.12"
  }
 },
 "nbformat": 4,
 "nbformat_minor": 5
}
