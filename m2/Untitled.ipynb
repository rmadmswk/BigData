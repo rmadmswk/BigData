{
 "cells": [
  {
   "cell_type": "code",
   "execution_count": 5,
   "id": "63c4c25d",
   "metadata": {},
   "outputs": [],
   "source": [
    "import numpy as np\n",
    "a = np.array([1,2,3],dtype = np.float64)\n",
    "b = np.array([1,2,3],dtype = np.int32)"
   ]
  },
  {
   "cell_type": "code",
   "execution_count": 8,
   "id": "1d67836e",
   "metadata": {},
   "outputs": [
    {
     "name": "stdout",
     "output_type": "stream",
     "text": [
      "[[  1   2   3   4   5   6   7   8   9  10]\n",
      " [ 20  19  18  17  16  15  14  13  12  11]\n",
      " [ 21  22  23  24  25  26  27  28  29  30]\n",
      " [ 40  39  38  37  36  35  34  33  32  31]\n",
      " [ 41  42  43  44  45  46  47  48  49  50]\n",
      " [ 60  59  58  57  56  55  54  53  52  51]\n",
      " [ 61  62  63  64  65  66  67  68  69  70]\n",
      " [ 80  79  78  77  76  75  74  73  72  71]\n",
      " [ 81  82  83  84  85  86  87  88  89  90]\n",
      " [100  99  98  97  96  95  94  93  92  91]]\n"
     ]
    }
   ],
   "source": [
    "arr = np.arange(1,101).reshape(10,10)\n",
    "arr[[1,3,5,7,9]] = arr[[1,3,5,7,9]][:,[9,8,7,6,5,4,3,2,1,0]]\n",
    "print(arr)"
   ]
  },
  {
   "cell_type": "code",
   "execution_count": 12,
   "id": "42dedf5d",
   "metadata": {},
   "outputs": [
    {
     "name": "stdout",
     "output_type": "stream",
     "text": [
      "[[[0 1 2]\n",
      "  [3 4 5]]] \n",
      " [[[0 1 2]]\n",
      "\n",
      " [[3 4 5]]]\n"
     ]
    }
   ],
   "source": [
    "a  = np.arange(6).reshape(1,2,3)\n",
    "\n",
    "y = np.transpose(a,(1,0,2))\n",
    "print(a,'\\n',y)"
   ]
  },
  {
   "cell_type": "code",
   "execution_count": null,
   "id": "0d5a621b",
   "metadata": {},
   "outputs": [],
   "source": []
  },
  {
   "cell_type": "code",
   "execution_count": 14,
   "id": "eec951da",
   "metadata": {},
   "outputs": [
    {
     "name": "stdout",
     "output_type": "stream",
     "text": [
      "[ 1  1  9  9  9  9  9 10 11 13 13 14 16 16 18 20 21 21 22 23 23 25 27 28\n",
      " 29 29 29 29 30 30 30 30 31 31 31 33 33 34 36 36 36 38 38 40 40 41 42 42\n",
      " 44 44 46 48 49 51 51 52 53 56 57 58 60 60 60 63 63 64 64 66 70 70 70 71\n",
      " 72 74 74 75 75 75 78 79 79 79 80 82 83 83 84 86 87 87 88 88 90 91 92 96\n",
      " 97 98 98 99]\n"
     ]
    }
   ],
   "source": [
    "arr =np.random.randint(1,100, size = 100)\n",
    "print(np.sort(arr))"
   ]
  },
  {
   "cell_type": "code",
   "execution_count": 17,
   "id": "b663973a",
   "metadata": {},
   "outputs": [
    {
     "data": {
      "text/plain": [
       "array([[1., 1., 1., 1., 1., 1., 1., 1., 1., 1.],\n",
       "       [1., 0., 0., 0., 0., 0., 0., 0., 0., 1.],\n",
       "       [1., 0., 0., 0., 0., 0., 0., 0., 0., 1.],\n",
       "       [1., 0., 0., 0., 0., 0., 0., 0., 0., 1.],\n",
       "       [1., 0., 0., 0., 0., 0., 0., 0., 0., 1.],\n",
       "       [1., 0., 0., 0., 0., 0., 0., 0., 0., 1.],\n",
       "       [1., 0., 0., 0., 0., 0., 0., 0., 0., 1.],\n",
       "       [1., 0., 0., 0., 0., 0., 0., 0., 0., 1.],\n",
       "       [1., 0., 0., 0., 0., 0., 0., 0., 0., 1.],\n",
       "       [1., 1., 1., 1., 1., 1., 1., 1., 1., 1.]])"
      ]
     },
     "execution_count": 17,
     "metadata": {},
     "output_type": "execute_result"
    }
   ],
   "source": [
    "b=np.ones((10,10))\n",
    "b[1:9,1:9]=0\n",
    "b"
   ]
  },
  {
   "cell_type": "code",
   "execution_count": 20,
   "id": "53c8cb80",
   "metadata": {},
   "outputs": [
    {
     "data": {
      "text/html": [
       "<div>\n",
       "<style scoped>\n",
       "    .dataframe tbody tr th:only-of-type {\n",
       "        vertical-align: middle;\n",
       "    }\n",
       "\n",
       "    .dataframe tbody tr th {\n",
       "        vertical-align: top;\n",
       "    }\n",
       "\n",
       "    .dataframe thead th {\n",
       "        text-align: right;\n",
       "    }\n",
       "</style>\n",
       "<table border=\"1\" class=\"dataframe\">\n",
       "  <thead>\n",
       "    <tr style=\"text-align: right;\">\n",
       "      <th></th>\n",
       "      <th>0</th>\n",
       "      <th>1</th>\n",
       "      <th>2</th>\n",
       "      <th>3</th>\n",
       "      <th>4</th>\n",
       "      <th>5</th>\n",
       "      <th>6</th>\n",
       "      <th>7</th>\n",
       "    </tr>\n",
       "  </thead>\n",
       "  <tbody>\n",
       "    <tr>\n",
       "      <th>0</th>\n",
       "      <td>0.775909</td>\n",
       "      <td>0.115671</td>\n",
       "      <td>0.404614</td>\n",
       "      <td>0.763269</td>\n",
       "      <td>0.353598</td>\n",
       "      <td>0.953887</td>\n",
       "      <td>0.900004</td>\n",
       "      <td>0.626719</td>\n",
       "    </tr>\n",
       "    <tr>\n",
       "      <th>1</th>\n",
       "      <td>0.916288</td>\n",
       "      <td>0.025565</td>\n",
       "      <td>0.630486</td>\n",
       "      <td>0.755646</td>\n",
       "      <td>0.528556</td>\n",
       "      <td>0.110237</td>\n",
       "      <td>0.667030</td>\n",
       "      <td>0.645085</td>\n",
       "    </tr>\n",
       "    <tr>\n",
       "      <th>2</th>\n",
       "      <td>0.984347</td>\n",
       "      <td>0.690416</td>\n",
       "      <td>0.067592</td>\n",
       "      <td>0.804496</td>\n",
       "      <td>0.233255</td>\n",
       "      <td>0.055359</td>\n",
       "      <td>0.431433</td>\n",
       "      <td>0.620210</td>\n",
       "    </tr>\n",
       "    <tr>\n",
       "      <th>3</th>\n",
       "      <td>0.618514</td>\n",
       "      <td>0.848897</td>\n",
       "      <td>0.065150</td>\n",
       "      <td>0.886028</td>\n",
       "      <td>0.246142</td>\n",
       "      <td>0.284691</td>\n",
       "      <td>0.246619</td>\n",
       "      <td>0.166150</td>\n",
       "    </tr>\n",
       "  </tbody>\n",
       "</table>\n",
       "</div>"
      ],
      "text/plain": [
       "          0         1         2         3         4         5         6  \\\n",
       "0  0.775909  0.115671  0.404614  0.763269  0.353598  0.953887  0.900004   \n",
       "1  0.916288  0.025565  0.630486  0.755646  0.528556  0.110237  0.667030   \n",
       "2  0.984347  0.690416  0.067592  0.804496  0.233255  0.055359  0.431433   \n",
       "3  0.618514  0.848897  0.065150  0.886028  0.246142  0.284691  0.246619   \n",
       "\n",
       "          7  \n",
       "0  0.626719  \n",
       "1  0.645085  \n",
       "2  0.620210  \n",
       "3  0.166150  "
      ]
     },
     "execution_count": 20,
     "metadata": {},
     "output_type": "execute_result"
    }
   ],
   "source": [
    "import pandas as pd\n",
    "df = pd.DataFrame(ar)\n",
    "df"
   ]
  },
  {
   "cell_type": "code",
   "execution_count": 19,
   "id": "309c0de6",
   "metadata": {},
   "outputs": [
    {
     "data": {
      "text/plain": [
       "array([[0.77590904, 0.11567099, 0.40461376, 0.76326945, 0.35359835,\n",
       "        0.95388652, 0.90000435, 0.62671895],\n",
       "       [0.91628846, 0.02556544, 0.63048567, 0.75564636, 0.52855556,\n",
       "        0.11023724, 0.66703035, 0.64508464],\n",
       "       [0.98434747, 0.6904156 , 0.06759164, 0.80449628, 0.23325512,\n",
       "        0.05535937, 0.43143289, 0.62021013],\n",
       "       [0.61851389, 0.84889698, 0.06515033, 0.88602838, 0.24614218,\n",
       "        0.28469054, 0.24661942, 0.16615002]])"
      ]
     },
     "execution_count": 19,
     "metadata": {},
     "output_type": "execute_result"
    }
   ],
   "source": [
    "ar = np.random.rand(4,8)\n",
    "ar"
   ]
  },
  {
   "cell_type": "code",
   "execution_count": 21,
   "id": "d3be210c",
   "metadata": {},
   "outputs": [
    {
     "data": {
      "text/html": [
       "<div>\n",
       "<style scoped>\n",
       "    .dataframe tbody tr th:only-of-type {\n",
       "        vertical-align: middle;\n",
       "    }\n",
       "\n",
       "    .dataframe tbody tr th {\n",
       "        vertical-align: top;\n",
       "    }\n",
       "\n",
       "    .dataframe thead th {\n",
       "        text-align: right;\n",
       "    }\n",
       "</style>\n",
       "<table border=\"1\" class=\"dataframe\">\n",
       "  <thead>\n",
       "    <tr style=\"text-align: right;\">\n",
       "      <th></th>\n",
       "      <th>id</th>\n",
       "      <th>gender</th>\n",
       "      <th>age</th>\n",
       "      <th>region</th>\n",
       "      <th>product</th>\n",
       "      <th>price</th>\n",
       "      <th>qty</th>\n",
       "      <th>time</th>\n",
       "    </tr>\n",
       "  </thead>\n",
       "  <tbody>\n",
       "    <tr>\n",
       "      <th>0</th>\n",
       "      <td>0.775909</td>\n",
       "      <td>0.115671</td>\n",
       "      <td>0.404614</td>\n",
       "      <td>0.763269</td>\n",
       "      <td>0.353598</td>\n",
       "      <td>0.953887</td>\n",
       "      <td>0.900004</td>\n",
       "      <td>0.626719</td>\n",
       "    </tr>\n",
       "    <tr>\n",
       "      <th>1</th>\n",
       "      <td>0.916288</td>\n",
       "      <td>0.025565</td>\n",
       "      <td>0.630486</td>\n",
       "      <td>0.755646</td>\n",
       "      <td>0.528556</td>\n",
       "      <td>0.110237</td>\n",
       "      <td>0.667030</td>\n",
       "      <td>0.645085</td>\n",
       "    </tr>\n",
       "    <tr>\n",
       "      <th>2</th>\n",
       "      <td>0.984347</td>\n",
       "      <td>0.690416</td>\n",
       "      <td>0.067592</td>\n",
       "      <td>0.804496</td>\n",
       "      <td>0.233255</td>\n",
       "      <td>0.055359</td>\n",
       "      <td>0.431433</td>\n",
       "      <td>0.620210</td>\n",
       "    </tr>\n",
       "    <tr>\n",
       "      <th>3</th>\n",
       "      <td>0.618514</td>\n",
       "      <td>0.848897</td>\n",
       "      <td>0.065150</td>\n",
       "      <td>0.886028</td>\n",
       "      <td>0.246142</td>\n",
       "      <td>0.284691</td>\n",
       "      <td>0.246619</td>\n",
       "      <td>0.166150</td>\n",
       "    </tr>\n",
       "  </tbody>\n",
       "</table>\n",
       "</div>"
      ],
      "text/plain": [
       "         id    gender       age    region   product     price       qty  \\\n",
       "0  0.775909  0.115671  0.404614  0.763269  0.353598  0.953887  0.900004   \n",
       "1  0.916288  0.025565  0.630486  0.755646  0.528556  0.110237  0.667030   \n",
       "2  0.984347  0.690416  0.067592  0.804496  0.233255  0.055359  0.431433   \n",
       "3  0.618514  0.848897  0.065150  0.886028  0.246142  0.284691  0.246619   \n",
       "\n",
       "       time  \n",
       "0  0.626719  \n",
       "1  0.645085  \n",
       "2  0.620210  \n",
       "3  0.166150  "
      ]
     },
     "execution_count": 21,
     "metadata": {},
     "output_type": "execute_result"
    }
   ],
   "source": [
    "columns  = ['id','gender','age','region','product','price','qty','time']\n",
    "index = [np.arange(4)]\n",
    "df = pd.DataFrame(ar,index,columns=columns)\n",
    "df"
   ]
  },
  {
   "cell_type": "code",
   "execution_count": null,
   "id": "499b6481",
   "metadata": {},
   "outputs": [],
   "source": [
    "ID = np.random.randint(10000,3)\n",
    "gen = np.random.choice(['female','male'],3) \n",
    "age = np.random.randint(1,100,3)\n",
    "\n",
    "data = np.array([ID,gen,age]).reshape(3,3).transpose()\n",
    "\n"
   ]
  },
  {
   "cell_type": "code",
   "execution_count": 23,
   "id": "86dd557f",
   "metadata": {},
   "outputs": [
    {
     "data": {
      "text/plain": [
       "array([ 0,  3,  6,  9, 12, 15, 18, 21, 24, 27, 30, 33, 36, 39, 42, 45, 48,\n",
       "       51, 54, 57, 60, 63, 66, 69, 72, 75, 78, 81, 84, 87, 90, 93, 96, 99])"
      ]
     },
     "execution_count": 23,
     "metadata": {},
     "output_type": "execute_result"
    }
   ],
   "source": [
    "# [과제] 1 ~ 100까지 정수에서 3의 배수인 것만을 출력(for문과 배열 두가지 방식)\n",
    "a = np.arange(100)\n",
    "b = a[a%3==0]\n",
    "b"
   ]
  },
  {
   "cell_type": "code",
   "execution_count": 24,
   "id": "edc5e10a",
   "metadata": {},
   "outputs": [
    {
     "data": {
      "text/plain": [
       "array([ 0, 10, 20, 30, 40, 50, 60, 70, 80, 90])"
      ]
     },
     "execution_count": 24,
     "metadata": {},
     "output_type": "execute_result"
    }
   ],
   "source": [
    "# [과제] 1 ~ 100까지 정수에서 5의 배수이면서 2의 배수인 것만을 출력(for문과 배열 두가지 방식)\n",
    "a = np.arange(100)\n",
    "b = a[a%10==0]\n",
    "b"
   ]
  },
  {
   "cell_type": "code",
   "execution_count": 25,
   "id": "d641947c",
   "metadata": {},
   "outputs": [
    {
     "name": "stdout",
     "output_type": "stream",
     "text": [
      "1.0706780164679826\n",
      "0.10862181509963088\n"
     ]
    }
   ],
   "source": [
    "# [과제] 표준정규분포로 구성된 5행 5열 다차원 배열을 생성하고 함수를 이용하여 평균과 표준편차를 구하세요.\n",
    "a = np.random.randn(1,5,5)\n",
    "print(np.std(a))\n",
    "print(np.mean(a))"
   ]
  },
  {
   "cell_type": "code",
   "execution_count": 31,
   "id": "0c165303",
   "metadata": {},
   "outputs": [
    {
     "data": {
      "text/plain": [
       "array([0., 0., 0., 0., 1., 0., 0., 0., 0., 0.])"
      ]
     },
     "execution_count": 31,
     "metadata": {},
     "output_type": "execute_result"
    }
   ],
   "source": [
    "a = np.zeros(10)\n",
    "a[4]=1\n",
    "a"
   ]
  },
  {
   "cell_type": "code",
   "execution_count": 32,
   "id": "5a45d1b2",
   "metadata": {},
   "outputs": [
    {
     "data": {
      "text/plain": [
       "array([9, 8, 7, 6, 5, 4, 3, 2, 1, 0])"
      ]
     },
     "execution_count": 32,
     "metadata": {},
     "output_type": "execute_result"
    }
   ],
   "source": [
    "# [과제] 인덱싱을 이용하여 아래 배열을 내림차순으로 정렬하세요.\n",
    "# [0, 1, 2, 3, 4, 5, 6, 7, 8, 9\n",
    "a = [0, 1, 2, 3, 4, 5, 6, 7, 8, 9]\n",
    "b = np.array(a)\n",
    "np.sort(b)[::-1]"
   ]
  },
  {
   "cell_type": "code",
   "execution_count": 35,
   "id": "d30d1024",
   "metadata": {},
   "outputs": [
    {
     "data": {
      "text/plain": [
       "array([1, 2, 4])"
      ]
     },
     "execution_count": 35,
     "metadata": {},
     "output_type": "execute_result"
    }
   ],
   "source": [
    "# [과제] [1,2,0,0,4,0]에서 zero가 아닌 인덱스를 배열 형태로 출력하세요.\n",
    "a = [1,2,0,0,4,0]\n",
    "b = np.array(a)\n",
    "b[np.nonzero(b)]"
   ]
  },
  {
   "cell_type": "code",
   "execution_count": 42,
   "id": "aba24685",
   "metadata": {},
   "outputs": [
    {
     "data": {
      "text/plain": [
       "array([[0., 0., 0., 0., 0., 0., 0., 0., 0.],\n",
       "       [0., 0., 0., 0., 0., 0., 0., 0., 0.],\n",
       "       [0., 0., 1., 1., 1., 1., 1., 0., 0.],\n",
       "       [0., 0., 1., 1., 1., 1., 1., 0., 0.],\n",
       "       [0., 0., 1., 1., 1., 1., 1., 0., 0.],\n",
       "       [0., 0., 1., 1., 1., 1., 1., 0., 0.],\n",
       "       [0., 0., 1., 1., 1., 1., 1., 0., 0.],\n",
       "       [0., 0., 0., 0., 0., 0., 0., 0., 0.],\n",
       "       [0., 0., 0., 0., 0., 0., 0., 0., 0.]])"
      ]
     },
     "execution_count": 42,
     "metadata": {},
     "output_type": "execute_result"
    }
   ],
   "source": [
    "a = np.ones((5,5))\n",
    "b = np.zeros((9,9))\n",
    "b[2:7,2:7]=a\n",
    "b"
   ]
  },
  {
   "cell_type": "code",
   "execution_count": null,
   "id": "7fd3c6bb",
   "metadata": {},
   "outputs": [],
   "source": [
    "# [과제] np.zeros(8,8) 을 이용하여 아래와 같이 출력 (tile,인덱싱)\n",
    "# array([[0, 1, 0, 1, 0, 1, 0, 1],\n",
    "#        [1, 0, 1, 0, 1, 0, 1, 0],\n",
    "#        [0, 1, 0, 1, 0, 1, 0, 1],\n",
    "#        [1, 0, 1, 0, 1, 0, 1, 0],\n",
    "#        [0, 1, 0, 1, 0, 1, 0, 1],\n",
    "#        [1, 0, 1, 0, 1, 0, 1, 0],\n",
    "#        [0, 1, 0, 1, 0, 1, 0, 1],\n",
    "#        [1, 0, 1, 0, 1, 0, 1, 0]])"
   ]
  },
  {
   "cell_type": "code",
   "execution_count": 44,
   "id": "40522333",
   "metadata": {},
   "outputs": [
    {
     "data": {
      "text/plain": [
       "array([[0., 1., 0., 1., 0., 1., 0., 1.],\n",
       "       [1., 0., 1., 0., 1., 0., 1., 0.],\n",
       "       [0., 1., 0., 1., 0., 1., 0., 1.],\n",
       "       [1., 0., 1., 0., 1., 0., 1., 0.],\n",
       "       [0., 1., 0., 1., 0., 1., 0., 1.],\n",
       "       [1., 0., 1., 0., 1., 0., 1., 0.],\n",
       "       [0., 1., 0., 1., 0., 1., 0., 1.],\n",
       "       [1., 0., 1., 0., 1., 0., 1., 0.]])"
      ]
     },
     "execution_count": 44,
     "metadata": {},
     "output_type": "execute_result"
    }
   ],
   "source": [
    "a = np.zeros((8,8))\n",
    "a[::2,1::2] = 1\n",
    "a[1::2,::2] = 1\n",
    "a"
   ]
  },
  {
   "cell_type": "code",
   "execution_count": null,
   "id": "33e329ae",
   "metadata": {},
   "outputs": [],
   "source": []
  }
 ],
 "metadata": {
  "kernelspec": {
   "display_name": "Python 3 (ipykernel)",
   "language": "python",
   "name": "python3"
  },
  "language_info": {
   "codemirror_mode": {
    "name": "ipython",
    "version": 3
   },
   "file_extension": ".py",
   "mimetype": "text/x-python",
   "name": "python",
   "nbconvert_exporter": "python",
   "pygments_lexer": "ipython3",
   "version": "3.8.12"
  }
 },
 "nbformat": 4,
 "nbformat_minor": 5
}
