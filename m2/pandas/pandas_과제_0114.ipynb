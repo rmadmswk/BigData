{
 "cells": [
  {
   "cell_type": "code",
   "execution_count": 2,
   "metadata": {},
   "outputs": [
    {
     "data": {
      "text/html": [
       "<div>\n",
       "<style scoped>\n",
       "    .dataframe tbody tr th:only-of-type {\n",
       "        vertical-align: middle;\n",
       "    }\n",
       "\n",
       "    .dataframe tbody tr th {\n",
       "        vertical-align: top;\n",
       "    }\n",
       "\n",
       "    .dataframe thead th {\n",
       "        text-align: right;\n",
       "    }\n",
       "</style>\n",
       "<table border=\"1\" class=\"dataframe\">\n",
       "  <thead>\n",
       "    <tr style=\"text-align: right;\">\n",
       "      <th></th>\n",
       "      <th>survived</th>\n",
       "      <th>pclass</th>\n",
       "      <th>sex</th>\n",
       "      <th>age</th>\n",
       "      <th>sibsp</th>\n",
       "      <th>parch</th>\n",
       "      <th>fare</th>\n",
       "      <th>embarked</th>\n",
       "      <th>class</th>\n",
       "      <th>who</th>\n",
       "      <th>adult_male</th>\n",
       "      <th>deck</th>\n",
       "      <th>embark_town</th>\n",
       "      <th>alive</th>\n",
       "      <th>alone</th>\n",
       "    </tr>\n",
       "  </thead>\n",
       "  <tbody>\n",
       "    <tr>\n",
       "      <th>0</th>\n",
       "      <td>0</td>\n",
       "      <td>3</td>\n",
       "      <td>male</td>\n",
       "      <td>22.0</td>\n",
       "      <td>1</td>\n",
       "      <td>0</td>\n",
       "      <td>7.2500</td>\n",
       "      <td>S</td>\n",
       "      <td>Third</td>\n",
       "      <td>man</td>\n",
       "      <td>True</td>\n",
       "      <td>NaN</td>\n",
       "      <td>Southampton</td>\n",
       "      <td>no</td>\n",
       "      <td>False</td>\n",
       "    </tr>\n",
       "    <tr>\n",
       "      <th>1</th>\n",
       "      <td>1</td>\n",
       "      <td>1</td>\n",
       "      <td>female</td>\n",
       "      <td>38.0</td>\n",
       "      <td>1</td>\n",
       "      <td>0</td>\n",
       "      <td>71.2833</td>\n",
       "      <td>C</td>\n",
       "      <td>First</td>\n",
       "      <td>woman</td>\n",
       "      <td>False</td>\n",
       "      <td>C</td>\n",
       "      <td>Cherbourg</td>\n",
       "      <td>yes</td>\n",
       "      <td>False</td>\n",
       "    </tr>\n",
       "    <tr>\n",
       "      <th>2</th>\n",
       "      <td>1</td>\n",
       "      <td>3</td>\n",
       "      <td>female</td>\n",
       "      <td>26.0</td>\n",
       "      <td>0</td>\n",
       "      <td>0</td>\n",
       "      <td>7.9250</td>\n",
       "      <td>S</td>\n",
       "      <td>Third</td>\n",
       "      <td>woman</td>\n",
       "      <td>False</td>\n",
       "      <td>NaN</td>\n",
       "      <td>Southampton</td>\n",
       "      <td>yes</td>\n",
       "      <td>True</td>\n",
       "    </tr>\n",
       "    <tr>\n",
       "      <th>3</th>\n",
       "      <td>1</td>\n",
       "      <td>1</td>\n",
       "      <td>female</td>\n",
       "      <td>35.0</td>\n",
       "      <td>1</td>\n",
       "      <td>0</td>\n",
       "      <td>53.1000</td>\n",
       "      <td>S</td>\n",
       "      <td>First</td>\n",
       "      <td>woman</td>\n",
       "      <td>False</td>\n",
       "      <td>C</td>\n",
       "      <td>Southampton</td>\n",
       "      <td>yes</td>\n",
       "      <td>False</td>\n",
       "    </tr>\n",
       "    <tr>\n",
       "      <th>4</th>\n",
       "      <td>0</td>\n",
       "      <td>3</td>\n",
       "      <td>male</td>\n",
       "      <td>35.0</td>\n",
       "      <td>0</td>\n",
       "      <td>0</td>\n",
       "      <td>8.0500</td>\n",
       "      <td>S</td>\n",
       "      <td>Third</td>\n",
       "      <td>man</td>\n",
       "      <td>True</td>\n",
       "      <td>NaN</td>\n",
       "      <td>Southampton</td>\n",
       "      <td>no</td>\n",
       "      <td>True</td>\n",
       "    </tr>\n",
       "  </tbody>\n",
       "</table>\n",
       "</div>"
      ],
      "text/plain": [
       "   survived  pclass     sex   age  sibsp  parch     fare embarked  class  \\\n",
       "0         0       3    male  22.0      1      0   7.2500        S  Third   \n",
       "1         1       1  female  38.0      1      0  71.2833        C  First   \n",
       "2         1       3  female  26.0      0      0   7.9250        S  Third   \n",
       "3         1       1  female  35.0      1      0  53.1000        S  First   \n",
       "4         0       3    male  35.0      0      0   8.0500        S  Third   \n",
       "\n",
       "     who  adult_male deck  embark_town alive  alone  \n",
       "0    man        True  NaN  Southampton    no  False  \n",
       "1  woman       False    C    Cherbourg   yes  False  \n",
       "2  woman       False  NaN  Southampton   yes   True  \n",
       "3  woman       False    C  Southampton   yes  False  \n",
       "4    man        True  NaN  Southampton    no   True  "
      ]
     },
     "execution_count": 2,
     "metadata": {},
     "output_type": "execute_result"
    }
   ],
   "source": [
    "import numpy as np\n",
    "import pandas as pd\n",
    "import seaborn as sns\n",
    "df = sns.load_dataset('titanic')\n",
    "tdf = df.copy()\n",
    "tdf2 = df.copy()\n",
    "tdf.head()"
   ]
  },
  {
   "cell_type": "markdown",
   "metadata": {},
   "source": [
    "### Q. titanic 데이터셋에서 age, fare 2개 열을 선택하여 데이터프레임 df를 만드세요"
   ]
  },
  {
   "cell_type": "code",
   "execution_count": 14,
   "metadata": {},
   "outputs": [
    {
     "name": "stdout",
     "output_type": "stream",
     "text": [
      "      age     fare\n",
      "0    22.0   7.2500\n",
      "1    38.0  71.2833\n",
      "2    26.0   7.9250\n",
      "3    35.0  53.1000\n",
      "4    35.0   8.0500\n",
      "..    ...      ...\n",
      "886  27.0  13.0000\n",
      "887  19.0  30.0000\n",
      "888   NaN  23.4500\n",
      "889  26.0  30.0000\n",
      "890  32.0   7.7500\n",
      "\n",
      "[891 rows x 2 columns] <class 'pandas.core.frame.DataFrame'>\n"
     ]
    }
   ],
   "source": [
    "df1 = df.loc[:,['age','fare']]\n",
    "print(df1,type(df1))"
   ]
  },
  {
   "cell_type": "markdown",
   "metadata": {},
   "source": [
    "### Q. 10을 더하는 함수 add_10 과 두 객체의 합 add_two_obj 함수를 정의한 후 결과값이 각각 20과 20을 출력하세요."
   ]
  },
  {
   "cell_type": "code",
   "execution_count": 91,
   "metadata": {},
   "outputs": [
    {
     "name": "stdout",
     "output_type": "stream",
     "text": [
      "20\n",
      "20\n"
     ]
    }
   ],
   "source": [
    "def add_10(df):\n",
    "    return df + 10\n",
    "def add_two_obj(a,b):\n",
    "    return a+b\n",
    "\n",
    "print(add_10(10))\n",
    "print(add_two_obj(10,10))"
   ]
  },
  {
   "cell_type": "markdown",
   "metadata": {},
   "source": [
    "### Q. 10을 곱하는 사용자 함수와 두 객체의 나눗셈을 수행하는 사용자 함수를 정의한 후 결과값이 각각 200과 10을 출력하세요."
   ]
  },
  {
   "cell_type": "code",
   "execution_count": 92,
   "metadata": {},
   "outputs": [
    {
     "name": "stdout",
     "output_type": "stream",
     "text": [
      "200\n",
      "10.0\n"
     ]
    }
   ],
   "source": [
    "def mul(a):\n",
    "    return a * 10\n",
    "def div(a,b):\n",
    "    return round((a/b),2)\n",
    "\n",
    "print(mul(20))\n",
    "print(div(100,10))"
   ]
  },
  {
   "cell_type": "markdown",
   "metadata": {},
   "source": [
    "### Q.df_age 에 add_10 함수를 적용해서 출력하세요."
   ]
  },
  {
   "cell_type": "code",
   "execution_count": 93,
   "metadata": {},
   "outputs": [
    {
     "name": "stdout",
     "output_type": "stream",
     "text": [
      "0      22.0\n",
      "1      38.0\n",
      "2      26.0\n",
      "3      35.0\n",
      "4      35.0\n",
      "       ... \n",
      "886    27.0\n",
      "887    19.0\n",
      "888     NaN\n",
      "889    26.0\n",
      "890    32.0\n",
      "Name: age, Length: 891, dtype: float64 \n",
      "\n",
      "0    32.0\n",
      "1    48.0\n",
      "2    36.0\n",
      "3    45.0\n",
      "4    45.0\n",
      "Name: age, dtype: float64\n"
     ]
    }
   ],
   "source": [
    "df_age = df['age']\n",
    "print(df_age,'\\n')\n",
    "sr1 = df_age.apply(add_10)\n",
    "print(sr1.head())"
   ]
  },
  {
   "cell_type": "markdown",
   "metadata": {},
   "source": [
    "### Q. 시리즈 객체 + 숫자를 연산하는 방식으로 df.age에 10을 더한 후 sr2에 저장하고 출력하세요."
   ]
  },
  {
   "cell_type": "code",
   "execution_count": 94,
   "metadata": {},
   "outputs": [
    {
     "name": "stdout",
     "output_type": "stream",
     "text": [
      "<class 'pandas.core.series.Series'>\n"
     ]
    },
    {
     "data": {
      "text/plain": [
       "0      32.0\n",
       "1      48.0\n",
       "2      36.0\n",
       "3      45.0\n",
       "4      45.0\n",
       "       ... \n",
       "886    37.0\n",
       "887    29.0\n",
       "888     NaN\n",
       "889    36.0\n",
       "890    42.0\n",
       "Name: age, Length: 891, dtype: float64"
      ]
     },
     "execution_count": 94,
     "metadata": {},
     "output_type": "execute_result"
    }
   ],
   "source": [
    "print(type(df_age)) # 시리즈 타입인거 확인하고 \n",
    "sr2=df_age+10 # 문제 처럼 그냥 시리즈 객체 + 숫자 하니까\n",
    "sr2 # 연산이되네?"
   ]
  },
  {
   "cell_type": "markdown",
   "metadata": {},
   "source": [
    "### Q. 람다 함수를 활용해서 위와 같은 연산을 수행하고 결과를 sr3로 출력하세요."
   ]
  },
  {
   "cell_type": "code",
   "execution_count": 95,
   "metadata": {},
   "outputs": [
    {
     "data": {
      "text/plain": [
       "0      32.0\n",
       "1      48.0\n",
       "2      36.0\n",
       "3      45.0\n",
       "4      45.0\n",
       "       ... \n",
       "886    37.0\n",
       "887    29.0\n",
       "888     NaN\n",
       "889    36.0\n",
       "890    42.0\n",
       "Name: age, Length: 891, dtype: float64"
      ]
     },
     "execution_count": 95,
     "metadata": {},
     "output_type": "execute_result"
    }
   ],
   "source": [
    "sr3 = df.age.apply(lambda x : add_10(x))\n",
    "sr3"
   ]
  },
  {
   "cell_type": "markdown",
   "metadata": {},
   "source": [
    "### Q. df의 'age', 'fare' 칼럼에 10을 사칙연산하는 사용자 함수를 정의하고 applymap()으로 각 사용자 함수를 매핑한 후 출력하세요."
   ]
  },
  {
   "cell_type": "markdown",
   "metadata": {},
   "source": [
    "## df4는 age로 데이터프레임화 했음"
   ]
  },
  {
   "cell_type": "code",
   "execution_count": 113,
   "metadata": {},
   "outputs": [
    {
     "name": "stdout",
     "output_type": "stream",
     "text": [
      "      age     fare\n",
      "0    32.0  17.2500\n",
      "1    48.0  81.2833\n",
      "2    36.0  17.9250\n",
      "3    45.0  63.1000\n",
      "4    45.0  18.0500\n",
      "..    ...      ...\n",
      "886  37.0  23.0000\n",
      "887  29.0  40.0000\n",
      "888   NaN  33.4500\n",
      "889  36.0  40.0000\n",
      "890  42.0  17.7500\n",
      "\n",
      "[891 rows x 2 columns]\n"
     ]
    }
   ],
   "source": [
    "# df_map = df.applymap(add_10)\n",
    "df4 = df.loc[:,['age','fare']] \n",
    "df_map = df4.applymap(add_10)\n",
    "print(df_map)"
   ]
  },
  {
   "cell_type": "code",
   "execution_count": 87,
   "metadata": {},
   "outputs": [],
   "source": [
    "# def add(df):\n",
    "#     return df + 10\n",
    "# def mul(df):\n",
    "#     return df * 10\n",
    "# def sub(df):\n",
    "#     return df - 10\n",
    "# def div(df):\n",
    "#     return round(df/10),2\n",
    "# df4 = df.loc[:,['age']] \n",
    "# print(df4.head(),'\\n')\n",
    "# print(df4.applymap(add).head())\n",
    "# print(df4.applymap(mul).head())\n",
    "\n",
    "# applymap 은 dataframe 기반 , map()은 Series 기반"
   ]
  },
  {
   "cell_type": "markdown",
   "metadata": {},
   "source": [
    "### Q. df_map의 [0,0]을 NaN으로 변경한 후 missing_value 함수를 적용해서 불린 시리즈를 반환하세요."
   ]
  },
  {
   "cell_type": "code",
   "execution_count": 114,
   "metadata": {},
   "outputs": [
    {
     "name": "stdout",
     "output_type": "stream",
     "text": [
      "       age   fare\n",
      "0    False  False\n",
      "1    False  False\n",
      "2    False  False\n",
      "3    False  False\n",
      "4    False  False\n",
      "..     ...    ...\n",
      "886  False  False\n",
      "887  False  False\n",
      "888   True  False\n",
      "889  False  False\n",
      "890  False  False\n",
      "\n",
      "[891 rows x 2 columns]\n"
     ]
    }
   ],
   "source": [
    "def missing_value(series):\n",
    "    return series.isnull()\n",
    "\n",
    "df_map=df_map.replace([0,0],np.nan)\n",
    "\n",
    "result = df_map.apply(missing_value)\n",
    "print(result)"
   ]
  },
  {
   "cell_type": "markdown",
   "metadata": {},
   "source": [
    "### Q. titanic 데이터셋을 seaborn에서 로딩한 후 블린 인덱싱을 이용하여 아래 사항들을 수행하세요.\n",
    "- 나이가 10대(10~19세)인 승객만 따로 선택\n",
    "- 나이가 10세 미만(0~9세)이고 여성인 승객만 따로 선택\n",
    "- 나이가 10세 미만(0~9세) 또는 60세 이상인 승객의 age, sex, alone 열만 선택"
   ]
  },
  {
   "cell_type": "code",
   "execution_count": 128,
   "metadata": {},
   "outputs": [
    {
     "name": "stdout",
     "output_type": "stream",
     "text": [
      "    survived  pclass     sex   age  sibsp  parch      fare embarked   class  \\\n",
      "9          1       2  female  14.0      1      0   30.0708        C  Second   \n",
      "14         0       3  female  14.0      0      0    7.8542        S   Third   \n",
      "22         1       3  female  15.0      0      0    8.0292        Q   Third   \n",
      "27         0       1    male  19.0      3      2  263.0000        S   First   \n",
      "38         0       3  female  18.0      2      0   18.0000        S   Third   \n",
      "\n",
      "      who  adult_male deck  embark_town alive  alone  \n",
      "9   child       False  NaN    Cherbourg   yes  False  \n",
      "14  child       False  NaN  Southampton    no   True  \n",
      "22  child       False  NaN   Queenstown   yes   True  \n",
      "27    man        True    C  Southampton    no  False  \n",
      "38  woman       False  NaN  Southampton    no  False  \n"
     ]
    }
   ],
   "source": [
    "# tdf2.head()\n",
    "# 10대 애들 뽑기\n",
    "age1 = (tdf2.age >= 10) & (tdf2.age<20)\n",
    "df_teen = tdf2.loc[age1,:]\n",
    "print(df_teen.head())"
   ]
  },
  {
   "cell_type": "code",
   "execution_count": 134,
   "metadata": {},
   "outputs": [
    {
     "name": "stdout",
     "output_type": "stream",
     "text": [
      "     survived  pclass     sex  age  sibsp  parch     fare embarked   class  \\\n",
      "10          1       3  female  4.0      1      1  16.7000        S   Third   \n",
      "24          0       3  female  8.0      3      1  21.0750        S   Third   \n",
      "43          1       2  female  3.0      1      2  41.5792        C  Second   \n",
      "58          1       2  female  5.0      1      2  27.7500        S  Second   \n",
      "119         0       3  female  2.0      4      2  31.2750        S   Third   \n",
      "\n",
      "       who  adult_male deck  embark_town alive  alone  \n",
      "10   child       False    G  Southampton   yes  False  \n",
      "24   child       False  NaN  Southampton    no  False  \n",
      "43   child       False  NaN    Cherbourg   yes  False  \n",
      "58   child       False  NaN  Southampton   yes  False  \n",
      "119  child       False  NaN  Southampton    no  False  \n"
     ]
    }
   ],
   "source": [
    "# 영아 이면서 여아 뽑기\n",
    "age2 = (tdf2.sex == 'female') & (tdf2.age<10)\n",
    "df_zero = tdf2.loc[age2,:]\n",
    "print(df_zero.head())"
   ]
  },
  {
   "cell_type": "code",
   "execution_count": 3,
   "metadata": {},
   "outputs": [
    {
     "name": "stdout",
     "output_type": "stream",
     "text": [
      "     age     sex  alone\n",
      "7    2.0    male  False\n",
      "10   4.0  female  False\n",
      "16   2.0    male  False\n",
      "24   8.0  female  False\n",
      "33  66.0    male   True\n"
     ]
    }
   ],
   "source": [
    "# 10 이하 60 이상\n",
    "age3 = (tdf2.age >= 60) | (tdf2.age<10)\n",
    "df_three = tdf2.loc[age3,['age', 'sex', 'alone']]\n",
    "print(df_three.head())"
   ]
  },
  {
   "cell_type": "markdown",
   "metadata": {},
   "source": [
    "## Q. 나이가 10세 미만(0~9세) 또는 60세 이상인 승객의 alone 열만 선택한 후 값을 True로 변경하세요"
   ]
  },
  {
   "cell_type": "code",
   "execution_count": 10,
   "metadata": {},
   "outputs": [
    {
     "name": "stdout",
     "output_type": "stream",
     "text": [
      "7     True\n",
      "10    True\n",
      "16    True\n",
      "24    True\n",
      "33    True\n",
      "Name: alone, dtype: bool\n",
      "7     True\n",
      "10    True\n",
      "16    True\n",
      "24    True\n",
      "33    True\n",
      "Name: alone, dtype: bool\n"
     ]
    }
   ],
   "source": [
    "tdf3 = df.copy()\n",
    "df_m3 = tdf3.loc[(df.age < 10)|(tdf3.age>=60),'alone']\n",
    "print(df_m3[:5])\n",
    "tdf3.loc[(tdf3.age < 10)|(tdf3.age>=60),'alone'] = True\n",
    "print(df_m3.head())"
   ]
  },
  {
   "cell_type": "markdown",
   "metadata": {},
   "source": [
    "### Q. 최대값 - 최소값을 반환하는 사용자 함수를 min_max로 정의하고 age, fare 열로 구성되는 타이타닉 데이터프레임df 에 적용하여 결과와 자료형을 출력하세요. source : titanic = sns.load_dataset('titanic')"
   ]
  },
  {
   "cell_type": "code",
   "execution_count": null,
   "metadata": {},
   "outputs": [],
   "source": []
  },
  {
   "cell_type": "markdown",
   "metadata": {},
   "source": [
    "### Q. df 에서 'age' 칼럼과 'fare'칼럼을 더한 가격을 리턴하는 사용자 함수를 정의한 후 df['add'] 변수를 생성하여 출력하세요.(lambda 함수 사용)"
   ]
  },
  {
   "cell_type": "code",
   "execution_count": 15,
   "metadata": {},
   "outputs": [
    {
     "data": {
      "text/html": [
       "<div>\n",
       "<style scoped>\n",
       "    .dataframe tbody tr th:only-of-type {\n",
       "        vertical-align: middle;\n",
       "    }\n",
       "\n",
       "    .dataframe tbody tr th {\n",
       "        vertical-align: top;\n",
       "    }\n",
       "\n",
       "    .dataframe thead th {\n",
       "        text-align: right;\n",
       "    }\n",
       "</style>\n",
       "<table border=\"1\" class=\"dataframe\">\n",
       "  <thead>\n",
       "    <tr style=\"text-align: right;\">\n",
       "      <th></th>\n",
       "      <th>age</th>\n",
       "      <th>fare</th>\n",
       "      <th>add</th>\n",
       "    </tr>\n",
       "  </thead>\n",
       "  <tbody>\n",
       "    <tr>\n",
       "      <th>0</th>\n",
       "      <td>22.0</td>\n",
       "      <td>7.2500</td>\n",
       "      <td>29.2500</td>\n",
       "    </tr>\n",
       "    <tr>\n",
       "      <th>1</th>\n",
       "      <td>38.0</td>\n",
       "      <td>71.2833</td>\n",
       "      <td>109.2833</td>\n",
       "    </tr>\n",
       "    <tr>\n",
       "      <th>2</th>\n",
       "      <td>26.0</td>\n",
       "      <td>7.9250</td>\n",
       "      <td>33.9250</td>\n",
       "    </tr>\n",
       "    <tr>\n",
       "      <th>3</th>\n",
       "      <td>35.0</td>\n",
       "      <td>53.1000</td>\n",
       "      <td>88.1000</td>\n",
       "    </tr>\n",
       "    <tr>\n",
       "      <th>4</th>\n",
       "      <td>35.0</td>\n",
       "      <td>8.0500</td>\n",
       "      <td>43.0500</td>\n",
       "    </tr>\n",
       "  </tbody>\n",
       "</table>\n",
       "</div>"
      ],
      "text/plain": [
       "    age     fare       add\n",
       "0  22.0   7.2500   29.2500\n",
       "1  38.0  71.2833  109.2833\n",
       "2  26.0   7.9250   33.9250\n",
       "3  35.0  53.1000   88.1000\n",
       "4  35.0   8.0500   43.0500"
      ]
     },
     "execution_count": 15,
     "metadata": {},
     "output_type": "execute_result"
    }
   ],
   "source": [
    "def add_two_obj(a,b):\n",
    "    return a+b\n",
    "df1['add']=df1.apply(lambda x:add_two_obj(x['age'],x['fare']),axis=1)\n",
    "df1.head()"
   ]
  },
  {
   "cell_type": "markdown",
   "metadata": {},
   "source": [
    "### Q. 'age', 'fare' 두개 칼럼으로 구성되는 titanic 데이터프레임에서 [0,1]의 값을 NaN을 변경한 후 df 이름으로 출력하세요."
   ]
  },
  {
   "cell_type": "code",
   "execution_count": 16,
   "metadata": {},
   "outputs": [
    {
     "data": {
      "text/html": [
       "<div>\n",
       "<style scoped>\n",
       "    .dataframe tbody tr th:only-of-type {\n",
       "        vertical-align: middle;\n",
       "    }\n",
       "\n",
       "    .dataframe tbody tr th {\n",
       "        vertical-align: top;\n",
       "    }\n",
       "\n",
       "    .dataframe thead th {\n",
       "        text-align: right;\n",
       "    }\n",
       "</style>\n",
       "<table border=\"1\" class=\"dataframe\">\n",
       "  <thead>\n",
       "    <tr style=\"text-align: right;\">\n",
       "      <th></th>\n",
       "      <th>age</th>\n",
       "      <th>fare</th>\n",
       "      <th>add</th>\n",
       "    </tr>\n",
       "  </thead>\n",
       "  <tbody>\n",
       "    <tr>\n",
       "      <th>0</th>\n",
       "      <td>22.0</td>\n",
       "      <td>NaN</td>\n",
       "      <td>29.2500</td>\n",
       "    </tr>\n",
       "    <tr>\n",
       "      <th>1</th>\n",
       "      <td>38.0</td>\n",
       "      <td>71.2833</td>\n",
       "      <td>109.2833</td>\n",
       "    </tr>\n",
       "    <tr>\n",
       "      <th>2</th>\n",
       "      <td>26.0</td>\n",
       "      <td>7.9250</td>\n",
       "      <td>33.9250</td>\n",
       "    </tr>\n",
       "    <tr>\n",
       "      <th>3</th>\n",
       "      <td>35.0</td>\n",
       "      <td>53.1000</td>\n",
       "      <td>88.1000</td>\n",
       "    </tr>\n",
       "    <tr>\n",
       "      <th>4</th>\n",
       "      <td>35.0</td>\n",
       "      <td>8.0500</td>\n",
       "      <td>43.0500</td>\n",
       "    </tr>\n",
       "  </tbody>\n",
       "</table>\n",
       "</div>"
      ],
      "text/plain": [
       "    age     fare       add\n",
       "0  22.0      NaN   29.2500\n",
       "1  38.0  71.2833  109.2833\n",
       "2  26.0   7.9250   33.9250\n",
       "3  35.0  53.1000   88.1000\n",
       "4  35.0   8.0500   43.0500"
      ]
     },
     "execution_count": 16,
     "metadata": {},
     "output_type": "execute_result"
    }
   ],
   "source": [
    "df1.iloc[0,1] = np.nan\n",
    "df1.head()"
   ]
  },
  {
   "cell_type": "markdown",
   "metadata": {},
   "source": [
    "### Q. 각 열의 NaN 찾기, 각 열의 NaN 개수 반환, 데이터프레임의 총 NaN 개수를 반환하는 사용자 함수를 정의한 후 df.pipe 메소드로 함수 매핑한 결과를 모두 출력하세요."
   ]
  },
  {
   "cell_type": "code",
   "execution_count": 18,
   "metadata": {},
   "outputs": [
    {
     "data": {
      "text/html": [
       "<div>\n",
       "<style scoped>\n",
       "    .dataframe tbody tr th:only-of-type {\n",
       "        vertical-align: middle;\n",
       "    }\n",
       "\n",
       "    .dataframe tbody tr th {\n",
       "        vertical-align: top;\n",
       "    }\n",
       "\n",
       "    .dataframe thead th {\n",
       "        text-align: right;\n",
       "    }\n",
       "</style>\n",
       "<table border=\"1\" class=\"dataframe\">\n",
       "  <thead>\n",
       "    <tr style=\"text-align: right;\">\n",
       "      <th></th>\n",
       "      <th>survived</th>\n",
       "      <th>pclass</th>\n",
       "      <th>sex</th>\n",
       "      <th>age</th>\n",
       "      <th>sibsp</th>\n",
       "      <th>parch</th>\n",
       "      <th>fare</th>\n",
       "      <th>embarked</th>\n",
       "      <th>class</th>\n",
       "      <th>who</th>\n",
       "      <th>adult_male</th>\n",
       "      <th>deck</th>\n",
       "      <th>embark_town</th>\n",
       "      <th>alive</th>\n",
       "      <th>alone</th>\n",
       "      <th>add</th>\n",
       "    </tr>\n",
       "  </thead>\n",
       "  <tbody>\n",
       "    <tr>\n",
       "      <th>886</th>\n",
       "      <td>False</td>\n",
       "      <td>False</td>\n",
       "      <td>False</td>\n",
       "      <td>False</td>\n",
       "      <td>False</td>\n",
       "      <td>False</td>\n",
       "      <td>False</td>\n",
       "      <td>False</td>\n",
       "      <td>False</td>\n",
       "      <td>False</td>\n",
       "      <td>False</td>\n",
       "      <td>True</td>\n",
       "      <td>False</td>\n",
       "      <td>False</td>\n",
       "      <td>False</td>\n",
       "      <td>False</td>\n",
       "    </tr>\n",
       "    <tr>\n",
       "      <th>887</th>\n",
       "      <td>False</td>\n",
       "      <td>False</td>\n",
       "      <td>False</td>\n",
       "      <td>False</td>\n",
       "      <td>False</td>\n",
       "      <td>False</td>\n",
       "      <td>False</td>\n",
       "      <td>False</td>\n",
       "      <td>False</td>\n",
       "      <td>False</td>\n",
       "      <td>False</td>\n",
       "      <td>False</td>\n",
       "      <td>False</td>\n",
       "      <td>False</td>\n",
       "      <td>False</td>\n",
       "      <td>False</td>\n",
       "    </tr>\n",
       "    <tr>\n",
       "      <th>888</th>\n",
       "      <td>False</td>\n",
       "      <td>False</td>\n",
       "      <td>False</td>\n",
       "      <td>True</td>\n",
       "      <td>False</td>\n",
       "      <td>False</td>\n",
       "      <td>False</td>\n",
       "      <td>False</td>\n",
       "      <td>False</td>\n",
       "      <td>False</td>\n",
       "      <td>False</td>\n",
       "      <td>True</td>\n",
       "      <td>False</td>\n",
       "      <td>False</td>\n",
       "      <td>False</td>\n",
       "      <td>True</td>\n",
       "    </tr>\n",
       "    <tr>\n",
       "      <th>889</th>\n",
       "      <td>False</td>\n",
       "      <td>False</td>\n",
       "      <td>False</td>\n",
       "      <td>False</td>\n",
       "      <td>False</td>\n",
       "      <td>False</td>\n",
       "      <td>False</td>\n",
       "      <td>False</td>\n",
       "      <td>False</td>\n",
       "      <td>False</td>\n",
       "      <td>False</td>\n",
       "      <td>False</td>\n",
       "      <td>False</td>\n",
       "      <td>False</td>\n",
       "      <td>False</td>\n",
       "      <td>False</td>\n",
       "    </tr>\n",
       "    <tr>\n",
       "      <th>890</th>\n",
       "      <td>False</td>\n",
       "      <td>False</td>\n",
       "      <td>False</td>\n",
       "      <td>False</td>\n",
       "      <td>False</td>\n",
       "      <td>False</td>\n",
       "      <td>False</td>\n",
       "      <td>False</td>\n",
       "      <td>False</td>\n",
       "      <td>False</td>\n",
       "      <td>False</td>\n",
       "      <td>True</td>\n",
       "      <td>False</td>\n",
       "      <td>False</td>\n",
       "      <td>False</td>\n",
       "      <td>False</td>\n",
       "    </tr>\n",
       "  </tbody>\n",
       "</table>\n",
       "</div>"
      ],
      "text/plain": [
       "     survived  pclass    sex    age  sibsp  parch   fare  embarked  class  \\\n",
       "886     False   False  False  False  False  False  False     False  False   \n",
       "887     False   False  False  False  False  False  False     False  False   \n",
       "888     False   False  False   True  False  False  False     False  False   \n",
       "889     False   False  False  False  False  False  False     False  False   \n",
       "890     False   False  False  False  False  False  False     False  False   \n",
       "\n",
       "       who  adult_male   deck  embark_town  alive  alone    add  \n",
       "886  False       False   True        False  False  False  False  \n",
       "887  False       False  False        False  False  False  False  \n",
       "888  False       False   True        False  False  False   True  \n",
       "889  False       False  False        False  False  False  False  \n",
       "890  False       False   True        False  False  False  False  "
      ]
     },
     "metadata": {},
     "output_type": "display_data"
    },
    {
     "name": "stdout",
     "output_type": "stream",
     "text": [
      "survived         0\n",
      "pclass           0\n",
      "sex              0\n",
      "age            177\n",
      "sibsp            0\n",
      "parch            0\n",
      "fare             0\n",
      "embarked         2\n",
      "class            0\n",
      "who              0\n",
      "adult_male       0\n",
      "deck           688\n",
      "embark_town      2\n",
      "alive            0\n",
      "alone            0\n",
      "add            177\n",
      "dtype: int64 \n",
      "\n",
      "1046\n"
     ]
    }
   ],
   "source": [
    "def findn(a):\n",
    "    return a.isnull()\n",
    "def sumnan(a):\n",
    "    return a.isnull().sum()\n",
    "def sumnanall(a):\n",
    "    return a.isnull().sum().sum()\n",
    "\n",
    "df5 = df.copy()\n",
    "display(df5.pipe(findn).tail(5))\n",
    "print(df5.pipe(sumnan),'\\n')\n",
    "print(df5.pipe(sumnanall))"
   ]
  },
  {
   "cell_type": "markdown",
   "metadata": {},
   "source": [
    "### Q. 타이타닉 df의 열 순서를 아래와 같이 재구성하고 출력하세요\n",
    "* 열 선택 : ['pclass', 'sex', 'age', 'survived'].\n",
    "* 열 이름의 리스트 만들기\n",
    "* 열 이름을 알파벳 순으로 정렬하기\n",
    "* 열 이름을 기존 순서의 정반대 역순으로 정렬하기\n",
    "* 열 이름을 사용자가 정의한 임의의 순서로 재배치하기"
   ]
  },
  {
   "cell_type": "code",
   "execution_count": 27,
   "metadata": {},
   "outputs": [
    {
     "name": "stdout",
     "output_type": "stream",
     "text": [
      "   adult_male   age alive  alone  class deck  embark_town embarked     fare  \\\n",
      "0        True  22.0    no  False  Third  NaN  Southampton        S   7.2500   \n",
      "1       False  38.0   yes  False  First    C    Cherbourg        C  71.2833   \n",
      "2       False  26.0   yes   True  Third  NaN  Southampton        S   7.9250   \n",
      "3       False  35.0   yes  False  First    C  Southampton        S  53.1000   \n",
      "4        True  35.0    no   True  Third  NaN  Southampton        S   8.0500   \n",
      "\n",
      "   parch  pclass     sex  sibsp  survived    who  \n",
      "0      0       3    male      1         0    man  \n",
      "1      0       1  female      1         1  woman  \n",
      "2      0       3  female      0         1  woman  \n",
      "3      0       1  female      1         1  woman  \n",
      "4      0       3    male      0         0    man  \n",
      "   alone alive  embark_town deck  adult_male    who  class embarked     fare  \\\n",
      "0  False    no  Southampton  NaN        True    man  Third        S   7.2500   \n",
      "1  False   yes    Cherbourg    C       False  woman  First        C  71.2833   \n",
      "2   True   yes  Southampton  NaN       False  woman  Third        S   7.9250   \n",
      "3  False   yes  Southampton    C       False  woman  First        S  53.1000   \n",
      "4   True    no  Southampton  NaN        True    man  Third        S   8.0500   \n",
      "\n",
      "   parch  sibsp   age     sex  pclass  survived  \n",
      "0      0      1  22.0    male       3         0  \n",
      "1      0      1  38.0  female       1         1  \n",
      "2      0      0  26.0  female       3         1  \n",
      "3      0      1  35.0  female       1         1  \n",
      "4      0      0  35.0    male       3         0  \n",
      "   pclass     sex   age  survived\n",
      "0       3    male  22.0         0\n",
      "1       1  female  38.0         1\n",
      "2       3  female  26.0         1\n",
      "3       1  female  35.0         1\n",
      "4       3    male  35.0         0\n"
     ]
    }
   ],
   "source": [
    "dft = sns.load_dataset('titanic')\n",
    "ttdf = dft[['pclass', 'sex', 'age', 'survived']]\n",
    "# 이런 방법도 있다\n",
    "\n",
    "list(dft.columns)\n",
    "\n",
    "columns = list(dft.columns)\n",
    "columns_sorted = sorted(columns)\n",
    "dft_sorted = dft[columns_sorted]\n",
    "print(dft_sorted.head())\n",
    "\n",
    "# columns_reversed = list(reversed(columns))\n",
    "# dft_reversed = dft[columns_reversed]\n",
    "# print(dft_reversed.head())\n",
    "# 뭔가 이상하다 이거 \n",
    "\n",
    "columns_customed = ['pclass', 'sex', 'age', 'survived']\n",
    "dft_customed = tdf[columns_customed]\n",
    "print(dft_customed.head())"
   ]
  }
 ],
 "metadata": {
  "kernelspec": {
   "display_name": "Python 3 (ipykernel)",
   "language": "python",
   "name": "python3"
  },
  "language_info": {
   "codemirror_mode": {
    "name": "ipython",
    "version": 3
   },
   "file_extension": ".py",
   "mimetype": "text/x-python",
   "name": "python",
   "nbconvert_exporter": "python",
   "pygments_lexer": "ipython3",
   "version": "3.8.12"
  }
 },
 "nbformat": 4,
 "nbformat_minor": 2
}
