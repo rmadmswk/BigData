{
 "cells": [
  {
   "cell_type": "markdown",
   "id": "cf390a6f",
   "metadata": {},
   "source": [
    "## 판다스\n",
    "- 판다스는 구조화된 데이터 형식을 제공. 시리즈는 1차원 배열, 데이터프레임은 2차원 배열\n",
    "- 라이브러리는 여러 종류의 class와 다양한 내장 함수로 구성. 시리즈와 데이터프레임은 대표적인 클래스 객체임\n",
    "- 시리즈 인덱스는 데이터값과 일대일 대응. 파이썬 딕셔너리와 비슷한 구조. pandas.Series(딕셔너리)\n",
    "- Contents\n",
    " - Series(변환, 인덱스 구조, 원소 선택)\n",
    " - DataFrame(변환, 인덱스, 삭제, 선택, 추가, 변경, 전치 등)"
   ]
  },
  {
   "cell_type": "code",
   "execution_count": 1,
   "id": "93be5320",
   "metadata": {},
   "outputs": [
    {
     "name": "stdout",
     "output_type": "stream",
     "text": [
      "a    1\n",
      "b    2\n",
      "c    3\n",
      "dtype: int64 <class 'pandas.core.series.Series'>\n"
     ]
    }
   ],
   "source": [
    "# 시리즈 클래스 만들기\n",
    "# 딕셔너리를 시리즈로 변환\n",
    "import pandas as pd\n",
    "\n",
    "dic_data = {'a':1,'b':2,'c':3}\n",
    "sr = pd.Series(dic_data)\n",
    "print(sr,type(sr))"
   ]
  },
  {
   "cell_type": "code",
   "execution_count": 3,
   "id": "f44e5596",
   "metadata": {},
   "outputs": [
    {
     "name": "stdout",
     "output_type": "stream",
     "text": [
      "a    1111\n",
      "b     111\n",
      "c     ABC\n",
      "d    1111\n",
      "e    True\n",
      "dtype: object <class 'pandas.core.series.Series'>\n"
     ]
    }
   ],
   "source": [
    "# 리스트를 시리즈로 변환\n",
    "list_data = ['1111',111,'ABC',1111,True]\n",
    "sr = pd.Series(list_data, index=['a','b','c','d','e'])\n",
    "print(sr,type(sr))"
   ]
  },
  {
   "cell_type": "code",
   "execution_count": 4,
   "id": "2ea5250f",
   "metadata": {},
   "outputs": [
    {
     "name": "stdout",
     "output_type": "stream",
     "text": [
      "Index(['a', 'b', 'c', 'd', 'e'], dtype='object') \n",
      "\n",
      "['1111' 111 'ABC' 1111 True]\n"
     ]
    }
   ],
   "source": [
    "idx = sr.index\n",
    "print(idx,'\\n')\n",
    "val = sr.values\n",
    "print(val)"
   ]
  },
  {
   "cell_type": "code",
   "execution_count": 5,
   "id": "77733dd5",
   "metadata": {},
   "outputs": [
    {
     "name": "stdout",
     "output_type": "stream",
     "text": [
      "이름      영인\n",
      "생년    5555\n",
      "성별       여\n",
      "진실    True\n",
      "dtype: object <class 'pandas.core.series.Series'>\n"
     ]
    }
   ],
   "source": [
    "# 튜플을 시리즈로 변환\n",
    "tup_data = ('영인','5555','여',True)\n",
    "sr = pd.Series(tup_data, index = ['이름','생년','성별','진실'])\n",
    "print(sr,type(sr))"
   ]
  },
  {
   "cell_type": "code",
   "execution_count": 11,
   "id": "68d6fca9",
   "metadata": {},
   "outputs": [
    {
     "name": "stdout",
     "output_type": "stream",
     "text": [
      "영인\n",
      "영인 \n",
      "\n",
      "생년    5555\n",
      "성별       여\n",
      "dtype: object \n",
      "\n",
      "생년    5555\n",
      "진실    True\n",
      "dtype: object\n"
     ]
    }
   ],
   "source": [
    "print(sr[0])\n",
    "\n",
    "print(sr['이름'],'\\n')\n",
    "\n",
    "print(sr[1:3],'\\n')\n",
    "\n",
    "print(sr[[1,3]])\n"
   ]
  },
  {
   "cell_type": "code",
   "execution_count": 15,
   "id": "50b9b8d5",
   "metadata": {},
   "outputs": [
    {
     "name": "stdout",
     "output_type": "stream",
     "text": [
      "[11 12 13 14 15] <class 'numpy.ndarray'> \n",
      "\n",
      "ED1    11\n",
      "ED2    12\n",
      "ED3    13\n",
      "ED4    14\n",
      "ED5    15\n",
      "dtype: int32 <class 'pandas.core.series.Series'>\n"
     ]
    }
   ],
   "source": [
    "# 배열을 시리즈로 변환\n",
    "import numpy as np\n",
    "\n",
    "s1 = np.arange(start =11,stop = 16)\n",
    "s2 = pd.Series(s1, index=['ED1','ED2','ED3','ED4','ED5'])\n",
    "print(s1,type(s1),'\\n')\n",
    "print(s2,type(s2))"
   ]
  },
  {
   "cell_type": "code",
   "execution_count": 17,
   "id": "6d8b5dd4",
   "metadata": {},
   "outputs": [
    {
     "name": "stdout",
     "output_type": "stream",
     "text": [
      "ED2    12\n",
      "ED3    13\n",
      "dtype: int32\n",
      "ED2    12\n",
      "ED4    14\n",
      "dtype: int32\n"
     ]
    }
   ],
   "source": [
    "print(s2[1:3]) #뽑기\n",
    "print(s2[[1,3]])"
   ]
  },
  {
   "cell_type": "code",
   "execution_count": 18,
   "id": "774385db",
   "metadata": {},
   "outputs": [
    {
     "name": "stdout",
     "output_type": "stream",
     "text": [
      "<class 'pandas.core.series.Series'>\n",
      "[11 12 13 14 15] <class 'numpy.ndarray'>\n"
     ]
    }
   ],
   "source": [
    "# 시리즈를 배열로 변환\n",
    "print(type(s2))\n",
    "ar = np.array(s2)\n",
    "print(ar,type(ar))"
   ]
  },
  {
   "cell_type": "code",
   "execution_count": 20,
   "id": "cb7c9948",
   "metadata": {},
   "outputs": [
    {
     "name": "stdout",
     "output_type": "stream",
     "text": [
      "1번    2\n",
      "2번    3\n",
      "3번    4\n",
      "4번    5\n",
      "dtype: int64 \n",
      " 1번     True\n",
      "2번    False\n",
      "3번     True\n",
      "4번     True\n",
      "dtype: bool \n",
      " 김첨지    설렁탕\n",
      "점순이     감자\n",
      "나      아달린\n",
      "dtype: object \n",
      " 1번    살바도르\n",
      "2번     빈센트\n",
      "3번     파블로\n",
      "4번    램브란트\n",
      "dtype: object\n"
     ]
    }
   ],
   "source": [
    "# Q 4가지 자료형 데이터를 생성하고 각 시리즈로 변환하여 출력\n",
    "\n",
    "lidata = [2,3,4,5]\n",
    "tudata = (True,False,True,True)\n",
    "dicdata = {'김첨지':'설렁탕','점순이':'감자','나':'아달린'}\n",
    "arrdata = np.array(['살바도르','빈센트','파블로','램브란트'])\n",
    "index = ['1번','2번','3번','4번']\n",
    "\n",
    "li = pd.Series(lidata,index)\n",
    "tu = pd.Series(tudata,index)\n",
    "dic = pd.Series(dicdata)\n",
    "arr = pd.Series(arrdata,index)\n",
    "\n",
    "print(li,'\\n',tu,'\\n',dic,'\\n',arr)\n"
   ]
  },
  {
   "cell_type": "code",
   "execution_count": 69,
   "id": "9648ff20",
   "metadata": {},
   "outputs": [
    {
     "data": {
      "text/plain": [
       "state\n",
       "Califonia    1000\n",
       "Ohio         2000\n",
       "Oregon       3000\n",
       "Texas        4000\n",
       "Name: population, dtype: int32"
      ]
     },
     "execution_count": 69,
     "metadata": {},
     "output_type": "execute_result"
    }
   ],
   "source": [
    "data = np.arange(1000,5000,1000)\n",
    "obj = pd.Series(data)\n",
    "state = ['Califonia','Ohio','Oregon','Texas']\n",
    "obj.name = 'population'\n",
    "obj.index = state\n",
    "obj.index.name = 'state'\n",
    "obj"
   ]
  },
  {
   "cell_type": "code",
   "execution_count": 70,
   "id": "f0b88ea7",
   "metadata": {},
   "outputs": [
    {
     "data": {
      "text/plain": [
       "state\n",
       "Califonia       NaN\n",
       "Ohio         2000.0\n",
       "Oregon       3000.0\n",
       "Texas        4000.0\n",
       "Name: population, dtype: float64"
      ]
     },
     "execution_count": 70,
     "metadata": {},
     "output_type": "execute_result"
    }
   ],
   "source": [
    "obj.Califonia = np.nan\n",
    "obj"
   ]
  },
  {
   "cell_type": "code",
   "execution_count": 71,
   "id": "3d31fc50",
   "metadata": {},
   "outputs": [],
   "source": [
    "obj['Newyork'] = 3000"
   ]
  },
  {
   "cell_type": "code",
   "execution_count": 72,
   "id": "a5ef16fb",
   "metadata": {},
   "outputs": [
    {
     "data": {
      "text/plain": [
       "state\n",
       "Califonia       NaN\n",
       "Ohio         2000.0\n",
       "Oregon       3000.0\n",
       "Texas        4000.0\n",
       "Newyork      3000.0\n",
       "Name: population, dtype: float64"
      ]
     },
     "execution_count": 72,
     "metadata": {},
     "output_type": "execute_result"
    }
   ],
   "source": [
    "obj"
   ]
  },
  {
   "cell_type": "code",
   "execution_count": 73,
   "id": "069d5aa5",
   "metadata": {},
   "outputs": [
    {
     "data": {
      "text/plain": [
       "3000.0"
      ]
     },
     "execution_count": 73,
     "metadata": {},
     "output_type": "execute_result"
    }
   ],
   "source": [
    "obj.Newyork"
   ]
  },
  {
   "cell_type": "code",
   "execution_count": 74,
   "id": "eb69e1f3",
   "metadata": {},
   "outputs": [
    {
     "data": {
      "text/plain": [
       "state\n",
       "Califonia     True\n",
       "Ohio         False\n",
       "Oregon       False\n",
       "Texas        False\n",
       "Newyork      False\n",
       "Name: population, dtype: bool"
      ]
     },
     "execution_count": 74,
     "metadata": {},
     "output_type": "execute_result"
    }
   ],
   "source": [
    "obj.isnull()"
   ]
  },
  {
   "cell_type": "markdown",
   "id": "69be443e",
   "metadata": {},
   "source": [
    "## 데이터프레임\n",
    "- 데이터프레임은 2차원 배열. R의 데이터프레임에서 유래\n",
    "- 데이터프레임의 열은 각각 시리즈 개체\n",
    "- 시리즈를 열벡터하고 하면 데이터프레임은 여러개의 열벡터들이 같은 행 인덱스를 기준으로 줄지어 결합된 2차원 벡터 또는 행렬\n",
    "- 선형대수학에서 열 벡터(mx1행렬)는 m 원소들의 단일 열 행렬\n",
    "- 행 벡터(1xm 행렬)은 m원소들의 단일 행 행렬\n",
    "- 리스트, 딕셔너리, 배열 등 다양한 데이터로부터 생성\n",
    "- 반대로 리스트, 딕셔너리, 배열 등으로 변환될 수 있음"
   ]
  },
  {
   "cell_type": "code",
   "execution_count": 22,
   "id": "123f9387",
   "metadata": {},
   "outputs": [
    {
     "name": "stdout",
     "output_type": "stream",
     "text": [
      "[[104 107 102]\n",
      " [112 107 113]\n",
      " [107 111 105]] <class 'numpy.ndarray'> \n",
      "\n",
      "     pd  sales  int\n",
      "d1  104    107  102\n",
      "d2  112    107  113\n",
      "d3  107    111  105 <class 'pandas.core.frame.DataFrame'>\n"
     ]
    }
   ],
   "source": [
    "# 배열 - > 데이터 프레임\n",
    "ar = np.random.randint(100,120,size=(3,3))\n",
    "print(ar,type(ar),'\\n')\n",
    "df = pd.DataFrame(ar,index =['d1','d2','d3'],\n",
    "                    columns = ['pd','sales','int'])\n",
    "print(df,type(df))"
   ]
  },
  {
   "cell_type": "markdown",
   "id": "85bbef64",
   "metadata": {},
   "source": [
    "pandas indexing\n",
    "- iloc :\n",
    "- loc : "
   ]
  },
  {
   "cell_type": "code",
   "execution_count": 25,
   "id": "d3b87481",
   "metadata": {},
   "outputs": [
    {
     "name": "stdout",
     "output_type": "stream",
     "text": [
      "pd       112\n",
      "sales    107\n",
      "int      113\n",
      "Name: d2, dtype: int32 \n",
      "\n",
      "pd       112\n",
      "sales    107\n",
      "int      113\n",
      "Name: d2, dtype: int32\n"
     ]
    }
   ],
   "source": [
    "# 행 선택\n",
    "print(df.iloc[1],'\\n')\n",
    "print(df.loc['d2'])"
   ]
  },
  {
   "cell_type": "code",
   "execution_count": 28,
   "id": "d1a1d5a4",
   "metadata": {},
   "outputs": [
    {
     "name": "stdout",
     "output_type": "stream",
     "text": [
      "107 \n",
      "\n",
      "107\n"
     ]
    }
   ],
   "source": [
    "# 특정 행,열 선택\n",
    "print(df.iloc[1,1],'\\n')\n",
    "print(df.loc['d2','sales'])"
   ]
  },
  {
   "cell_type": "code",
   "execution_count": 32,
   "id": "8aa885da",
   "metadata": {},
   "outputs": [
    {
     "data": {
      "text/html": [
       "<div>\n",
       "<style scoped>\n",
       "    .dataframe tbody tr th:only-of-type {\n",
       "        vertical-align: middle;\n",
       "    }\n",
       "\n",
       "    .dataframe tbody tr th {\n",
       "        vertical-align: top;\n",
       "    }\n",
       "\n",
       "    .dataframe thead th {\n",
       "        text-align: right;\n",
       "    }\n",
       "</style>\n",
       "<table border=\"1\" class=\"dataframe\">\n",
       "  <thead>\n",
       "    <tr style=\"text-align: right;\">\n",
       "      <th></th>\n",
       "      <th>pd</th>\n",
       "      <th>sales</th>\n",
       "      <th>int</th>\n",
       "    </tr>\n",
       "  </thead>\n",
       "  <tbody>\n",
       "    <tr>\n",
       "      <th>d1</th>\n",
       "      <td>104</td>\n",
       "      <td>107</td>\n",
       "      <td>102</td>\n",
       "    </tr>\n",
       "    <tr>\n",
       "      <th>d2</th>\n",
       "      <td>112</td>\n",
       "      <td>107</td>\n",
       "      <td>113</td>\n",
       "    </tr>\n",
       "    <tr>\n",
       "      <th>d3</th>\n",
       "      <td>107</td>\n",
       "      <td>111</td>\n",
       "      <td>105</td>\n",
       "    </tr>\n",
       "    <tr>\n",
       "      <th>d5</th>\n",
       "      <td>0</td>\n",
       "      <td>0</td>\n",
       "      <td>0</td>\n",
       "    </tr>\n",
       "  </tbody>\n",
       "</table>\n",
       "</div>"
      ],
      "text/plain": [
       "     pd  sales  int\n",
       "d1  104    107  102\n",
       "d2  112    107  113\n",
       "d3  107    111  105\n",
       "d5    0      0    0"
      ]
     },
     "execution_count": 32,
     "metadata": {},
     "output_type": "execute_result"
    }
   ],
   "source": [
    "# 행,열 추가\n",
    "df1 = df.copy()\n",
    "df1.loc['d5'] = 0\n",
    "df1"
   ]
  },
  {
   "cell_type": "code",
   "execution_count": 35,
   "id": "85552354",
   "metadata": {},
   "outputs": [
    {
     "data": {
      "text/html": [
       "<div>\n",
       "<style scoped>\n",
       "    .dataframe tbody tr th:only-of-type {\n",
       "        vertical-align: middle;\n",
       "    }\n",
       "\n",
       "    .dataframe tbody tr th {\n",
       "        vertical-align: top;\n",
       "    }\n",
       "\n",
       "    .dataframe thead th {\n",
       "        text-align: right;\n",
       "    }\n",
       "</style>\n",
       "<table border=\"1\" class=\"dataframe\">\n",
       "  <thead>\n",
       "    <tr style=\"text-align: right;\">\n",
       "      <th></th>\n",
       "      <th>pd</th>\n",
       "      <th>sales</th>\n",
       "      <th>int</th>\n",
       "      <th>pf</th>\n",
       "    </tr>\n",
       "  </thead>\n",
       "  <tbody>\n",
       "    <tr>\n",
       "      <th>d1</th>\n",
       "      <td>104</td>\n",
       "      <td>107.0</td>\n",
       "      <td>102</td>\n",
       "      <td>123</td>\n",
       "    </tr>\n",
       "    <tr>\n",
       "      <th>d2</th>\n",
       "      <td>112</td>\n",
       "      <td>NaN</td>\n",
       "      <td>113</td>\n",
       "      <td>111</td>\n",
       "    </tr>\n",
       "    <tr>\n",
       "      <th>d3</th>\n",
       "      <td>107</td>\n",
       "      <td>111.0</td>\n",
       "      <td>105</td>\n",
       "      <td>11111</td>\n",
       "    </tr>\n",
       "    <tr>\n",
       "      <th>d5</th>\n",
       "      <td>0</td>\n",
       "      <td>0.0</td>\n",
       "      <td>0</td>\n",
       "      <td>11111</td>\n",
       "    </tr>\n",
       "  </tbody>\n",
       "</table>\n",
       "</div>"
      ],
      "text/plain": [
       "     pd  sales  int     pf\n",
       "d1  104  107.0  102    123\n",
       "d2  112    NaN  113    111\n",
       "d3  107  111.0  105  11111\n",
       "d5    0    0.0    0  11111"
      ]
     },
     "execution_count": 35,
     "metadata": {},
     "output_type": "execute_result"
    }
   ],
   "source": [
    "# 열 추가\n",
    "df1['pf'] = [123,111,11111,11111]\n",
    "df1"
   ]
  },
  {
   "cell_type": "code",
   "execution_count": 39,
   "id": "6b708021",
   "metadata": {},
   "outputs": [
    {
     "name": "stdout",
     "output_type": "stream",
     "text": [
      "d1      123\n",
      "d2      111\n",
      "d3    11111\n",
      "d5    11111\n",
      "Name: pf, dtype: int64 <class 'pandas.core.series.Series'>\n"
     ]
    }
   ],
   "source": [
    "print(df1.pf,type(df1.pf))"
   ]
  },
  {
   "cell_type": "code",
   "execution_count": 33,
   "id": "9b54729c",
   "metadata": {},
   "outputs": [
    {
     "data": {
      "text/html": [
       "<div>\n",
       "<style scoped>\n",
       "    .dataframe tbody tr th:only-of-type {\n",
       "        vertical-align: middle;\n",
       "    }\n",
       "\n",
       "    .dataframe tbody tr th {\n",
       "        vertical-align: top;\n",
       "    }\n",
       "\n",
       "    .dataframe thead th {\n",
       "        text-align: right;\n",
       "    }\n",
       "</style>\n",
       "<table border=\"1\" class=\"dataframe\">\n",
       "  <thead>\n",
       "    <tr style=\"text-align: right;\">\n",
       "      <th></th>\n",
       "      <th>pd</th>\n",
       "      <th>sales</th>\n",
       "      <th>int</th>\n",
       "    </tr>\n",
       "  </thead>\n",
       "  <tbody>\n",
       "    <tr>\n",
       "      <th>d1</th>\n",
       "      <td>104</td>\n",
       "      <td>107.0</td>\n",
       "      <td>102</td>\n",
       "    </tr>\n",
       "    <tr>\n",
       "      <th>d2</th>\n",
       "      <td>112</td>\n",
       "      <td>NaN</td>\n",
       "      <td>113</td>\n",
       "    </tr>\n",
       "    <tr>\n",
       "      <th>d3</th>\n",
       "      <td>107</td>\n",
       "      <td>111.0</td>\n",
       "      <td>105</td>\n",
       "    </tr>\n",
       "    <tr>\n",
       "      <th>d5</th>\n",
       "      <td>0</td>\n",
       "      <td>0.0</td>\n",
       "      <td>0</td>\n",
       "    </tr>\n",
       "  </tbody>\n",
       "</table>\n",
       "</div>"
      ],
      "text/plain": [
       "     pd  sales  int\n",
       "d1  104  107.0  102\n",
       "d2  112    NaN  113\n",
       "d3  107  111.0  105\n",
       "d5    0    0.0    0"
      ]
     },
     "execution_count": 33,
     "metadata": {},
     "output_type": "execute_result"
    }
   ],
   "source": [
    "# 원소 값 변경\n",
    "df1.iloc[1,1] = np.nan\n",
    "df1"
   ]
  },
  {
   "cell_type": "code",
   "execution_count": 49,
   "id": "de97cc92",
   "metadata": {},
   "outputs": [
    {
     "data": {
      "text/html": [
       "<div>\n",
       "<style scoped>\n",
       "    .dataframe tbody tr th:only-of-type {\n",
       "        vertical-align: middle;\n",
       "    }\n",
       "\n",
       "    .dataframe tbody tr th {\n",
       "        vertical-align: top;\n",
       "    }\n",
       "\n",
       "    .dataframe thead th {\n",
       "        text-align: right;\n",
       "    }\n",
       "</style>\n",
       "<table border=\"1\" class=\"dataframe\">\n",
       "  <thead>\n",
       "    <tr style=\"text-align: right;\">\n",
       "      <th></th>\n",
       "      <th>col1</th>\n",
       "      <th>col2</th>\n",
       "      <th>col3</th>\n",
       "    </tr>\n",
       "  </thead>\n",
       "  <tbody>\n",
       "    <tr>\n",
       "      <th>0</th>\n",
       "      <td>1</td>\n",
       "      <td>2</td>\n",
       "      <td>A</td>\n",
       "    </tr>\n",
       "    <tr>\n",
       "      <th>1</th>\n",
       "      <td>2</td>\n",
       "      <td>4</td>\n",
       "      <td>B</td>\n",
       "    </tr>\n",
       "    <tr>\n",
       "      <th>2</th>\n",
       "      <td>3</td>\n",
       "      <td>6</td>\n",
       "      <td>C</td>\n",
       "    </tr>\n",
       "    <tr>\n",
       "      <th>3</th>\n",
       "      <td>4</td>\n",
       "      <td>8</td>\n",
       "      <td>D</td>\n",
       "    </tr>\n",
       "    <tr>\n",
       "      <th>4</th>\n",
       "      <td>5</td>\n",
       "      <td>10</td>\n",
       "      <td>E</td>\n",
       "    </tr>\n",
       "  </tbody>\n",
       "</table>\n",
       "</div>"
      ],
      "text/plain": [
       "   col1  col2 col3\n",
       "0     1     2    A\n",
       "1     2     4    B\n",
       "2     3     6    C\n",
       "3     4     8    D\n",
       "4     5    10    E"
      ]
     },
     "execution_count": 49,
     "metadata": {},
     "output_type": "execute_result"
    }
   ],
   "source": [
    "# 사전 -> 데이터프레임\n",
    "sp1 = np.arange(1,6)\n",
    "df = pd.DataFrame({\n",
    "    'col1': sp1,\n",
    "    'col2': sp1 * 2,\n",
    "    'col3': ['A','B','C','D','E']\n",
    "})\n",
    "df"
   ]
  },
  {
   "cell_type": "markdown",
   "id": "6361744e",
   "metadata": {},
   "source": [
    "## 스칼라"
   ]
  },
  {
   "cell_type": "code",
   "execution_count": 75,
   "id": "8d896b7f",
   "metadata": {},
   "outputs": [
    {
     "name": "stdout",
     "output_type": "stream",
     "text": [
      "   A  B  C  D\n",
      "1  1  2  3  4\n",
      "2  1  2  3  4\n",
      "3  1  2  3  4\n",
      "4  1  2  3  4\n"
     ]
    }
   ],
   "source": [
    "# 딕셔너리에서 값이 스칼라이면 인덱스 필요\n",
    "\n",
    "dic = {'A':1,'B':2,'C':3,'D':4}\n",
    "# dic = {'A':[1],'B':[2],'C':[3],'D':[4]}\n",
    "columns=['a','b','c','d','e']\n",
    "index=[1,2,3,4]\n",
    "\n",
    "df_dic = pd.DataFrame(dic,index)\n",
    "# df_dic = pd.DataFrame(dic)\n",
    "print(df_dic)"
   ]
  },
  {
   "cell_type": "code",
   "execution_count": 50,
   "id": "da8da1b0",
   "metadata": {},
   "outputs": [
    {
     "data": {
      "text/html": [
       "<div>\n",
       "<style scoped>\n",
       "    .dataframe tbody tr th:only-of-type {\n",
       "        vertical-align: middle;\n",
       "    }\n",
       "\n",
       "    .dataframe tbody tr th {\n",
       "        vertical-align: top;\n",
       "    }\n",
       "\n",
       "    .dataframe thead th {\n",
       "        text-align: right;\n",
       "    }\n",
       "</style>\n",
       "<table border=\"1\" class=\"dataframe\">\n",
       "  <thead>\n",
       "    <tr style=\"text-align: right;\">\n",
       "      <th></th>\n",
       "      <th>c1</th>\n",
       "      <th>c2</th>\n",
       "      <th>c3</th>\n",
       "      <th>c4</th>\n",
       "      <th>c5</th>\n",
       "    </tr>\n",
       "  </thead>\n",
       "  <tbody>\n",
       "    <tr>\n",
       "      <th>1</th>\n",
       "      <td>2</td>\n",
       "      <td>4</td>\n",
       "      <td>1</td>\n",
       "      <td>3</td>\n",
       "      <td>1</td>\n",
       "    </tr>\n",
       "    <tr>\n",
       "      <th>2</th>\n",
       "      <td>2</td>\n",
       "      <td>2</td>\n",
       "      <td>2</td>\n",
       "      <td>2</td>\n",
       "      <td>4</td>\n",
       "    </tr>\n",
       "    <tr>\n",
       "      <th>3</th>\n",
       "      <td>3</td>\n",
       "      <td>3</td>\n",
       "      <td>4</td>\n",
       "      <td>4</td>\n",
       "      <td>3</td>\n",
       "    </tr>\n",
       "    <tr>\n",
       "      <th>4</th>\n",
       "      <td>2</td>\n",
       "      <td>4</td>\n",
       "      <td>3</td>\n",
       "      <td>2</td>\n",
       "      <td>1</td>\n",
       "    </tr>\n",
       "    <tr>\n",
       "      <th>5</th>\n",
       "      <td>1</td>\n",
       "      <td>4</td>\n",
       "      <td>3</td>\n",
       "      <td>3</td>\n",
       "      <td>4</td>\n",
       "    </tr>\n",
       "    <tr>\n",
       "      <th>6</th>\n",
       "      <td>1</td>\n",
       "      <td>2</td>\n",
       "      <td>4</td>\n",
       "      <td>2</td>\n",
       "      <td>1</td>\n",
       "    </tr>\n",
       "    <tr>\n",
       "      <th>7</th>\n",
       "      <td>4</td>\n",
       "      <td>1</td>\n",
       "      <td>1</td>\n",
       "      <td>1</td>\n",
       "      <td>2</td>\n",
       "    </tr>\n",
       "    <tr>\n",
       "      <th>8</th>\n",
       "      <td>3</td>\n",
       "      <td>3</td>\n",
       "      <td>2</td>\n",
       "      <td>3</td>\n",
       "      <td>3</td>\n",
       "    </tr>\n",
       "    <tr>\n",
       "      <th>9</th>\n",
       "      <td>3</td>\n",
       "      <td>4</td>\n",
       "      <td>2</td>\n",
       "      <td>3</td>\n",
       "      <td>3</td>\n",
       "    </tr>\n",
       "    <tr>\n",
       "      <th>10</th>\n",
       "      <td>2</td>\n",
       "      <td>3</td>\n",
       "      <td>1</td>\n",
       "      <td>1</td>\n",
       "      <td>3</td>\n",
       "    </tr>\n",
       "  </tbody>\n",
       "</table>\n",
       "</div>"
      ],
      "text/plain": [
       "    c1  c2  c3  c4  c5\n",
       "1    2   4   1   3   1\n",
       "2    2   2   2   2   4\n",
       "3    3   3   4   4   3\n",
       "4    2   4   3   2   1\n",
       "5    1   4   3   3   4\n",
       "6    1   2   4   2   1\n",
       "7    4   1   1   1   2\n",
       "8    3   3   2   3   3\n",
       "9    3   4   2   3   3\n",
       "10   2   3   1   1   3"
      ]
     },
     "execution_count": 50,
     "metadata": {},
     "output_type": "execute_result"
    }
   ],
   "source": [
    "# 리스트 -> 데이터 프레임\n",
    "a = np.random.randint(1,5,size=(10,5))\n",
    "list1 = a.tolist()\n",
    "list1\n",
    "index = np.arange(1,11)\n",
    "df = pd.DataFrame(list1,index,columns=['c1','c2','c3','c4','c5'])\n",
    "df\n"
   ]
  },
  {
   "cell_type": "code",
   "execution_count": 54,
   "id": "3348324c",
   "metadata": {},
   "outputs": [
    {
     "name": "stdout",
     "output_type": "stream",
     "text": [
      "[[2 4 1 3 1]\n",
      " [2 2 2 2 4]\n",
      " [3 3 4 4 3]\n",
      " [2 4 3 2 1]\n",
      " [1 4 3 3 4]\n",
      " [1 2 4 2 1]\n",
      " [4 1 1 1 2]\n",
      " [3 3 2 3 3]\n",
      " [3 4 2 3 3]\n",
      " [2 3 1 1 3]] <class 'numpy.ndarray'> \n",
      "\n",
      "[[2, 4, 1, 3, 1], [2, 2, 2, 2, 4], [3, 3, 4, 4, 3], [2, 4, 3, 2, 1], [1, 4, 3, 3, 4], [1, 2, 4, 2, 1], [4, 1, 1, 1, 2], [3, 3, 2, 3, 3], [3, 4, 2, 3, 3], [2, 3, 1, 1, 3]] <class 'list'> \n",
      "\n",
      "{'c1': [2, 2, 3, 2, 1, 1, 4, 3, 3, 2], 'c2': [4, 2, 3, 4, 4, 2, 1, 3, 4, 3], 'c3': [1, 2, 4, 3, 3, 4, 1, 2, 2, 1], 'c4': [3, 2, 4, 2, 3, 2, 1, 3, 3, 1], 'c5': [1, 4, 3, 1, 4, 1, 2, 3, 3, 3]}\n"
     ]
    }
   ],
   "source": [
    "# 데이터 프레임-> 배열,리스트,딕셔너리\n",
    "ar = df.values\n",
    "print(ar,type(ar),'\\n')\n",
    "li = df.values.tolist()\n",
    "print(li,type(li),'\\n')\n",
    "dict = df.to_dict('list')\n",
    "print(dict)"
   ]
  },
  {
   "cell_type": "code",
   "execution_count": 61,
   "id": "24369352",
   "metadata": {},
   "outputs": [
    {
     "name": "stdout",
     "output_type": "stream",
     "text": [
      "[[116 105 115]\n",
      " [103 108 112]\n",
      " [109 117 118]] <class 'numpy.ndarray'> \n",
      "\n",
      "     pd  sales  int\n",
      "d1  116    105  115\n",
      "d2  103    108  112\n",
      "d3  109    117  118 <class 'pandas.core.frame.DataFrame'>\n",
      "[[116 105 115]\n",
      " [103 108 112]\n",
      " [109 117 118]] <class 'numpy.ndarray'> \n",
      "\n",
      "['a', 'b', 'c', 'd'] <class 'list'> \n",
      "\n",
      "   0\n",
      "1  a\n",
      "2  b\n",
      "3  c\n",
      "4  d <class 'pandas.core.frame.DataFrame'>\n",
      "[['a'], ['b'], ['c'], ['d']] <class 'list'> \n",
      "\n",
      "   col1  col2 col3\n",
      "0     1     2    A\n",
      "1     2     4    B\n",
      "2     3     6    C\n",
      "3     4     8    D\n",
      "4     5    10    E <class 'pandas.core.frame.DataFrame'>\n",
      "{'col1': [1, 2, 3, 4, 5], 'col2': [2, 4, 6, 8, 10], 'col3': ['A', 'B', 'C', 'D', 'E']} <class 'dict'>\n"
     ]
    }
   ],
   "source": [
    "# Q 배열,리스트,딕셔너리로 데이터 프레임 생성 후 다시 변경\n",
    "# 배열\n",
    "ar = np.random.randint(100,120,size=(3,3))\n",
    "print(ar,type(ar),'\\n')\n",
    "df = pd.DataFrame(ar,index =['d1','d2','d3'],\n",
    "                    columns = ['pd','sales','int'])\n",
    "print(df,type(df))\n",
    "ar = df.values\n",
    "print(ar,type(ar),'\\n')\n",
    "\n",
    "# 리스트\n",
    "\n",
    "li = ['a','b','c','d']\n",
    "print(li,type(li),'\\n')\n",
    "df = pd.DataFrame(li,index =[1,2,3,4])\n",
    "print(df,type(df))\n",
    "li = df.values.tolist()\n",
    "print(li,type(li),'\\n')\n",
    "\n",
    "\n",
    "# 딕셔너리\n",
    "sp1 = np.arange(1,6)\n",
    "df = pd.DataFrame({\n",
    "    'col1': sp1,\n",
    "    'col2': sp1 * 2,\n",
    "    'col3': ['A','B','C','D','E']\n",
    "})\n",
    "print(df,type(df))\n",
    "dict = df.to_dict('list')\n",
    "print(dict,type(dict))"
   ]
  },
  {
   "cell_type": "code",
   "execution_count": 62,
   "id": "dec78ed6",
   "metadata": {},
   "outputs": [
    {
     "name": "stdout",
     "output_type": "stream",
     "text": [
      "   col1  col2  col3\n",
      "0     1     2   NaN\n",
      "1     2     4   NaN\n",
      "2     3     6   NaN\n",
      "3     4     8   NaN\n",
      "4     5    10   NaN <class 'pandas.core.frame.DataFrame'> \n",
      "\n",
      "[[ 1.  2. nan]\n",
      " [ 2.  4. nan]\n",
      " [ 3.  6. nan]\n",
      " [ 4.  8. nan]\n",
      " [ 5. 10. nan]] <class 'numpy.ndarray'> \n",
      "\n",
      "[[1.0, 2.0, nan], [2.0, 4.0, nan], [3.0, 6.0, nan], [4.0, 8.0, nan], [5.0, 10.0, nan]] <class 'list'> \n",
      "\n",
      "{'col1': [1, 2, 3, 4, 5], 'col2': [2, 4, 6, 8, 10], 'col3': [nan, nan, nan, nan, nan]} <class 'dict'> \n",
      "\n"
     ]
    }
   ],
   "source": [
    "ar = np.arange(1,6)\n",
    "ar2=ar*2\n",
    "li = ar2.tolist()\n",
    "df = pd.DataFrame({\n",
    "    'col1': ar,\n",
    "    'col2': li,\n",
    "    'col3': np.nan})\n",
    "print(df,type(df),'\\n')\n",
    "print(df.values,type(df.values),'\\n')\n",
    "print(df.values.tolist(),type(df.values.tolist()),'\\n')\n",
    "print(df.to_dict('l`"
   ]
  },
  {
   "cell_type": "code",
   "execution_count": 79,
   "id": "384d250c",
   "metadata": {},
   "outputs": [
    {
     "data": {
      "text/html": [
       "<div>\n",
       "<style scoped>\n",
       "    .dataframe tbody tr th:only-of-type {\n",
       "        vertical-align: middle;\n",
       "    }\n",
       "\n",
       "    .dataframe tbody tr th {\n",
       "        vertical-align: top;\n",
       "    }\n",
       "\n",
       "    .dataframe thead th {\n",
       "        text-align: right;\n",
       "    }\n",
       "</style>\n",
       "<table border=\"1\" class=\"dataframe\">\n",
       "  <thead>\n",
       "    <tr style=\"text-align: right;\">\n",
       "      <th></th>\n",
       "      <th>차림표</th>\n",
       "    </tr>\n",
       "  </thead>\n",
       "  <tbody>\n",
       "    <tr>\n",
       "      <th>0</th>\n",
       "      <td>냉면</td>\n",
       "    </tr>\n",
       "    <tr>\n",
       "      <th>1</th>\n",
       "      <td>칼국수</td>\n",
       "    </tr>\n",
       "    <tr>\n",
       "      <th>2</th>\n",
       "      <td>잔치국수</td>\n",
       "    </tr>\n",
       "    <tr>\n",
       "      <th>3</th>\n",
       "      <td>수제비</td>\n",
       "    </tr>\n",
       "    <tr>\n",
       "      <th>4</th>\n",
       "      <td>우동</td>\n",
       "    </tr>\n",
       "  </tbody>\n",
       "</table>\n",
       "</div>"
      ],
      "text/plain": [
       "    차림표\n",
       "0    냉면\n",
       "1   칼국수\n",
       "2  잔치국수\n",
       "3   수제비\n",
       "4    우동"
      ]
     },
     "execution_count": 79,
     "metadata": {},
     "output_type": "execute_result"
    }
   ],
   "source": [
    "# file 생성, 저장, 읽기\n",
    "li = ['냉면','칼국수','잔치국수','수제비','우동']\n",
    "df1 = pd.DataFrame(li,index=['메뉴1','메뉴2','메뉴3','메뉴4','메뉴5'],columns=['차림표'])\n",
    "df1.to_csv(\"./dataset/file_data.csv\", index=None)\n",
    "file_data = pd.read_csv(\"./dataset/file_data.csv\")\n",
    "file_data"
   ]
  },
  {
   "cell_type": "code",
   "execution_count": 80,
   "id": "8eddfa3a",
   "metadata": {},
   "outputs": [
    {
     "ename": "AttributeError",
     "evalue": "module 'pandas' has no attribute 'read'",
     "output_type": "error",
     "traceback": [
      "\u001b[1;31m---------------------------------------------------------------------------\u001b[0m",
      "\u001b[1;31mAttributeError\u001b[0m                            Traceback (most recent call last)",
      "\u001b[1;32m~\\AppData\\Local\\Temp/ipykernel_14740/3040229728.py\u001b[0m in \u001b[0;36m<module>\u001b[1;34m\u001b[0m\n\u001b[0;32m      4\u001b[0m \u001b[1;31m# df.to_csv(\"./datatest/file_data.csv\", index=None) #인덱스가 중복되서 넣음\u001b[0m\u001b[1;33m\u001b[0m\u001b[1;33m\u001b[0m\u001b[1;33m\u001b[0m\u001b[0m\n\u001b[0;32m      5\u001b[0m \u001b[1;31m#파일생성 ,괄호안에는 저장할 위치가 들어가야함\u001b[0m\u001b[1;33m\u001b[0m\u001b[1;33m\u001b[0m\u001b[1;33m\u001b[0m\u001b[0m\n\u001b[1;32m----> 6\u001b[1;33m \u001b[0mfile_data\u001b[0m \u001b[1;33m=\u001b[0m \u001b[0mpd\u001b[0m\u001b[1;33m.\u001b[0m\u001b[0mread\u001b[0m\u001b[1;33m.\u001b[0m\u001b[0mcsv\u001b[0m\u001b[1;33m(\u001b[0m\u001b[1;34m\"\"\u001b[0m\u001b[1;33m)\u001b[0m \u001b[1;31m# 괄호안은 파일이름\u001b[0m\u001b[1;33m\u001b[0m\u001b[1;33m\u001b[0m\u001b[0m\n\u001b[0m\u001b[0;32m      7\u001b[0m \u001b[0mfile_data\u001b[0m \u001b[1;31m# 파일 불러오기임\u001b[0m\u001b[1;33m\u001b[0m\u001b[1;33m\u001b[0m\u001b[0m\n",
      "\u001b[1;32m~\\Anaconda3\\envs\\cakd5\\lib\\site-packages\\pandas\\__init__.py\u001b[0m in \u001b[0;36m__getattr__\u001b[1;34m(name)\u001b[0m\n\u001b[0;32m    242\u001b[0m         \u001b[1;32mreturn\u001b[0m \u001b[0m_SparseArray\u001b[0m\u001b[1;33m\u001b[0m\u001b[1;33m\u001b[0m\u001b[0m\n\u001b[0;32m    243\u001b[0m \u001b[1;33m\u001b[0m\u001b[0m\n\u001b[1;32m--> 244\u001b[1;33m     \u001b[1;32mraise\u001b[0m \u001b[0mAttributeError\u001b[0m\u001b[1;33m(\u001b[0m\u001b[1;34mf\"module 'pandas' has no attribute '{name}'\"\u001b[0m\u001b[1;33m)\u001b[0m\u001b[1;33m\u001b[0m\u001b[1;33m\u001b[0m\u001b[0m\n\u001b[0m\u001b[0;32m    245\u001b[0m \u001b[1;33m\u001b[0m\u001b[0m\n\u001b[0;32m    246\u001b[0m \u001b[1;33m\u001b[0m\u001b[0m\n",
      "\u001b[1;31mAttributeError\u001b[0m: module 'pandas' has no attribute 'read'"
     ]
    }
   ],
   "source": [
    "# file 생성\n",
    "li = ['a','b','c','d']\n",
    "df = pd.DataFrame(li,index =[1,2,3,4],columns =['d'])\n",
    "# df.to_csv(\"./datatest/file_data.csv\", index=None) #인덱스가 중복되서 넣음\n",
    "#파일생성 ,괄호안에는 저장할 위치가 들어가야함\n",
    "file_data = pd.read.csv(\"\") # 괄호안은 파일이름\n",
    "file_data # 파일 불러오기임"
   ]
  }
 ],
 "metadata": {
  "kernelspec": {
   "display_name": "Python 3 (ipykernel)",
   "language": "python",
   "name": "python3"
  },
  "language_info": {
   "codemirror_mode": {
    "name": "ipython",
    "version": 3
   },
   "file_extension": ".py",
   "mimetype": "text/x-python",
   "name": "python",
   "nbconvert_exporter": "python",
   "pygments_lexer": "ipython3",
   "version": "3.8.12"
  }
 },
 "nbformat": 4,
 "nbformat_minor": 5
}
