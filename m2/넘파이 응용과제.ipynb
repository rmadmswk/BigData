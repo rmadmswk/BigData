{
 "cells": [
  {
   "cell_type": "code",
   "execution_count": 1,
   "id": "37e85fb6",
   "metadata": {},
   "outputs": [],
   "source": [
    "import numpy as np"
   ]
  },
  {
   "cell_type": "code",
   "execution_count": 34,
   "id": "d0b3be08",
   "metadata": {},
   "outputs": [
    {
     "name": "stdout",
     "output_type": "stream",
     "text": [
      "[[[ 0  1  2  3]\n",
      "  [ 4  5  6  7]]\n",
      "\n",
      " [[ 8  9 10 11]\n",
      "  [12 13 14 15]]] (2, 2, 4) \n",
      "\n",
      "[[[ 0  8]\n",
      "  [ 1  9]\n",
      "  [ 2 10]\n",
      "  [ 3 11]]\n",
      "\n",
      " [[ 4 12]\n",
      "  [ 5 13]\n",
      "  [ 6 14]\n",
      "  [ 7 15]]] (2, 4, 2) \n",
      "\n"
     ]
    }
   ],
   "source": [
    "# (1,2,3) -> (2,3,1)\n",
    "a = np.arange(16).reshape(2,2,4)\n",
    "print(a,a.shape,'\\n')\n",
    "\n",
    "y = np.transpose(a,(1,2,0))\n",
    "print(y,y.shape,'\\n')"
   ]
  },
  {
   "cell_type": "code",
   "execution_count": 2,
   "id": "72297689",
   "metadata": {},
   "outputs": [
    {
     "name": "stdout",
     "output_type": "stream",
     "text": [
      "[[[ 0  1  2  3]\n",
      "  [ 4  5  6  7]]\n",
      "\n",
      " [[ 8  9 10 11]\n",
      "  [12 13 14 15]]] (2, 2, 4) \n",
      "\n",
      "[[[ 0  4]\n",
      "  [ 8 12]]\n",
      "\n",
      " [[ 1  5]\n",
      "  [ 9 13]]\n",
      "\n",
      " [[ 2  6]\n",
      "  [10 14]]\n",
      "\n",
      " [[ 3  7]\n",
      "  [11 15]]] (4, 2, 2) \n",
      "\n",
      "[[[ 0  1  2  3]\n",
      "  [ 8  9 10 11]]\n",
      "\n",
      " [[ 4  5  6  7]\n",
      "  [12 13 14 15]]] (2, 2, 4) \n",
      "\n"
     ]
    }
   ],
   "source": [
    "# [과제] 아래 배열에서 3차원과 2차원을 번갈아가면서 출력 (shape 확인)\n",
    "arr = np.arange(16).reshape(2,2,4) # 출력 때는 맨앞이 3,2,1차원\n",
    "print(arr,arr.shape,'\\n')\n",
    "# 2 2 4 => axis(0,1,2) 와 같은 뜻임 \n",
    "\n",
    "y = np.transpose(arr,(2,0,1)) # 0,1,2 만 사용가능?  변겯 때는 2.3.1차원\n",
    "print(y,y.shape,'\\n')\n",
    "\n",
    "y = np.transpose(arr,(1,0,2)) \n",
    "print(y,y.shape,'\\n')"
   ]
  },
  {
   "cell_type": "code",
   "execution_count": 108,
   "id": "1d5a4328",
   "metadata": {},
   "outputs": [
    {
     "name": "stdout",
     "output_type": "stream",
     "text": [
      "[[[ 0  1  2  3]\n",
      "  [ 4  5  6  7]]\n",
      "\n",
      " [[ 8  9 10 11]\n",
      "  [12 13 14 15]]] (2, 2, 4) \n",
      "\n",
      "[[[ 0  4]\n",
      "  [ 1  5]\n",
      "  [ 2  6]\n",
      "  [ 3  7]]\n",
      "\n",
      " [[ 8 12]\n",
      "  [ 9 13]\n",
      "  [10 14]\n",
      "  [11 15]]] (2, 4, 2) \n",
      "\n"
     ]
    }
   ],
   "source": [
    "# [과제] 상기 과제의 arr에서 2차원과 1차원 번갈아가면서 출력\n",
    "arr = np.arange(16).reshape(2,2,4) # 출력 때는 맨앞이 3,2,1차원\n",
    "print(arr,arr.shape,'\\n')\n",
    "\n",
    "y = np.transpose(arr,(0,2,1)) \n",
    "print(y,y.shape,'\\n')\n",
    "\n",
    "arrs = arr.swapaxes(1,2)\n",
    "print(arrs)"
   ]
  },
  {
   "cell_type": "code",
   "execution_count": 62,
   "id": "92a0f727",
   "metadata": {
    "scrolled": true
   },
   "outputs": [
    {
     "data": {
      "text/plain": [
       "array([[0., 0., 0., 0., 0., 0., 0., 0., 0.],\n",
       "       [0., 0., 0., 0., 0., 0., 0., 0., 0.],\n",
       "       [0., 0., 1., 1., 1., 1., 1., 0., 0.],\n",
       "       [0., 0., 1., 1., 1., 1., 1., 0., 0.],\n",
       "       [0., 0., 1., 1., 1., 1., 1., 0., 0.],\n",
       "       [0., 0., 1., 1., 1., 1., 1., 0., 0.],\n",
       "       [0., 0., 1., 1., 1., 1., 1., 0., 0.],\n",
       "       [0., 0., 0., 0., 0., 0., 0., 0., 0.],\n",
       "       [0., 0., 0., 0., 0., 0., 0., 0., 0.]])"
      ]
     },
     "execution_count": 62,
     "metadata": {},
     "output_type": "execute_result"
    }
   ],
   "source": [
    "# [과제] np.ones((5,5))을 아래와 같이 출력\n",
    "# array([[0., 0., 0., 0., 0., 0., 0., 0., 0.],\n",
    "#        [0., 0., 0., 0., 0., 0., 0., 0., 0.],\n",
    "#        [0., 0., 1., 1., 1., 1., 1., 0., 0.],\n",
    "#        [0., 0., 1., 1., 1., 1., 1., 0., 0.],\n",
    "#        [0., 0., 1., 1., 1., 1., 1., 0., 0.],\n",
    "#        [0., 0., 1., 1., 1., 1., 1., 0., 0.],\n",
    "#        [0., 0., 1., 1., 1., 1., 1., 0., 0.],\n",
    "#        [0., 0., 0., 0., 0., 0., 0., 0., 0.],\n",
    "#        [0., 0., 0., 0., 0., 0., 0., 0., 0.]])\n",
    "a=np.ones((5,5))\n",
    "b=np.zeros((9,9))\n",
    "b[2:7,2:7] = a\n",
    "b"
   ]
  },
  {
   "cell_type": "code",
   "execution_count": 3,
   "id": "f978d4e0",
   "metadata": {},
   "outputs": [
    {
     "data": {
      "text/plain": [
       "array([[0., 0., 0., 0., 0., 0., 0., 0., 0.],\n",
       "       [0., 0., 0., 0., 0., 0., 0., 0., 0.],\n",
       "       [0., 0., 1., 1., 1., 1., 1., 0., 0.],\n",
       "       [0., 0., 1., 1., 1., 1., 1., 0., 0.],\n",
       "       [0., 0., 1., 1., 1., 1., 1., 0., 0.],\n",
       "       [0., 0., 1., 1., 1., 1., 1., 0., 0.],\n",
       "       [0., 0., 1., 1., 1., 1., 1., 0., 0.],\n",
       "       [0., 0., 0., 0., 0., 0., 0., 0., 0.],\n",
       "       [0., 0., 0., 0., 0., 0., 0., 0., 0.]])"
      ]
     },
     "execution_count": 3,
     "metadata": {},
     "output_type": "execute_result"
    }
   ],
   "source": [
    "arr1 = np.ones((5,5))\n",
    "np.pad(arr1,(2,2),'constant',constant_values=0) ## 구글링한 것, 패드라는 함수"
   ]
  },
  {
   "cell_type": "code",
   "execution_count": null,
   "id": "eb9c1c2c",
   "metadata": {},
   "outputs": [],
   "source": [
    "인덱스 함수가 있었는데 실수로 지웠어 ㅣ."
   ]
  },
  {
   "cell_type": "code",
   "execution_count": 5,
   "id": "3649894f",
   "metadata": {},
   "outputs": [
    {
     "name": "stdout",
     "output_type": "stream",
     "text": [
      "[[0 1 0 1 0 1 0 1]\n",
      " [1 0 1 0 1 0 1 0]\n",
      " [0 1 0 1 0 1 0 1]\n",
      " [1 0 1 0 1 0 1 0]\n",
      " [0 1 0 1 0 1 0 1]\n",
      " [1 0 1 0 1 0 1 0]\n",
      " [0 1 0 1 0 1 0 1]\n",
      " [1 0 1 0 1 0 1 0]]\n"
     ]
    },
    {
     "data": {
      "text/plain": [
       "array([[0., 1., 0., 1., 0., 1., 0., 1.],\n",
       "       [1., 0., 1., 0., 1., 0., 1., 0.],\n",
       "       [0., 1., 0., 1., 0., 1., 0., 1.],\n",
       "       [1., 0., 1., 0., 1., 0., 1., 0.],\n",
       "       [0., 1., 0., 1., 0., 1., 0., 1.],\n",
       "       [1., 0., 1., 0., 1., 0., 1., 0.],\n",
       "       [0., 1., 0., 1., 0., 1., 0., 1.],\n",
       "       [1., 0., 1., 0., 1., 0., 1., 0.]])"
      ]
     },
     "execution_count": 5,
     "metadata": {},
     "output_type": "execute_result"
    }
   ],
   "source": [
    "# [과제] np.zeros(8,8) 을 이용하여 아래와 같이 출력 (tile,인덱싱)\n",
    "# array([[0, 1, 0, 1, 0, 1, 0, 1],\n",
    "#        [1, 0, 1, 0, 1, 0, 1, 0],\n",
    "#        [0, 1, 0, 1, 0, 1, 0, 1],\n",
    "#        [1, 0, 1, 0, 1, 0, 1, 0],\n",
    "#        [0, 1, 0, 1, 0, 1, 0, 1],\n",
    "#        [1, 0, 1, 0, 1, 0, 1, 0],\n",
    "#        [0, 1, 0, 1, 0, 1, 0, 1],\n",
    "#        [1, 0, 1, 0, 1, 0, 1, 0]])\n",
    "a = np.array([[0,1],[1,0]]) # 타일 함수 사용\n",
    "b = np.tile(a,(4,4))\n",
    "print(b)\n",
    "x = np.zeros((8,8))\n",
    "x[::2,1::2] = 1 ## 전체부터 2칸, 1 부터 2칸씩\n",
    "x[1::2,::2] = 1 ## 첫번째부터 2칸씩, 전체부터 2칸씩\n",
    "x"
   ]
  },
  {
   "cell_type": "code",
   "execution_count": 19,
   "id": "0b97cbd1",
   "metadata": {},
   "outputs": [
    {
     "name": "stdout",
     "output_type": "stream",
     "text": [
      "(array([1], dtype=int64), array([5], dtype=int64), array([3], dtype=int64)) \n",
      "\n",
      "(1, 5, 3)\n"
     ]
    }
   ],
   "source": [
    "# [도전] np.arange(336).reshape(6,7,8)에서 100번재 요소의 인덱스 구하기\n",
    "a = np.arange(336).reshape(6,7,8)\n",
    "print(np.where(a==99),'\\n')\n",
    "# z = np.unravel_index(99,(np.arange(336).reshape(6,7,8)))\n",
    "# print(z)\n",
    "\n",
    "z = np.unravel_index(99,(6,7,8)) ## 이것도 맞다. 희한하네 \n",
    "print(z)"
   ]
  },
  {
   "cell_type": "code",
   "execution_count": 27,
   "id": "22fc97a6",
   "metadata": {},
   "outputs": [
    {
     "data": {
      "text/plain": [
       "array([[0, 1, 0, 0, 0],\n",
       "       [0, 0, 2, 0, 0],\n",
       "       [0, 0, 0, 3, 0],\n",
       "       [0, 0, 0, 0, 4],\n",
       "       [0, 0, 0, 0, 0]])"
      ]
     },
     "execution_count": 27,
     "metadata": {},
     "output_type": "execute_result"
    }
   ],
   "source": [
    "# [도전] np.arange(4)을 이용해서 아래와 같이 출력\n",
    "# array([[0, 0, 0, 0, 0],\n",
    "#        [1, 0, 0, 0, 0],\n",
    "#        [0, 2, 0, 0, 0],\n",
    "#        [0, 0, 3, 0, 0],\n",
    "#        [0, 0, 0, 4, 0]])\n",
    "arr=np.arange(4)\n",
    "np.diag(arr+1,k=1) # diag란 함수가 있네 , 콤마 뒤가 위치 이동하는 것\n",
    "# np.diag(arr+1,k=-1)"
   ]
  },
  {
   "cell_type": "code",
   "execution_count": 22,
   "id": "c220b5da",
   "metadata": {},
   "outputs": [
    {
     "name": "stdout",
     "output_type": "stream",
     "text": [
      "[[0. 0. 0. 0. 0.]\n",
      " [1. 0. 0. 0. 0.]\n",
      " [0. 2. 0. 0. 0.]\n",
      " [0. 0. 3. 0. 0.]\n",
      " [0. 0. 0. 4. 0.]]\n"
     ]
    }
   ],
   "source": [
    "zero = np.zeros((5, 5))\n",
    "a = np.arange(4)\n",
    "\n",
    "for i in range(4):\n",
    "    zero[i + 1, i] = a[i] + 1\n",
    "    \n",
    "print(zero)"
   ]
  },
  {
   "cell_type": "code",
   "execution_count": null,
   "id": "ebc99d24",
   "metadata": {},
   "outputs": [],
   "source": [
    "[과제] 아래 가이드에 따라서 고객 구매데이터를 생성하고 데이터프레임으로 변환하여 출력하세요(관측치 1000개)\n",
    "\n",
    "id : 1 ~ 1000번 일련번호\n",
    "gender : 0,1 정수 난수 생성\n",
    "age : 0 ~ 80사이 정수 난수 생성\n",
    "region : 1 ~ 10 사이 정수 난수 생성 # 정수난수는 무조건 randint\n",
    "product_19 : 제품코드 11111 ~ 99999\n",
    "product_20 : 제품코드 11111 ~ 99999\n",
    "price_19 : 1000 ~ 50000 사이 실수 난수 생성\n",
    "price_20 : 1000 ~ 50000 사이 실수 난수 생성\n",
    "quantity_19 : 1 ~ 100 사이 정수 난수 생성\n",
    "quantity_20 : 1 ~ 100 사이 정수 난수 생성\n",
    "time_19 : 01 ~ 24 사이 정수 난수 생성\n",
    "time_20 : 01 ~ 24 사이 정수 난수 생성\n",
    "amount_19 : price_19 * quantity_19\n",
    "amount_20 : price_20 * quantity_20\n",
    "sales : 19년 대비 20년구매금액이 증가면 1, 감소면 0"
   ]
  },
  {
   "cell_type": "code",
   "execution_count": 6,
   "id": "709f6e25",
   "metadata": {},
   "outputs": [
    {
     "name": "stdout",
     "output_type": "stream",
     "text": [
      "(1000, 15)\n"
     ]
    },
    {
     "data": {
      "text/html": [
       "<div>\n",
       "<style scoped>\n",
       "    .dataframe tbody tr th:only-of-type {\n",
       "        vertical-align: middle;\n",
       "    }\n",
       "\n",
       "    .dataframe tbody tr th {\n",
       "        vertical-align: top;\n",
       "    }\n",
       "\n",
       "    .dataframe thead th {\n",
       "        text-align: right;\n",
       "    }\n",
       "</style>\n",
       "<table border=\"1\" class=\"dataframe\">\n",
       "  <thead>\n",
       "    <tr style=\"text-align: right;\">\n",
       "      <th></th>\n",
       "      <th>id1</th>\n",
       "      <th>gender</th>\n",
       "      <th>age</th>\n",
       "      <th>region</th>\n",
       "      <th>product_19</th>\n",
       "      <th>product_20</th>\n",
       "      <th>price_19</th>\n",
       "      <th>price_20</th>\n",
       "      <th>quantity_19</th>\n",
       "      <th>quantity_20</th>\n",
       "      <th>time_19</th>\n",
       "      <th>time_20</th>\n",
       "      <th>amount_19</th>\n",
       "      <th>amount_20</th>\n",
       "      <th>sales</th>\n",
       "    </tr>\n",
       "  </thead>\n",
       "  <tbody>\n",
       "    <tr>\n",
       "      <th>0</th>\n",
       "      <td>0.0</td>\n",
       "      <td>0.0</td>\n",
       "      <td>0.0</td>\n",
       "      <td>0.0</td>\n",
       "      <td>0.0</td>\n",
       "      <td>0.0</td>\n",
       "      <td>0.0</td>\n",
       "      <td>0.0</td>\n",
       "      <td>0.0</td>\n",
       "      <td>0.0</td>\n",
       "      <td>0.0</td>\n",
       "      <td>0.0</td>\n",
       "      <td>0.0</td>\n",
       "      <td>0.0</td>\n",
       "      <td>0.0</td>\n",
       "    </tr>\n",
       "    <tr>\n",
       "      <th>1</th>\n",
       "      <td>0.0</td>\n",
       "      <td>0.0</td>\n",
       "      <td>0.0</td>\n",
       "      <td>0.0</td>\n",
       "      <td>0.0</td>\n",
       "      <td>0.0</td>\n",
       "      <td>0.0</td>\n",
       "      <td>0.0</td>\n",
       "      <td>0.0</td>\n",
       "      <td>0.0</td>\n",
       "      <td>0.0</td>\n",
       "      <td>0.0</td>\n",
       "      <td>0.0</td>\n",
       "      <td>0.0</td>\n",
       "      <td>0.0</td>\n",
       "    </tr>\n",
       "    <tr>\n",
       "      <th>2</th>\n",
       "      <td>0.0</td>\n",
       "      <td>0.0</td>\n",
       "      <td>0.0</td>\n",
       "      <td>0.0</td>\n",
       "      <td>0.0</td>\n",
       "      <td>0.0</td>\n",
       "      <td>0.0</td>\n",
       "      <td>0.0</td>\n",
       "      <td>0.0</td>\n",
       "      <td>0.0</td>\n",
       "      <td>0.0</td>\n",
       "      <td>0.0</td>\n",
       "      <td>0.0</td>\n",
       "      <td>0.0</td>\n",
       "      <td>0.0</td>\n",
       "    </tr>\n",
       "    <tr>\n",
       "      <th>3</th>\n",
       "      <td>0.0</td>\n",
       "      <td>0.0</td>\n",
       "      <td>0.0</td>\n",
       "      <td>0.0</td>\n",
       "      <td>0.0</td>\n",
       "      <td>0.0</td>\n",
       "      <td>0.0</td>\n",
       "      <td>0.0</td>\n",
       "      <td>0.0</td>\n",
       "      <td>0.0</td>\n",
       "      <td>0.0</td>\n",
       "      <td>0.0</td>\n",
       "      <td>0.0</td>\n",
       "      <td>0.0</td>\n",
       "      <td>0.0</td>\n",
       "    </tr>\n",
       "    <tr>\n",
       "      <th>4</th>\n",
       "      <td>0.0</td>\n",
       "      <td>0.0</td>\n",
       "      <td>0.0</td>\n",
       "      <td>0.0</td>\n",
       "      <td>0.0</td>\n",
       "      <td>0.0</td>\n",
       "      <td>0.0</td>\n",
       "      <td>0.0</td>\n",
       "      <td>0.0</td>\n",
       "      <td>0.0</td>\n",
       "      <td>0.0</td>\n",
       "      <td>0.0</td>\n",
       "      <td>0.0</td>\n",
       "      <td>0.0</td>\n",
       "      <td>0.0</td>\n",
       "    </tr>\n",
       "  </tbody>\n",
       "</table>\n",
       "</div>"
      ],
      "text/plain": [
       "   id1  gender  age  region  product_19  product_20  price_19  price_20  \\\n",
       "0  0.0     0.0  0.0     0.0         0.0         0.0       0.0       0.0   \n",
       "1  0.0     0.0  0.0     0.0         0.0         0.0       0.0       0.0   \n",
       "2  0.0     0.0  0.0     0.0         0.0         0.0       0.0       0.0   \n",
       "3  0.0     0.0  0.0     0.0         0.0         0.0       0.0       0.0   \n",
       "4  0.0     0.0  0.0     0.0         0.0         0.0       0.0       0.0   \n",
       "\n",
       "   quantity_19  quantity_20  time_19  time_20  amount_19  amount_20  sales  \n",
       "0          0.0          0.0      0.0      0.0        0.0        0.0    0.0  \n",
       "1          0.0          0.0      0.0      0.0        0.0        0.0    0.0  \n",
       "2          0.0          0.0      0.0      0.0        0.0        0.0    0.0  \n",
       "3          0.0          0.0      0.0      0.0        0.0        0.0    0.0  \n",
       "4          0.0          0.0      0.0      0.0        0.0        0.0    0.0  "
      ]
     },
     "execution_count": 6,
     "metadata": {},
     "output_type": "execute_result"
    }
   ],
   "source": [
    "import random\n",
    "import numpy as np\n",
    "import pandas as pd\n",
    "\n",
    "ar = np.zeros((1000,15))\n",
    "columns = ['id1','gender','age','region','product_19','product_20','price_19','price_20','quantity_19','quantity_20','time_19','time_20','amount_19','amount_20','sales']\n",
    "index = [np.arange(1000)]\n",
    "df = pd.DataFrame(ar,index,columns = columns)\n",
    "\n",
    "\n",
    "# df.id1 = np.arange(1,1001)\n",
    "# np.random.seed(0)\n",
    "# df.gender = np.random.randint(2,size=1000) # choice 함수 쓰는것도 좋다\n",
    "# df.age = np.random.randint(1,80,size=1000)\n",
    "# df.region = np.random.randint(1,10,size=1000) # 정수 난수 생성\n",
    "\n",
    "# # 같은 번호가 나오면 같은 가격이 나오게 하기\n",
    "# df.product_19 = np.random.randint(11111,99999,size=1000)\n",
    "# df.product_20 = np.random.randint(11111,99999,size=1000)\n",
    "\n",
    "# # df.price_19 = np.random.randint(1000,50000,size=1000) # 실수 난수 생성\n",
    "# df.price_19 = np.random.uniform(1000,50000,1000).round(2) # 실수 난수 생성\n",
    "# # df.price_20 = np.random.randint(1000,50000,size=1000)\n",
    "# df.price_20 = np.random.uniform(1000,50000,1000).round(2)\n",
    "\n",
    "\n",
    "\n",
    "# df.quantity_19 = np.random.randint(1,100,size=1000)\n",
    "# df.quantity_20 = np.random.randint(1,100,size=1000)\n",
    "# df.time_19 = np.random.randint(1,25,size=1000)\n",
    "# df.time_20 = np.random.randint(1,25,size=1000)\n",
    "# df.amount_19 = df.price_19 * df.quantity_19\n",
    "# df.amount_20 = df.price_20 * df.quantity_20\n",
    "# df.sales = np.where(df.amount_19 < df.amount_20, 1,0) \n",
    "\n",
    "print(df.shape)\n",
    "df.head()\n",
    "# df\n",
    "# arr1 = arr[arr%10==0]"
   ]
  },
  {
   "cell_type": "code",
   "execution_count": 35,
   "id": "7cd57fbc",
   "metadata": {},
   "outputs": [
    {
     "name": "stdout",
     "output_type": "stream",
     "text": [
      "498\n"
     ]
    }
   ],
   "source": [
    "df[df.sales==0]\n",
    "print(len(df[df.sales==0])) # sales가 0인 애들만 골라서 길이를 구해줌\n",
    "# df[df.sales==1].head()"
   ]
  },
  {
   "cell_type": "code",
   "execution_count": 25,
   "id": "febf1d3f",
   "metadata": {},
   "outputs": [
    {
     "data": {
      "text/html": [
       "<div>\n",
       "<style scoped>\n",
       "    .dataframe tbody tr th:only-of-type {\n",
       "        vertical-align: middle;\n",
       "    }\n",
       "\n",
       "    .dataframe tbody tr th {\n",
       "        vertical-align: top;\n",
       "    }\n",
       "\n",
       "    .dataframe thead th {\n",
       "        text-align: right;\n",
       "    }\n",
       "</style>\n",
       "<table border=\"1\" class=\"dataframe\">\n",
       "  <thead>\n",
       "    <tr style=\"text-align: right;\">\n",
       "      <th></th>\n",
       "      <th>id</th>\n",
       "      <th>gender</th>\n",
       "      <th>age</th>\n",
       "    </tr>\n",
       "  </thead>\n",
       "  <tbody>\n",
       "    <tr>\n",
       "      <th>0</th>\n",
       "      <td>0.0</td>\n",
       "      <td>0.0</td>\n",
       "      <td>0.0</td>\n",
       "    </tr>\n",
       "    <tr>\n",
       "      <th>1</th>\n",
       "      <td>0.0</td>\n",
       "      <td>0.0</td>\n",
       "      <td>0.0</td>\n",
       "    </tr>\n",
       "    <tr>\n",
       "      <th>2</th>\n",
       "      <td>0.0</td>\n",
       "      <td>0.0</td>\n",
       "      <td>0.0</td>\n",
       "    </tr>\n",
       "    <tr>\n",
       "      <th>3</th>\n",
       "      <td>0.0</td>\n",
       "      <td>0.0</td>\n",
       "      <td>0.0</td>\n",
       "    </tr>\n",
       "    <tr>\n",
       "      <th>4</th>\n",
       "      <td>0.0</td>\n",
       "      <td>0.0</td>\n",
       "      <td>0.0</td>\n",
       "    </tr>\n",
       "    <tr>\n",
       "      <th>...</th>\n",
       "      <td>...</td>\n",
       "      <td>...</td>\n",
       "      <td>...</td>\n",
       "    </tr>\n",
       "    <tr>\n",
       "      <th>995</th>\n",
       "      <td>0.0</td>\n",
       "      <td>0.0</td>\n",
       "      <td>0.0</td>\n",
       "    </tr>\n",
       "    <tr>\n",
       "      <th>996</th>\n",
       "      <td>0.0</td>\n",
       "      <td>0.0</td>\n",
       "      <td>0.0</td>\n",
       "    </tr>\n",
       "    <tr>\n",
       "      <th>997</th>\n",
       "      <td>0.0</td>\n",
       "      <td>0.0</td>\n",
       "      <td>0.0</td>\n",
       "    </tr>\n",
       "    <tr>\n",
       "      <th>998</th>\n",
       "      <td>0.0</td>\n",
       "      <td>0.0</td>\n",
       "      <td>0.0</td>\n",
       "    </tr>\n",
       "    <tr>\n",
       "      <th>999</th>\n",
       "      <td>0.0</td>\n",
       "      <td>0.0</td>\n",
       "      <td>0.0</td>\n",
       "    </tr>\n",
       "  </tbody>\n",
       "</table>\n",
       "<p>1000 rows × 3 columns</p>\n",
       "</div>"
      ],
      "text/plain": [
       "      id  gender  age\n",
       "0    0.0     0.0  0.0\n",
       "1    0.0     0.0  0.0\n",
       "2    0.0     0.0  0.0\n",
       "3    0.0     0.0  0.0\n",
       "4    0.0     0.0  0.0\n",
       "..   ...     ...  ...\n",
       "995  0.0     0.0  0.0\n",
       "996  0.0     0.0  0.0\n",
       "997  0.0     0.0  0.0\n",
       "998  0.0     0.0  0.0\n",
       "999  0.0     0.0  0.0\n",
       "\n",
       "[1000 rows x 3 columns]"
      ]
     },
     "execution_count": 25,
     "metadata": {},
     "output_type": "execute_result"
    }
   ],
   "source": [
    "import numpy as np\n",
    "import pandas as pd\n",
    "ar = np.zeros((1000,3))\n",
    "columns = ['id','gender','age']\n",
    "index = [np.arange(1000)]\n",
    "df = pd.DataFrame(ar,index,columns=columns)\n",
    "df"
   ]
  }
 ],
 "metadata": {
  "kernelspec": {
   "display_name": "Python 3 (ipykernel)",
   "language": "python",
   "name": "python3"
  },
  "language_info": {
   "codemirror_mode": {
    "name": "ipython",
    "version": 3
   },
   "file_extension": ".py",
   "mimetype": "text/x-python",
   "name": "python",
   "nbconvert_exporter": "python",
   "pygments_lexer": "ipython3",
   "version": "3.8.12"
  }
 },
 "nbformat": 4,
 "nbformat_minor": 5
}
