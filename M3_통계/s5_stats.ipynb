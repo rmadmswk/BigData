{
 "cells": [
  {
   "cell_type": "markdown",
   "id": "b6dbe8e9",
   "metadata": {},
   "source": [
    "### 통게적 추정\n",
    "- 점추정\n",
    " - 모평균이나 모분산 등의 모수를 하나의 숫자로 추정\n",
    " - 추정량의 기댓값이 추측하려는 모수가 되는 성질을 불편성이라고 하며 불편성을 가진 추정량을 불편추정량이라고 한다.\n",
    " - 표본평균이 모평균을 잘 추정할 수 있는 근거 중 하나가 바로 이 불편성이다.\n",
    " - 표본크기 n을 증가시키면 추측하기 원하는 모수에 수렴해 가는 성질을 일치성이라고 하며 일치성을 지닌 추정량을 일치 추정량이라고 함.\n",
    " - 표본평균은 불편성과 일치성 모두 가지고 있기 때문에 모평균을 잘 추정한다고 할 수 있다.\n",
    " - 모분산의 불편 추정량이 되는 표본통계량은 불편분산이다.\n",
    " - 불편분산은 표본분산에서 나누는 수 n-1로 하는 식으로 계산되며 표본분산은 𝑆2으로나타내지만불편분산은𝑠2로 나타낸다\n",
    "- 구간추정\n",
    " - 모분산을 알고 있는 경우의 모평균 구간추정\n",
    " - 모분산을 알고 있는 경우의 모분산 구간추정\n",
    " - 모분산을 알지 못하는 경우의 모평균 구간추정\n",
    " - 베르누이 분포의 모평균의 구간추정\n",
    " - 포아송 분포의 모평균의 구간추정"
   ]
  },
  {
   "cell_type": "code",
   "execution_count": 2,
   "id": "87c63deb",
   "metadata": {},
   "outputs": [],
   "source": [
    "import numpy as np\n",
    "import pandas as pd\n",
    "import matplotlib.pyplot as plt\n",
    "from scipy import stats"
   ]
  },
  {
   "cell_type": "code",
   "execution_count": 4,
   "id": "4f9c5530",
   "metadata": {},
   "outputs": [],
   "source": [
    "df = pd.read_csv('data/ch4_scores400.csv')\n",
    "scores = np.array(df['score'])"
   ]
  },
  {
   "cell_type": "code",
   "execution_count": 5,
   "id": "380a08e4",
   "metadata": {},
   "outputs": [
    {
     "data": {
      "text/plain": [
       "array([49, 60, 72, 86, 52, 61, 77, 91, 80, 56, 69, 67, 90, 56, 75, 79, 60,\n",
       "       79, 68, 81], dtype=int64)"
      ]
     },
     "execution_count": 5,
     "metadata": {},
     "output_type": "execute_result"
    }
   ],
   "source": [
    "np.random.seed(0)\n",
    "n = 20\n",
    "sample = np.random.choice(scores,n)\n",
    "sample"
   ]
  },
  {
   "cell_type": "code",
   "execution_count": 6,
   "id": "3047659b",
   "metadata": {},
   "outputs": [],
   "source": [
    "np.random.seed(1111)\n",
    "n_samples = 10000\n",
    "samples = np.random.choice(scores,(n_samples,n))"
   ]
  },
  {
   "cell_type": "code",
   "execution_count": 7,
   "id": "72b1a337",
   "metadata": {},
   "outputs": [
    {
     "name": "stdout",
     "output_type": "stream",
     "text": [
      "1번째의 표본평균: 67.000\n",
      "2번째의 표본평균: 72.850\n",
      "3번째의 표본평균: 69.200\n",
      "4번째의 표본평균: 64.450\n",
      "5번째의 표본평균: 72.650\n"
     ]
    }
   ],
   "source": [
    "# [과제] 모평균과 모분산의 점추정 사례를 파이썬 코드로 수행하세요.\n",
    "for i in range(5):\n",
    "    s_mean = np.mean(samples[i])\n",
    "    print(f'{i+1}번째의 표본평균: {s_mean:.3f}')"
   ]
  },
  {
   "cell_type": "code",
   "execution_count": 8,
   "id": "546ded55",
   "metadata": {},
   "outputs": [
    {
     "data": {
      "text/plain": [
       "69.53799999999998"
      ]
     },
     "execution_count": 8,
     "metadata": {},
     "output_type": "execute_result"
    }
   ],
   "source": [
    "# 모평균 구하기\n",
    "sample_means = np.mean(samples,axis=1)\n",
    "np.mean(sample_means)"
   ]
  },
  {
   "cell_type": "code",
   "execution_count": null,
   "id": "28733c85",
   "metadata": {},
   "outputs": [],
   "source": [
    "# 모평균을 "
   ]
  },
  {
   "cell_type": "code",
   "execution_count": null,
   "id": "0bd5b3de",
   "metadata": {},
   "outputs": [],
   "source": [
    "# [과제] 모분산을 알지 못할 때 정규분포의 모평균의 구간 추정을 파이썬 코드로 수행"
   ]
  },
  {
   "cell_type": "code",
   "execution_count": null,
   "id": "f72dad0a",
   "metadata": {},
   "outputs": [],
   "source": [
    "# [과제] 모집단에 정규분포를 가정할 수 없는 예를 포아송 분포로 설정하여 모평균 신뢰구간을 구하세요 "
   ]
  },
  {
   "cell_type": "code",
   "execution_count": null,
   "id": "d3727da4",
   "metadata": {},
   "outputs": [],
   "source": []
  },
  {
   "cell_type": "code",
   "execution_count": null,
   "id": "290060d4",
   "metadata": {},
   "outputs": [],
   "source": []
  },
  {
   "cell_type": "code",
   "execution_count": null,
   "id": "f9ee3ed9",
   "metadata": {},
   "outputs": [],
   "source": []
  },
  {
   "cell_type": "code",
   "execution_count": null,
   "id": "490a787c",
   "metadata": {},
   "outputs": [],
   "source": []
  }
 ],
 "metadata": {
  "kernelspec": {
   "display_name": "Python 3 (ipykernel)",
   "language": "python",
   "name": "python3"
  },
  "language_info": {
   "codemirror_mode": {
    "name": "ipython",
    "version": 3
   },
   "file_extension": ".py",
   "mimetype": "text/x-python",
   "name": "python",
   "nbconvert_exporter": "python",
   "pygments_lexer": "ipython3",
   "version": "3.8.12"
  }
 },
 "nbformat": 4,
 "nbformat_minor": 5
}
