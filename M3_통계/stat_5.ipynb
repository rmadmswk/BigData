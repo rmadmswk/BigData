{
 "cells": [
  {
   "cell_type": "code",
   "execution_count": 56,
   "id": "d748f411",
   "metadata": {},
   "outputs": [],
   "source": [
    "import numpy as np\n",
    "import pandas as pd\n",
    "import matplotlib.pyplot as plt\n",
    "from scipy import stats"
   ]
  },
  {
   "cell_type": "code",
   "execution_count": 4,
   "id": "b76ea0ec",
   "metadata": {},
   "outputs": [
    {
     "name": "stdout",
     "output_type": "stream",
     "text": [
      "128.68118313069039 \n",
      "\n",
      "-1.932298779026813 \n",
      "\n",
      "-1.6448536269514722 \n",
      "\n",
      "0.026661319523126635\n"
     ]
    }
   ],
   "source": [
    "# 귀무가설 : 감자튀김의 평균무게는 130g이다.\n",
    "# 대립가설 : 감자튀김의 평균무게는 130g보다 작다.\n",
    "# 유의 수준은 5%로 설정\n",
    "df = pd.read_csv('./data/ch11_potato.csv')\n",
    "sample = np.array(df.무게)\n",
    "s_mean = sample.mean()\n",
    "# 표본평균 : A가 산 감자튀김 14개의 평균 무게 = 128.451g\n",
    "\n",
    "# 임계값 구하기\n",
    "rv = stats.norm(130, np.sqrt(9/14))\n",
    "print(rv.isf(0.95),'\\n')\n",
    "# 임계값 : 128.681g\n",
    "# 검정통계량이 임계값보다 작기때문에 귀무가설은 기각된다.\n",
    "\n",
    "\n",
    "# 표준화 하여 검정통계량과 임계값의 비교\n",
    "# 표준화 된 검정 통계량 값\n",
    "z = (s_mean-130)/np.sqrt(9/14)\n",
    "print(z,'\\n')\n",
    "# 임계값 : 퍼센트 포인트\n",
    "rv = stats.norm()\n",
    "print(rv.isf(0.95) , '\\n')\n",
    "# 검정통계량이 임계값보다 작으므로 귀무가설은 기각\n",
    "\n",
    "# p값을 활용하여 가설검정\n",
    "print(rv.cdf(z))\n",
    "# 유의수준인 0.05보다 작으므로 귀무가설 기각\n",
    "# 따라서 모평균은 130g보다 작다."
   ]
  },
  {
   "cell_type": "code",
   "execution_count": 11,
   "id": "1d0be1a7",
   "metadata": {},
   "outputs": [
    {
     "data": {
      "text/plain": [
       "Text(0, 0.5, 'cdf')"
      ]
     },
     "execution_count": 11,
     "metadata": {},
     "output_type": "execute_result"
    },
    {
     "data": {
      "image/png": "[encoded data removed]",
      "text/plain": [
       "<Figure size 720x432 with 2 Axes>"
      ]
     },
     "metadata": {
      "needs_background": "light"
     },
     "output_type": "display_data"
    }
   ],
   "source": [
    "rv = stats.norm(130,np.sqrt(9/14))\n",
    "fig = plt.figure(figsize=(10,6))\n",
    "ax1 = fig.add_subplot(111)\n",
    "ax2 = ax1.twinx()\n",
    "xs = np.linspace(127,133,60)\n",
    "ax1.plot(xs,rv.pdf(xs))\n",
    "ax2.plot(xs,rv.cdf(xs),color='crimson')\n",
    "ax1.vlines(rv.pdf(0.05),0 , 0.5, color = 'black',ls = '--')\n",
    "ax1.set_xlabel('x',fontsize=20)\n",
    "ax1.set_ylabel('pdf',rotation = 0, fontsize=20)\n",
    "ax2.set_ylabel('cdf',rotation = 0, fontsize=20)\n"
   ]
  },
  {
   "cell_type": "code",
   "execution_count": null,
   "id": "fb233951",
   "metadata": {},
   "outputs": [],
   "source": [
    "귀무가설 = 감튀 무게의 평균은 130g 이다.\n",
    "단측검정 = 감튀 무게의 평균은 130g보다 작을 것이다.\n",
    "양측검정 = 감튀 무게의 평균은 130g이 아니다. (130g보다 작거나 크거나)"
   ]
  },
  {
   "cell_type": "code",
   "execution_count": 13,
   "id": "5d19e46b",
   "metadata": {},
   "outputs": [
    {
     "data": {
      "text/plain": [
       "-1.932298779026813"
      ]
     },
     "execution_count": 13,
     "metadata": {},
     "output_type": "execute_result"
    }
   ],
   "source": [
    "# 양측검정\n",
    "z = (s_mean - 130) / np.sqrt(9/14)\n",
    "z"
   ]
  },
  {
   "cell_type": "code",
   "execution_count": 14,
   "id": "c8402c02",
   "metadata": {},
   "outputs": [
    {
     "data": {
      "text/plain": [
       "(-1.959963984540054, 1.959963984540054)"
      ]
     },
     "execution_count": 14,
     "metadata": {},
     "output_type": "execute_result"
    }
   ],
   "source": [
    "rv = stats.norm()\n",
    "rv.interval(0.95)"
   ]
  },
  {
   "cell_type": "code",
   "execution_count": 17,
   "id": "b9af2d7c",
   "metadata": {},
   "outputs": [
    {
     "data": {
      "text/plain": [
       "0.05332263904625327"
      ]
     },
     "execution_count": 17,
     "metadata": {},
     "output_type": "execute_result"
    }
   ],
   "source": [
    "# 양측검정의 p값은 상단과 하단의 양쪽 면적을 고려해야 하므로 누적밀도함수의 2배로 한다\n",
    "# p값이 0.05 보다 크므로 귀무가설은 기각되지 않는다. '감자튀김 무게의 평균은 130g이 아니다' 라고 말할 수 없다.\n",
    "rv.cdf(z) * 2"
   ]
  },
  {
   "cell_type": "markdown",
   "id": "c0d883f3",
   "metadata": {},
   "source": [
    "### 가설검정에서의 두가지 오류\n",
    "- 제 1종 오류 : 귀무가설이 옳을 때 귀무가설을 기각하는 오류\n",
    " - 실제로 평균이 130g인데도 '모평균은 130g 보다 작다'라는 결론을 내리는 상황\n",
    "- 제 2종 오류 : 대립가설이 옳을 때 귀무가설을 채택하는 오류\n",
    " - 모평균은 130g 보다 작다인데도 '모평균은 130g 보다 작다' 라는 결론을 얻을 수 없는 비율\n",
    "- 통계적 가설검정에서는 제 1종 오류는 제어할 수 있지만 제 2종 오류는 제어할 수 없는 비대칭성이 있다."
   ]
  },
  {
   "cell_type": "markdown",
   "id": "e4e6ce8a",
   "metadata": {},
   "source": [
    "$\\alpha \\beta$"
   ]
  },
  {
   "cell_type": "code",
   "execution_count": 29,
   "id": "dd42fb6c",
   "metadata": {},
   "outputs": [
    {
     "data": {
      "text/plain": [
       "0.052"
      ]
     },
     "execution_count": 29,
     "metadata": {},
     "output_type": "execute_result"
    }
   ],
   "source": [
    "# 제 1종 오류를 범할 비율 : 위험률, 유의수준(𝛼), 분석가가 제어할 수 있는 확률\n",
    "rv = stats.norm(130,3)\n",
    "c = stats.norm().isf(0.95)\n",
    "n_samples = 10000\n",
    "cnt = 0\n",
    "for _ in range(n_samples):\n",
    "    sample_ = np.round(rv.rvs(14),2)\n",
    "    s_mean = np.mean(sample_)\n",
    "    z = (s_mean-130)/np.sqrt(9/14)\n",
    "    if z < c:\n",
    "        cnt += 1\n",
    "cnt / n_samples"
   ]
  },
  {
   "cell_type": "code",
   "execution_count": 24,
   "id": "a0c4d9e0",
   "metadata": {},
   "outputs": [
    {
     "data": {
      "text/plain": [
       "0.1953"
      ]
     },
     "execution_count": 24,
     "metadata": {},
     "output_type": "execute_result"
    }
   ],
   "source": [
    "# 제 2종 오류를 범할 비율 : 검정력(1-𝛽), 제어 불가\n",
    "rv = stats.norm(128,3)\n",
    "c = stats.norm().isf(0.95)\n",
    "n_samples = 10000\n",
    "cnt = 0\n",
    "for _ in range(n_samples):\n",
    "    sample_ = np.round(rv.rvs(14),2)\n",
    "    s_mean = np.mean(sample_)\n",
    "    z = (s_mean-130)/np.sqrt(9/14)\n",
    "    if z >= c:\n",
    "        cnt += 1\n",
    "cnt / n_samples"
   ]
  },
  {
   "cell_type": "markdown",
   "id": "6623f38c",
   "metadata": {},
   "source": [
    "정규분포의 모평균에 대한 검정(모분산을 알고 있음)"
   ]
  },
  {
   "cell_type": "code",
   "execution_count": null,
   "id": "0e863d71",
   "metadata": {},
   "outputs": [],
   "source": [
    "# [과제] 모평균에 대한 검정을 사용자 함수 pmean_test()를 작성하여 감자튀김 사례에 대하여 양측검정으로 수행"
   ]
  },
  {
   "cell_type": "code",
   "execution_count": 30,
   "id": "ec5ec5b7",
   "metadata": {},
   "outputs": [],
   "source": [
    "# 정규분포의 모분산에 대한 검정\n",
    "def pvar_test(sample,var0,alpha=0.05):\n",
    "    u_var = np.var(sample,ddof=1)\n",
    "    n = len(sample)\n",
    "    rv = stats.chi2(df=n-1)\n",
    "    interval = rv.interval(1-alpha)\n",
    "\n",
    "    y = (n-1) * u_var / var0\n",
    "    if interval[0] <= y <= interval[1]:\n",
    "        print('귀무가설 채택')\n",
    "    else:\n",
    "        print('귀무가설  기각')\n",
    "    if y < rv.isf(0.5):\n",
    "        p = rv.cdf(y) * 2\n",
    "    else:\n",
    "        p = (1 - rv.cdf(y)) * 2\n",
    "    print(f'p값은 {p:.3f}')"
   ]
  },
  {
   "cell_type": "code",
   "execution_count": 31,
   "id": "72e111ef",
   "metadata": {},
   "outputs": [
    {
     "name": "stdout",
     "output_type": "stream",
     "text": [
      "귀무가설 채택\n",
      "p값은 0.085\n"
     ]
    }
   ],
   "source": [
    "pvar_test(sample,9)"
   ]
  },
  {
   "cell_type": "markdown",
   "id": "b2fcc2b4",
   "metadata": {},
   "source": [
    " 정규분포의 모평균에 대한 검정(모분산을 알지 못함)"
   ]
  },
  {
   "cell_type": "code",
   "execution_count": 32,
   "id": "c4e93765",
   "metadata": {},
   "outputs": [],
   "source": [
    "def pmean_test(sample, mean0, alpha = 0.05):\n",
    "    s_mean = np.mean(sample)\n",
    "    u_var = np.var(sample,ddof=1)\n",
    "    n = len(sample)\n",
    "    rv = stats.t(df=n-1)\n",
    "    interval = rv.interval(1-alpha)\n",
    "\n",
    "    t = (s_mean-mean0) * np.sqrt(u_var/n)\n",
    "    if interval[0] <= t <= interval[1]:\n",
    "        print('귀무가설 채택')\n",
    "    else:\n",
    "        print('귀무가설  기각')\n",
    "    if t < 0:\n",
    "        p = rv.cdf(t) * 2\n",
    "    else:\n",
    "        p = (1 - rv.cdf(t)) * 2\n",
    "    print(f'p값은 {p:.3f}')"
   ]
  },
  {
   "cell_type": "code",
   "execution_count": 36,
   "id": "6eda741b",
   "metadata": {},
   "outputs": [
    {
     "name": "stdout",
     "output_type": "stream",
     "text": [
      "귀무가설 채택\n",
      "p값은 0.123\n"
     ]
    }
   ],
   "source": [
    "pmean_test(sample,130)"
   ]
  },
  {
   "cell_type": "code",
   "execution_count": null,
   "id": "6222239a",
   "metadata": {},
   "outputs": [],
   "source": [
    "# [과제] 대응표본,독립표본에 대하여 정규분포를 가정하는 경우와 가정할 수 없는 경우의 4가지 유형의 각 사례를 작성\n",
    "정규분포를 가정\n",
    "대응표본 - 같은 시간에 수영을 하는 아침반 사람들이 수영을 한달 한 뒤 체중의 변화가 있는지를 검정\n",
    "독립표본 - 아침반 사람들은 초보자이고 오후반 사람들은 선수반인데 수영을 한달 한 뒤 두반의 체중의 변화가 있는지를 검정\n",
    "\n",
    "정규분포를 가정할 수 없는 경우\n",
    "대응표본 - 윌콕슨의 부호순위검정\n",
    "독립표본 - 윌콕슨의 순위합 검정, 만,위트니의 U검정"
   ]
  },
  {
   "cell_type": "code",
   "execution_count": 39,
   "id": "661ca859",
   "metadata": {},
   "outputs": [
    {
     "name": "stdout",
     "output_type": "stream",
     "text": [
      "(20, 3) \n",
      "     전   후  gap\n",
      "0  59  41  -18\n",
      "1  52  63   11\n",
      "2  55  68   13\n",
      "3  61  59   -2\n",
      "4  59  84   25\n"
     ]
    }
   ],
   "source": [
    "data = pd.read_csv('./data/ch11_training_rel.csv')\n",
    "data['gap'] = data['후'] - data['전']\n",
    "print(data.shape,'\\n',data.head())"
   ]
  },
  {
   "cell_type": "code",
   "execution_count": 40,
   "id": "d9b55e97",
   "metadata": {},
   "outputs": [
    {
     "data": {
      "text/plain": [
       "0.04004419061842953"
      ]
     },
     "execution_count": 40,
     "metadata": {},
     "output_type": "execute_result"
    }
   ],
   "source": [
    "# p값이 유의수준 0.05보다 작으므로 귀무가설을 기각하며 '근력운동은 집중력에 유의한 차이를 가져온다' 라고 할수 있다.\n",
    "t,p = stats.ttest_1samp(data.gap,0)\n",
    "p"
   ]
  },
  {
   "cell_type": "code",
   "execution_count": 44,
   "id": "bc475f25",
   "metadata": {},
   "outputs": [
    {
     "name": "stdout",
     "output_type": "stream",
     "text": [
      "    A   B\n",
      "0  47  49\n",
      "1  50  52\n",
      "2  37  54\n",
      "3  60  48\n",
      "4  39  51\n"
     ]
    }
   ],
   "source": [
    "# 독립표본 t 검정\n",
    "data = pd.read_csv('./data/ch11_training_ind.csv')\n",
    "print(data.head())"
   ]
  },
  {
   "cell_type": "code",
   "execution_count": 45,
   "id": "014f844b",
   "metadata": {},
   "outputs": [
    {
     "data": {
      "text/plain": [
       "0.08695731107259361"
      ]
     },
     "execution_count": 45,
     "metadata": {},
     "output_type": "execute_result"
    }
   ],
   "source": [
    "# p값이 0.05 보다 크므로 귀무가설을 채택하며 ' A학생의 학급과 B학생의 학급사이에는 평균 점수에 유의한 차이가 있다고 말할 수 없다''\n",
    "t,p = stats.ttest_ind(data.A,data.B,equal_var = False)\n",
    "p"
   ]
  },
  {
   "cell_type": "code",
   "execution_count": 46,
   "id": "f4aeff0a",
   "metadata": {},
   "outputs": [],
   "source": [
    "# [과제] 정규분포를 가정할 수 없는 경우 대응표본에 대한 가설검정 수행\n",
    "data = pd.read_csv('./data/ch11_training_rel.csv')\n",
    "data1 = data[:6].copy()"
   ]
  },
  {
   "cell_type": "code",
   "execution_count": null,
   "id": "ec82dec6",
   "metadata": {},
   "outputs": [],
   "source": [
    "# [과제] 정규분포를 가정할 수 없는 경우 독립표본에 대한 가설검정 수행\n",
    "data = pd.read_csv('./data/ch11_training_ind.csv')\n",
    "data2 = data[:5].copy()"
   ]
  },
  {
   "cell_type": "code",
   "execution_count": null,
   "id": "afec4a1c",
   "metadata": {},
   "outputs": [],
   "source": [
    "# [과제] 독립성 검정이 필요한 사례 2가지를 작성하세요"
   ]
  },
  {
   "cell_type": "code",
   "execution_count": 48,
   "id": "4bf29889",
   "metadata": {},
   "outputs": [
    {
     "name": "stdout",
     "output_type": "stream",
     "text": [
      "1000 \n",
      "   광고      구입\n",
      "0  B  하지 않았다\n",
      "1  B  하지 않았다\n",
      "2  A      했다\n",
      "3  A      했다\n",
      "4  B  하지 않았다\n"
     ]
    }
   ],
   "source": [
    "df = pd.read_csv('./data/ch11_ad.csv')\n",
    "print(len(df),'\\n',df.head())"
   ]
  },
  {
   "cell_type": "code",
   "execution_count": null,
   "id": "9fe22ec1",
   "metadata": {},
   "outputs": [],
   "source": [
    "# 기대도수와 관측도수의 차이를 측정해서 검정 수행"
   ]
  },
  {
   "cell_type": "code",
   "execution_count": 51,
   "id": "1414ba09",
   "metadata": {},
   "outputs": [
    {
     "data": {
      "text/html": [
       "<div>\n",
       "<style scoped>\n",
       "    .dataframe tbody tr th:only-of-type {\n",
       "        vertical-align: middle;\n",
       "    }\n",
       "\n",
       "    .dataframe tbody tr th {\n",
       "        vertical-align: top;\n",
       "    }\n",
       "\n",
       "    .dataframe thead th {\n",
       "        text-align: right;\n",
       "    }\n",
       "</style>\n",
       "<table border=\"1\" class=\"dataframe\">\n",
       "  <thead>\n",
       "    <tr style=\"text-align: right;\">\n",
       "      <th>구입</th>\n",
       "      <th>하지 않았다</th>\n",
       "      <th>했다</th>\n",
       "    </tr>\n",
       "    <tr>\n",
       "      <th>광고</th>\n",
       "      <th></th>\n",
       "      <th></th>\n",
       "    </tr>\n",
       "  </thead>\n",
       "  <tbody>\n",
       "    <tr>\n",
       "      <th>A</th>\n",
       "      <td>351</td>\n",
       "      <td>49</td>\n",
       "    </tr>\n",
       "    <tr>\n",
       "      <th>B</th>\n",
       "      <td>549</td>\n",
       "      <td>51</td>\n",
       "    </tr>\n",
       "  </tbody>\n",
       "</table>\n",
       "</div>"
      ],
      "text/plain": [
       "구입  하지 않았다  했다\n",
       "광고            \n",
       "A      351  49\n",
       "B      549  51"
      ]
     },
     "execution_count": 51,
     "metadata": {},
     "output_type": "execute_result"
    }
   ],
   "source": [
    "# 교차 집계표\n",
    "ad_cross = pd.crosstab(df.광고,df.구입)\n",
    "ad_cross"
   ]
  },
  {
   "cell_type": "code",
   "execution_count": 59,
   "id": "f3762db6",
   "metadata": {},
   "outputs": [
    {
     "data": {
      "text/plain": [
       "(3.75, 0.052807511416113395, 1)"
      ]
     },
     "execution_count": 59,
     "metadata": {},
     "output_type": "execute_result"
    }
   ],
   "source": [
    "# p값이 0.05 보다 크므로 귀무가설을 채택하며 광고A와 광고B에 유의미한 차이가 인정되지 않는다고 결론 내릴 수 있다.\n",
    "chi2, p, dof, ef = stats.chi2_contingency(ad_cross,correction=False)\n",
    "chi2,p,dof"
   ]
  },
  {
   "cell_type": "code",
   "execution_count": null,
   "id": "18d74e7c",
   "metadata": {},
   "outputs": [],
   "source": [
    "# [과제] 기대도수와 관측도수의 차이를 측정해서 검정 수행"
   ]
  },
  {
   "cell_type": "code",
   "execution_count": null,
   "id": "90288e16",
   "metadata": {},
   "outputs": [],
   "source": []
  },
  {
   "cell_type": "code",
   "execution_count": null,
   "id": "347990b8",
   "metadata": {},
   "outputs": [],
   "source": []
  },
  {
   "cell_type": "code",
   "execution_count": null,
   "id": "b5710842",
   "metadata": {},
   "outputs": [],
   "source": []
  },
  {
   "cell_type": "code",
   "execution_count": null,
   "id": "20f0d2c0",
   "metadata": {},
   "outputs": [],
   "source": []
  },
  {
   "cell_type": "code",
   "execution_count": null,
   "id": "d365bb0c",
   "metadata": {},
   "outputs": [],
   "source": []
  }
 ],
 "metadata": {
  "kernelspec": {
   "display_name": "Python 3 (ipykernel)",
   "language": "python",
   "name": "python3"
  },
  "language_info": {
   "codemirror_mode": {
    "name": "ipython",
    "version": 3
   },
   "file_extension": ".py",
   "mimetype": "text/x-python",
   "name": "python",
   "nbconvert_exporter": "python",
   "pygments_lexer": "ipython3",
   "version": "3.8.12"
  }
 },
 "nbformat": 4,
 "nbformat_minor": 5
}
