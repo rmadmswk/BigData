{
 "cells": [
  {
   "cell_type": "code",
   "execution_count": 1,
   "id": "77f45f0f",
   "metadata": {},
   "outputs": [
    {
     "name": "stdout",
     "output_type": "stream",
     "text": [
      "Collecting cx_oracle\n",
      "  Downloading cx_Oracle-8.3.0-cp38-cp38-win_amd64.whl (219 kB)\n",
      "Installing collected packages: cx-oracle\n",
      "Successfully installed cx-oracle-8.3.0\n"
     ]
    }
   ],
   "source": [
    "!pip install cx_oracle"
   ]
  },
  {
   "cell_type": "code",
   "execution_count": 2,
   "id": "3ec542cb",
   "metadata": {},
   "outputs": [
    {
     "data": {
      "text/plain": [
       "'(DESCRIPTION=(ADDRESS=(PROTOCOL=TCP)(HOST=localhost)(PORT=1521))(CONNECT_DATA=(SID=xe)))'"
      ]
     },
     "execution_count": 2,
     "metadata": {},
     "output_type": "execute_result"
    }
   ],
   "source": [
    "import cx_Oracle\n",
    "dsn = cx_Oracle.makedsn('localhost',1521,'xe')\n",
    "dsn"
   ]
  },
  {
   "cell_type": "code",
   "execution_count": 3,
   "id": "1899984d",
   "metadata": {},
   "outputs": [
    {
     "data": {
      "text/plain": [
       "<cx_Oracle.Connection to C##CAKD5@(DESCRIPTION=(ADDRESS=(PROTOCOL=TCP)(HOST=localhost)(PORT=1521))(CONNECT_DATA=(SID=xe)))>"
      ]
     },
     "execution_count": 3,
     "metadata": {},
     "output_type": "execute_result"
    }
   ],
   "source": [
    "db = cx_Oracle.connect('C##CAKD5','CAKD5',dsn)\n",
    "db"
   ]
  },
  {
   "cell_type": "code",
   "execution_count": 4,
   "id": "ed74c730",
   "metadata": {},
   "outputs": [
    {
     "data": {
      "text/html": [
       "<div>\n",
       "<style scoped>\n",
       "    .dataframe tbody tr th:only-of-type {\n",
       "        vertical-align: middle;\n",
       "    }\n",
       "\n",
       "    .dataframe tbody tr th {\n",
       "        vertical-align: top;\n",
       "    }\n",
       "\n",
       "    .dataframe thead th {\n",
       "        text-align: right;\n",
       "    }\n",
       "</style>\n",
       "<table border=\"1\" class=\"dataframe\">\n",
       "  <thead>\n",
       "    <tr style=\"text-align: right;\">\n",
       "      <th></th>\n",
       "      <th>BOOKID</th>\n",
       "      <th>BOOKNAME</th>\n",
       "      <th>PUBLISHER</th>\n",
       "      <th>PRICE</th>\n",
       "    </tr>\n",
       "  </thead>\n",
       "  <tbody>\n",
       "    <tr>\n",
       "      <th>0</th>\n",
       "      <td>1</td>\n",
       "      <td>축구의 역사</td>\n",
       "      <td>굿스포츠</td>\n",
       "      <td>7000</td>\n",
       "    </tr>\n",
       "    <tr>\n",
       "      <th>1</th>\n",
       "      <td>2</td>\n",
       "      <td>축구아는 여자</td>\n",
       "      <td>나무수</td>\n",
       "      <td>13000</td>\n",
       "    </tr>\n",
       "    <tr>\n",
       "      <th>2</th>\n",
       "      <td>3</td>\n",
       "      <td>축구의 이해</td>\n",
       "      <td>대한미디어</td>\n",
       "      <td>22000</td>\n",
       "    </tr>\n",
       "    <tr>\n",
       "      <th>3</th>\n",
       "      <td>4</td>\n",
       "      <td>골프 바이블</td>\n",
       "      <td>대한미디어</td>\n",
       "      <td>35000</td>\n",
       "    </tr>\n",
       "    <tr>\n",
       "      <th>4</th>\n",
       "      <td>5</td>\n",
       "      <td>피겨 교본</td>\n",
       "      <td>굿스포츠</td>\n",
       "      <td>8000</td>\n",
       "    </tr>\n",
       "  </tbody>\n",
       "</table>\n",
       "</div>"
      ],
      "text/plain": [
       "   BOOKID BOOKNAME PUBLISHER  PRICE\n",
       "0       1   축구의 역사      굿스포츠   7000\n",
       "1       2  축구아는 여자       나무수  13000\n",
       "2       3   축구의 이해     대한미디어  22000\n",
       "3       4   골프 바이블     대한미디어  35000\n",
       "4       5    피겨 교본      굿스포츠   8000"
      ]
     },
     "execution_count": 4,
     "metadata": {},
     "output_type": "execute_result"
    }
   ],
   "source": [
    "import pandas as pd\n",
    "cursor = db.cursor()\n",
    "cursor.execute('select * from book')\n",
    "x = cursor.fetchall()\n",
    "columns = ['BOOKID','BOOKNAME','PUBLISHER','PRICE']\n",
    "df = pd.DataFrame(x,columns=columns)\n",
    "df.head()"
   ]
  },
  {
   "cell_type": "code",
   "execution_count": 5,
   "id": "641acf08",
   "metadata": {},
   "outputs": [],
   "source": [
    "# create\n",
    "import cx_Oracle\n",
    "con = cx_Oracle.connect('C##CAKD5/CAKD5@localhost:1521/xe')\n",
    "cursor = con.cursor()\n",
    "sql = 'create table sample1(id varchar2(10), score number)'\n",
    "# 생성하고 닫고\n",
    "cursor.execute(sql)\n",
    "cursor.close()\n",
    "# 반영하고 문장닫고\n",
    "con.commit()\n",
    "con.close()"
   ]
  },
  {
   "cell_type": "code",
   "execution_count": 6,
   "id": "f3f3588a",
   "metadata": {},
   "outputs": [],
   "source": [
    "# insert - execute 하나만 넣기\n",
    "def insert(t):\n",
    "    con = cx_Oracle.connect('C##CAKD5/CAKD5@localhost:1521/xe')\n",
    "    cursor = con.cursor()\n",
    "    sql = 'insert into sample1(id, score) values(:1,:2)'\n",
    "    # 생성하고 닫고\n",
    "    cursor.execute(sql,t)\n",
    "    cursor.close()\n",
    "    # 반영하고 문장닫고\n",
    "    con.commit()\n",
    "    con.close()\n",
    "insert(('111',80))"
   ]
  },
  {
   "cell_type": "code",
   "execution_count": 11,
   "id": "644c95b5",
   "metadata": {},
   "outputs": [],
   "source": [
    "# insert - many 여러개 넣기\n",
    "rows =[('112',90),('113',70),('114',75),('115',80),('116',85)]\n",
    "def insertmany(t):\n",
    "    con = cx_Oracle.connect('C##CAKD5/CAKD5@localhost:1521/xe')\n",
    "    cursor = con.cursor()\n",
    "    sql = 'insert into sample1(id, score) values(:1,:2)'\n",
    "    # 생성하고 닫고\n",
    "    cursor.executemany(sql,t)\n",
    "    cursor.close()\n",
    "    # 반영하고 문장닫고\n",
    "    con.commit()\n",
    "    con.close()\n",
    "insertmany(rows)"
   ]
  },
  {
   "cell_type": "code",
   "execution_count": 1,
   "id": "1809b6c3",
   "metadata": {},
   "outputs": [],
   "source": [
    "# 3개의 속성으로 구성되는 테이블 sample2를 생성하고 10개의 데이터를 입력\n",
    "# col에 제약조건 설정\n",
    "# create\n",
    "import cx_Oracle\n",
    "con = cx_Oracle.connect('C##CAKD5/CAKD5@localhost:1521/xe')\n",
    "cursor = con.cursor()\n",
    "sql = 'create table sample2(col01 varchar2(10), col02 number, col03 number,constraint player_pk primary key(col01))'\n",
    "# 생성하고 닫고\n",
    "cursor.execute(sql)\n",
    "cursor.close()\n",
    "# 반영하고 문장닫고\n",
    "con.commit()\n",
    "con.close()"
   ]
  },
  {
   "cell_type": "code",
   "execution_count": 3,
   "id": "73a5efa5",
   "metadata": {},
   "outputs": [],
   "source": [
    "# insert - many 여러개 넣기\n",
    "def insertmany(t):\n",
    "    con = cx_Oracle.connect('C##CAKD5/CAKD5@localhost:1521/xe')\n",
    "    cursor = con.cursor()\n",
    "    sql = 'insert into sample2(col01, col02,col03) values(:1,:2,:3)'\n",
    "    # 생성하고 닫고\n",
    "    cursor.executemany(sql,t)\n",
    "    cursor.close()\n",
    "    # 반영하고 문장닫고\n",
    "    con.commit()\n",
    "    con.close()"
   ]
  },
  {
   "cell_type": "code",
   "execution_count": 4,
   "id": "875de8e8",
   "metadata": {},
   "outputs": [],
   "source": [
    "# 첫번째 col01에 기본키 제약조건을 걸어서 col01의 내용은ㅇ 중복이 되면 안됨\n",
    "rows =[('1',90,1),('2',70,3),('3',75,10),('4',80,5),('5',85,87),\n",
    "      ('10',90,1),('9',70,3),('8',75,10),('7',80,5),('6',85,87)]\n",
    "\n",
    "insertmany(rows)"
   ]
  },
  {
   "cell_type": "code",
   "execution_count": 5,
   "id": "baa36d50",
   "metadata": {},
   "outputs": [],
   "source": [
    "# update \n",
    "def updatecol(t):\n",
    "    con = cx_Oracle.connect('C##CAKD5/CAKD5@localhost:1521/xe')\n",
    "    cursor = con.cursor()\n",
    "    sql = 'update sample2 set col03 = :1 where col01 = :2'\n",
    "    cursor.execute(sql,t)\n",
    "    cursor.close()\n",
    "    con.commit()\n",
    "    con.close()\n",
    "updatecol(('3','1')) # col01이 1일때 col03을 3으로 바꿔라"
   ]
  },
  {
   "cell_type": "code",
   "execution_count": 15,
   "id": "08a277ea",
   "metadata": {},
   "outputs": [],
   "source": [
    "# delete\n",
    "def deletecol(t):\n",
    "    con = cx_Oracle.connect('C##CAKD5/CAKD5@localhost:1521/xe')\n",
    "    cursor = con.cursor()\n",
    "    sql = 'delete from sample2 where col01 = :1'\n",
    "    cursor.execute(sql,t)\n",
    "    cursor.close()\n",
    "    con.commit()\n",
    "    con.close()\n",
    "deletecol(('10',)) # col01의 값이 10인 애들을 전부 삭제 , tuple 형식은 한개를 넣을때는 ,를 붙여야된다."
   ]
  },
  {
   "cell_type": "code",
   "execution_count": 21,
   "id": "e0d01e87",
   "metadata": {},
   "outputs": [
    {
     "data": {
      "text/html": [
       "<div>\n",
       "<style scoped>\n",
       "    .dataframe tbody tr th:only-of-type {\n",
       "        vertical-align: middle;\n",
       "    }\n",
       "\n",
       "    .dataframe tbody tr th {\n",
       "        vertical-align: top;\n",
       "    }\n",
       "\n",
       "    .dataframe thead th {\n",
       "        text-align: right;\n",
       "    }\n",
       "</style>\n",
       "<table border=\"1\" class=\"dataframe\">\n",
       "  <thead>\n",
       "    <tr style=\"text-align: right;\">\n",
       "      <th></th>\n",
       "      <th>COL01</th>\n",
       "      <th>COL02</th>\n",
       "      <th>COL03</th>\n",
       "    </tr>\n",
       "  </thead>\n",
       "  <tbody>\n",
       "    <tr>\n",
       "      <th>0</th>\n",
       "      <td>1</td>\n",
       "      <td>90</td>\n",
       "      <td>3</td>\n",
       "    </tr>\n",
       "    <tr>\n",
       "      <th>1</th>\n",
       "      <td>2</td>\n",
       "      <td>70</td>\n",
       "      <td>3</td>\n",
       "    </tr>\n",
       "    <tr>\n",
       "      <th>2</th>\n",
       "      <td>3</td>\n",
       "      <td>75</td>\n",
       "      <td>10</td>\n",
       "    </tr>\n",
       "    <tr>\n",
       "      <th>3</th>\n",
       "      <td>4</td>\n",
       "      <td>80</td>\n",
       "      <td>5</td>\n",
       "    </tr>\n",
       "    <tr>\n",
       "      <th>4</th>\n",
       "      <td>5</td>\n",
       "      <td>85</td>\n",
       "      <td>87</td>\n",
       "    </tr>\n",
       "  </tbody>\n",
       "</table>\n",
       "</div>"
      ],
      "text/plain": [
       "  COL01  COL02  COL03\n",
       "0     1     90      3\n",
       "1     2     70      3\n",
       "2     3     75     10\n",
       "3     4     80      5\n",
       "4     5     85     87"
      ]
     },
     "execution_count": 21,
     "metadata": {},
     "output_type": "execute_result"
    }
   ],
   "source": [
    "import pandas as pd\n",
    "con = cx_Oracle.connect('C##CAKD5/CAKD5@localhost:1521/xe')\n",
    "cursor = con.cursor()\n",
    "sql = 'select * from sample2'\n",
    "cursor.execute(sql)\n",
    "x = cursor.fetchall()\n",
    "df_col = pd.DataFrame(x)\n",
    "cursor.execute(\"select column_name from user_tab_columns where table_name = 'SAMPLE2'\") # 샘플 대문자로 넣어주세요\n",
    "col = cursor.fetchall() # 가져온거 fetchall로 반영하기\n",
    "list_py = []\n",
    "for i in col:\n",
    "    for j in i:\n",
    "        list_py.append(j)\n",
    "df_col.columns = list_py\n",
    "df_col.head()\n",
    "\n",
    "# col # column 값이 들어는 있지만 출력은 안됨\n",
    "# 겁나 복잡하네"
   ]
  },
  {
   "cell_type": "code",
   "execution_count": 22,
   "id": "ad68929d",
   "metadata": {},
   "outputs": [],
   "source": [
    "df_col.to_csv('./data/col3.csv') # 현재 m5 안에 data 안에 col3를 저장"
   ]
  },
  {
   "cell_type": "code",
   "execution_count": 31,
   "id": "cc08aee0",
   "metadata": {},
   "outputs": [
    {
     "data": {
      "text/plain": [
       "[('1', '90', '3'),\n",
       " ('2', '70', '3'),\n",
       " ('3', '75', '10'),\n",
       " ('4', '80', '5'),\n",
       " ('5', '85', '87'),\n",
       " ('9', '70', '3'),\n",
       " ('8', '75', '10'),\n",
       " ('7', '80', '5'),\n",
       " ('6', '85', '87')]"
      ]
     },
     "execution_count": 31,
     "metadata": {},
     "output_type": "execute_result"
    }
   ],
   "source": [
    "import csv\n",
    "with open('./data/col3.csv','r') as csv_file:\n",
    "    csv_reader = csv.reader(csv_file)\n",
    "    next(csv_reader) # 헤더부분을 뺀 다음부분부터 데이터가 들어감\n",
    "    data = []\n",
    "    for line in csv_reader:\n",
    "        data.append((line[1],line[2],line[3]))\n",
    "data"
   ]
  },
  {
   "cell_type": "code",
   "execution_count": 36,
   "id": "bcf51ec8",
   "metadata": {},
   "outputs": [],
   "source": [
    "con = cx_Oracle.connect('C##CAKD5/CAKD5@localhost:1521/xe')\n",
    "cursor = con.cursor()\n",
    "sql = 'alter table sample2 drop constraint player_pk'\n",
    "cursor.execute(sql)\n",
    "cursor.close()\n",
    "con.commit()\n",
    "con.close()"
   ]
  },
  {
   "cell_type": "code",
   "execution_count": 37,
   "id": "bc5d322c",
   "metadata": {},
   "outputs": [
    {
     "ename": "InterfaceError",
     "evalue": "not open",
     "output_type": "error",
     "traceback": [
      "\u001b[1;31m---------------------------------------------------------------------------\u001b[0m",
      "\u001b[1;31mInterfaceError\u001b[0m                            Traceback (most recent call last)",
      "\u001b[1;32m~\\AppData\\Local\\Temp/ipykernel_7100/3300470747.py\u001b[0m in \u001b[0;36m<module>\u001b[1;34m\u001b[0m\n\u001b[0;32m      8\u001b[0m     \u001b[1;32mfor\u001b[0m \u001b[0mline\u001b[0m \u001b[1;32min\u001b[0m \u001b[0mcsv_reader\u001b[0m\u001b[1;33m:\u001b[0m\u001b[1;33m\u001b[0m\u001b[1;33m\u001b[0m\u001b[0m\n\u001b[0;32m      9\u001b[0m         \u001b[0mdata\u001b[0m\u001b[1;33m.\u001b[0m\u001b[0mappend\u001b[0m\u001b[1;33m(\u001b[0m\u001b[1;33m(\u001b[0m\u001b[0mline\u001b[0m\u001b[1;33m[\u001b[0m\u001b[1;36m1\u001b[0m\u001b[1;33m]\u001b[0m\u001b[1;33m,\u001b[0m\u001b[0mline\u001b[0m\u001b[1;33m[\u001b[0m\u001b[1;36m2\u001b[0m\u001b[1;33m]\u001b[0m\u001b[1;33m,\u001b[0m\u001b[0mline\u001b[0m\u001b[1;33m[\u001b[0m\u001b[1;36m3\u001b[0m\u001b[1;33m]\u001b[0m\u001b[1;33m)\u001b[0m\u001b[1;33m)\u001b[0m\u001b[1;33m\u001b[0m\u001b[1;33m\u001b[0m\u001b[0m\n\u001b[1;32m---> 10\u001b[1;33m     \u001b[0mcursor\u001b[0m\u001b[1;33m.\u001b[0m\u001b[0mexecutemany\u001b[0m\u001b[1;33m(\u001b[0m\u001b[0msql\u001b[0m\u001b[1;33m,\u001b[0m\u001b[0mdata\u001b[0m\u001b[1;33m)\u001b[0m\u001b[1;33m\u001b[0m\u001b[1;33m\u001b[0m\u001b[0m\n\u001b[0m\u001b[0;32m     11\u001b[0m     \u001b[0mcon\u001b[0m\u001b[1;33m.\u001b[0m\u001b[0mcommit\u001b[0m\u001b[1;33m(\u001b[0m\u001b[1;33m)\u001b[0m\u001b[1;33m\u001b[0m\u001b[1;33m\u001b[0m\u001b[0m\n\u001b[0;32m     12\u001b[0m     \u001b[0mcon\u001b[0m\u001b[1;33m.\u001b[0m\u001b[0mclose\u001b[0m\u001b[1;33m(\u001b[0m\u001b[1;33m)\u001b[0m\u001b[1;33m\u001b[0m\u001b[1;33m\u001b[0m\u001b[0m\n",
      "\u001b[1;31mInterfaceError\u001b[0m: not open"
     ]
    }
   ],
   "source": [
    "with open('./data/col3.csv','r') as csv_file:\n",
    "    csv_reader = csv.reader(csv_file)\n",
    "    next(csv_reader) \n",
    "    con = cx_Oracle.connect('C##CAKD5/CAKD5@localhost:1521/xe')\n",
    "    coursor = con.cursor()\n",
    "    sql = 'insert into sample2 (col01,col02,col03) values(:1,:2,:3)'\n",
    "    data = []\n",
    "    for line in csv_reader:\n",
    "        data.append((line[1],line[2],line[3]))\n",
    "    cursor.executemany(sql,data)\n",
    "    con.commit()\n",
    "    con.close()"
   ]
  },
  {
   "cell_type": "code",
   "execution_count": 38,
   "id": "b2df6fb3",
   "metadata": {},
   "outputs": [
    {
     "data": {
      "text/html": [
       "<div>\n",
       "<style scoped>\n",
       "    .dataframe tbody tr th:only-of-type {\n",
       "        vertical-align: middle;\n",
       "    }\n",
       "\n",
       "    .dataframe tbody tr th {\n",
       "        vertical-align: top;\n",
       "    }\n",
       "\n",
       "    .dataframe thead th {\n",
       "        text-align: right;\n",
       "    }\n",
       "</style>\n",
       "<table border=\"1\" class=\"dataframe\">\n",
       "  <thead>\n",
       "    <tr style=\"text-align: right;\">\n",
       "      <th></th>\n",
       "      <th>id</th>\n",
       "      <th>sales</th>\n",
       "    </tr>\n",
       "  </thead>\n",
       "  <tbody>\n",
       "    <tr>\n",
       "      <th>0</th>\n",
       "      <td>0</td>\n",
       "      <td>91</td>\n",
       "    </tr>\n",
       "    <tr>\n",
       "      <th>1</th>\n",
       "      <td>1</td>\n",
       "      <td>78</td>\n",
       "    </tr>\n",
       "    <tr>\n",
       "      <th>2</th>\n",
       "      <td>2</td>\n",
       "      <td>80</td>\n",
       "    </tr>\n",
       "    <tr>\n",
       "      <th>3</th>\n",
       "      <td>3</td>\n",
       "      <td>61</td>\n",
       "    </tr>\n",
       "    <tr>\n",
       "      <th>4</th>\n",
       "      <td>4</td>\n",
       "      <td>40</td>\n",
       "    </tr>\n",
       "  </tbody>\n",
       "</table>\n",
       "</div>"
      ],
      "text/plain": [
       "   id  sales\n",
       "0   0     91\n",
       "1   1     78\n",
       "2   2     80\n",
       "3   3     61\n",
       "4   4     40"
      ]
     },
     "execution_count": 38,
     "metadata": {},
     "output_type": "execute_result"
    }
   ],
   "source": [
    "# 대량 데이터 입력\n",
    "import numpy as np\n",
    "import pandas as pd\n",
    "df = pd.DataFrame()\n",
    "df['id'] = np.arange(10000)\n",
    "df['sales'] = np.random.randint(1,100,size=10000)\n",
    "df.head()"
   ]
  },
  {
   "cell_type": "code",
   "execution_count": 39,
   "id": "080c5dc5",
   "metadata": {},
   "outputs": [
    {
     "name": "stdout",
     "output_type": "stream",
     "text": [
      "<class 'pandas.core.frame.DataFrame'>\n",
      "RangeIndex: 10000 entries, 0 to 9999\n",
      "Data columns (total 2 columns):\n",
      " #   Column  Non-Null Count  Dtype\n",
      "---  ------  --------------  -----\n",
      " 0   id      10000 non-null  int32\n",
      " 1   sales   10000 non-null  int32\n",
      "dtypes: int32(2)\n",
      "memory usage: 78.2 KB\n"
     ]
    }
   ],
   "source": [
    "df.info()"
   ]
  },
  {
   "cell_type": "code",
   "execution_count": null,
   "id": "65b6afa5",
   "metadata": {},
   "outputs": [],
   "source": []
  },
  {
   "cell_type": "code",
   "execution_count": 41,
   "id": "20c577d3",
   "metadata": {},
   "outputs": [
    {
     "ename": "DatabaseError",
     "evalue": "ORA-00942: 테이블 또는 뷰가 존재하지 않습니다",
     "output_type": "error",
     "traceback": [
      "\u001b[1;31m---------------------------------------------------------------------------\u001b[0m",
      "\u001b[1;31mDatabaseError\u001b[0m                             Traceback (most recent call last)",
      "\u001b[1;32m~\\AppData\\Local\\Temp/ipykernel_7100/1927020504.py\u001b[0m in \u001b[0;36m<module>\u001b[1;34m\u001b[0m\n\u001b[0;32m      5\u001b[0m \u001b[1;32mfor\u001b[0m \u001b[0mr\u001b[0m \u001b[1;32min\u001b[0m \u001b[0mdf\u001b[0m\u001b[1;33m:\u001b[0m\u001b[1;33m\u001b[0m\u001b[1;33m\u001b[0m\u001b[0m\n\u001b[0;32m      6\u001b[0m     \u001b[0mdata\u001b[0m\u001b[1;33m.\u001b[0m\u001b[0mappend\u001b[0m\u001b[1;33m(\u001b[0m\u001b[1;33m(\u001b[0m\u001b[0mr\u001b[0m\u001b[1;33m[\u001b[0m\u001b[1;36m0\u001b[0m\u001b[1;33m]\u001b[0m\u001b[1;33m,\u001b[0m\u001b[0mr\u001b[0m\u001b[1;33m[\u001b[0m\u001b[1;36m1\u001b[0m\u001b[1;33m]\u001b[0m\u001b[1;33m)\u001b[0m\u001b[1;33m)\u001b[0m\u001b[1;33m\u001b[0m\u001b[1;33m\u001b[0m\u001b[0m\n\u001b[1;32m----> 7\u001b[1;33m \u001b[0mcursor\u001b[0m\u001b[1;33m.\u001b[0m\u001b[0mexecutemany\u001b[0m\u001b[1;33m(\u001b[0m\u001b[0msql\u001b[0m\u001b[1;33m,\u001b[0m\u001b[0mdata\u001b[0m\u001b[1;33m)\u001b[0m\u001b[1;33m\u001b[0m\u001b[1;33m\u001b[0m\u001b[0m\n\u001b[0m\u001b[0;32m      8\u001b[0m \u001b[0mcursor\u001b[0m\u001b[1;33m.\u001b[0m\u001b[0mclose\u001b[0m\u001b[1;33m(\u001b[0m\u001b[1;33m)\u001b[0m\u001b[1;33m\u001b[0m\u001b[1;33m\u001b[0m\u001b[0m\n\u001b[0;32m      9\u001b[0m \u001b[0mcon\u001b[0m\u001b[1;33m.\u001b[0m\u001b[0mcommit\u001b[0m\u001b[1;33m(\u001b[0m\u001b[1;33m)\u001b[0m\u001b[1;33m\u001b[0m\u001b[1;33m\u001b[0m\u001b[0m\n",
      "\u001b[1;31mDatabaseError\u001b[0m: ORA-00942: 테이블 또는 뷰가 존재하지 않습니다"
     ]
    }
   ],
   "source": [
    "con = cx_Oracle.connect('C##CAKD5/CAKD5@localhost:1521/xe')\n",
    "cursor = con.cursor()\n",
    "sql='insert into sample3 (id,sales) values(:1,:2)'\n",
    "cursor.executemany(sql,results)\n",
    "cursor.close()\n",
    "con.commit()\n",
    "con.close()"
   ]
  },
  {
   "cell_type": "code",
   "execution_count": null,
   "id": "d4e2f404",
   "metadata": {},
   "outputs": [],
   "source": [
    "con = cx_Oracle.connect('C##CAKD5/CAKD5@localhost:1521/xe')\n",
    "cursor = con.cursor()\n",
    "# sql = 'alter talbe sample3 modify id number'\n",
    "sql = 'truncate talbe sample3'\n",
    "cursor.execute(sql)\n",
    "cursor.close()\n",
    "con.commit()\n",
    "con.close()"
   ]
  },
  {
   "cell_type": "markdown",
   "id": "480d6bf0",
   "metadata": {},
   "source": [
    "[과제] employees 테이블을 불러와서 다음사항을 수행하세요.\n",
    "- 컬럼명을 포함하여 employees 테이블을 데이터프레임으로 출력\n",
    "- department_id별 평균 연봉을 출력\n",
    "- 부서별 평균 연봉을 수평 그래프로 시각화\n"
   ]
  },
  {
   "cell_type": "code",
   "execution_count": 58,
   "id": "8b1164ef",
   "metadata": {},
   "outputs": [
    {
     "name": "stdout",
     "output_type": "stream",
     "text": [
      "   EMPLOYEE_ID FIRST_NAME  LAST_NAME     EMAIL  PHONE_NUMBER  HIRE_DATE  \\\n",
      "0          198     Donald   OConnell  DOCONNEL  650.507.9833 2007-06-21   \n",
      "1          199    Douglas      Grant    DGRANT  650.507.9844 2008-01-13   \n",
      "2          200   Jennifer     Whalen   JWHALEN  515.123.4444 2003-09-17   \n",
      "3          201    Michael  Hartstein  MHARTSTE  515.123.5555 2004-02-17   \n",
      "4          202        Pat        Fay      PFAY  603.123.6666 2005-08-17   \n",
      "\n",
      "     JOB_ID   SALARY  COMMISSION_PCT  MANAGER_ID  DEPARTMENT_ID  \n",
      "0  SH_CLERK   2600.0             NaN       124.0           50.0  \n",
      "1  SH_CLERK   2600.0             NaN       124.0           50.0  \n",
      "2   AD_ASST   4400.0             NaN       101.0           10.0  \n",
      "3    MK_MAN  13000.0             NaN       100.0           20.0  \n",
      "4    MK_REP   6000.0             NaN       201.0           20.0  \n"
     ]
    }
   ],
   "source": [
    "import pandas as pd\n",
    "con = cx_Oracle.connect('C##CAKD5/CAKD5@localhost:1521/xe')\n",
    "cursor = con.cursor()\n",
    "sql = 'select * from employees'\n",
    "cursor.execute(sql)\n",
    "x = cursor.fetchall()\n",
    "df_col = pd.DataFrame(x)\n",
    "cursor.execute(\"select column_name from user_tab_columns where table_name = 'EMPLOYEES'\") # 샘플 대문자로 넣어주세요\n",
    "col = cursor.fetchall() # 가져온거 fetchall로 반영하기\n",
    "list_py = []\n",
    "for i in col:\n",
    "    for j in i:\n",
    "        list_py.append(j)\n",
    "df_col.columns = list_py\n",
    "print(df_col.head())"
   ]
  },
  {
   "cell_type": "code",
   "execution_count": 51,
   "id": "386b5deb",
   "metadata": {},
   "outputs": [],
   "source": [
    "df_col.to_csv('./data/df_col2.csv')"
   ]
  },
  {
   "cell_type": "code",
   "execution_count": 75,
   "id": "039c0789",
   "metadata": {},
   "outputs": [
    {
     "data": {
      "text/html": [
       "<div>\n",
       "<style scoped>\n",
       "    .dataframe tbody tr th:only-of-type {\n",
       "        vertical-align: middle;\n",
       "    }\n",
       "\n",
       "    .dataframe tbody tr th {\n",
       "        vertical-align: top;\n",
       "    }\n",
       "\n",
       "    .dataframe thead th {\n",
       "        text-align: right;\n",
       "    }\n",
       "</style>\n",
       "<table border=\"1\" class=\"dataframe\">\n",
       "  <thead>\n",
       "    <tr style=\"text-align: right;\">\n",
       "      <th></th>\n",
       "      <th>Unnamed: 0</th>\n",
       "      <th>EMPLOYEE_ID</th>\n",
       "      <th>FIRST_NAME</th>\n",
       "      <th>LAST_NAME</th>\n",
       "      <th>EMAIL</th>\n",
       "      <th>PHONE_NUMBER</th>\n",
       "      <th>HIRE_DATE</th>\n",
       "      <th>JOB_ID</th>\n",
       "      <th>SALARY</th>\n",
       "      <th>COMMISSION_PCT</th>\n",
       "      <th>MANAGER_ID</th>\n",
       "      <th>DEPARTMENT_ID</th>\n",
       "    </tr>\n",
       "  </thead>\n",
       "  <tbody>\n",
       "    <tr>\n",
       "      <th>0</th>\n",
       "      <td>0</td>\n",
       "      <td>198</td>\n",
       "      <td>Donald</td>\n",
       "      <td>OConnell</td>\n",
       "      <td>DOCONNEL</td>\n",
       "      <td>650.507.9833</td>\n",
       "      <td>2007-06-21</td>\n",
       "      <td>SH_CLERK</td>\n",
       "      <td>2600.0</td>\n",
       "      <td>NaN</td>\n",
       "      <td>124.0</td>\n",
       "      <td>50.0</td>\n",
       "    </tr>\n",
       "    <tr>\n",
       "      <th>1</th>\n",
       "      <td>1</td>\n",
       "      <td>199</td>\n",
       "      <td>Douglas</td>\n",
       "      <td>Grant</td>\n",
       "      <td>DGRANT</td>\n",
       "      <td>650.507.9844</td>\n",
       "      <td>2008-01-13</td>\n",
       "      <td>SH_CLERK</td>\n",
       "      <td>2600.0</td>\n",
       "      <td>NaN</td>\n",
       "      <td>124.0</td>\n",
       "      <td>50.0</td>\n",
       "    </tr>\n",
       "    <tr>\n",
       "      <th>2</th>\n",
       "      <td>2</td>\n",
       "      <td>200</td>\n",
       "      <td>Jennifer</td>\n",
       "      <td>Whalen</td>\n",
       "      <td>JWHALEN</td>\n",
       "      <td>515.123.4444</td>\n",
       "      <td>2003-09-17</td>\n",
       "      <td>AD_ASST</td>\n",
       "      <td>4400.0</td>\n",
       "      <td>NaN</td>\n",
       "      <td>101.0</td>\n",
       "      <td>10.0</td>\n",
       "    </tr>\n",
       "    <tr>\n",
       "      <th>3</th>\n",
       "      <td>3</td>\n",
       "      <td>201</td>\n",
       "      <td>Michael</td>\n",
       "      <td>Hartstein</td>\n",
       "      <td>MHARTSTE</td>\n",
       "      <td>515.123.5555</td>\n",
       "      <td>2004-02-17</td>\n",
       "      <td>MK_MAN</td>\n",
       "      <td>13000.0</td>\n",
       "      <td>NaN</td>\n",
       "      <td>100.0</td>\n",
       "      <td>20.0</td>\n",
       "    </tr>\n",
       "    <tr>\n",
       "      <th>4</th>\n",
       "      <td>4</td>\n",
       "      <td>202</td>\n",
       "      <td>Pat</td>\n",
       "      <td>Fay</td>\n",
       "      <td>PFAY</td>\n",
       "      <td>603.123.6666</td>\n",
       "      <td>2005-08-17</td>\n",
       "      <td>MK_REP</td>\n",
       "      <td>6000.0</td>\n",
       "      <td>NaN</td>\n",
       "      <td>201.0</td>\n",
       "      <td>20.0</td>\n",
       "    </tr>\n",
       "    <tr>\n",
       "      <th>...</th>\n",
       "      <td>...</td>\n",
       "      <td>...</td>\n",
       "      <td>...</td>\n",
       "      <td>...</td>\n",
       "      <td>...</td>\n",
       "      <td>...</td>\n",
       "      <td>...</td>\n",
       "      <td>...</td>\n",
       "      <td>...</td>\n",
       "      <td>...</td>\n",
       "      <td>...</td>\n",
       "      <td>...</td>\n",
       "    </tr>\n",
       "    <tr>\n",
       "      <th>102</th>\n",
       "      <td>102</td>\n",
       "      <td>193</td>\n",
       "      <td>Britney</td>\n",
       "      <td>Everett</td>\n",
       "      <td>BEVERETT</td>\n",
       "      <td>650.501.2876</td>\n",
       "      <td>2005-03-03</td>\n",
       "      <td>SH_CLERK</td>\n",
       "      <td>3900.0</td>\n",
       "      <td>NaN</td>\n",
       "      <td>123.0</td>\n",
       "      <td>50.0</td>\n",
       "    </tr>\n",
       "    <tr>\n",
       "      <th>103</th>\n",
       "      <td>103</td>\n",
       "      <td>194</td>\n",
       "      <td>Samuel</td>\n",
       "      <td>McCain</td>\n",
       "      <td>SMCCAIN</td>\n",
       "      <td>650.501.3876</td>\n",
       "      <td>2006-07-01</td>\n",
       "      <td>SH_CLERK</td>\n",
       "      <td>3200.0</td>\n",
       "      <td>NaN</td>\n",
       "      <td>123.0</td>\n",
       "      <td>50.0</td>\n",
       "    </tr>\n",
       "    <tr>\n",
       "      <th>104</th>\n",
       "      <td>104</td>\n",
       "      <td>195</td>\n",
       "      <td>Vance</td>\n",
       "      <td>Jones</td>\n",
       "      <td>VJONES</td>\n",
       "      <td>650.501.4876</td>\n",
       "      <td>2007-03-17</td>\n",
       "      <td>SH_CLERK</td>\n",
       "      <td>2800.0</td>\n",
       "      <td>NaN</td>\n",
       "      <td>123.0</td>\n",
       "      <td>50.0</td>\n",
       "    </tr>\n",
       "    <tr>\n",
       "      <th>105</th>\n",
       "      <td>105</td>\n",
       "      <td>196</td>\n",
       "      <td>Alana</td>\n",
       "      <td>Walsh</td>\n",
       "      <td>AWALSH</td>\n",
       "      <td>650.507.9811</td>\n",
       "      <td>2006-04-24</td>\n",
       "      <td>SH_CLERK</td>\n",
       "      <td>3100.0</td>\n",
       "      <td>NaN</td>\n",
       "      <td>124.0</td>\n",
       "      <td>50.0</td>\n",
       "    </tr>\n",
       "    <tr>\n",
       "      <th>106</th>\n",
       "      <td>106</td>\n",
       "      <td>197</td>\n",
       "      <td>Kevin</td>\n",
       "      <td>Feeney</td>\n",
       "      <td>KFEENEY</td>\n",
       "      <td>650.507.9822</td>\n",
       "      <td>2006-05-23</td>\n",
       "      <td>SH_CLERK</td>\n",
       "      <td>3000.0</td>\n",
       "      <td>NaN</td>\n",
       "      <td>124.0</td>\n",
       "      <td>50.0</td>\n",
       "    </tr>\n",
       "  </tbody>\n",
       "</table>\n",
       "<p>107 rows × 12 columns</p>\n",
       "</div>"
      ],
      "text/plain": [
       "     Unnamed: 0  EMPLOYEE_ID FIRST_NAME  LAST_NAME     EMAIL  PHONE_NUMBER  \\\n",
       "0             0          198     Donald   OConnell  DOCONNEL  650.507.9833   \n",
       "1             1          199    Douglas      Grant    DGRANT  650.507.9844   \n",
       "2             2          200   Jennifer     Whalen   JWHALEN  515.123.4444   \n",
       "3             3          201    Michael  Hartstein  MHARTSTE  515.123.5555   \n",
       "4             4          202        Pat        Fay      PFAY  603.123.6666   \n",
       "..          ...          ...        ...        ...       ...           ...   \n",
       "102         102          193    Britney    Everett  BEVERETT  650.501.2876   \n",
       "103         103          194     Samuel     McCain   SMCCAIN  650.501.3876   \n",
       "104         104          195      Vance      Jones    VJONES  650.501.4876   \n",
       "105         105          196      Alana      Walsh    AWALSH  650.507.9811   \n",
       "106         106          197      Kevin     Feeney   KFEENEY  650.507.9822   \n",
       "\n",
       "      HIRE_DATE    JOB_ID   SALARY  COMMISSION_PCT  MANAGER_ID  DEPARTMENT_ID  \n",
       "0    2007-06-21  SH_CLERK   2600.0             NaN       124.0           50.0  \n",
       "1    2008-01-13  SH_CLERK   2600.0             NaN       124.0           50.0  \n",
       "2    2003-09-17   AD_ASST   4400.0             NaN       101.0           10.0  \n",
       "3    2004-02-17    MK_MAN  13000.0             NaN       100.0           20.0  \n",
       "4    2005-08-17    MK_REP   6000.0             NaN       201.0           20.0  \n",
       "..          ...       ...      ...             ...         ...            ...  \n",
       "102  2005-03-03  SH_CLERK   3900.0             NaN       123.0           50.0  \n",
       "103  2006-07-01  SH_CLERK   3200.0             NaN       123.0           50.0  \n",
       "104  2007-03-17  SH_CLERK   2800.0             NaN       123.0           50.0  \n",
       "105  2006-04-24  SH_CLERK   3100.0             NaN       124.0           50.0  \n",
       "106  2006-05-23  SH_CLERK   3000.0             NaN       124.0           50.0  \n",
       "\n",
       "[107 rows x 12 columns]"
      ]
     },
     "execution_count": 75,
     "metadata": {},
     "output_type": "execute_result"
    }
   ],
   "source": [
    "a = pd.read_csv('./data/df_col2.csv')\n",
    "a"
   ]
  },
  {
   "cell_type": "code",
   "execution_count": 80,
   "id": "07f37bf7",
   "metadata": {},
   "outputs": [
    {
     "data": {
      "text/html": [
       "<div>\n",
       "<style scoped>\n",
       "    .dataframe tbody tr th:only-of-type {\n",
       "        vertical-align: middle;\n",
       "    }\n",
       "\n",
       "    .dataframe tbody tr th {\n",
       "        vertical-align: top;\n",
       "    }\n",
       "\n",
       "    .dataframe thead th {\n",
       "        text-align: right;\n",
       "    }\n",
       "</style>\n",
       "<table border=\"1\" class=\"dataframe\">\n",
       "  <thead>\n",
       "    <tr style=\"text-align: right;\">\n",
       "      <th></th>\n",
       "      <th>mean</th>\n",
       "    </tr>\n",
       "    <tr>\n",
       "      <th>DEPARTMENT_ID</th>\n",
       "      <th></th>\n",
       "    </tr>\n",
       "  </thead>\n",
       "  <tbody>\n",
       "    <tr>\n",
       "      <th>10.0</th>\n",
       "      <td>4400.000000</td>\n",
       "    </tr>\n",
       "    <tr>\n",
       "      <th>20.0</th>\n",
       "      <td>9500.000000</td>\n",
       "    </tr>\n",
       "    <tr>\n",
       "      <th>30.0</th>\n",
       "      <td>4150.000000</td>\n",
       "    </tr>\n",
       "    <tr>\n",
       "      <th>40.0</th>\n",
       "      <td>6500.000000</td>\n",
       "    </tr>\n",
       "    <tr>\n",
       "      <th>50.0</th>\n",
       "      <td>3475.555556</td>\n",
       "    </tr>\n",
       "    <tr>\n",
       "      <th>60.0</th>\n",
       "      <td>5760.000000</td>\n",
       "    </tr>\n",
       "    <tr>\n",
       "      <th>70.0</th>\n",
       "      <td>10000.000000</td>\n",
       "    </tr>\n",
       "    <tr>\n",
       "      <th>80.0</th>\n",
       "      <td>8955.882353</td>\n",
       "    </tr>\n",
       "    <tr>\n",
       "      <th>90.0</th>\n",
       "      <td>19333.333333</td>\n",
       "    </tr>\n",
       "    <tr>\n",
       "      <th>100.0</th>\n",
       "      <td>8601.333333</td>\n",
       "    </tr>\n",
       "    <tr>\n",
       "      <th>110.0</th>\n",
       "      <td>10154.000000</td>\n",
       "    </tr>\n",
       "  </tbody>\n",
       "</table>\n",
       "</div>"
      ],
      "text/plain": [
       "                       mean\n",
       "DEPARTMENT_ID              \n",
       "10.0            4400.000000\n",
       "20.0            9500.000000\n",
       "30.0            4150.000000\n",
       "40.0            6500.000000\n",
       "50.0            3475.555556\n",
       "60.0            5760.000000\n",
       "70.0           10000.000000\n",
       "80.0            8955.882353\n",
       "90.0           19333.333333\n",
       "100.0           8601.333333\n",
       "110.0          10154.000000"
      ]
     },
     "execution_count": 80,
     "metadata": {},
     "output_type": "execute_result"
    }
   ],
   "source": [
    "# pd.pivot_table(a,index='mean',columns='DEPARTMENT_ID',aggfunc=np.mean())['SALARY']\n",
    "# 부서 아이디별 평균 연봉\n",
    "b = a.groupby(['DEPARTMENT_ID']).aggregate([np.mean])['SALARY']\n",
    "b"
   ]
  },
  {
   "cell_type": "code",
   "execution_count": 82,
   "id": "44357a0c",
   "metadata": {},
   "outputs": [
    {
     "data": {
      "text/plain": [
       "<AxesSubplot:ylabel='DEPARTMENT_ID'>"
      ]
     },
     "execution_count": 82,
     "metadata": {},
     "output_type": "execute_result"
    },
    {
     "data": {
      "image/png": "[encoded data removed]",
      "text/plain": [
       "<Figure size 432x288 with 1 Axes>"
      ]
     },
     "metadata": {
      "needs_background": "light"
     },
     "output_type": "display_data"
    }
   ],
   "source": [
    "# 부서별 평균 연봉을 수평 그래프로 시각화\n",
    "import numpy as np\n",
    "import pandas as pd\n",
    "b.plot(kind='barh')"
   ]
  },
  {
   "cell_type": "markdown",
   "id": "dca5a46d",
   "metadata": {},
   "source": [
    "[과제] PURPROD 테이블을 불러와서 다음사항을 수행하세요.\n",
    "\n",
    "데이터프레임으로 출력\n",
    "- 고객별 2014년 2015년 총구매액 및 평균구매액 출력\n",
    "- 고객별 2014 VS 2015 총구매액 기준 성장율\n"
   ]
  },
  {
   "cell_type": "code",
   "execution_count": null,
   "id": "4e91c6b1",
   "metadata": {},
   "outputs": [],
   "source": []
  },
  {
   "cell_type": "code",
   "execution_count": null,
   "id": "00b60ec4",
   "metadata": {},
   "outputs": [],
   "source": []
  },
  {
   "cell_type": "code",
   "execution_count": null,
   "id": "bbb6d7ca",
   "metadata": {},
   "outputs": [],
   "source": []
  }
 ],
 "metadata": {
  "kernelspec": {
   "display_name": "Python 3 (ipykernel)",
   "language": "python",
   "name": "python3"
  },
  "language_info": {
   "codemirror_mode": {
    "name": "ipython",
    "version": 3
   },
   "file_extension": ".py",
   "mimetype": "text/x-python",
   "name": "python",
   "nbconvert_exporter": "python",
   "pygments_lexer": "ipython3",
   "version": "3.8.12"
  }
 },
 "nbformat": 4,
 "nbformat_minor": 5
}
