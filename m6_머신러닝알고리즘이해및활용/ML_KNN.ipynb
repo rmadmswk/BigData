{
 "cells": [
  {
   "cell_type": "markdown",
   "id": "df9172e6",
   "metadata": {},
   "source": [
    "https://velog.io/@jhlee508/%EB%A8%B8%EC%8B%A0%EB%9F%AC%EB%8B%9D-KNNK-Nearest-Neighbor-%EC%95%8C%EA%B3%A0%EB%A6%AC%EC%A6%98\n"
   ]
  },
  {
   "cell_type": "code",
   "execution_count": 2,
   "id": "75cc3cad",
   "metadata": {},
   "outputs": [],
   "source": [
    "import pandas as pd\n",
    "from sklearn import preprocessing\n",
    "from sklearn.model_selection import train_test_split\n",
    "\n",
    "t_df = pd.read_pickle('./dataset/t_df.pkl')\n",
    "\n",
    "X = t_df.drop('survived',axis=1)\n",
    "y = t_df['survived']\n",
    "\n",
    "X = preprocessing.StandardScaler().fit(X).transform(X)\n",
    "\n",
    "X_train, X_test, y_train, y_test = train_test_split(X,y,test_size=0.2,random_state=10)"
   ]
  },
  {
   "cell_type": "code",
   "execution_count": 3,
   "id": "5c676d6f",
   "metadata": {},
   "outputs": [
    {
     "name": "stdout",
     "output_type": "stream",
     "text": [
      "KNN 예측 정확도: 0.767175572519084\n"
     ]
    }
   ],
   "source": [
    "from sklearn.metrics import accuracy_score\n",
    "from sklearn.neighbors import KNeighborsClassifier\n",
    "\n",
    "k_model = KNeighborsClassifier(n_neighbors=5)\n",
    "k_model.fit(X_train,y_train)\n",
    "k_pred = k_model.predict(X_test)\n",
    "\n",
    "k_accuracy = accuracy_score(y_test,k_pred)\n",
    "print('KNN 예측 정확도:', k_accuracy)"
   ]
  }
 ],
 "metadata": {
  "kernelspec": {
   "display_name": "Python 3 (ipykernel)",
   "language": "python",
   "name": "python3"
  },
  "language_info": {
   "codemirror_mode": {
    "name": "ipython",
    "version": 3
   },
   "file_extension": ".py",
   "mimetype": "text/x-python",
   "name": "python",
   "nbconvert_exporter": "python",
   "pygments_lexer": "ipython3",
   "version": "3.8.12"
  }
 },
 "nbformat": 4,
 "nbformat_minor": 5
}
