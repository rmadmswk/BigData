{
 "cells": [
  {
   "cell_type": "markdown",
   "id": "d4ccac96",
   "metadata": {},
   "source": [
    "캐글 신용카드 거래내용이 포함된 데이터 셋을 아래 사이트에서 다운받아 다음 사항을 수행하세요.\n",
    "\n",
    "https://www.kaggle.com/mlg-ulb/creditcardfraud\n",
    "\n",
    "데이터 설명<br>\n",
    "데이터 세트에는 유럽 카드 소지자가 2013년 9월에 신용 카드로 거래한 내용이 포함되어 있습니다.\n",
    "이 데이터 세트는 284,807건의 거래 중 492건의 사기가 발생한 이틀 동안 발생한 거래를 보여줍니다. 데이터 세트는 매우 불균형하며 긍정적 클래스(사기)는 모든 거래의 0.172%를 차지합니다.\n",
    "\n",
    "여기에는 PCA 변환의 결과인 숫자 입력 변수만 포함됩니다. 안타깝게도 기밀 문제로 인해 데이터에 대한 원래 기능과 추가 배경 정보를 제공할 수 없습니다. 기능 V1, V2, … V28은 PCA로 얻은 주요 구성 요소이며 PCA로 변환되지 않은 유일한 기능은 '시간'과 '양'입니다. 기능 '시간'에는 각 트랜잭션과 데이터 세트의 첫 번째 트랜잭션 사이에 경과된 초가 포함됩니다. 'Amount' 기능은 거래 금액이며, 이 기능은 예제 종속 비용에 민감한 학습에 사용할 수 있습니다. 기능 'Class'는 응답 변수이며 사기의 경우 값 1, 그렇지 않은 경우 0을 취합니다.\n",
    "\n",
    "- 데이터 전처리 후 로지스틱 리그레션을 적용한 모델 학습 및 평가(정확도, 정밀도, 재현율, F1 score, AUC)\n",
    "- Amount 피처를 정규분포 및 로그 변환 후 모델 학습 및 평가\n",
    "- 상관성이 높은 피처 한개를 선택하여 이상치 데이터 제거 후 모델 학습 및 평가\n",
    "- SMOTE 오버 샘플링 적용 후 모델 학습 및 평가\n",
    "- SMOTE 적용 시 인사이트 요약"
   ]
  },
  {
   "cell_type": "code",
   "execution_count": 1,
   "id": "fcfc75ec",
   "metadata": {},
   "outputs": [
    {
     "name": "stdout",
     "output_type": "stream",
     "text": [
      "Collecting imbalanced-learn\n",
      "  Downloading imbalanced_learn-0.9.0-py3-none-any.whl (199 kB)\n",
      "Requirement already satisfied: threadpoolctl>=2.0.0 in c:\\users\\admin\\anaconda3\\envs\\cakd5\\lib\\site-packages (from imbalanced-learn) (3.0.0)\n",
      "Requirement already satisfied: scipy>=1.1.0 in c:\\users\\admin\\anaconda3\\envs\\cakd5\\lib\\site-packages (from imbalanced-learn) (1.7.3)\n",
      "Requirement already satisfied: scikit-learn>=1.0.1 in c:\\users\\admin\\anaconda3\\envs\\cakd5\\lib\\site-packages (from imbalanced-learn) (1.0.2)\n",
      "Requirement already satisfied: numpy>=1.14.6 in c:\\users\\admin\\anaconda3\\envs\\cakd5\\lib\\site-packages (from imbalanced-learn) (1.21.2)\n",
      "Requirement already satisfied: joblib>=0.11 in c:\\users\\admin\\anaconda3\\envs\\cakd5\\lib\\site-packages (from imbalanced-learn) (1.1.0)\n",
      "Installing collected packages: imbalanced-learn\n",
      "Successfully installed imbalanced-learn-0.9.0\n"
     ]
    }
   ],
   "source": [
    "!pip install imbalanced-learn"
   ]
  }
 ],
 "metadata": {
  "kernelspec": {
   "display_name": "Python 3 (ipykernel)",
   "language": "python",
   "name": "python3"
  },
  "language_info": {
   "codemirror_mode": {
    "name": "ipython",
    "version": 3
   },
   "file_extension": ".py",
   "mimetype": "text/x-python",
   "name": "python",
   "nbconvert_exporter": "python",
   "pygments_lexer": "ipython3",
   "version": "3.8.12"
  }
 },
 "nbformat": 4,
 "nbformat_minor": 5
}
