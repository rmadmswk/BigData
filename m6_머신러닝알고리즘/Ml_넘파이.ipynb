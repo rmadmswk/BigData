{
 "cells": [
  {
   "cell_type": "code",
   "execution_count": 5,
   "id": "0f1823d7",
   "metadata": {},
   "outputs": [
    {
     "name": "stdout",
     "output_type": "stream",
     "text": [
      "[1 2 3] <class 'numpy.ndarray'> (3,)\n",
      "[[1 2 3]\n",
      " [2 3 4]] <class 'numpy.ndarray'> (2, 3)\n",
      "[[[1 2 3]]] <class 'numpy.ndarray'> (1, 1, 3)\n"
     ]
    }
   ],
   "source": [
    "import numpy as np\n",
    "array1 = np.array([1,2,3])\n",
    "array2 = np.array([[1,2,3],\n",
    "                 [2,3,4]])\n",
    "array3 = np.array([[[1,2,3]]])\n",
    "print(array1,type(array1),array1.shape)\n",
    "print(array2,type(array2),array2.shape)\n",
    "print(array3,type(array3),array3.shape)"
   ]
  },
  {
   "cell_type": "code",
   "execution_count": 7,
   "id": "f8936502",
   "metadata": {},
   "outputs": [
    {
     "name": "stdout",
     "output_type": "stream",
     "text": [
      "float64\n",
      "int32\n"
     ]
    }
   ],
   "source": [
    "array_int = np.array([1,2,3])\n",
    "array_float = array_int.astype('float64')\n",
    "print(array_float.dtype)\n",
    "array_int2 = array_float.astype('int32')\n",
    "print(array_int2.dtype)"
   ]
  },
  {
   "cell_type": "code",
   "execution_count": 9,
   "id": "cc837dcf",
   "metadata": {},
   "outputs": [
    {
     "name": "stdout",
     "output_type": "stream",
     "text": [
      "[[0 0]\n",
      " [0 0]\n",
      " [0 0]]\n"
     ]
    }
   ],
   "source": [
    "zero_array = np.zeros((3,2),dtype='int32')\n",
    "print(zero_array)"
   ]
  },
  {
   "cell_type": "code",
   "execution_count": 10,
   "id": "f739f786",
   "metadata": {},
   "outputs": [
    {
     "name": "stdout",
     "output_type": "stream",
     "text": [
      "[[1. 1.]\n",
      " [1. 1.]\n",
      " [1. 1.]] float64\n"
     ]
    }
   ],
   "source": [
    "one_array = np.ones((3,2))\n",
    "print(one_array,one_array.dtype)"
   ]
  },
  {
   "cell_type": "code",
   "execution_count": 11,
   "id": "7bdfcb95",
   "metadata": {},
   "outputs": [
    {
     "name": "stdout",
     "output_type": "stream",
     "text": [
      "[0 1 2 3 4 5 6 7 8 9] (10,)\n"
     ]
    }
   ],
   "source": [
    "# reshape : 1 -> 2,3차원\n",
    "ar1 = np.arange(10)\n",
    "print(ar1,ar1.shape)"
   ]
  },
  {
   "cell_type": "code",
   "execution_count": 12,
   "id": "7a707277",
   "metadata": {},
   "outputs": [
    {
     "name": "stdout",
     "output_type": "stream",
     "text": [
      "[0 1 2 3 4 5 6 7 8 9] \n",
      "\n",
      "[[0 1 2 3 4]\n",
      " [5 6 7 8 9]] \n",
      "\n",
      "[[[0 1 2 3 4]\n",
      "  [5 6 7 8 9]]]\n"
     ]
    }
   ],
   "source": [
    "print(ar1,'\\n')\n",
    "print(ar1.reshape(2,5),'\\n')\n",
    "print(ar1.reshape(1,2,5))"
   ]
  },
  {
   "cell_type": "code",
   "execution_count": null,
   "id": "420f2d10",
   "metadata": {},
   "outputs": [],
   "source": [
    "# reshape, -1"
   ]
  },
  {
   "cell_type": "code",
   "execution_count": 14,
   "id": "c04196fe",
   "metadata": {},
   "outputs": [
    {
     "name": "stdout",
     "output_type": "stream",
     "text": [
      "[0 1 2 3 4 5 6 7 8 9] (10,)\n",
      "[[0 1 2 3 4]\n",
      " [5 6 7 8 9]]\n",
      "[[[0 1 2 3 4]\n",
      "  [5 6 7 8 9]]]\n"
     ]
    }
   ],
   "source": [
    "ar1 = np.arange(10)\n",
    "print(ar1,ar1.shape)\n",
    "print(ar1.reshape(2,-1))\n",
    "print(ar1.reshape(-1,2,5))"
   ]
  },
  {
   "cell_type": "code",
   "execution_count": 13,
   "id": "ce8bef3e",
   "metadata": {},
   "outputs": [
    {
     "data": {
      "text/plain": [
       "array([[[0, 1],\n",
       "        [2, 3]],\n",
       "\n",
       "       [[4, 5],\n",
       "        [6, 7]]])"
      ]
     },
     "execution_count": 13,
     "metadata": {},
     "output_type": "execute_result"
    }
   ],
   "source": [
    "# 3차원 -> 2,1차원\n",
    "ar3 = np.arange(8).reshape((2,2,2))\n",
    "ar3"
   ]
  },
  {
   "cell_type": "code",
   "execution_count": 15,
   "id": "1664f17e",
   "metadata": {},
   "outputs": [
    {
     "name": "stdout",
     "output_type": "stream",
     "text": [
      "[[[0 1]\n",
      "  [2 3]]\n",
      "\n",
      " [[4 5]\n",
      "  [6 7]]] (2, 2, 2)\n",
      "[[0 1]\n",
      " [2 3]\n",
      " [4 5]\n",
      " [6 7]] (4, 2)\n",
      "[0 1 2 3 4 5 6 7] (8,)\n"
     ]
    }
   ],
   "source": [
    "ar3 = np.arange(8).reshape((2,2,2))\n",
    "ar2 = ar3.reshape(-1,2)\n",
    "ar1 = ar3.reshape(-1,)\n",
    "print(ar3, ar3.shape)\n",
    "print(ar2, ar2.shape)\n",
    "print(ar1, ar1.shape)"
   ]
  },
  {
   "cell_type": "code",
   "execution_count": 20,
   "id": "5bd2d5ea",
   "metadata": {},
   "outputs": [
    {
     "name": "stdout",
     "output_type": "stream",
     "text": [
      "[1 2 3 4 5 6 7 8 9]\n",
      "2\n",
      "9\n",
      "7\n"
     ]
    }
   ],
   "source": [
    "# indexing\n",
    "ar1 = np.arange(1,10)\n",
    "print(ar1)\n",
    "value = ar1[1]\n",
    "print(value)\n",
    "print(ar1[-1])\n",
    "print(ar1[-3])"
   ]
  },
  {
   "cell_type": "code",
   "execution_count": 22,
   "id": "c0035fe1",
   "metadata": {},
   "outputs": [
    {
     "name": "stdout",
     "output_type": "stream",
     "text": [
      "[[1 2 3]\n",
      " [4 5 6]\n",
      " [7 8 9]]\n",
      "1\n",
      "2\n",
      "4\n",
      "9\n"
     ]
    }
   ],
   "source": [
    "ar2d = np.arange(1,10).reshape(3,3)\n",
    "print(ar2d)\n",
    "print(ar2d[0,0])\n",
    "print(ar2d[0,1])\n",
    "print(ar2d[1,0])\n",
    "print(ar2d[2,2])"
   ]
  },
  {
   "cell_type": "code",
   "execution_count": 24,
   "id": "020024a7",
   "metadata": {},
   "outputs": [
    {
     "name": "stdout",
     "output_type": "stream",
     "text": [
      "[ 1  2  3  4  5  6  7  8  9 10 11 12 13 14 15 16 17 18 19]\n",
      "[4 5 6]\n",
      "[16 17 18]\n"
     ]
    }
   ],
   "source": [
    "# slicing\n",
    "ar1 = np.arange(1,20)\n",
    "print(ar1)\n",
    "print(ar1[3:6])\n",
    "print(ar1[-4:-1])"
   ]
  },
  {
   "cell_type": "code",
   "execution_count": 32,
   "id": "51d332f1",
   "metadata": {},
   "outputs": [
    {
     "name": "stdout",
     "output_type": "stream",
     "text": [
      "[[1 2 3]\n",
      " [4 5 6]\n",
      " [7 8 9]]\n",
      "[[1 2]\n",
      " [4 5]]\n",
      "[[4 5 6]\n",
      " [7 8 9]]\n",
      "[[4 5 6]\n",
      " [7 8 9]]\n",
      "[[2 3]\n",
      " [5 6]]\n",
      "[[1]\n",
      " [4]]\n",
      "[1 4]\n"
     ]
    }
   ],
   "source": [
    "ar2d = np.arange(1,10).reshape(3,3)\n",
    "print(ar2d)\n",
    "print(ar2d[:2,:2])\n",
    "print(ar2d[1:3,:])\n",
    "print(ar2d[1:3,0:3])\n",
    "print(ar2d[:2,1:])\n",
    "print(ar2d[:2,:1])\n",
    "print(ar2d[:2,0])"
   ]
  },
  {
   "cell_type": "code",
   "execution_count": 39,
   "id": "c2b7d2a1",
   "metadata": {},
   "outputs": [
    {
     "name": "stdout",
     "output_type": "stream",
     "text": [
      "[[1 2 3]\n",
      " [4 5 6]\n",
      " [7 8 9]]\n",
      "[3 6]\n",
      "[[1 2]\n",
      " [4 5]]\n",
      "[[1 2 3]\n",
      " [4 5 6]]\n"
     ]
    }
   ],
   "source": [
    "# fancy indexing\n",
    "ar2 = np.arange(1,10).reshape(3,3)\n",
    "print(ar2)\n",
    "print(ar2[[0,1],2])\n",
    "print(ar1[[0,1],:2])\n",
    "print(ar2[[0,1]])"
   ]
  },
  {
   "cell_type": "code",
   "execution_count": 34,
   "id": "ceb0e7ef",
   "metadata": {},
   "outputs": [
    {
     "name": "stdout",
     "output_type": "stream",
     "text": [
      "[1 2 3 4 5 6 7 8 9]\n",
      "[6 7 8 9]\n"
     ]
    }
   ],
   "source": [
    "# boolean indexing\n",
    "ar1 = np.arange(1,10)\n",
    "print(ar1)\n",
    "print(ar1[5:])"
   ]
  },
  {
   "cell_type": "code",
   "execution_count": 44,
   "id": "0dfaee75",
   "metadata": {},
   "outputs": [
    {
     "name": "stdout",
     "output_type": "stream",
     "text": [
      "[3 1 9 5]\n",
      "[1 3 5 9]\n",
      "[3 1 9 5]\n",
      "None\n",
      "[1 3 5 9]\n"
     ]
    }
   ],
   "source": [
    "# np.sort() : 원본 미반영\n",
    "ar = np.array([3,1,9,5])\n",
    "print(ar)\n",
    "sort_ar = np.sort(ar)\n",
    "print(sort_ar)\n",
    "# ndarray.sort() : 원본 반영\n",
    "print(ar)\n",
    "sort_ar1 = ar.sort()\n",
    "print(sort_ar1)\n",
    "print(ar)"
   ]
  },
  {
   "cell_type": "code",
   "execution_count": 45,
   "id": "df4a28d2",
   "metadata": {},
   "outputs": [
    {
     "name": "stdout",
     "output_type": "stream",
     "text": [
      "[9 5 3 1]\n"
     ]
    }
   ],
   "source": [
    "# 내림차순\n",
    "sort_ar_desc = np.sort(ar)[::-1]\n",
    "print(sort_ar_desc)"
   ]
  },
  {
   "cell_type": "code",
   "execution_count": 49,
   "id": "a4677e72",
   "metadata": {},
   "outputs": [
    {
     "name": "stdout",
     "output_type": "stream",
     "text": [
      "[[ 8 12]\n",
      " [ 7  1]]\n",
      "[[ 7  1]\n",
      " [ 8 12]]\n",
      "[[ 8 12]\n",
      " [ 1  7]]\n"
     ]
    }
   ],
   "source": [
    "ar2 = np.array([[8,12],\n",
    "               [7,1]])\n",
    "print(ar2)\n",
    "sort_ar2_axis0 = np.sort(ar2,axis=0)\n",
    "print(sort_ar2_axis0)\n",
    "sort_ar2_axis1 = np.sort(ar2,axis=1)\n",
    "print(sort_ar2_axis1)"
   ]
  },
  {
   "cell_type": "code",
   "execution_count": 52,
   "id": "06252286",
   "metadata": {},
   "outputs": [
    {
     "name": "stdout",
     "output_type": "stream",
     "text": [
      "[3 1 9 5]\n",
      "[1 0 3 2]\n"
     ]
    }
   ],
   "source": [
    "# 정렬 행렬의 인덱스 반환\n",
    "ar = np.array([3,1,9,5])\n",
    "print(ar)\n",
    "sort_indices = np.argsort(ar)\n",
    "print(sort_indices)"
   ]
  },
  {
   "cell_type": "code",
   "execution_count": 54,
   "id": "af964eac",
   "metadata": {},
   "outputs": [],
   "source": [
    "# 행렬 내적\n",
    "\n",
    "a = np.array([[1,2,3],\n",
    "             [4,5,6]])\n",
    "b = np.array([[7,8],\n",
    "             [9,10],\n",
    "             [11,12]])\n"
   ]
  },
  {
   "cell_type": "code",
   "execution_count": 55,
   "id": "12ecfe7d",
   "metadata": {},
   "outputs": [
    {
     "data": {
      "text/plain": [
       "array([[ 58,  64],\n",
       "       [139, 154]])"
      ]
     },
     "execution_count": 55,
     "metadata": {},
     "output_type": "execute_result"
    }
   ],
   "source": [
    "np.dot(a,b)"
   ]
  },
  {
   "cell_type": "code",
   "execution_count": 57,
   "id": "15b8fce3",
   "metadata": {},
   "outputs": [
    {
     "data": {
      "text/plain": [
       "array([[1, 3],\n",
       "       [2, 4]])"
      ]
     },
     "execution_count": 57,
     "metadata": {},
     "output_type": "execute_result"
    }
   ],
   "source": [
    "# 전치 행렬\n",
    "a = np.array([[1,2],\n",
    "             [3,4]])\n",
    "# a.T\n",
    "b = a.transpose()\n",
    "b"
   ]
  }
 ],
 "metadata": {
  "kernelspec": {
   "display_name": "Python 3 (ipykernel)",
   "language": "python",
   "name": "python3"
  },
  "language_info": {
   "codemirror_mode": {
    "name": "ipython",
    "version": 3
   },
   "file_extension": ".py",
   "mimetype": "text/x-python",
   "name": "python",
   "nbconvert_exporter": "python",
   "pygments_lexer": "ipython3",
   "version": "3.8.12"
  }
 },
 "nbformat": 4,
 "nbformat_minor": 5
}
