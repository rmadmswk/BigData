{
 "cells": [
  {
   "cell_type": "markdown",
   "id": "2653fbbb",
   "metadata": {},
   "source": [
    "https://hleecaster.com/ml-logistic-regression-concept/"
   ]
  },
  {
   "cell_type": "code",
   "execution_count": null,
   "id": "0883c1ba",
   "metadata": {},
   "outputs": [],
   "source": [
    "import pandas as pd\n",
    "import numpy as np\n",
    "from sklearn.linear_model import LogisticRegression\n",
    "from sklearn.datasets import load_breast_cancer\n",
    "from sklearn.model_selection import train_test_split\n",
    "import warnings\n",
    "warnings.filterwarnings('ignore')\n",
    "\n",
    "cancer = load_breast_cancer"
   ]
  },
  {
   "cell_type": "code",
   "execution_count": 3,
   "id": "239007e6",
   "metadata": {},
   "outputs": [
    {
     "name": "stdout",
     "output_type": "stream",
     "text": [
      "accuracy: 0.9766\n",
      "roc_auc: 0.9947\n",
      "최적 하이퍼 파라미터: {'C': 1, 'penalty': 'l2'}\n",
      "최적 평균 정확도: 0.975392184164114\n",
      "테스트 데이터 정확도: 0.9883\n"
     ]
    }
   ],
   "source": [
    "import pandas as pd\n",
    "import numpy as np\n",
    "from sklearn.linear_model import LogisticRegression\n",
    "from sklearn.datasets import load_breast_cancer\n",
    "from sklearn.model_selection import train_test_split\n",
    "from sklearn.preprocessing import StandardScaler\n",
    "from sklearn.metrics import accuracy_score, roc_auc_score\n",
    "import warnings\n",
    "warnings.filterwarnings('ignore')\n",
    "\n",
    "cancer = load_breast_cancer()\n",
    "\n",
    "scaler = StandardScaler()\n",
    "data_scaled= scaler.fit_transform(cancer.data)\n",
    "\n",
    "X_train, X_test, y_train, y_test = train_test_split(data_scaled,cancer.target,test_size=0.3,random_state=0)\n",
    "\n",
    "# 로지스틱 회귀를 이용해 학습 및 예측 수행\n",
    "lr_clf = LogisticRegression()\n",
    "lr_clf.fit(X_train,y_train)\n",
    "lr_preds = lr_clf.predict(X_test)\n",
    "lr_preds_proba = lr_clf.predict_proba(X_test)[:,1]\n",
    "\n",
    "\n",
    "# 정확도와 roc_auc 측정\n",
    "accuracy = accuracy_score(y_test,lr_preds)\n",
    "roc_auc = roc_auc_score(y_test,lr_preds_proba)\n",
    "print(f'accuracy: {accuracy:.4f}')\n",
    "print(f'roc_auc: {roc_auc:.4f}')\n",
    "\n",
    "from sklearn.model_selection import GridSearchCV\n",
    "\n",
    "params = {'penalty':['l2','l1'],\n",
    "         'C':[0.01,0.1,1,5,10]}\n",
    "\n",
    "grid_clf = GridSearchCV(lr_clf,param_grid=params, scoring='accuracy', cv=3)\n",
    "grid_clf.fit(data_scaled,cancer.target)\n",
    "print(f'최적 하이퍼 파라미터: {grid_clf.best_params_}')\n",
    "print(f'최적 평균 정확도: {grid_clf.best_score_}')\n",
    "\n",
    "pred = grid_clf.best_estimator_.predict(X_test)\n",
    "accuracy_test = accuracy_score(y_test,pred)\n",
    "print(f'테스트 데이터 정확도: {accuracy_test:.4f}')"
   ]
  }
 ],
 "metadata": {
  "kernelspec": {
   "display_name": "Python 3 (ipykernel)",
   "language": "python",
   "name": "python3"
  },
  "language_info": {
   "codemirror_mode": {
    "name": "ipython",
    "version": 3
   },
   "file_extension": ".py",
   "mimetype": "text/x-python",
   "name": "python",
   "nbconvert_exporter": "python",
   "pygments_lexer": "ipython3",
   "version": "3.8.12"
  }
 },
 "nbformat": 4,
 "nbformat_minor": 5
}
