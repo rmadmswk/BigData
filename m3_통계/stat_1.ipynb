{
 "cells": [
  {
   "cell_type": "markdown",
   "id": "737a3fe3",
   "metadata": {},
   "source": [
    "## 1차원 데이터\n",
    "- 평균값(기댓값), 표본분산, 불편분산(ddof=1), 표준편차\n",
    "- 표본분산은 표본의 평균을 사용해서 분산을 계산한 값으로 분산을 과소 추정하는 경향이 있으며 그 경향을 없애기 위한 것이 불편분산임. 표본분산 보다 조금 큰 값이 된다.\n",
    "- 표준화 : 평균값이 큰 변수와 작은 변수가 섞여 있으면 다루기 어려우므로 표준화로 데이터를 비교하기 쉽게 한다.\n",
    "- 최댓값, 최솟값, 중앙값, 사분위수\n",
    "- 표본분산과 비편향 분산\n",
    " - 분산은 표본 분산과 불편분산(unbiased variance)의 두 종류가 존재\n",
    " - 표본 분산은 표본에서 계산된 분산이며 모집단에 비해 표본수가 적을 때는 표본 분산이 모분산보다 작아진다.\n",
    " - 즉 표본 분산이 모집단 분산에 맞춰서 동일하게 보정한 것을 비편향 분산이라 한다.\n",
    " - 통계학에서는 이 비편향분산ㅇ르 사용하는 경우가 많다.\n",
    " - 불편분산은 n대신 n-1로 나누어 구할 수 있다.\n",
    " \n",
    "[표분분산이 분산을 과소 평가하는 이유]\n",
    "- 호수안에 물고기가 7마리가 있다. 몸길이 {1,2,3,4,5,6,7}, 모평균 4, 샘플링1 3마리{1,2,3} 표본평균 2, 샘플링2 {5,6,7} 표본평균 6 \n",
    "- 이때 분산은 모평균을 모르기 때문에 표본평균과의 거리를 계산하며 분산을 과소평가 하게된다.\n",
    "- 표본 분산 보다 조금 더 큰 값이 되도록 보정하기 위하여 N대신 N-1로 나누어 불편분산을 구할 수 있다."
   ]
  },
  {
   "cell_type": "code",
   "execution_count": 1,
   "id": "607c5b22",
   "metadata": {},
   "outputs": [
    {
     "data": {
      "text/html": [
       "<div>\n",
       "<style scoped>\n",
       "    .dataframe tbody tr th:only-of-type {\n",
       "        vertical-align: middle;\n",
       "    }\n",
       "\n",
       "    .dataframe tbody tr th {\n",
       "        vertical-align: top;\n",
       "    }\n",
       "\n",
       "    .dataframe thead th {\n",
       "        text-align: right;\n",
       "    }\n",
       "</style>\n",
       "<table border=\"1\" class=\"dataframe\">\n",
       "  <thead>\n",
       "    <tr style=\"text-align: right;\">\n",
       "      <th></th>\n",
       "      <th>student number</th>\n",
       "      <th>english</th>\n",
       "      <th>mathematics</th>\n",
       "    </tr>\n",
       "  </thead>\n",
       "  <tbody>\n",
       "    <tr>\n",
       "      <th>0</th>\n",
       "      <td>1</td>\n",
       "      <td>42</td>\n",
       "      <td>65</td>\n",
       "    </tr>\n",
       "    <tr>\n",
       "      <th>1</th>\n",
       "      <td>2</td>\n",
       "      <td>69</td>\n",
       "      <td>80</td>\n",
       "    </tr>\n",
       "    <tr>\n",
       "      <th>2</th>\n",
       "      <td>3</td>\n",
       "      <td>56</td>\n",
       "      <td>63</td>\n",
       "    </tr>\n",
       "    <tr>\n",
       "      <th>3</th>\n",
       "      <td>4</td>\n",
       "      <td>41</td>\n",
       "      <td>63</td>\n",
       "    </tr>\n",
       "    <tr>\n",
       "      <th>4</th>\n",
       "      <td>5</td>\n",
       "      <td>57</td>\n",
       "      <td>76</td>\n",
       "    </tr>\n",
       "  </tbody>\n",
       "</table>\n",
       "</div>"
      ],
      "text/plain": [
       "   student number  english  mathematics\n",
       "0               1       42           65\n",
       "1               2       69           80\n",
       "2               3       56           63\n",
       "3               4       41           63\n",
       "4               5       57           76"
      ]
     },
     "execution_count": 1,
     "metadata": {},
     "output_type": "execute_result"
    }
   ],
   "source": [
    "import numpy as np\n",
    "import pandas as pd\n",
    "\n",
    "df = pd.read_csv('./data/ch2_scores_em.csv')\n",
    "df.head()"
   ]
  },
  {
   "cell_type": "code",
   "execution_count": 2,
   "id": "be82223b",
   "metadata": {},
   "outputs": [
    {
     "data": {
      "text/plain": [
       "array([42, 69, 56, 41, 57, 48, 65, 49, 65, 58], dtype=int64)"
      ]
     },
     "execution_count": 2,
     "metadata": {},
     "output_type": "execute_result"
    }
   ],
   "source": [
    "scores = np.array(df.english)[:10]\n",
    "scores"
   ]
  },
  {
   "cell_type": "code",
   "execution_count": 3,
   "id": "3b816fab",
   "metadata": {},
   "outputs": [
    {
     "data": {
      "text/html": [
       "<div>\n",
       "<style scoped>\n",
       "    .dataframe tbody tr th:only-of-type {\n",
       "        vertical-align: middle;\n",
       "    }\n",
       "\n",
       "    .dataframe tbody tr th {\n",
       "        vertical-align: top;\n",
       "    }\n",
       "\n",
       "    .dataframe thead th {\n",
       "        text-align: right;\n",
       "    }\n",
       "</style>\n",
       "<table border=\"1\" class=\"dataframe\">\n",
       "  <thead>\n",
       "    <tr style=\"text-align: right;\">\n",
       "      <th></th>\n",
       "      <th>score</th>\n",
       "    </tr>\n",
       "    <tr>\n",
       "      <th>student</th>\n",
       "      <th></th>\n",
       "    </tr>\n",
       "  </thead>\n",
       "  <tbody>\n",
       "    <tr>\n",
       "      <th>A</th>\n",
       "      <td>42</td>\n",
       "    </tr>\n",
       "    <tr>\n",
       "      <th>B</th>\n",
       "      <td>69</td>\n",
       "    </tr>\n",
       "    <tr>\n",
       "      <th>C</th>\n",
       "      <td>56</td>\n",
       "    </tr>\n",
       "    <tr>\n",
       "      <th>D</th>\n",
       "      <td>41</td>\n",
       "    </tr>\n",
       "    <tr>\n",
       "      <th>E</th>\n",
       "      <td>57</td>\n",
       "    </tr>\n",
       "    <tr>\n",
       "      <th>F</th>\n",
       "      <td>48</td>\n",
       "    </tr>\n",
       "    <tr>\n",
       "      <th>G</th>\n",
       "      <td>65</td>\n",
       "    </tr>\n",
       "    <tr>\n",
       "      <th>H</th>\n",
       "      <td>49</td>\n",
       "    </tr>\n",
       "    <tr>\n",
       "      <th>I</th>\n",
       "      <td>65</td>\n",
       "    </tr>\n",
       "    <tr>\n",
       "      <th>J</th>\n",
       "      <td>58</td>\n",
       "    </tr>\n",
       "  </tbody>\n",
       "</table>\n",
       "</div>"
      ],
      "text/plain": [
       "         score\n",
       "student       \n",
       "A           42\n",
       "B           69\n",
       "C           56\n",
       "D           41\n",
       "E           57\n",
       "F           48\n",
       "G           65\n",
       "H           49\n",
       "I           65\n",
       "J           58"
      ]
     },
     "execution_count": 3,
     "metadata": {},
     "output_type": "execute_result"
    }
   ],
   "source": [
    "score_df = pd.DataFrame({'score':scores},\n",
    "#                         index = ['A','B','C','D','E','F','G','H','I','J'])\n",
    "                       index = pd.Index(['A','B','C','D','E','F','G','H','I','J'],name='student'))\n",
    "score_df"
   ]
  },
  {
   "cell_type": "code",
   "execution_count": 4,
   "id": "ee9f0369",
   "metadata": {},
   "outputs": [
    {
     "name": "stdout",
     "output_type": "stream",
     "text": [
      "55.0\n",
      "55.0\n"
     ]
    },
    {
     "data": {
      "text/plain": [
       "score    55.0\n",
       "dtype: float64"
      ]
     },
     "execution_count": 4,
     "metadata": {},
     "output_type": "execute_result"
    }
   ],
   "source": [
    "# 평균값\n",
    "print(sum(scores)/len(scores))\n",
    "print(np.mean(scores))\n",
    "score_df.mean()"
   ]
  },
  {
   "cell_type": "code",
   "execution_count": 5,
   "id": "458badfe",
   "metadata": {},
   "outputs": [
    {
     "data": {
      "text/plain": [
       "array([41, 42, 48, 49, 56, 57, 58, 65, 65, 69], dtype=int64)"
      ]
     },
     "execution_count": 5,
     "metadata": {},
     "output_type": "execute_result"
    }
   ],
   "source": [
    "# 중앙값\n",
    "sorted_scores = np.sort(scores)\n",
    "sorted_scores"
   ]
  },
  {
   "cell_type": "code",
   "execution_count": 6,
   "id": "adb97458",
   "metadata": {},
   "outputs": [
    {
     "data": {
      "text/plain": [
       "56.5"
      ]
     },
     "execution_count": 6,
     "metadata": {},
     "output_type": "execute_result"
    }
   ],
   "source": [
    "n = len(sorted_scores)\n",
    "if n % 2 == 0:\n",
    "    m0 = sorted_scores[n//2 - 1]\n",
    "    m1 = sorted_scores[n//2]\n",
    "    median = (m0 + m1) / 2\n",
    "else:\n",
    "    median = sorted_scores[(n+1)//2 - 1]\n",
    "median"
   ]
  },
  {
   "cell_type": "code",
   "execution_count": 7,
   "id": "0260ab49",
   "metadata": {},
   "outputs": [
    {
     "name": "stdout",
     "output_type": "stream",
     "text": [
      "56.5\n"
     ]
    },
    {
     "data": {
      "text/plain": [
       "score    56.5\n",
       "dtype: float64"
      ]
     },
     "execution_count": 7,
     "metadata": {},
     "output_type": "execute_result"
    }
   ],
   "source": [
    "print(np.median(scores))\n",
    "score_df.median()"
   ]
  },
  {
   "cell_type": "code",
   "execution_count": 8,
   "id": "7a442edb",
   "metadata": {},
   "outputs": [
    {
     "data": {
      "text/plain": [
       "0    1\n",
       "dtype: int64"
      ]
     },
     "execution_count": 8,
     "metadata": {},
     "output_type": "execute_result"
    }
   ],
   "source": [
    "# 최빈값\n",
    "pd.Series([1,1,1,2,2,3]).mode()"
   ]
  },
  {
   "cell_type": "code",
   "execution_count": 9,
   "id": "fdf9695c",
   "metadata": {},
   "outputs": [
    {
     "data": {
      "text/plain": [
       "array([42, 69, 56, 41, 57, 48, 65, 49, 65, 58], dtype=int64)"
      ]
     },
     "execution_count": 9,
     "metadata": {},
     "output_type": "execute_result"
    }
   ],
   "source": [
    "# 분산과 표준편차\n",
    "scores"
   ]
  },
  {
   "cell_type": "code",
   "execution_count": 10,
   "id": "1bf13c63",
   "metadata": {},
   "outputs": [
    {
     "name": "stdout",
     "output_type": "stream",
     "text": [
      "55.0\n"
     ]
    },
    {
     "data": {
      "text/plain": [
       "array([-13.,  14.,   1., -14.,   2.,  -7.,  10.,  -6.,  10.,   3.])"
      ]
     },
     "execution_count": 10,
     "metadata": {},
     "output_type": "execute_result"
    }
   ],
   "source": [
    "# 편차\n",
    "mean = np.mean(scores)\n",
    "print(mean)\n",
    "deviation = scores - mean\n",
    "deviation"
   ]
  },
  {
   "cell_type": "code",
   "execution_count": 11,
   "id": "fefcbc27",
   "metadata": {},
   "outputs": [
    {
     "data": {
      "text/plain": [
       "0.0"
      ]
     },
     "execution_count": 11,
     "metadata": {},
     "output_type": "execute_result"
    }
   ],
   "source": [
    "np.mean(deviation)"
   ]
  },
  {
   "cell_type": "code",
   "execution_count": 12,
   "id": "ba7060ac",
   "metadata": {},
   "outputs": [],
   "source": [
    "# Q. 20개 원소로 구성되는 배열을 만든 후 평균, 편차 및 편차의 합을 구하세요."
   ]
  },
  {
   "cell_type": "code",
   "execution_count": 13,
   "id": "ba8a4e44",
   "metadata": {},
   "outputs": [
    {
     "data": {
      "text/plain": [
       "522.5"
      ]
     },
     "metadata": {},
     "output_type": "display_data"
    },
    {
     "data": {
      "text/plain": [
       "array([-359.5,  -95.5,  288.5, -378.5,   78.5,  322.5, -111.5,  130.5,\n",
       "       -202.5, -267.5, -475.5, -490.5,  108.5, -463.5,  419.5,  -10.5,\n",
       "        276.5,  319.5,  474.5,  436.5])"
      ]
     },
     "metadata": {},
     "output_type": "display_data"
    },
    {
     "data": {
      "text/plain": [
       "0.0"
      ]
     },
     "metadata": {},
     "output_type": "display_data"
    }
   ],
   "source": [
    "arr = np.random.randint(0,1000,size = 20)\n",
    "m = np.mean(arr)\n",
    "display(m)\n",
    "dev = arr-m\n",
    "display(dev)\n",
    "display(np.sum(dev))"
   ]
  },
  {
   "cell_type": "markdown",
   "id": "cecd7254",
   "metadata": {},
   "source": [
    "분산\n",
    "- Numpy와 Pandas는 서로 다른 분산을 기본으로 설정하여 계산\n",
    " * Numpy는 표본분산, Pandas는 불편분산\n",
    " * Pandas에서 표본분산을 계산하려면 var 메소드의 인수를 ddof=0이라고 설정, 불편분산은 ddof=1일 때 해당됨."
   ]
  },
  {
   "cell_type": "code",
   "execution_count": 14,
   "id": "16f328e7",
   "metadata": {},
   "outputs": [
    {
     "data": {
      "text/plain": [
       "86.0"
      ]
     },
     "execution_count": 14,
     "metadata": {},
     "output_type": "execute_result"
    }
   ],
   "source": [
    "np.mean(deviation ** 2)"
   ]
  },
  {
   "cell_type": "code",
   "execution_count": 15,
   "id": "64f355fe",
   "metadata": {},
   "outputs": [
    {
     "data": {
      "text/plain": [
       "86.0"
      ]
     },
     "execution_count": 15,
     "metadata": {},
     "output_type": "execute_result"
    }
   ],
   "source": [
    "np.var(scores)"
   ]
  },
  {
   "cell_type": "code",
   "execution_count": 16,
   "id": "361284ea",
   "metadata": {},
   "outputs": [
    {
     "data": {
      "text/plain": [
       "score    95.555556\n",
       "dtype: float64"
      ]
     },
     "execution_count": 16,
     "metadata": {},
     "output_type": "execute_result"
    }
   ],
   "source": [
    "score_df.var()"
   ]
  },
  {
   "cell_type": "code",
   "execution_count": 17,
   "id": "704cf305",
   "metadata": {},
   "outputs": [
    {
     "data": {
      "text/html": [
       "<div>\n",
       "<style scoped>\n",
       "    .dataframe tbody tr th:only-of-type {\n",
       "        vertical-align: middle;\n",
       "    }\n",
       "\n",
       "    .dataframe tbody tr th {\n",
       "        vertical-align: top;\n",
       "    }\n",
       "\n",
       "    .dataframe thead th {\n",
       "        text-align: right;\n",
       "    }\n",
       "</style>\n",
       "<table border=\"1\" class=\"dataframe\">\n",
       "  <thead>\n",
       "    <tr style=\"text-align: right;\">\n",
       "      <th></th>\n",
       "      <th>score</th>\n",
       "      <th>deviation</th>\n",
       "      <th>square of deviation</th>\n",
       "    </tr>\n",
       "    <tr>\n",
       "      <th>student</th>\n",
       "      <th></th>\n",
       "      <th></th>\n",
       "      <th></th>\n",
       "    </tr>\n",
       "  </thead>\n",
       "  <tbody>\n",
       "    <tr>\n",
       "      <th>A</th>\n",
       "      <td>42</td>\n",
       "      <td>-13.0</td>\n",
       "      <td>169.0</td>\n",
       "    </tr>\n",
       "    <tr>\n",
       "      <th>B</th>\n",
       "      <td>69</td>\n",
       "      <td>14.0</td>\n",
       "      <td>196.0</td>\n",
       "    </tr>\n",
       "    <tr>\n",
       "      <th>C</th>\n",
       "      <td>56</td>\n",
       "      <td>1.0</td>\n",
       "      <td>1.0</td>\n",
       "    </tr>\n",
       "    <tr>\n",
       "      <th>D</th>\n",
       "      <td>41</td>\n",
       "      <td>-14.0</td>\n",
       "      <td>196.0</td>\n",
       "    </tr>\n",
       "    <tr>\n",
       "      <th>E</th>\n",
       "      <td>57</td>\n",
       "      <td>2.0</td>\n",
       "      <td>4.0</td>\n",
       "    </tr>\n",
       "    <tr>\n",
       "      <th>F</th>\n",
       "      <td>48</td>\n",
       "      <td>-7.0</td>\n",
       "      <td>49.0</td>\n",
       "    </tr>\n",
       "    <tr>\n",
       "      <th>G</th>\n",
       "      <td>65</td>\n",
       "      <td>10.0</td>\n",
       "      <td>100.0</td>\n",
       "    </tr>\n",
       "    <tr>\n",
       "      <th>H</th>\n",
       "      <td>49</td>\n",
       "      <td>-6.0</td>\n",
       "      <td>36.0</td>\n",
       "    </tr>\n",
       "    <tr>\n",
       "      <th>I</th>\n",
       "      <td>65</td>\n",
       "      <td>10.0</td>\n",
       "      <td>100.0</td>\n",
       "    </tr>\n",
       "    <tr>\n",
       "      <th>J</th>\n",
       "      <td>58</td>\n",
       "      <td>3.0</td>\n",
       "      <td>9.0</td>\n",
       "    </tr>\n",
       "  </tbody>\n",
       "</table>\n",
       "</div>"
      ],
      "text/plain": [
       "         score  deviation  square of deviation\n",
       "student                                       \n",
       "A           42      -13.0                169.0\n",
       "B           69       14.0                196.0\n",
       "C           56        1.0                  1.0\n",
       "D           41      -14.0                196.0\n",
       "E           57        2.0                  4.0\n",
       "F           48       -7.0                 49.0\n",
       "G           65       10.0                100.0\n",
       "H           49       -6.0                 36.0\n",
       "I           65       10.0                100.0\n",
       "J           58        3.0                  9.0"
      ]
     },
     "execution_count": 17,
     "metadata": {},
     "output_type": "execute_result"
    }
   ],
   "source": [
    "df = score_df.copy()\n",
    "df['deviation'] = deviation\n",
    "df['square of deviation'] = np.square(deviation)\n",
    "df"
   ]
  },
  {
   "cell_type": "code",
   "execution_count": 18,
   "id": "19faf519",
   "metadata": {},
   "outputs": [
    {
     "data": {
      "text/plain": [
       "score                  55.0\n",
       "deviation               0.0\n",
       "square of deviation    86.0\n",
       "dtype: float64"
      ]
     },
     "execution_count": 18,
     "metadata": {},
     "output_type": "execute_result"
    }
   ],
   "source": [
    "df.mean()"
   ]
  },
  {
   "cell_type": "code",
   "execution_count": 19,
   "id": "be09fb06",
   "metadata": {},
   "outputs": [
    {
     "data": {
      "text/plain": [
       "9.273618495495704"
      ]
     },
     "execution_count": 19,
     "metadata": {},
     "output_type": "execute_result"
    }
   ],
   "source": [
    "# 표준편차\n",
    "np.sqrt(np.var(scores,ddof=0))"
   ]
  },
  {
   "cell_type": "code",
   "execution_count": 20,
   "id": "0d62e9bc",
   "metadata": {},
   "outputs": [
    {
     "data": {
      "text/plain": [
       "9.273618495495704"
      ]
     },
     "execution_count": 20,
     "metadata": {},
     "output_type": "execute_result"
    }
   ],
   "source": [
    "np.std(scores)"
   ]
  },
  {
   "cell_type": "code",
   "execution_count": 21,
   "id": "a258b490",
   "metadata": {},
   "outputs": [
    {
     "data": {
      "text/plain": [
       "score                   9.273618\n",
       "deviation               9.273618\n",
       "square of deviation    74.315543\n",
       "dtype: float64"
      ]
     },
     "execution_count": 21,
     "metadata": {},
     "output_type": "execute_result"
    }
   ],
   "source": [
    "df.std(ddof=0)"
   ]
  },
  {
   "cell_type": "code",
   "execution_count": 22,
   "id": "f5069a1e",
   "metadata": {},
   "outputs": [
    {
     "data": {
      "text/plain": [
       "28"
      ]
     },
     "execution_count": 22,
     "metadata": {},
     "output_type": "execute_result"
    }
   ],
   "source": [
    "# 범위와 4분위수 범위\n",
    "np.max(scores) - np.min(scores)"
   ]
  },
  {
   "cell_type": "code",
   "execution_count": 23,
   "id": "2212516b",
   "metadata": {},
   "outputs": [
    {
     "data": {
      "text/plain": [
       "15.0"
      ]
     },
     "execution_count": 23,
     "metadata": {},
     "output_type": "execute_result"
    }
   ],
   "source": [
    "scores_Q1 = np.percentile(scores,25)\n",
    "scores_Q3 = np.percentile(scores,75)\n",
    "scores_IQR = scores_Q3 - scores_Q1\n",
    "scores_IQR"
   ]
  },
  {
   "cell_type": "code",
   "execution_count": 24,
   "id": "e9e8faee",
   "metadata": {},
   "outputs": [
    {
     "data": {
      "text/plain": [
       "count    10.000000\n",
       "mean     55.000000\n",
       "std       9.775252\n",
       "min      41.000000\n",
       "25%      48.250000\n",
       "50%      56.500000\n",
       "75%      63.250000\n",
       "max      69.000000\n",
       "dtype: float64"
      ]
     },
     "execution_count": 24,
     "metadata": {},
     "output_type": "execute_result"
    }
   ],
   "source": [
    "# 요약 통계표\n",
    "pd.Series(scores).describe()"
   ]
  },
  {
   "cell_type": "code",
   "execution_count": 25,
   "id": "45b152c6",
   "metadata": {},
   "outputs": [
    {
     "name": "stdout",
     "output_type": "stream",
     "text": [
      "평균: 55.0, 표준편차: 9.2736\n"
     ]
    }
   ],
   "source": [
    "# 데이터의 정규화\n",
    "\n",
    "print(f'평균: {scores.mean()}, 표준편차: {scores.std().round(4)}')"
   ]
  },
  {
   "cell_type": "code",
   "execution_count": 26,
   "id": "98fea64d",
   "metadata": {},
   "outputs": [
    {
     "data": {
      "text/plain": [
       "array([-1.40182605,  1.50965882,  0.10783277, -1.50965882,  0.21566555,\n",
       "       -0.75482941,  1.07832773, -0.64699664,  1.07832773,  0.32349832])"
      ]
     },
     "execution_count": 26,
     "metadata": {},
     "output_type": "execute_result"
    }
   ],
   "source": [
    "# 표준화\n",
    "z = (scores - np.mean(scores)) / np.std(scores)\n",
    "z"
   ]
  },
  {
   "cell_type": "code",
   "execution_count": 27,
   "id": "37dd6849",
   "metadata": {},
   "outputs": [
    {
     "data": {
      "text/plain": [
       "(-1.6653345369377347e-17, 0.9999999999999999)"
      ]
     },
     "execution_count": 27,
     "metadata": {},
     "output_type": "execute_result"
    }
   ],
   "source": [
    "np.mean(z),np.std(z)"
   ]
  },
  {
   "cell_type": "code",
   "execution_count": 28,
   "id": "cf1b184d",
   "metadata": {},
   "outputs": [
    {
     "data": {
      "text/plain": [
       "array([35.98173948, 65.09658825, 51.07832773, 34.90341175, 52.15665546,\n",
       "       42.45170588, 60.78327732, 43.53003361, 60.78327732, 53.2349832 ])"
      ]
     },
     "execution_count": 28,
     "metadata": {},
     "output_type": "execute_result"
    }
   ],
   "source": [
    "z = 50 + 10 * (scores - np.mean(scores)) / np.std(scores)\n",
    "z"
   ]
  },
  {
   "cell_type": "code",
   "execution_count": 29,
   "id": "0d22ebb0",
   "metadata": {},
   "outputs": [],
   "source": [
    "score_df['deviation_value'] = z"
   ]
  },
  {
   "cell_type": "code",
   "execution_count": 30,
   "id": "05dff615",
   "metadata": {},
   "outputs": [
    {
     "data": {
      "text/html": [
       "<div>\n",
       "<style scoped>\n",
       "    .dataframe tbody tr th:only-of-type {\n",
       "        vertical-align: middle;\n",
       "    }\n",
       "\n",
       "    .dataframe tbody tr th {\n",
       "        vertical-align: top;\n",
       "    }\n",
       "\n",
       "    .dataframe thead th {\n",
       "        text-align: right;\n",
       "    }\n",
       "</style>\n",
       "<table border=\"1\" class=\"dataframe\">\n",
       "  <thead>\n",
       "    <tr style=\"text-align: right;\">\n",
       "      <th></th>\n",
       "      <th>score</th>\n",
       "      <th>deviation_value</th>\n",
       "    </tr>\n",
       "    <tr>\n",
       "      <th>student</th>\n",
       "      <th></th>\n",
       "      <th></th>\n",
       "    </tr>\n",
       "  </thead>\n",
       "  <tbody>\n",
       "    <tr>\n",
       "      <th>A</th>\n",
       "      <td>42</td>\n",
       "      <td>35.981739</td>\n",
       "    </tr>\n",
       "    <tr>\n",
       "      <th>B</th>\n",
       "      <td>69</td>\n",
       "      <td>65.096588</td>\n",
       "    </tr>\n",
       "    <tr>\n",
       "      <th>C</th>\n",
       "      <td>56</td>\n",
       "      <td>51.078328</td>\n",
       "    </tr>\n",
       "    <tr>\n",
       "      <th>D</th>\n",
       "      <td>41</td>\n",
       "      <td>34.903412</td>\n",
       "    </tr>\n",
       "    <tr>\n",
       "      <th>E</th>\n",
       "      <td>57</td>\n",
       "      <td>52.156655</td>\n",
       "    </tr>\n",
       "    <tr>\n",
       "      <th>F</th>\n",
       "      <td>48</td>\n",
       "      <td>42.451706</td>\n",
       "    </tr>\n",
       "    <tr>\n",
       "      <th>G</th>\n",
       "      <td>65</td>\n",
       "      <td>60.783277</td>\n",
       "    </tr>\n",
       "    <tr>\n",
       "      <th>H</th>\n",
       "      <td>49</td>\n",
       "      <td>43.530034</td>\n",
       "    </tr>\n",
       "    <tr>\n",
       "      <th>I</th>\n",
       "      <td>65</td>\n",
       "      <td>60.783277</td>\n",
       "    </tr>\n",
       "    <tr>\n",
       "      <th>J</th>\n",
       "      <td>58</td>\n",
       "      <td>53.234983</td>\n",
       "    </tr>\n",
       "  </tbody>\n",
       "</table>\n",
       "</div>"
      ],
      "text/plain": [
       "         score  deviation_value\n",
       "student                        \n",
       "A           42        35.981739\n",
       "B           69        65.096588\n",
       "C           56        51.078328\n",
       "D           41        34.903412\n",
       "E           57        52.156655\n",
       "F           48        42.451706\n",
       "G           65        60.783277\n",
       "H           49        43.530034\n",
       "I           65        60.783277\n",
       "J           58        53.234983"
      ]
     },
     "execution_count": 30,
     "metadata": {},
     "output_type": "execute_result"
    }
   ],
   "source": [
    "score_df"
   ]
  },
  {
   "cell_type": "code",
   "execution_count": 31,
   "id": "6cd9cc15",
   "metadata": {},
   "outputs": [
    {
     "data": {
      "text/plain": [
       "count    50.000000\n",
       "mean     58.380000\n",
       "std       9.799813\n",
       "min      37.000000\n",
       "25%      54.000000\n",
       "50%      57.500000\n",
       "75%      65.000000\n",
       "max      79.000000\n",
       "dtype: float64"
      ]
     },
     "execution_count": 31,
     "metadata": {},
     "output_type": "execute_result"
    }
   ],
   "source": [
    "df = pd.read_csv('./data/ch2_scores_em.csv')\n",
    "eng_scores = np.array(df.english)\n",
    "pd.Series(eng_scores).describe()"
   ]
  },
  {
   "cell_type": "code",
   "execution_count": 32,
   "id": "20a456ee",
   "metadata": {},
   "outputs": [
    {
     "data": {
      "text/plain": [
       "array([ 0,  0,  0,  2,  8, 16, 18,  6,  0,  0], dtype=int64)"
      ]
     },
     "execution_count": 32,
     "metadata": {},
     "output_type": "execute_result"
    }
   ],
   "source": [
    "freq, _ = np.histogram(eng_scores, bins=10,range=(0,100))\n",
    "freq"
   ]
  },
  {
   "cell_type": "code",
   "execution_count": 33,
   "id": "15dec376",
   "metadata": {},
   "outputs": [
    {
     "data": {
      "text/html": [
       "<div>\n",
       "<style scoped>\n",
       "    .dataframe tbody tr th:only-of-type {\n",
       "        vertical-align: middle;\n",
       "    }\n",
       "\n",
       "    .dataframe tbody tr th {\n",
       "        vertical-align: top;\n",
       "    }\n",
       "\n",
       "    .dataframe thead th {\n",
       "        text-align: right;\n",
       "    }\n",
       "</style>\n",
       "<table border=\"1\" class=\"dataframe\">\n",
       "  <thead>\n",
       "    <tr style=\"text-align: right;\">\n",
       "      <th></th>\n",
       "      <th>frequency</th>\n",
       "    </tr>\n",
       "    <tr>\n",
       "      <th>class</th>\n",
       "      <th></th>\n",
       "    </tr>\n",
       "  </thead>\n",
       "  <tbody>\n",
       "    <tr>\n",
       "      <th>0~10</th>\n",
       "      <td>0</td>\n",
       "    </tr>\n",
       "    <tr>\n",
       "      <th>10~20</th>\n",
       "      <td>0</td>\n",
       "    </tr>\n",
       "    <tr>\n",
       "      <th>20~30</th>\n",
       "      <td>0</td>\n",
       "    </tr>\n",
       "    <tr>\n",
       "      <th>30~40</th>\n",
       "      <td>2</td>\n",
       "    </tr>\n",
       "    <tr>\n",
       "      <th>40~50</th>\n",
       "      <td>8</td>\n",
       "    </tr>\n",
       "    <tr>\n",
       "      <th>50~60</th>\n",
       "      <td>16</td>\n",
       "    </tr>\n",
       "    <tr>\n",
       "      <th>60~70</th>\n",
       "      <td>18</td>\n",
       "    </tr>\n",
       "    <tr>\n",
       "      <th>70~80</th>\n",
       "      <td>6</td>\n",
       "    </tr>\n",
       "    <tr>\n",
       "      <th>80~90</th>\n",
       "      <td>0</td>\n",
       "    </tr>\n",
       "    <tr>\n",
       "      <th>90~100</th>\n",
       "      <td>0</td>\n",
       "    </tr>\n",
       "  </tbody>\n",
       "</table>\n",
       "</div>"
      ],
      "text/plain": [
       "        frequency\n",
       "class            \n",
       "0~10            0\n",
       "10~20           0\n",
       "20~30           0\n",
       "30~40           2\n",
       "40~50           8\n",
       "50~60          16\n",
       "60~70          18\n",
       "70~80           6\n",
       "80~90           0\n",
       "90~100          0"
      ]
     },
     "execution_count": 33,
     "metadata": {},
     "output_type": "execute_result"
    }
   ],
   "source": [
    "freq_class = [f'{i}~{i+10}' for i in range(0,100,10)]\n",
    "freq_dist_df = pd.DataFrame({'frequency':freq},\n",
    "                           index=pd.Index(freq_class,\n",
    "                                         name='class'))\n",
    "freq_dist_df"
   ]
  },
  {
   "cell_type": "code",
   "execution_count": 34,
   "id": "d4848413",
   "metadata": {},
   "outputs": [
    {
     "data": {
      "text/plain": [
       "[5, 15, 25, 35, 45, 55, 65, 75, 85, 95]"
      ]
     },
     "execution_count": 34,
     "metadata": {},
     "output_type": "execute_result"
    }
   ],
   "source": [
    "# 계급값 : 각 계급을 대표하는 값으로 계급의 중앙값이 이용됨\n",
    "class_value = [(i+(i+10))//2 for i in range(0,100,10)]\n",
    "class_value"
   ]
  },
  {
   "cell_type": "code",
   "execution_count": 35,
   "id": "efd8934e",
   "metadata": {},
   "outputs": [
    {
     "data": {
      "text/plain": [
       "array([0.  , 0.  , 0.  , 0.04, 0.16, 0.32, 0.36, 0.12, 0.  , 0.  ])"
      ]
     },
     "execution_count": 35,
     "metadata": {},
     "output_type": "execute_result"
    }
   ],
   "source": [
    "# 상대도수 : 해당 곅브의 데이터의 상대적인 비율\n",
    "rel_freq = freq / freq.sum()\n",
    "rel_freq"
   ]
  },
  {
   "cell_type": "code",
   "execution_count": 36,
   "id": "402660e9",
   "metadata": {},
   "outputs": [
    {
     "data": {
      "text/plain": [
       "array([0.  , 0.  , 0.  , 0.04, 0.2 , 0.52, 0.88, 1.  , 1.  , 1.  ])"
      ]
     },
     "execution_count": 36,
     "metadata": {},
     "output_type": "execute_result"
    }
   ],
   "source": [
    "# 누적상대도수 : 해당 계급까지의 상대도수 합\n",
    "cum_rel_freq = np.cumsum(rel_freq)\n",
    "cum_rel_freq"
   ]
  },
  {
   "cell_type": "code",
   "execution_count": 37,
   "id": "fd1994df",
   "metadata": {},
   "outputs": [
    {
     "data": {
      "text/html": [
       "<div>\n",
       "<style scoped>\n",
       "    .dataframe tbody tr th:only-of-type {\n",
       "        vertical-align: middle;\n",
       "    }\n",
       "\n",
       "    .dataframe tbody tr th {\n",
       "        vertical-align: top;\n",
       "    }\n",
       "\n",
       "    .dataframe thead th {\n",
       "        text-align: right;\n",
       "    }\n",
       "</style>\n",
       "<table border=\"1\" class=\"dataframe\">\n",
       "  <thead>\n",
       "    <tr style=\"text-align: right;\">\n",
       "      <th></th>\n",
       "      <th>frequency</th>\n",
       "      <th>class value</th>\n",
       "      <th>relative frequency</th>\n",
       "      <th>cumulative relative frequency</th>\n",
       "    </tr>\n",
       "    <tr>\n",
       "      <th>class</th>\n",
       "      <th></th>\n",
       "      <th></th>\n",
       "      <th></th>\n",
       "      <th></th>\n",
       "    </tr>\n",
       "  </thead>\n",
       "  <tbody>\n",
       "    <tr>\n",
       "      <th>0~10</th>\n",
       "      <td>0</td>\n",
       "      <td>5</td>\n",
       "      <td>0.00</td>\n",
       "      <td>0.00</td>\n",
       "    </tr>\n",
       "    <tr>\n",
       "      <th>10~20</th>\n",
       "      <td>0</td>\n",
       "      <td>15</td>\n",
       "      <td>0.00</td>\n",
       "      <td>0.00</td>\n",
       "    </tr>\n",
       "    <tr>\n",
       "      <th>20~30</th>\n",
       "      <td>0</td>\n",
       "      <td>25</td>\n",
       "      <td>0.00</td>\n",
       "      <td>0.00</td>\n",
       "    </tr>\n",
       "    <tr>\n",
       "      <th>30~40</th>\n",
       "      <td>2</td>\n",
       "      <td>35</td>\n",
       "      <td>0.04</td>\n",
       "      <td>0.04</td>\n",
       "    </tr>\n",
       "    <tr>\n",
       "      <th>40~50</th>\n",
       "      <td>8</td>\n",
       "      <td>45</td>\n",
       "      <td>0.16</td>\n",
       "      <td>0.20</td>\n",
       "    </tr>\n",
       "    <tr>\n",
       "      <th>50~60</th>\n",
       "      <td>16</td>\n",
       "      <td>55</td>\n",
       "      <td>0.32</td>\n",
       "      <td>0.52</td>\n",
       "    </tr>\n",
       "    <tr>\n",
       "      <th>60~70</th>\n",
       "      <td>18</td>\n",
       "      <td>65</td>\n",
       "      <td>0.36</td>\n",
       "      <td>0.88</td>\n",
       "    </tr>\n",
       "    <tr>\n",
       "      <th>70~80</th>\n",
       "      <td>6</td>\n",
       "      <td>75</td>\n",
       "      <td>0.12</td>\n",
       "      <td>1.00</td>\n",
       "    </tr>\n",
       "    <tr>\n",
       "      <th>80~90</th>\n",
       "      <td>0</td>\n",
       "      <td>85</td>\n",
       "      <td>0.00</td>\n",
       "      <td>1.00</td>\n",
       "    </tr>\n",
       "    <tr>\n",
       "      <th>90~100</th>\n",
       "      <td>0</td>\n",
       "      <td>95</td>\n",
       "      <td>0.00</td>\n",
       "      <td>1.00</td>\n",
       "    </tr>\n",
       "  </tbody>\n",
       "</table>\n",
       "</div>"
      ],
      "text/plain": [
       "        frequency  class value  relative frequency  \\\n",
       "class                                                \n",
       "0~10            0            5                0.00   \n",
       "10~20           0           15                0.00   \n",
       "20~30           0           25                0.00   \n",
       "30~40           2           35                0.04   \n",
       "40~50           8           45                0.16   \n",
       "50~60          16           55                0.32   \n",
       "60~70          18           65                0.36   \n",
       "70~80           6           75                0.12   \n",
       "80~90           0           85                0.00   \n",
       "90~100          0           95                0.00   \n",
       "\n",
       "        cumulative relative frequency  \n",
       "class                                  \n",
       "0~10                             0.00  \n",
       "10~20                            0.00  \n",
       "20~30                            0.00  \n",
       "30~40                            0.04  \n",
       "40~50                            0.20  \n",
       "50~60                            0.52  \n",
       "60~70                            0.88  \n",
       "70~80                            1.00  \n",
       "80~90                            1.00  \n",
       "90~100                           1.00  "
      ]
     },
     "execution_count": 37,
     "metadata": {},
     "output_type": "execute_result"
    }
   ],
   "source": [
    "freq_dist_df['class value'] = class_value\n",
    "freq_dist_df['relative frequency'] = rel_freq\n",
    "freq_dist_df['cumulative relative frequency'] = cum_rel_freq\n",
    "freq_dist_df"
   ]
  },
  {
   "cell_type": "code",
   "execution_count": 38,
   "id": "3cda9032",
   "metadata": {},
   "outputs": [
    {
     "data": {
      "text/plain": [
       "65"
      ]
     },
     "execution_count": 38,
     "metadata": {},
     "output_type": "execute_result"
    }
   ],
   "source": [
    "# 최빈값\n",
    "freq_dist_df.loc[freq_dist_df['frequency'].idxmax(),'class value']"
   ]
  },
  {
   "cell_type": "code",
   "execution_count": 59,
   "id": "58c55006",
   "metadata": {},
   "outputs": [
    {
     "data": {
      "image/png": "[encoded data removed]",
      "text/plain": [
       "<Figure size 1440x432 with 2 Axes>"
      ]
     },
     "metadata": {
      "needs_background": "light"
     },
     "output_type": "display_data"
    }
   ],
   "source": [
    "import matplotlib.pyplot as plt\n",
    "fig = plt.figure(figsize=(20,6))\n",
    "ax1 = fig.add_subplot(121)\n",
    "ax2 = fig.add_subplot(122)\n",
    "freq, _, _ = ax1.hist(eng_scores, bins=10, range=(0,100))\n",
    "freq, _, _ = ax2.hist(eng_scores, bins=50, range=(0,100))\n",
    "ax1.set_xlabel('score')\n",
    "ax1.set_ylabel('person number')\n",
    "ax1.set_xticks(np.linspace(0,100,10+1))\n",
    "ax1.set_yticks(np.arange(0,freq.max()+1))\n",
    "ax2.set_xlabel('score')\n",
    "ax2.set_ylabel('person number')\n",
    "ax2.set_xticks(np.linspace(0,100,10+1))\n",
    "ax2.set_yticks(np.arange(0,freq.max()+1))\n",
    "plt.show()\n",
    "plt.close()"
   ]
  },
  {
   "cell_type": "code",
   "execution_count": 60,
   "id": "293b89dc",
   "metadata": {},
   "outputs": [
    {
     "data": {
      "image/png": "[encoded data removed]",
      "text/plain": [
       "<Figure size 720x432 with 2 Axes>"
      ]
     },
     "metadata": {
      "needs_background": "light"
     },
     "output_type": "display_data"
    }
   ],
   "source": [
    "import matplotlib.pyplot as plt\n",
    "fig = plt.figure(figsize=(10,6))\n",
    "ax1 = fig.add_subplot(111)\n",
    "# Y축의 스케일이 다른 그래프를 ax1과 동일한 영역에 생성\n",
    "ax2 = ax1.twinx()\n",
    "# 상대도수의 히스토그램으로 하기 위해서는 도수를 데이터의 수로 나눌 필요가 있음\n",
    "weights = np.ones_like(eng_scores) / len(eng_scores)\n",
    "rel_freq, _, _ = ax1.hist(eng_scores, bins=25, range=(0,100), weights=weights)\n",
    "\n",
    "cum_rel_freq = np.cumsum(rel_freq)\n",
    "class_value = [(i+(i+4))//2 for i in range(0,100,4)]\n",
    "\n",
    "ax2.plot(class_value, cum_rel_freq, ls='--',marker='o',color='gray')\n",
    "ax2.grid(visible=False)\n",
    "\n",
    "ax1.set_xlabel('score')\n",
    "ax1.set_ylabel('person number')\n",
    "ax1.set_xticks(np.linspace(0,100,25+1))\n",
    "\n",
    "plt.show()\n",
    "plt.close()"
   ]
  },
  {
   "cell_type": "code",
   "execution_count": 61,
   "id": "25f430f9",
   "metadata": {},
   "outputs": [
    {
     "data": {
      "image/png": "[encoded data removed]",
      "text/plain": [
       "<Figure size 360x432 with 1 Axes>"
      ]
     },
     "metadata": {
      "needs_background": "light"
     },
     "output_type": "display_data"
    }
   ],
   "source": [
    "# 상자 그림\n",
    "fig = plt.figure(figsize=(5,6))\n",
    "ax = fig.add_subplot(111)\n",
    "ax.boxplot(eng_scores, labels=['english'])\n",
    "plt.show()\n",
    "plt.close()"
   ]
  },
  {
   "cell_type": "code",
   "execution_count": 62,
   "id": "4da1b403",
   "metadata": {},
   "outputs": [
    {
     "name": "stdout",
     "output_type": "stream",
     "text": [
      "4.0\n"
     ]
    },
    {
     "data": {
      "text/plain": [
       "1.2"
      ]
     },
     "execution_count": 62,
     "metadata": {},
     "output_type": "execute_result"
    }
   ],
   "source": [
    "# 표본분산\n",
    "data = np.array([2,3,3,4,4,4,4,5,5,6])\n",
    "mu = np.sum(data)/len(data)\n",
    "print(mu)\n",
    "s = np.sum((data-mu)**2)/len(data)\n",
    "s"
   ]
  },
  {
   "cell_type": "code",
   "execution_count": 63,
   "id": "ab8a0552",
   "metadata": {},
   "outputs": [
    {
     "data": {
      "text/plain": [
       "1.3333333333333333"
      ]
     },
     "execution_count": 63,
     "metadata": {},
     "output_type": "execute_result"
    }
   ],
   "source": [
    "# 불편분산\n",
    "s1 = np.sum((data-mu)**2)/(len(data)-1)\n",
    "s1"
   ]
  },
  {
   "cell_type": "code",
   "execution_count": 64,
   "id": "d83fa1b2",
   "metadata": {},
   "outputs": [],
   "source": [
    "# [과제] 1변량 데이터인 data에 대하여 평균, 표본분산, 불편분산, 표준편차, 최대, 최소, 4분위수, 중앙값을 구하세요\n",
    "# 단, 함수사용하는 경우와 사용하지 않는 경우를 모두 수행"
   ]
  },
  {
   "cell_type": "code",
   "execution_count": 65,
   "id": "50b3c6e6",
   "metadata": {},
   "outputs": [
    {
     "name": "stdout",
     "output_type": "stream",
     "text": [
      "4.714285714285714 \n",
      "\n",
      "4.204081632653061\n",
      "4.204081632653061\n",
      "4.904761904761904\n",
      "4.904761904761904\n",
      "8\n",
      "1\n",
      "4.0\n",
      "6.0\n",
      "8\n"
     ]
    }
   ],
   "source": [
    "import numpy as np\n",
    "arr = np.random.randint(1,10, size=(7))\n",
    "arr\n",
    "#평균\n",
    "print(arr.mean(),'\\n')\n",
    "#표본분산\n",
    "print(np.sum((arr-arr.mean())**2)/len(arr))\n",
    "print(np.var(arr))\n",
    "#불편분산\n",
    "print(np.sum((arr-arr.mean())**2)/(len(arr)-1))\n",
    "print(np.var(arr,ddof=1))\n",
    "#최대\n",
    "print(arr.max())\n",
    "#최소\n",
    "print(arr.min())\n",
    "#4분위수\n",
    "arr_25 = np.percentile(arr,25)\n",
    "arr_75 = np.percentile(arr,75)\n",
    "print(arr_25)\n",
    "print(arr_75)\n",
    "IQR = arr_75-arr_25\n",
    "IQR\n",
    "#중앙값\n",
    "if len(arr)%2 == 0:\n",
    "    med_0 = arr[len(arr)//2-1]\n",
    "    med_1 = arr[len(arr)//2]\n",
    "    med = (med_0+med_1)/2\n",
    "else:\n",
    "    med = arr[(len(arr)+1)//2]\n",
    "print(med)"
   ]
  },
  {
   "cell_type": "markdown",
   "id": "5922c8e3",
   "metadata": {},
   "source": [
    "## 2차원 데이터"
   ]
  },
  {
   "cell_type": "code",
   "execution_count": 66,
   "id": "d1a0a1fb",
   "metadata": {},
   "outputs": [
    {
     "data": {
      "text/html": [
       "<div>\n",
       "<style scoped>\n",
       "    .dataframe tbody tr th:only-of-type {\n",
       "        vertical-align: middle;\n",
       "    }\n",
       "\n",
       "    .dataframe tbody tr th {\n",
       "        vertical-align: top;\n",
       "    }\n",
       "\n",
       "    .dataframe thead th {\n",
       "        text-align: right;\n",
       "    }\n",
       "</style>\n",
       "<table border=\"1\" class=\"dataframe\">\n",
       "  <thead>\n",
       "    <tr style=\"text-align: right;\">\n",
       "      <th></th>\n",
       "      <th>english</th>\n",
       "      <th>mathematics</th>\n",
       "    </tr>\n",
       "    <tr>\n",
       "      <th>student</th>\n",
       "      <th></th>\n",
       "      <th></th>\n",
       "    </tr>\n",
       "  </thead>\n",
       "  <tbody>\n",
       "    <tr>\n",
       "      <th>A</th>\n",
       "      <td>42</td>\n",
       "      <td>65</td>\n",
       "    </tr>\n",
       "    <tr>\n",
       "      <th>B</th>\n",
       "      <td>69</td>\n",
       "      <td>80</td>\n",
       "    </tr>\n",
       "    <tr>\n",
       "      <th>C</th>\n",
       "      <td>56</td>\n",
       "      <td>63</td>\n",
       "    </tr>\n",
       "    <tr>\n",
       "      <th>D</th>\n",
       "      <td>41</td>\n",
       "      <td>63</td>\n",
       "    </tr>\n",
       "    <tr>\n",
       "      <th>E</th>\n",
       "      <td>57</td>\n",
       "      <td>76</td>\n",
       "    </tr>\n",
       "  </tbody>\n",
       "</table>\n",
       "</div>"
      ],
      "text/plain": [
       "         english  mathematics\n",
       "student                      \n",
       "A             42           65\n",
       "B             69           80\n",
       "C             56           63\n",
       "D             41           63\n",
       "E             57           76"
      ]
     },
     "execution_count": 66,
     "metadata": {},
     "output_type": "execute_result"
    }
   ],
   "source": [
    "df = pd.read_csv('./data/ch2_scores_em.csv', index_col='student number')\n",
    "\n",
    "en_scores = np.array(df.english)[:10]\n",
    "ms_scores = np.array(df.mathematics)[:10]\n",
    "sdf = pd.DataFrame({'english':en_scores,'mathematics':ms_scores},\n",
    "                  index = pd.Index(['A','B','C','D','E','F','G','H','I','J'],name='student'))\n",
    "sdf.head()"
   ]
  },
  {
   "cell_type": "code",
   "execution_count": 67,
   "id": "c46acfa2",
   "metadata": {},
   "outputs": [
    {
     "data": {
      "text/html": [
       "<div>\n",
       "<style scoped>\n",
       "    .dataframe tbody tr th:only-of-type {\n",
       "        vertical-align: middle;\n",
       "    }\n",
       "\n",
       "    .dataframe tbody tr th {\n",
       "        vertical-align: top;\n",
       "    }\n",
       "\n",
       "    .dataframe thead th {\n",
       "        text-align: right;\n",
       "    }\n",
       "</style>\n",
       "<table border=\"1\" class=\"dataframe\">\n",
       "  <thead>\n",
       "    <tr style=\"text-align: right;\">\n",
       "      <th></th>\n",
       "      <th>english</th>\n",
       "      <th>mathematics</th>\n",
       "      <th>eng_deviation</th>\n",
       "      <th>math_deviation</th>\n",
       "      <th>product of deviation</th>\n",
       "    </tr>\n",
       "    <tr>\n",
       "      <th>student</th>\n",
       "      <th></th>\n",
       "      <th></th>\n",
       "      <th></th>\n",
       "      <th></th>\n",
       "      <th></th>\n",
       "    </tr>\n",
       "  </thead>\n",
       "  <tbody>\n",
       "    <tr>\n",
       "      <th>A</th>\n",
       "      <td>42</td>\n",
       "      <td>65</td>\n",
       "      <td>-13.0</td>\n",
       "      <td>-6.4</td>\n",
       "      <td>83.2</td>\n",
       "    </tr>\n",
       "    <tr>\n",
       "      <th>B</th>\n",
       "      <td>69</td>\n",
       "      <td>80</td>\n",
       "      <td>14.0</td>\n",
       "      <td>8.6</td>\n",
       "      <td>120.4</td>\n",
       "    </tr>\n",
       "    <tr>\n",
       "      <th>C</th>\n",
       "      <td>56</td>\n",
       "      <td>63</td>\n",
       "      <td>1.0</td>\n",
       "      <td>-8.4</td>\n",
       "      <td>-8.4</td>\n",
       "    </tr>\n",
       "    <tr>\n",
       "      <th>D</th>\n",
       "      <td>41</td>\n",
       "      <td>63</td>\n",
       "      <td>-14.0</td>\n",
       "      <td>-8.4</td>\n",
       "      <td>117.6</td>\n",
       "    </tr>\n",
       "    <tr>\n",
       "      <th>E</th>\n",
       "      <td>57</td>\n",
       "      <td>76</td>\n",
       "      <td>2.0</td>\n",
       "      <td>4.6</td>\n",
       "      <td>9.2</td>\n",
       "    </tr>\n",
       "    <tr>\n",
       "      <th>F</th>\n",
       "      <td>48</td>\n",
       "      <td>60</td>\n",
       "      <td>-7.0</td>\n",
       "      <td>-11.4</td>\n",
       "      <td>79.8</td>\n",
       "    </tr>\n",
       "    <tr>\n",
       "      <th>G</th>\n",
       "      <td>65</td>\n",
       "      <td>81</td>\n",
       "      <td>10.0</td>\n",
       "      <td>9.6</td>\n",
       "      <td>96.0</td>\n",
       "    </tr>\n",
       "    <tr>\n",
       "      <th>H</th>\n",
       "      <td>49</td>\n",
       "      <td>66</td>\n",
       "      <td>-6.0</td>\n",
       "      <td>-5.4</td>\n",
       "      <td>32.4</td>\n",
       "    </tr>\n",
       "    <tr>\n",
       "      <th>I</th>\n",
       "      <td>65</td>\n",
       "      <td>78</td>\n",
       "      <td>10.0</td>\n",
       "      <td>6.6</td>\n",
       "      <td>66.0</td>\n",
       "    </tr>\n",
       "    <tr>\n",
       "      <th>J</th>\n",
       "      <td>58</td>\n",
       "      <td>82</td>\n",
       "      <td>3.0</td>\n",
       "      <td>10.6</td>\n",
       "      <td>31.8</td>\n",
       "    </tr>\n",
       "  </tbody>\n",
       "</table>\n",
       "</div>"
      ],
      "text/plain": [
       "         english  mathematics  eng_deviation  math_deviation  \\\n",
       "student                                                        \n",
       "A             42           65          -13.0            -6.4   \n",
       "B             69           80           14.0             8.6   \n",
       "C             56           63            1.0            -8.4   \n",
       "D             41           63          -14.0            -8.4   \n",
       "E             57           76            2.0             4.6   \n",
       "F             48           60           -7.0           -11.4   \n",
       "G             65           81           10.0             9.6   \n",
       "H             49           66           -6.0            -5.4   \n",
       "I             65           78           10.0             6.6   \n",
       "J             58           82            3.0            10.6   \n",
       "\n",
       "         product of deviation  \n",
       "student                        \n",
       "A                        83.2  \n",
       "B                       120.4  \n",
       "C                        -8.4  \n",
       "D                       117.6  \n",
       "E                         9.2  \n",
       "F                        79.8  \n",
       "G                        96.0  \n",
       "H                        32.4  \n",
       "I                        66.0  \n",
       "J                        31.8  "
      ]
     },
     "execution_count": 67,
     "metadata": {},
     "output_type": "execute_result"
    }
   ],
   "source": [
    "# 공분산\n",
    "dfc = sdf.copy()\n",
    "dfc['eng_deviation'] = dfc.english - dfc.english.mean()\n",
    "dfc['math_deviation'] = dfc.mathematics - dfc.mathematics.mean()\n",
    "dfc['product of deviation'] = dfc['eng_deviation']*dfc['math_deviation']\n",
    "dfc"
   ]
  },
  {
   "cell_type": "code",
   "execution_count": 68,
   "id": "67fbed99",
   "metadata": {},
   "outputs": [
    {
     "data": {
      "text/plain": [
       "62.8"
      ]
     },
     "execution_count": 68,
     "metadata": {},
     "output_type": "execute_result"
    }
   ],
   "source": [
    "dfc['product of deviation'].mean()"
   ]
  },
  {
   "cell_type": "code",
   "execution_count": 69,
   "id": "d1e0052a",
   "metadata": {},
   "outputs": [
    {
     "data": {
      "text/plain": [
       "array([[86.  , 62.8 ],\n",
       "       [62.8 , 68.44]])"
      ]
     },
     "execution_count": 69,
     "metadata": {},
     "output_type": "execute_result"
    }
   ],
   "source": [
    "# ddof 확인 요\n",
    "cov_mat = np.cov(en_scores,ms_scores,ddof=0)\n",
    "cov_mat"
   ]
  },
  {
   "cell_type": "code",
   "execution_count": 70,
   "id": "1b1b71be",
   "metadata": {},
   "outputs": [
    {
     "data": {
      "text/plain": [
       "(86.0, 68.44000000000001)"
      ]
     },
     "execution_count": 70,
     "metadata": {},
     "output_type": "execute_result"
    }
   ],
   "source": [
    "np.var(en_scores,ddof=0), np.var(ms_scores,ddof=0)"
   ]
  },
  {
   "cell_type": "code",
   "execution_count": 71,
   "id": "22fcb901",
   "metadata": {},
   "outputs": [
    {
     "data": {
      "text/plain": [
       "0.8185692341186713"
      ]
     },
     "execution_count": 71,
     "metadata": {},
     "output_type": "execute_result"
    }
   ],
   "source": [
    "# 상관계수\n",
    "np.cov(en_scores,ms_scores,ddof=0)[0,1]/(np.std(en_scores)*np.std(ms_scores))"
   ]
  },
  {
   "cell_type": "code",
   "execution_count": 72,
   "id": "92ed9b97",
   "metadata": {},
   "outputs": [
    {
     "data": {
      "text/plain": [
       "array([[1.        , 0.81856923],\n",
       "       [0.81856923, 1.        ]])"
      ]
     },
     "execution_count": 72,
     "metadata": {},
     "output_type": "execute_result"
    }
   ],
   "source": [
    "np.corrcoef(en_scores,ms_scores)"
   ]
  },
  {
   "cell_type": "code",
   "execution_count": 73,
   "id": "0feaa410",
   "metadata": {},
   "outputs": [
    {
     "data": {
      "text/html": [
       "<div>\n",
       "<style scoped>\n",
       "    .dataframe tbody tr th:only-of-type {\n",
       "        vertical-align: middle;\n",
       "    }\n",
       "\n",
       "    .dataframe tbody tr th {\n",
       "        vertical-align: top;\n",
       "    }\n",
       "\n",
       "    .dataframe thead th {\n",
       "        text-align: right;\n",
       "    }\n",
       "</style>\n",
       "<table border=\"1\" class=\"dataframe\">\n",
       "  <thead>\n",
       "    <tr style=\"text-align: right;\">\n",
       "      <th></th>\n",
       "      <th>english</th>\n",
       "      <th>mathematics</th>\n",
       "    </tr>\n",
       "  </thead>\n",
       "  <tbody>\n",
       "    <tr>\n",
       "      <th>english</th>\n",
       "      <td>1.000000</td>\n",
       "      <td>0.818569</td>\n",
       "    </tr>\n",
       "    <tr>\n",
       "      <th>mathematics</th>\n",
       "      <td>0.818569</td>\n",
       "      <td>1.000000</td>\n",
       "    </tr>\n",
       "  </tbody>\n",
       "</table>\n",
       "</div>"
      ],
      "text/plain": [
       "              english  mathematics\n",
       "english      1.000000     0.818569\n",
       "mathematics  0.818569     1.000000"
      ]
     },
     "execution_count": 73,
     "metadata": {},
     "output_type": "execute_result"
    }
   ],
   "source": [
    "dfc[['english','mathematics']].corr()"
   ]
  },
  {
   "cell_type": "code",
   "execution_count": 74,
   "id": "69674107",
   "metadata": {},
   "outputs": [],
   "source": [
    "# [과제] 10행 2열 2차원 배열을 생성하고 두열간의 공분산 및 상관계수를 구하세요(단, numpy, pandas 두가지 방식으로 모두 수행)"
   ]
  },
  {
   "cell_type": "code",
   "execution_count": 75,
   "id": "868be6b3",
   "metadata": {},
   "outputs": [
    {
     "name": "stdout",
     "output_type": "stream",
     "text": [
      "[[36 87]\n",
      " [70 88]\n",
      " [88 12]\n",
      " [58 65]\n",
      " [39 87]\n",
      " [46 88]\n",
      " [81 37]\n",
      " [25 77]\n",
      " [72  9]\n",
      " [20 80]] \n",
      "\n",
      "공분산 : -497.6\n",
      "상관계수 : -0.7318918641461987\n"
     ]
    }
   ],
   "source": [
    "arr = np.random.randint(0,100,20).reshape(10,2)\n",
    "np.random.seed(0)\n",
    "print(arr,'\\n')\n",
    "arr1 = arr[:,0]\n",
    "arr2 = arr[:,1]\n",
    "arr1_dev = arr1 - np.mean(arr1)\n",
    "arr2_dev = arr2 - np.mean(arr2)\n",
    "GBS = np.mean(arr1_dev*arr2_dev)\n",
    "SGGS = np.cov(arr1,arr2,ddof=0)[0,1]/(np.std(arr1)*np.std(arr2))\n",
    "print(f'공분산 : {GBS}')\n",
    "print(f'상관계수 : {SGGS}')\n"
   ]
  },
  {
   "cell_type": "code",
   "execution_count": 76,
   "id": "3cb0c38e",
   "metadata": {},
   "outputs": [
    {
     "data": {
      "image/png": "[encoded data removed]",
      "text/plain": [
       "<Figure size 576x432 with 1 Axes>"
      ]
     },
     "metadata": {
      "needs_background": "light"
     },
     "output_type": "display_data"
    }
   ],
   "source": [
    "# 산점도\n",
    "df2 = dfc[['english','mathematics']]\n",
    "fig = plt.figure(figsize=(8,6))\n",
    "ax = fig.add_subplot(111)\n",
    "ax.scatter(df2.english,df2.mathematics)\n",
    "ax.set_xlabel('english')\n",
    "ax.set_ylabel('mathematics')\n",
    "plt.show()\n",
    "plt.close()"
   ]
  },
  {
   "cell_type": "markdown",
   "id": "0658d2c3",
   "metadata": {},
   "source": [
    "다항곡선 회귀분석\n",
    "\n",
    "기본문법: p = polyfit(x,y,n)\n",
    "\n",
    "https://qlsenddl-lab.tistory.com/48\n"
   ]
  },
  {
   "cell_type": "code",
   "execution_count": 85,
   "id": "03d014ca",
   "metadata": {},
   "outputs": [
    {
     "data": {
      "image/png": "[encoded data removed]",
      "text/plain": [
       "<Figure size 1296x432 with 2 Axes>"
      ]
     },
     "metadata": {
      "needs_background": "light"
     },
     "output_type": "display_data"
    }
   ],
   "source": [
    "# 회귀직선\n",
    "eng_scores = np.array(df['english'])\n",
    "math_scores = np.array(df['mathematics'])\n",
    "# 계수 구하기\n",
    "poly_fit = np.polyfit(eng_scores,math_scores,1)\n",
    "poly_1d = np.poly1d(poly_fit)\n",
    "xs = np.linspace(eng_scores.min(),eng_scores.max())\n",
    "ys = poly_1d(xs)\n",
    "\n",
    "fig = plt.figure(figsize=(18,6))\n",
    "ax1 = fig.add_subplot(121)\n",
    "ax2 = fig.add_subplot(122)\n",
    "ax1.scatter(eng_scores,math_scores)\n",
    "ax2.plot(xs,ys)\n",
    "ax1.set_xlabel('english')\n",
    "ax1.set_ylabel('mathematics')\n",
    "ax2.set_xlabel('english')\n",
    "ax2.set_ylabel('mathematics')\n",
    "plt.show()"
   ]
  },
  {
   "cell_type": "code",
   "execution_count": 89,
   "id": "422852c6",
   "metadata": {},
   "outputs": [
    {
     "data": {
      "image/png": "[encoded data removed]",
      "text/plain": [
       "<Figure size 1296x432 with 2 Axes>"
      ]
     },
     "metadata": {
      "needs_background": "light"
     },
     "output_type": "display_data"
    }
   ],
   "source": [
    "import seaborn as sns\n",
    "fig, axes = plt.subplots(1,2,figsize=(18,6),sharex=True)\n",
    "sns.regplot(ax=axes[0], x=df.english, y=df.mathematics, fit_reg=False)\n",
    "sns.regplot(ax=axes[1], x=df.english, y=df.mathematics)\n",
    "plt.show()"
   ]
  },
  {
   "cell_type": "code",
   "execution_count": null,
   "id": "402d7caf",
   "metadata": {},
   "outputs": [],
   "source": [
    "# Q. english와 mathematics 두변수의 상관관계를 히트맵으로 표현하세요."
   ]
  },
  {
   "cell_type": "code",
   "execution_count": 97,
   "id": "ae56aa4a",
   "metadata": {},
   "outputs": [
    {
     "data": {
      "image/png": "[encoded data removed]",
      "text/plain": [
       "<Figure size 360x288 with 2 Axes>"
      ]
     },
     "metadata": {
      "needs_background": "light"
     },
     "output_type": "display_data"
    }
   ],
   "source": [
    "plt.figure(figsize=(5,4))\n",
    "sns.heatmap(df.corr(),annot=True)\n",
    "plt.title('Heatmap',fontsize=20)\n",
    "plt.show()\n",
    "plt.close()"
   ]
  },
  {
   "cell_type": "code",
   "execution_count": 99,
   "id": "eea3fcbc",
   "metadata": {},
   "outputs": [
    {
     "data": {
      "text/plain": [
       "78.88"
      ]
     },
     "execution_count": 99,
     "metadata": {},
     "output_type": "execute_result"
    }
   ],
   "source": [
    "df.mathematics.mean()"
   ]
  },
  {
   "cell_type": "code",
   "execution_count": 93,
   "id": "15e6978c",
   "metadata": {},
   "outputs": [
    {
     "data": {
      "image/png": "[encoded data removed]",
      "text/plain": [
       "<Figure size 576x432 with 2 Axes>"
      ]
     },
     "metadata": {
      "needs_background": "light"
     },
     "output_type": "display_data"
    }
   ],
   "source": [
    "# hist2d 메소드로 히트맵 작성\n",
    "fig = plt.figure(figsize=(8,6))\n",
    "ax = fig.add_subplot(111)\n",
    "\n",
    "c = ax.hist2d(eng_scores,math_scores,\n",
    "             bins=[9,8], range=[(35,80),(55,95)])\n",
    "# print(c)\n",
    "ax.set_xlabel('english')\n",
    "ax.set_ylabel('mathematics')\n",
    "ax.set_xticks(c[1])\n",
    "ax.set_yticks(c[2])\n",
    "fig.colorbar(c[3],ax=ax)\n",
    "plt.show()"
   ]
  },
  {
   "cell_type": "code",
   "execution_count": 103,
   "id": "8f67a18f",
   "metadata": {},
   "outputs": [
    {
     "name": "stdout",
     "output_type": "stream",
     "text": [
      "(4, 11, 2)\n"
     ]
    },
    {
     "data": {
      "text/plain": [
       "array([[10.  ,  8.04],\n",
       "       [ 8.  ,  6.95],\n",
       "       [13.  ,  7.58],\n",
       "       [ 9.  ,  8.81],\n",
       "       [11.  ,  8.33],\n",
       "       [14.  ,  9.96],\n",
       "       [ 6.  ,  7.24],\n",
       "       [ 4.  ,  4.26],\n",
       "       [12.  , 10.84],\n",
       "       [ 7.  ,  4.82],\n",
       "       [ 5.  ,  5.68]])"
      ]
     },
     "execution_count": 103,
     "metadata": {},
     "output_type": "execute_result"
    }
   ],
   "source": [
    "anscombe_data = np.load('./data/ch3_anscombe.npy')\n",
    "print(anscombe_data.shape)\n",
    "anscombe_data[0]"
   ]
  },
  {
   "cell_type": "code",
   "execution_count": 104,
   "id": "905f97c6",
   "metadata": {},
   "outputs": [
    {
     "data": {
      "text/html": [
       "<div>\n",
       "<style scoped>\n",
       "    .dataframe tbody tr th:only-of-type {\n",
       "        vertical-align: middle;\n",
       "    }\n",
       "\n",
       "    .dataframe tbody tr th {\n",
       "        vertical-align: top;\n",
       "    }\n",
       "\n",
       "    .dataframe thead th {\n",
       "        text-align: right;\n",
       "    }\n",
       "</style>\n",
       "<table border=\"1\" class=\"dataframe\">\n",
       "  <thead>\n",
       "    <tr style=\"text-align: right;\">\n",
       "      <th></th>\n",
       "      <th>data1</th>\n",
       "      <th>data2</th>\n",
       "      <th>data3</th>\n",
       "      <th>data4</th>\n",
       "    </tr>\n",
       "  </thead>\n",
       "  <tbody>\n",
       "    <tr>\n",
       "      <th>X_mean</th>\n",
       "      <td>9.00</td>\n",
       "      <td>9.00</td>\n",
       "      <td>9.00</td>\n",
       "      <td>9.00</td>\n",
       "    </tr>\n",
       "    <tr>\n",
       "      <th>X_variance</th>\n",
       "      <td>10.00</td>\n",
       "      <td>10.00</td>\n",
       "      <td>10.00</td>\n",
       "      <td>10.00</td>\n",
       "    </tr>\n",
       "    <tr>\n",
       "      <th>Y_mean</th>\n",
       "      <td>7.50</td>\n",
       "      <td>7.50</td>\n",
       "      <td>7.50</td>\n",
       "      <td>7.50</td>\n",
       "    </tr>\n",
       "    <tr>\n",
       "      <th>Y_variance</th>\n",
       "      <td>3.75</td>\n",
       "      <td>3.75</td>\n",
       "      <td>3.75</td>\n",
       "      <td>3.75</td>\n",
       "    </tr>\n",
       "    <tr>\n",
       "      <th>X&amp;Y_correlation</th>\n",
       "      <td>0.82</td>\n",
       "      <td>0.82</td>\n",
       "      <td>0.82</td>\n",
       "      <td>0.82</td>\n",
       "    </tr>\n",
       "    <tr>\n",
       "      <th>X&amp;Y_regression line</th>\n",
       "      <td>3.00+0.50x</td>\n",
       "      <td>3.00+0.50x</td>\n",
       "      <td>3.00+0.50x</td>\n",
       "      <td>3.00+0.50x</td>\n",
       "    </tr>\n",
       "  </tbody>\n",
       "</table>\n",
       "</div>"
      ],
      "text/plain": [
       "                          data1       data2       data3       data4\n",
       "X_mean                     9.00        9.00        9.00        9.00\n",
       "X_variance                10.00       10.00       10.00       10.00\n",
       "Y_mean                     7.50        7.50        7.50        7.50\n",
       "Y_variance                 3.75        3.75        3.75        3.75\n",
       "X&Y_correlation            0.82        0.82        0.82        0.82\n",
       "X&Y_regression line  3.00+0.50x  3.00+0.50x  3.00+0.50x  3.00+0.50x"
      ]
     },
     "execution_count": 104,
     "metadata": {},
     "output_type": "execute_result"
    }
   ],
   "source": [
    "stats_df = pd.DataFrame(index = ['X_mean','X_variance','Y_mean','Y_variance','X&Y_correlation','X&Y_regression line'])\n",
    "for i, data in enumerate(anscombe_data):\n",
    "    dataX = data[:,0]\n",
    "    dataY = data[:,1]\n",
    "    poly_fit = np.polyfit(dataX,dataY,1)\n",
    "    stats_df[f'data{i+1}'] = [f'{np.mean(dataX):.2f}',\n",
    "                              f'{np.var(dataX):.2f}',\n",
    "                              f'{np.mean(dataY):.2f}',\n",
    "                              f'{np.var(dataY):.2f}',\n",
    "                              f'{np.corrcoef(dataX,dataY)[0,1]:.2f}',\n",
    "                              f'{poly_fit[1]:.2f}+{poly_fit[0]:.2f}x']\n",
    "stats_df"
   ]
  },
  {
   "cell_type": "code",
   "execution_count": 108,
   "id": "b053cd16",
   "metadata": {},
   "outputs": [
    {
     "data": {
      "image/png": "[encoded data removed]",
      "text/plain": [
       "<Figure size 720x720 with 4 Axes>"
      ]
     },
     "metadata": {
      "needs_background": "light"
     },
     "output_type": "display_data"
    }
   ],
   "source": [
    "fig,axes = plt.subplots(nrows=2, ncols=2,figsize=(10,10),\n",
    "                       sharex=True, sharey=True)\n",
    "xs = np.linspace(0,30,100)\n",
    "for i, data in enumerate(anscombe_data):\n",
    "    poly_fit = np.polyfit(data[:,0],data[:,1],1)\n",
    "    poly_1d = np.poly1d(poly_fit)\n",
    "    ys = poly_1d(xs)\n",
    "    ax = axes[i//2, i%2]\n",
    "    ax.set_xlim([4,20])\n",
    "    ax.set_ylim([3,13])\n",
    "    ax.set_title(f'data{i+1}')\n",
    "    ax.scatter(data[:,0],data[:,1])\n",
    "    ax.plot(xs,ys,color='gray')\n",
    "plt.tight_layout()\n",
    "plt.show()"
   ]
  },
  {
   "cell_type": "code",
   "execution_count": 78,
   "id": "16cf9249",
   "metadata": {},
   "outputs": [
    {
     "data": {
      "text/html": [
       "<div>\n",
       "<style scoped>\n",
       "    .dataframe tbody tr th:only-of-type {\n",
       "        vertical-align: middle;\n",
       "    }\n",
       "\n",
       "    .dataframe tbody tr th {\n",
       "        vertical-align: top;\n",
       "    }\n",
       "\n",
       "    .dataframe thead th {\n",
       "        text-align: right;\n",
       "    }\n",
       "</style>\n",
       "<table border=\"1\" class=\"dataframe\">\n",
       "  <thead>\n",
       "    <tr style=\"text-align: right;\">\n",
       "      <th></th>\n",
       "      <th>species</th>\n",
       "      <th>length</th>\n",
       "    </tr>\n",
       "  </thead>\n",
       "  <tbody>\n",
       "    <tr>\n",
       "      <th>0</th>\n",
       "      <td>A</td>\n",
       "      <td>2</td>\n",
       "    </tr>\n",
       "    <tr>\n",
       "      <th>1</th>\n",
       "      <td>A</td>\n",
       "      <td>3</td>\n",
       "    </tr>\n",
       "    <tr>\n",
       "      <th>2</th>\n",
       "      <td>A</td>\n",
       "      <td>4</td>\n",
       "    </tr>\n",
       "    <tr>\n",
       "      <th>3</th>\n",
       "      <td>B</td>\n",
       "      <td>6</td>\n",
       "    </tr>\n",
       "    <tr>\n",
       "      <th>4</th>\n",
       "      <td>B</td>\n",
       "      <td>8</td>\n",
       "    </tr>\n",
       "    <tr>\n",
       "      <th>5</th>\n",
       "      <td>B</td>\n",
       "      <td>10</td>\n",
       "    </tr>\n",
       "  </tbody>\n",
       "</table>\n",
       "</div>"
      ],
      "text/plain": [
       "  species  length\n",
       "0       A       2\n",
       "1       A       3\n",
       "2       A       4\n",
       "3       B       6\n",
       "4       B       8\n",
       "5       B      10"
      ]
     },
     "execution_count": 78,
     "metadata": {},
     "output_type": "execute_result"
    }
   ],
   "source": [
    "import pandas as pd\n",
    "fdf = pd.read_csv('./data/5_2_fm.csv')\n",
    "fdf"
   ]
  },
  {
   "cell_type": "code",
   "execution_count": 109,
   "id": "d07e1558",
   "metadata": {},
   "outputs": [
    {
     "data": {
      "text/html": [
       "<div>\n",
       "<style scoped>\n",
       "    .dataframe tbody tr th:only-of-type {\n",
       "        vertical-align: middle;\n",
       "    }\n",
       "\n",
       "    .dataframe tbody tr th {\n",
       "        vertical-align: top;\n",
       "    }\n",
       "\n",
       "    .dataframe thead tr th {\n",
       "        text-align: left;\n",
       "    }\n",
       "\n",
       "    .dataframe thead tr:last-of-type th {\n",
       "        text-align: right;\n",
       "    }\n",
       "</style>\n",
       "<table border=\"1\" class=\"dataframe\">\n",
       "  <thead>\n",
       "    <tr>\n",
       "      <th></th>\n",
       "      <th colspan=\"8\" halign=\"left\">length</th>\n",
       "    </tr>\n",
       "    <tr>\n",
       "      <th></th>\n",
       "      <th>count</th>\n",
       "      <th>mean</th>\n",
       "      <th>std</th>\n",
       "      <th>min</th>\n",
       "      <th>25%</th>\n",
       "      <th>50%</th>\n",
       "      <th>75%</th>\n",
       "      <th>max</th>\n",
       "    </tr>\n",
       "    <tr>\n",
       "      <th>species</th>\n",
       "      <th></th>\n",
       "      <th></th>\n",
       "      <th></th>\n",
       "      <th></th>\n",
       "      <th></th>\n",
       "      <th></th>\n",
       "      <th></th>\n",
       "      <th></th>\n",
       "    </tr>\n",
       "  </thead>\n",
       "  <tbody>\n",
       "    <tr>\n",
       "      <th>A</th>\n",
       "      <td>3.0</td>\n",
       "      <td>3.0</td>\n",
       "      <td>1.0</td>\n",
       "      <td>2.0</td>\n",
       "      <td>2.5</td>\n",
       "      <td>3.0</td>\n",
       "      <td>3.5</td>\n",
       "      <td>4.0</td>\n",
       "    </tr>\n",
       "    <tr>\n",
       "      <th>B</th>\n",
       "      <td>3.0</td>\n",
       "      <td>8.0</td>\n",
       "      <td>2.0</td>\n",
       "      <td>6.0</td>\n",
       "      <td>7.0</td>\n",
       "      <td>8.0</td>\n",
       "      <td>9.0</td>\n",
       "      <td>10.0</td>\n",
       "    </tr>\n",
       "  </tbody>\n",
       "</table>\n",
       "</div>"
      ],
      "text/plain": [
       "        length                                    \n",
       "         count mean  std  min  25%  50%  75%   max\n",
       "species                                           \n",
       "A          3.0  3.0  1.0  2.0  2.5  3.0  3.5   4.0\n",
       "B          3.0  8.0  2.0  6.0  7.0  8.0  9.0  10.0"
      ]
     },
     "execution_count": 109,
     "metadata": {},
     "output_type": "execute_result"
    }
   ],
   "source": [
    "# Q. species 그룹별 통계량을 구하세요\n",
    "fdf.groupby('species').describe()"
   ]
  },
  {
   "cell_type": "code",
   "execution_count": 80,
   "id": "9785924b",
   "metadata": {},
   "outputs": [
    {
     "data": {
      "text/html": [
       "<div>\n",
       "<style scoped>\n",
       "    .dataframe tbody tr th:only-of-type {\n",
       "        vertical-align: middle;\n",
       "    }\n",
       "\n",
       "    .dataframe tbody tr th {\n",
       "        vertical-align: top;\n",
       "    }\n",
       "\n",
       "    .dataframe thead th {\n",
       "        text-align: right;\n",
       "    }\n",
       "</style>\n",
       "<table border=\"1\" class=\"dataframe\">\n",
       "  <thead>\n",
       "    <tr style=\"text-align: right;\">\n",
       "      <th></th>\n",
       "      <th>store</th>\n",
       "      <th>color</th>\n",
       "      <th>sales</th>\n",
       "    </tr>\n",
       "  </thead>\n",
       "  <tbody>\n",
       "    <tr>\n",
       "      <th>0</th>\n",
       "      <td>tokyo</td>\n",
       "      <td>blue</td>\n",
       "      <td>10</td>\n",
       "    </tr>\n",
       "    <tr>\n",
       "      <th>1</th>\n",
       "      <td>tokyo</td>\n",
       "      <td>red</td>\n",
       "      <td>15</td>\n",
       "    </tr>\n",
       "    <tr>\n",
       "      <th>2</th>\n",
       "      <td>osaka</td>\n",
       "      <td>blue</td>\n",
       "      <td>13</td>\n",
       "    </tr>\n",
       "    <tr>\n",
       "      <th>3</th>\n",
       "      <td>osaka</td>\n",
       "      <td>red</td>\n",
       "      <td>9</td>\n",
       "    </tr>\n",
       "  </tbody>\n",
       "</table>\n",
       "</div>"
      ],
      "text/plain": [
       "   store color  sales\n",
       "0  tokyo  blue     10\n",
       "1  tokyo   red     15\n",
       "2  osaka  blue     13\n",
       "3  osaka   red      9"
      ]
     },
     "execution_count": 80,
     "metadata": {},
     "output_type": "execute_result"
    }
   ],
   "source": [
    "import pandas as pd\n",
    "sdf = pd.read_csv('./data/5_2_shoes.csv')\n",
    "sdf"
   ]
  },
  {
   "cell_type": "code",
   "execution_count": 114,
   "id": "c411f83d",
   "metadata": {},
   "outputs": [
    {
     "data": {
      "text/html": [
       "<div>\n",
       "<style scoped>\n",
       "    .dataframe tbody tr th:only-of-type {\n",
       "        vertical-align: middle;\n",
       "    }\n",
       "\n",
       "    .dataframe tbody tr th {\n",
       "        vertical-align: top;\n",
       "    }\n",
       "\n",
       "    .dataframe thead th {\n",
       "        text-align: right;\n",
       "    }\n",
       "</style>\n",
       "<table border=\"1\" class=\"dataframe\">\n",
       "  <thead>\n",
       "    <tr style=\"text-align: right;\">\n",
       "      <th>color</th>\n",
       "      <th>blue</th>\n",
       "      <th>red</th>\n",
       "    </tr>\n",
       "    <tr>\n",
       "      <th>store</th>\n",
       "      <th></th>\n",
       "      <th></th>\n",
       "    </tr>\n",
       "  </thead>\n",
       "  <tbody>\n",
       "    <tr>\n",
       "      <th>osaka</th>\n",
       "      <td>13</td>\n",
       "      <td>9</td>\n",
       "    </tr>\n",
       "    <tr>\n",
       "      <th>tokyo</th>\n",
       "      <td>10</td>\n",
       "      <td>15</td>\n",
       "    </tr>\n",
       "  </tbody>\n",
       "</table>\n",
       "</div>"
      ],
      "text/plain": [
       "color  blue  red\n",
       "store           \n",
       "osaka    13    9\n",
       "tokyo    10   15"
      ]
     },
     "execution_count": 114,
     "metadata": {},
     "output_type": "execute_result"
    }
   ],
   "source": [
    "# Q. 각 store의 컬러별 판매량을 파악할 수 있는 피봇 테이블을 작성하세요. \n",
    "pivot=pd.pivot_table(sdf, index='store',columns='color', values='sales',aggfunc='sum')\n",
    "pivot\n"
   ]
  },
  {
   "cell_type": "code",
   "execution_count": 115,
   "id": "de35b30f",
   "metadata": {},
   "outputs": [
    {
     "data": {
      "text/html": [
       "<div>\n",
       "<style scoped>\n",
       "    .dataframe tbody tr th:only-of-type {\n",
       "        vertical-align: middle;\n",
       "    }\n",
       "\n",
       "    .dataframe tbody tr th {\n",
       "        vertical-align: top;\n",
       "    }\n",
       "\n",
       "    .dataframe thead th {\n",
       "        text-align: right;\n",
       "    }\n",
       "</style>\n",
       "<table border=\"1\" class=\"dataframe\">\n",
       "  <thead>\n",
       "    <tr style=\"text-align: right;\">\n",
       "      <th></th>\n",
       "      <th></th>\n",
       "      <th>sales</th>\n",
       "    </tr>\n",
       "    <tr>\n",
       "      <th>store</th>\n",
       "      <th>color</th>\n",
       "      <th></th>\n",
       "    </tr>\n",
       "  </thead>\n",
       "  <tbody>\n",
       "    <tr>\n",
       "      <th rowspan=\"2\" valign=\"top\">osaka</th>\n",
       "      <th>blue</th>\n",
       "      <td>13</td>\n",
       "    </tr>\n",
       "    <tr>\n",
       "      <th>red</th>\n",
       "      <td>9</td>\n",
       "    </tr>\n",
       "    <tr>\n",
       "      <th rowspan=\"2\" valign=\"top\">tokyo</th>\n",
       "      <th>blue</th>\n",
       "      <td>10</td>\n",
       "    </tr>\n",
       "    <tr>\n",
       "      <th>red</th>\n",
       "      <td>15</td>\n",
       "    </tr>\n",
       "  </tbody>\n",
       "</table>\n",
       "</div>"
      ],
      "text/plain": [
       "             sales\n",
       "store color       \n",
       "osaka blue      13\n",
       "      red        9\n",
       "tokyo blue      10\n",
       "      red       15"
      ]
     },
     "execution_count": 115,
     "metadata": {},
     "output_type": "execute_result"
    }
   ],
   "source": [
    "sdf.pivot_table(index=['store','color'],values='sales',aggfunc='sum')\n"
   ]
  },
  {
   "cell_type": "code",
   "execution_count": 82,
   "id": "b0d5757f",
   "metadata": {},
   "outputs": [
    {
     "data": {
      "text/html": [
       "<div>\n",
       "<style scoped>\n",
       "    .dataframe tbody tr th:only-of-type {\n",
       "        vertical-align: middle;\n",
       "    }\n",
       "\n",
       "    .dataframe tbody tr th {\n",
       "        vertical-align: top;\n",
       "    }\n",
       "\n",
       "    .dataframe thead th {\n",
       "        text-align: right;\n",
       "    }\n",
       "</style>\n",
       "<table border=\"1\" class=\"dataframe\">\n",
       "  <thead>\n",
       "    <tr style=\"text-align: right;\">\n",
       "      <th></th>\n",
       "      <th>x</th>\n",
       "      <th>y</th>\n",
       "    </tr>\n",
       "  </thead>\n",
       "  <tbody>\n",
       "    <tr>\n",
       "      <th>0</th>\n",
       "      <td>18.5</td>\n",
       "      <td>34</td>\n",
       "    </tr>\n",
       "    <tr>\n",
       "      <th>1</th>\n",
       "      <td>18.7</td>\n",
       "      <td>39</td>\n",
       "    </tr>\n",
       "    <tr>\n",
       "      <th>2</th>\n",
       "      <td>19.1</td>\n",
       "      <td>41</td>\n",
       "    </tr>\n",
       "    <tr>\n",
       "      <th>3</th>\n",
       "      <td>19.7</td>\n",
       "      <td>38</td>\n",
       "    </tr>\n",
       "    <tr>\n",
       "      <th>4</th>\n",
       "      <td>21.5</td>\n",
       "      <td>45</td>\n",
       "    </tr>\n",
       "    <tr>\n",
       "      <th>5</th>\n",
       "      <td>21.7</td>\n",
       "      <td>41</td>\n",
       "    </tr>\n",
       "    <tr>\n",
       "      <th>6</th>\n",
       "      <td>21.8</td>\n",
       "      <td>52</td>\n",
       "    </tr>\n",
       "    <tr>\n",
       "      <th>7</th>\n",
       "      <td>22.0</td>\n",
       "      <td>44</td>\n",
       "    </tr>\n",
       "    <tr>\n",
       "      <th>8</th>\n",
       "      <td>23.4</td>\n",
       "      <td>44</td>\n",
       "    </tr>\n",
       "    <tr>\n",
       "      <th>9</th>\n",
       "      <td>23.8</td>\n",
       "      <td>49</td>\n",
       "    </tr>\n",
       "  </tbody>\n",
       "</table>\n",
       "</div>"
      ],
      "text/plain": [
       "      x   y\n",
       "0  18.5  34\n",
       "1  18.7  39\n",
       "2  19.1  41\n",
       "3  19.7  38\n",
       "4  21.5  45\n",
       "5  21.7  41\n",
       "6  21.8  52\n",
       "7  22.0  44\n",
       "8  23.4  44\n",
       "9  23.8  49"
      ]
     },
     "execution_count": 82,
     "metadata": {},
     "output_type": "execute_result"
    }
   ],
   "source": [
    "cdf = pd.read_csv('./data/4_cov.csv')\n",
    "cdf"
   ]
  },
  {
   "cell_type": "code",
   "execution_count": 121,
   "id": "e8d32072",
   "metadata": {},
   "outputs": [
    {
     "name": "stdout",
     "output_type": "stream",
     "text": [
      "7.67 \n",
      "\n"
     ]
    },
    {
     "data": {
      "text/plain": [
       "array([[ 3.64622222,  7.67333333],\n",
       "       [ 7.67333333, 28.01111111]])"
      ]
     },
     "execution_count": 121,
     "metadata": {},
     "output_type": "execute_result"
    }
   ],
   "source": [
    "# Q. x, y의 공분산을 구하세요.\n",
    "x_dev = cdf.x - cdf.x.mean()\n",
    "y_dev = cdf.y - cdf.y.mean()\n",
    "cov = sum(x_dev * y_dev)/(len(cdf)-1)\n",
    "print(round(cov,2),'\\n')\n",
    "np.cov(x_dev,y_dev,ddof=1)"
   ]
  },
  {
   "cell_type": "code",
   "execution_count": 122,
   "id": "84de88a4",
   "metadata": {},
   "outputs": [
    {
     "data": {
      "text/plain": [
       "7.67"
      ]
     },
     "metadata": {},
     "output_type": "display_data"
    },
    {
     "data": {
      "text/html": [
       "<div>\n",
       "<style scoped>\n",
       "    .dataframe tbody tr th:only-of-type {\n",
       "        vertical-align: middle;\n",
       "    }\n",
       "\n",
       "    .dataframe tbody tr th {\n",
       "        vertical-align: top;\n",
       "    }\n",
       "\n",
       "    .dataframe thead th {\n",
       "        text-align: right;\n",
       "    }\n",
       "</style>\n",
       "<table border=\"1\" class=\"dataframe\">\n",
       "  <thead>\n",
       "    <tr style=\"text-align: right;\">\n",
       "      <th></th>\n",
       "      <th>x</th>\n",
       "      <th>y</th>\n",
       "    </tr>\n",
       "  </thead>\n",
       "  <tbody>\n",
       "    <tr>\n",
       "      <th>x</th>\n",
       "      <td>1.00</td>\n",
       "      <td>0.76</td>\n",
       "    </tr>\n",
       "    <tr>\n",
       "      <th>y</th>\n",
       "      <td>0.76</td>\n",
       "      <td>1.00</td>\n",
       "    </tr>\n",
       "  </tbody>\n",
       "</table>\n",
       "</div>"
      ],
      "text/plain": [
       "      x     y\n",
       "x  1.00  0.76\n",
       "y  0.76  1.00"
      ]
     },
     "metadata": {},
     "output_type": "display_data"
    },
    {
     "data": {
      "text/plain": [
       "array([[1.       , 0.7592719],\n",
       "       [0.7592719, 1.       ]])"
      ]
     },
     "execution_count": 122,
     "metadata": {},
     "output_type": "execute_result"
    }
   ],
   "source": [
    "# Q. 상관행렬을 구하세요\n",
    "display(cdf.cov().iloc[0,1].round(2), cdf.corr().round(2))\n",
    "np.corrcoef(x_dev,y_dev)"
   ]
  }
 ],
 "metadata": {
  "kernelspec": {
   "display_name": "Python 3 (ipykernel)",
   "language": "python",
   "name": "python3"
  },
  "language_info": {
   "codemirror_mode": {
    "name": "ipython",
    "version": 3
   },
   "file_extension": ".py",
   "mimetype": "text/x-python",
   "name": "python",
   "nbconvert_exporter": "python",
   "pygments_lexer": "ipython3",
   "version": "3.8.12"
  }
 },
 "nbformat": 4,
 "nbformat_minor": 5
}
