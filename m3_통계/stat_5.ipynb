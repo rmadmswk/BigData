{
 "cells": [
  {
   "cell_type": "markdown",
   "id": "515da198",
   "metadata": {},
   "source": [
    "#### 통계적 추정\n",
    "- 점추정\n",
    "  - 모평균이나 모분산 등의 모수를 하나의 수치로 추정\n",
    "  - 추정량의 기댓값이 추측하려는 모수가 되는 성질을 불편성이라고 하며 불편성을 가진 추정량을 불편추정량이라고 한다.\n",
    "  - 표본평균이 모평균을 잘 추정할 수 있는 근거 중 하나가 바로 이 불편성이다.\n",
    "  - 표본크기 n을 증가시키면 추측하기 원하는 모수에 수렴해 가는 성질을 일치성이라고 하며 일치성을 지닌 추정량을 일치 추정량이라고 함\n",
    "  - 표본평균은 불편성과 일치성을 모두 가지고 있기 때문에 모평균을 잘 추정한다고 할 수 있다.\n",
    "  - 모분산의 불편 추정량이 되는 표본통계량은 불편분산이다.\n",
    "  - 불편분산은 표본분산에서 나누는 수 n-1로 하는 식으로 계산되며 표본분산은 $S^2$으로 나타내지만 불편분산은 $s^2$으로 나타낸다.\n",
    "  \n",
    "- 구간추정\n",
    "  - 모분산을 알고 있는 경우의 모평균 구간추정\n",
    "  - 모분산을 알고 있는 경우의 모분산 구간추정\n",
    "  - 모분산을 알지 못하는 경우의 모평균 구간추정\n",
    "  - 베르누이 분포의 모평균의 구간추정\n",
    "  - 포아송 분포의 모평균의 구간추정"
   ]
  },
  {
   "cell_type": "code",
   "execution_count": 3,
   "id": "71b8441c",
   "metadata": {},
   "outputs": [],
   "source": [
    "# [과제] 모평균과 모분산의 점추정 사례를 파이썬 코드로 수행하세요."
   ]
  },
  {
   "cell_type": "code",
   "execution_count": 4,
   "id": "59765034",
   "metadata": {},
   "outputs": [
    {
     "data": {
      "text/html": [
       "<div>\n",
       "<style scoped>\n",
       "    .dataframe tbody tr th:only-of-type {\n",
       "        vertical-align: middle;\n",
       "    }\n",
       "\n",
       "    .dataframe tbody tr th {\n",
       "        vertical-align: top;\n",
       "    }\n",
       "\n",
       "    .dataframe thead th {\n",
       "        text-align: right;\n",
       "    }\n",
       "</style>\n",
       "<table border=\"1\" class=\"dataframe\">\n",
       "  <thead>\n",
       "    <tr style=\"text-align: right;\">\n",
       "      <th></th>\n",
       "      <th>score</th>\n",
       "    </tr>\n",
       "  </thead>\n",
       "  <tbody>\n",
       "    <tr>\n",
       "      <th>0</th>\n",
       "      <td>76</td>\n",
       "    </tr>\n",
       "    <tr>\n",
       "      <th>1</th>\n",
       "      <td>55</td>\n",
       "    </tr>\n",
       "    <tr>\n",
       "      <th>2</th>\n",
       "      <td>80</td>\n",
       "    </tr>\n",
       "    <tr>\n",
       "      <th>3</th>\n",
       "      <td>80</td>\n",
       "    </tr>\n",
       "    <tr>\n",
       "      <th>4</th>\n",
       "      <td>74</td>\n",
       "    </tr>\n",
       "  </tbody>\n",
       "</table>\n",
       "</div>"
      ],
      "text/plain": [
       "   score\n",
       "0     76\n",
       "1     55\n",
       "2     80\n",
       "3     80\n",
       "4     74"
      ]
     },
     "metadata": {},
     "output_type": "display_data"
    },
    {
     "name": "stdout",
     "output_type": "stream",
     "text": [
      "모평균, 모분산: 69.53 206.6691\n"
     ]
    },
    {
     "data": {
      "image/png": "[encoded data removed]",
      "text/plain": [
       "<Figure size 720x432 with 1 Axes>"
      ]
     },
     "metadata": {
      "needs_background": "light"
     },
     "output_type": "display_data"
    },
    {
     "name": "stdout",
     "output_type": "stream",
     "text": [
      "모평균: 69.53 \n",
      " 표본평균의 기댓값: 69.53799999999998\n"
     ]
    },
    {
     "data": {
      "text/plain": [
       "69.542954"
      ]
     },
     "execution_count": 4,
     "metadata": {},
     "output_type": "execute_result"
    }
   ],
   "source": [
    "# 시험점수 데이터 불러오기\n",
    "import numpy as np\n",
    "import pandas as pd\n",
    "import matplotlib.pyplot as plt\n",
    "from scipy import stats\n",
    "\n",
    "df = pd.read_csv('data/ch4_scores400.csv')\n",
    "scores = np.array(df['score'])\n",
    "display(df.head())\n",
    "\n",
    "# 모평균과 모분산 \n",
    "p_mean = np.mean(scores)\n",
    "p_var = np.var(scores)\n",
    "print('모평균, 모분산:', p_mean, p_var)\n",
    "\n",
    "# 시험점수 모집단(전교생 시험점수)이 정규분포를 따른다고 가정 \n",
    "plt.figure(figsize=(10,6))\n",
    "xs = np.arange(101)\n",
    "rv = stats.norm(p_mean, np.sqrt(p_var))\n",
    "plt.plot(xs, rv.pdf(xs), color='gray')\n",
    "plt.hist(scores, bins=100, range=(0,100), density=True) # 전체 시험점수 히스토그램\n",
    "plt.show()\n",
    "\n",
    "n = 20\n",
    "# 표본 크기가 20인 표본 데이터 1만 개 추출\n",
    "# (표본으로 평균과 분산을 어느 저옫의 정확도로 추출할 수 있는지 시뮬레이션)\n",
    "np.random.seed(1111)\n",
    "n_samples = 10000\n",
    "samples = np.random.choice(scores, (n_samples, n))\n",
    "\n",
    "## 대수의 법칙을 사용하여 기댓값이 모평균인 것을 확인\n",
    "sample_means = np.mean(samples, axis=1) # 준비해둔 1만 개의 표본 데이터(n=20) 각각의 표본평균을 구하고\n",
    "s_means = np.mean(sample_means)         # 그 표본평균들의 평균(기댓값) 계산\n",
    "print('모평균:', p_mean, '\\n', \n",
    "      '표본평균의 기댓값:', s_means)\n",
    "## 표본크기 n을 백만까지 키웠을 때의 표본평균\n",
    "np.mean(np.random.choice(scores, int(1e6)))\n"
   ]
  },
  {
   "cell_type": "code",
   "execution_count": 5,
   "id": "9684498b",
   "metadata": {},
   "outputs": [
    {
     "name": "stdout",
     "output_type": "stream",
     "text": [
      "모분산: 206.6691 \n",
      " 표본분산: 196.34417850000003 \n",
      " 불편분산: 206.67808263157895\n"
     ]
    }
   ],
   "source": [
    "## 표본분산이 모분산의 불편추정량이 되는지 대수의 법칙으로 확인\n",
    "sample_vars = np.var(samples, axis=1) # 준비해둔 1만 개의 표본 데이터 각각의 표본분산 구하고\n",
    "s_vars = np.mean(sample_vars)         # 표본분산의 평균 \n",
    "## 불편분산이 모분산의 불편추정량이 되는지 확인\n",
    "sample_u_vars = np.var(samples, axis=1, ddof=1)\n",
    "u_vars = np.mean(sample_u_vars)\n",
    "print('모분산:', p_var, '\\n', \n",
    "      '표본분산:', s_vars, '\\n', \n",
    "     '불편분산:', u_vars)\n"
   ]
  },
  {
   "cell_type": "code",
   "execution_count": 6,
   "id": "cae99cd4",
   "metadata": {},
   "outputs": [],
   "source": [
    "# [과제] 모분산을 알지 못할 때 정규분포의 모평균의 구간 추정을 파이썬 코드로 수행하세요."
   ]
  },
  {
   "cell_type": "markdown",
   "id": "c27dfef6",
   "metadata": {},
   "source": [
    "모분산을 모르는 경우\n",
    "- $\\sqrt{\\sigma^2/n}$ 대신 불편표준편차의 $\\sqrt{s^2/n}$를 표준오차로 사용한다.\n",
    "- 표준화 과정에서 다음의 식이 사용되는데, 이것은 t분포를 따른다. (카이제곱분포 Y 이용하여 구함)  \n",
    "$t = $ $Z \\over \\sqrt{Y/(n-1)}$\n",
    "- 이 때, $\\alpha$ 신뢰구간은 다음과 같다.  \n",
    "$[\\bar{X}-t_{\\alpha/2}(n-1)\\sqrt{s^2/n}, \\bar{X}-t_{1-\\alpha/2}(n-1)\\sqrt{s^2/n}]$\n"
   ]
  },
  {
   "cell_type": "code",
   "execution_count": 9,
   "id": "a9a1a737",
   "metadata": {},
   "outputs": [
    {
     "data": {
      "text/plain": [
       "(62.807636981878474, 76.26836301812152)"
      ]
     },
     "execution_count": 9,
     "metadata": {},
     "output_type": "execute_result"
    }
   ],
   "source": [
    "s_mean = np.mean(samples)\n",
    "u_var = np.var(samples, ddof=1)\n",
    "\n",
    "rv = stats.t(df=n-1)\n",
    "lcl = s_mean - rv.isf(0.025) * np.sqrt(u_var/n)\n",
    "ucl = s_mean - rv.isf(0.975) * np.sqrt(u_var/n)\n",
    "lcl,ucl"
   ]
  },
  {
   "cell_type": "code",
   "execution_count": 10,
   "id": "4002987f",
   "metadata": {},
   "outputs": [],
   "source": [
    "# [과제] 모집단에 정규분포를 가정할 수 없는 예를 포아송 분포로 설정하여 95% 수준의 모평균 신뢰구간을 구하세요"
   ]
  },
  {
   "cell_type": "code",
   "execution_count": 11,
   "id": "93876941",
   "metadata": {},
   "outputs": [
    {
     "name": "stdout",
     "output_type": "stream",
     "text": [
      "72 \n",
      "    access number\n",
      "0             10\n",
      "1             11\n",
      "2              9\n",
      "3              9\n",
      "4             18 \n",
      "\n"
     ]
    },
    {
     "data": {
      "text/plain": [
       "(9.697953549598202, 11.190935339290688)"
      ]
     },
     "execution_count": 11,
     "metadata": {},
     "output_type": "execute_result"
    }
   ],
   "source": [
    "# 1시간당 액세스 수\n",
    "n_access_df = pd.read_csv('data/ch10_access.csv')\n",
    "print(len(n_access_df),'\\n', n_access_df.head(),'\\n')\n",
    "n_access = np.array(n_access_df['access number'])\n",
    "n = len(n_access)\n",
    "n_access[:10]\n",
    "\n",
    "s_mean = n_access.mean()\n",
    "s_mean\n",
    "\n",
    "rv = stats.norm\n",
    "lcl = s_mean - rv.isf(0.025) * np.sqrt(s_mean/n)\n",
    "ucl = s_mean - rv.isf(0.975) * np.sqrt(s_mean/n)\n",
    "lcl,ucl\n"
   ]
  },
  {
   "cell_type": "markdown",
   "id": "5cca664b",
   "metadata": {},
   "source": [
    "#### 통계적 가설검정"
   ]
  },
  {
   "cell_type": "code",
   "execution_count": 12,
   "id": "b5addd93",
   "metadata": {},
   "outputs": [],
   "source": [
    "# [과제] A학생의 사례로 가설검정의 프로세스를 정리하세요."
   ]
  },
  {
   "cell_type": "code",
   "execution_count": 13,
   "id": "c10a2eb1",
   "metadata": {},
   "outputs": [
    {
     "name": "stdout",
     "output_type": "stream",
     "text": [
      "128.68118313069039 \n",
      "\n",
      "-1.932298779026813 \n",
      "\n",
      "-1.6448536269514722 \n",
      "\n",
      "0.026661319523126635\n"
     ]
    }
   ],
   "source": [
    "# 귀무가설 : 감자튀김의 평균무게는 130g이다.\n",
    "# 대립가설 : 감자튀김의 평균무게는 130g보다 작다.\n",
    "# 유의 수준은 5%로 설정\n",
    "df = pd.read_csv('./data/ch11_potato.csv')\n",
    "sample = np.array(df.무게)\n",
    "s_mean = sample.mean()\n",
    "# 표본평균 : A가 산 감자튀김 14개의 평균 무게 = 128.451g\n",
    "rv = stats.norm(130, np.sqrt(9/14))\n",
    "print(rv.isf(0.95),'\\n')\n",
    "# 임계값 : 128.681g\n",
    "# 검정통계량이 임계값보다 작기때문에 귀무가설은 기각된다.\n",
    "\n",
    "# 표준화 하여 검정통계량과 임계값의 비교\n",
    "# 표준화 된 검정 통계량 값, -1.932\n",
    "z = (s_mean-130)/np.sqrt(9/14)\n",
    "print(z,'\\n')\n",
    "# 임계값 : 퍼센트 포인트, -1.645 \n",
    "rv = stats.norm()\n",
    "print(rv.isf(0.95) , '\\n')\n",
    "# 검정통계량이 임계값보다 작으므로 귀무가설은 기각\n",
    "\n",
    "# p값을 활용하여 가설검정\n",
    "print(rv.cdf(z))\n",
    "# 유의수준인 0.05보다 작으므로 귀무가설 기각\n",
    "# 따라서 모평균은 130g보다 작다."
   ]
  },
  {
   "cell_type": "code",
   "execution_count": 17,
   "id": "bb8e7dfe",
   "metadata": {},
   "outputs": [
    {
     "data": {
      "text/plain": [
       "Text(0, 0.5, 'cdf')"
      ]
     },
     "execution_count": 17,
     "metadata": {},
     "output_type": "execute_result"
    },
    {
     "data": {
      "image/png": "[encoded data removed]",
      "text/plain": [
       "<Figure size 720x432 with 2 Axes>"
      ]
     },
     "metadata": {
      "needs_background": "light"
     },
     "output_type": "display_data"
    }
   ],
   "source": [
    "import numpy as np\n",
    "import matplotlib.pyplot as plt\n",
    "rv = stats.norm(130,np.sqrt(9/14))\n",
    "fig = plt.figure(figsize=(10,6))\n",
    "ax1 = fig.add_subplot(111)\n",
    "ax2 = ax1.twinx()\n",
    "xs = np.linspace(127,133,60)\n",
    "ax1.plot(xs,rv.pdf(xs))\n",
    "ax2.plot(xs,rv.cdf(xs), color='black')\n",
    "ax1.vlines(rv.ppf(0.05), 0, 0.5, color='gray',ls='--')\n",
    "ax1.set_xlabel('x', fontsize=20)\n",
    "ax1.set_ylabel('pdf',rotation=0,fontsize=20)\n",
    "ax2.set_ylabel('cdf', rotation=0,fontsize=20)\n"
   ]
  },
  {
   "cell_type": "markdown",
   "id": "b1b5c732",
   "metadata": {},
   "source": [
    "Q. \"감자튀김 무게의 평균이 130g이다\" 라는 귀무가설에 대한 유의성 검정을 수행하세요.(정규분포, 분산 9)"
   ]
  },
  {
   "cell_type": "code",
   "execution_count": 15,
   "id": "1b4ce4e2",
   "metadata": {},
   "outputs": [
    {
     "name": "stdout",
     "output_type": "stream",
     "text": [
      "-1.932298779026813 \n",
      "\n"
     ]
    },
    {
     "data": {
      "text/plain": [
       "-1.6448536269514722"
      ]
     },
     "execution_count": 15,
     "metadata": {},
     "output_type": "execute_result"
    }
   ],
   "source": [
    "# 검정통계량이 임곗값보다 작으므로 귀무가설을 기각한다.\n",
    "df = pd.read_csv('./data/ch11_potato.csv')\n",
    "sample = df.무게\n",
    "\n",
    "# 검정통계량\n",
    "s_mean = np.mean(sample)\n",
    "z = (s_mean - 130) / np.sqrt(9/14)\n",
    "print(z,'\\n')\n",
    "\n",
    "# 임곗값\n",
    "rv = stats.norm()\n",
    "rv.isf(0.95)"
   ]
  },
  {
   "cell_type": "code",
   "execution_count": 16,
   "id": "d792def6",
   "metadata": {},
   "outputs": [
    {
     "data": {
      "text/plain": [
       "0.026661319523126635"
      ]
     },
     "execution_count": 16,
     "metadata": {},
     "output_type": "execute_result"
    }
   ],
   "source": [
    "# p값이 유의수준 0.05 보다 작으므로 귀무가설을 기각한다. \n",
    "# \"모평균은 130g이다\"라는 결론이 되는 것은 아니다.\n",
    "p_value = rv.cdf(z)\n",
    "p_value"
   ]
  },
  {
   "cell_type": "code",
   "execution_count": 18,
   "id": "c24bbecb",
   "metadata": {},
   "outputs": [
    {
     "data": {
      "text/plain": [
       "-1.932298779026813"
      ]
     },
     "execution_count": 18,
     "metadata": {},
     "output_type": "execute_result"
    }
   ],
   "source": [
    "# 양측검정\n",
    "z = (s_mean-130) / np.sqrt(9/14)\n",
    "z"
   ]
  },
  {
   "cell_type": "code",
   "execution_count": 19,
   "id": "cd0139f6",
   "metadata": {},
   "outputs": [
    {
     "data": {
      "text/plain": [
       "(-1.959963984540054, 1.959963984540054)"
      ]
     },
     "execution_count": 19,
     "metadata": {},
     "output_type": "execute_result"
    }
   ],
   "source": [
    "rv = stats.norm()\n",
    "rv.interval(0.95)"
   ]
  },
  {
   "cell_type": "code",
   "execution_count": 20,
   "id": "d70fdb54",
   "metadata": {},
   "outputs": [
    {
     "data": {
      "text/plain": [
       "0.05332263904625327"
      ]
     },
     "execution_count": 20,
     "metadata": {},
     "output_type": "execute_result"
    }
   ],
   "source": [
    "# 양측검정의 p값은 상단과 하단의 양쪽 면적을 고려해야 하므로 누적밀도함수의 2배로 한다.\n",
    "# p값이 0.05 보다 크므로 귀무가설은 기각되지 않는다. '감자튀김 무게는 130g이 아니다'라고 말할 수 없다.\n",
    "rv.cdf(z) * 2"
   ]
  },
  {
   "cell_type": "markdown",
   "id": "f2b42c59",
   "metadata": {},
   "source": [
    "#### 가설검정에서의 두가지 오류\n",
    "- 제 1종 오류 : 귀무가설이 옳을 때 귀무가설을 기각하는 오류\n",
    "  - 실제로 평균이 130g인데도 '모평균은 130g 보다 작다'라는 결론을 내리는 상황\n",
    "- 제 2종 오류 : 대립가설이 옳을 때 귀무가설을 채택하는 오류\n",
    "  - 모평균은 130g 보다 작다인데도 '모평균은 130g 보다 작다'라는 결론을 얻을 수 없는 비율\n",
    "- 통계적 가설검정에서는 제 1종 오류는 제어할 수 있짐나 제 2종 오류는 제어할 수 없는 비대칭성이 있다."
   ]
  },
  {
   "cell_type": "code",
   "execution_count": 34,
   "id": "614e410d",
   "metadata": {},
   "outputs": [
    {
     "data": {
      "text/plain": [
       "0.0522"
      ]
     },
     "execution_count": 34,
     "metadata": {},
     "output_type": "execute_result"
    }
   ],
   "source": [
    "# 제 1종 오류를 범할 비율 : 위험률, 유의수준(𝛼), 분석가가 제어할 수 있는 확률\n",
    "np.random.seed(10)\n",
    "rv = stats.norm(130,3)\n",
    "c = stats.norm().isf(0.95)\n",
    "n_samples = 10000\n",
    "cnt = 0\n",
    "for _ in range(n_samples):\n",
    "    sample_ = np.round(rv.rvs(14),2)\n",
    "    s_mean_ = np.mean(sample_)\n",
    "    z = (s_mean_ - 130) / np.sqrt(9/14)\n",
    "    if z < c:\n",
    "        cnt += 1\n",
    "cnt / n_samples"
   ]
  },
  {
   "cell_type": "code",
   "execution_count": null,
   "id": "529163e9",
   "metadata": {},
   "outputs": [],
   "source": [
    "# 제 2종 오류를 범하는 비율 : 1-𝛽, 검정력, 분석가가 제어할 수 없는 확률\n",
    "# [과제] 감자튀김 사례로 2종 오류를 범하는 비율을 구하세요.(감자튀김 평균이 128g으로 설정되어 있는 것을 알고 있다고 가정)"
   ]
  },
  {
   "cell_type": "code",
   "execution_count": 3,
   "id": "c91ce511",
   "metadata": {},
   "outputs": [
    {
     "data": {
      "text/plain": [
       "0.1932"
      ]
     },
     "execution_count": 3,
     "metadata": {},
     "output_type": "execute_result"
    }
   ],
   "source": [
    "import numpy as np\n",
    "from scipy import stats\n",
    "np.random.seed(10)\n",
    "rv=stats.norm(128,3)\n",
    "c=stats.norm().isf(0.95)\n",
    "n_sample=10000\n",
    "cnt=0\n",
    "for _ in range(n_sample):\n",
    "    sample_ = np.round(rv.rvs(14),2)\n",
    "    s_mean_ = np.mean(sample_)\n",
    "    z = (s_mean_ - 130) / np.sqrt(9/14)\n",
    "    if z >= c:\n",
    "        cnt += 1\n",
    "cnt / n_sample\n"
   ]
  },
  {
   "cell_type": "markdown",
   "id": "c7af7651",
   "metadata": {},
   "source": [
    "정규분포의 모평균에 대한 검정(모분산을 알고 있음)"
   ]
  },
  {
   "cell_type": "code",
   "execution_count": null,
   "id": "abee0e67",
   "metadata": {},
   "outputs": [],
   "source": [
    "# [과제] 모평균에 대한 검정을 사용자 함수 pmean_test()를 작성하여 감자튀김 사례에 대하여 양측검정으로 수행하세요"
   ]
  },
  {
   "cell_type": "code",
   "execution_count": 7,
   "id": "4cd07f6b",
   "metadata": {},
   "outputs": [
    {
     "name": "stdout",
     "output_type": "stream",
     "text": [
      "귀무가설을 채택\n",
      "p값은 0.053\n"
     ]
    }
   ],
   "source": [
    "import pandas as pd\n",
    "df = pd.read_csv('./data/ch11_potato.csv')\n",
    "sample = np.array(df['무게'])\n",
    "\n",
    "def pmean_test(sample,mean0, p_var, alpha=0.05):\n",
    "    s_mean = np.mean(sample)\n",
    "    n = len(sample)\n",
    "    rv = stats.norm()\n",
    "    interval = rv.interval(1-alpha)\n",
    "\n",
    "    z = (s_mean-mean0) / np.sqrt(p_var/n)\n",
    "    if interval[0] <= z <= interval[1]:\n",
    "        print('귀무가설을 채택')\n",
    "    else:\n",
    "        print('귀무가설을 기각')\n",
    "    if z < 0:\n",
    "        p = rv.cdf(z) * 2\n",
    "    else:\n",
    "        p = (1-rv.cdf(z)) * 2\n",
    "    print(f'p값은 {p:.3f}')\n",
    "pmean_test(sample,130,9)"
   ]
  },
  {
   "cell_type": "code",
   "execution_count": 36,
   "id": "ccf380f4",
   "metadata": {},
   "outputs": [],
   "source": [
    "# 정규분포의 모분산에 대한 검정\n",
    "def pvar_test(sample, var0, alpha=0.05):\n",
    "    u_var = np.var(sample,ddof=1)\n",
    "    n = len(sample)\n",
    "    rv = stats.chi2(df=n-1)\n",
    "    interval = rv.interval(1-alpha)\n",
    "    \n",
    "    y = (n-1) * u_var / var0 # 검정 통계량\n",
    "    if interval[0] <= y <= interval[1]:\n",
    "        print('귀무가설을 채택')\n",
    "    else:\n",
    "        print('귀무가설을 기각')\n",
    "        \n",
    "    if y < rv.isf(0.5):\n",
    "        p = rv.cdf(y) * 2\n",
    "    else:\n",
    "        p = (1 - rv.cdf(y)) * 2\n",
    "    print(f'p값은 {p:.3f}')"
   ]
  },
  {
   "cell_type": "code",
   "execution_count": 37,
   "id": "5a17abd3",
   "metadata": {},
   "outputs": [
    {
     "name": "stdout",
     "output_type": "stream",
     "text": [
      "귀무가설을 채택\n",
      "p값은 0.085\n"
     ]
    }
   ],
   "source": [
    "pvar_test(sample, 9)"
   ]
  },
  {
   "cell_type": "markdown",
   "id": "733ab3be",
   "metadata": {},
   "source": [
    "정규분포의 모평균에 대한 검정(모분산을 알지 못함)"
   ]
  },
  {
   "cell_type": "code",
   "execution_count": 39,
   "id": "babc1a09",
   "metadata": {},
   "outputs": [
    {
     "name": "stdout",
     "output_type": "stream",
     "text": [
      "귀무가설을 채택\n",
      "p값은 0.169\n"
     ]
    }
   ],
   "source": [
    "def pmean_test(sample,mean0,alpha=0.05):\n",
    "    s_mean = np.mean(sample)\n",
    "    u_var = np.var(sample,ddof=1)\n",
    "    n = len(sample)\n",
    "    rv = stats.t(df=n-1)\n",
    "    interval = rv.interval(1-alpha)\n",
    "\n",
    "    t = (s_mean - mean0) / np.sqrt(u_var/n)\n",
    "    if interval[0] <= t <= interval[1]:\n",
    "        print('귀무가설을 채택')\n",
    "    else:\n",
    "        print('귀무가설을 기각')\n",
    "    if t < 0:\n",
    "        p = rv.cdf(t) * 2\n",
    "    else:\n",
    "        p = (1-rv.cdf(t)) * 2\n",
    "    print(f'p값은 {p:.3f}')\n",
    "\n",
    "pmean_test(sample, 130)   "
   ]
  },
  {
   "cell_type": "markdown",
   "id": "1cc6ee53",
   "metadata": {},
   "source": [
    "[과제] 대응표본, 독립표본에 대하여 정규분포를 가정하는 경우와 가정할 수 없는 경우의 4가지 유형의 각 사례를 작성하세요."
   ]
  },
  {
   "cell_type": "code",
   "execution_count": null,
   "id": "6a6d0efe",
   "metadata": {},
   "outputs": [],
   "source": [
    "# 정규분포를 가정\n",
    "# 대응표본 t검정 - ex) 같은 시간에 수영을 하는 아침반 사람들이 수영을 한달 한 뒤 체중의 변화가 있는지를 검정?\n",
    "# 독립표본 t검정 - ex) 아침반 사람들은 초보자이고 오후반 사람들은 선수반인데 수영을 한달 한 뒤 두반의 체중의 변화가 있는지를 검정?\n",
    "# 정규분포를 가정할 수 없는 경우\n",
    "# 대응표본 - 윌콕슨의 부호순위검정\n",
    "# 독립표본 - 만 위트니의 U검정"
   ]
  },
  {
   "cell_type": "code",
   "execution_count": 43,
   "id": "b5096d20",
   "metadata": {},
   "outputs": [
    {
     "name": "stdout",
     "output_type": "stream",
     "text": [
      "(20, 3) \n",
      "     전   후  gap\n",
      "0  59  41  -18\n",
      "1  52  63   11\n",
      "2  55  68   13\n",
      "3  61  59   -2\n",
      "4  59  84   25\n"
     ]
    }
   ],
   "source": [
    "# 대응표본 t검정\n",
    "data = pd.read_csv('./data/ch11_training_rel.csv')\n",
    "data['gap'] = data['후'] - data['전']\n",
    "print(data.shape, '\\n', data.head())"
   ]
  },
  {
   "cell_type": "code",
   "execution_count": 44,
   "id": "f4564d0a",
   "metadata": {},
   "outputs": [
    {
     "data": {
      "text/plain": [
       "0.04004419061842953"
      ]
     },
     "execution_count": 44,
     "metadata": {},
     "output_type": "execute_result"
    }
   ],
   "source": [
    "#  p값이 유의수준 0.05 보다 작으므로 귀무가설을 기각하며 '근력운동은 집중력에 유의한 차이를 가져온다'라고 할 수 있다. \n",
    "t, p = stats.ttest_1samp(data.gap, 0)\n",
    "p"
   ]
  },
  {
   "cell_type": "code",
   "execution_count": 45,
   "id": "150270db",
   "metadata": {},
   "outputs": [
    {
     "name": "stdout",
     "output_type": "stream",
     "text": [
      "    A   B\n",
      "0  47  49\n",
      "1  50  52\n",
      "2  37  54\n",
      "3  60  48\n",
      "4  39  51\n"
     ]
    }
   ],
   "source": [
    "# 독립표본 t검정\n",
    "data = pd.read_csv('./data/ch11_training_ind.csv')\n",
    "print(data.head())"
   ]
  },
  {
   "cell_type": "code",
   "execution_count": 46,
   "id": "06e9c9bd",
   "metadata": {},
   "outputs": [
    {
     "data": {
      "text/plain": [
       "0.08695731107259361"
      ]
     },
     "execution_count": 46,
     "metadata": {},
     "output_type": "execute_result"
    }
   ],
   "source": [
    "# p값이 0.05 보다 크므로 귀무가설을 채택하며 'A 학생의 학급과 B 학생의 학급사이에는 평균 점수에 유의한 차이가 있다고 말할 수 없다.'\n",
    "t,p = stats.ttest_ind(data.A, data.B, equal_var=False)\n",
    "p"
   ]
  },
  {
   "cell_type": "code",
   "execution_count": null,
   "id": "a7c912d1",
   "metadata": {},
   "outputs": [],
   "source": [
    "# [과제] 정규분포를 가정할 수 없는 경우 대응표본에 대한 가설검정을 수행하세요.\n",
    "data = pd.read_csv('./data/ch11_training_rel.csv')\n",
    "data1 = data[:6].copy()"
   ]
  },
  {
   "cell_type": "code",
   "execution_count": 12,
   "id": "ae37b5b2",
   "metadata": {},
   "outputs": [
    {
     "data": {
      "text/html": [
       "<div>\n",
       "<style scoped>\n",
       "    .dataframe tbody tr th:only-of-type {\n",
       "        vertical-align: middle;\n",
       "    }\n",
       "\n",
       "    .dataframe tbody tr th {\n",
       "        vertical-align: top;\n",
       "    }\n",
       "\n",
       "    .dataframe thead th {\n",
       "        text-align: right;\n",
       "    }\n",
       "</style>\n",
       "<table border=\"1\" class=\"dataframe\">\n",
       "  <thead>\n",
       "    <tr style=\"text-align: right;\">\n",
       "      <th></th>\n",
       "      <th>A</th>\n",
       "      <th>B</th>\n",
       "    </tr>\n",
       "  </thead>\n",
       "  <tbody>\n",
       "    <tr>\n",
       "      <th>0</th>\n",
       "      <td>47</td>\n",
       "      <td>49</td>\n",
       "    </tr>\n",
       "    <tr>\n",
       "      <th>1</th>\n",
       "      <td>50</td>\n",
       "      <td>52</td>\n",
       "    </tr>\n",
       "    <tr>\n",
       "      <th>2</th>\n",
       "      <td>37</td>\n",
       "      <td>54</td>\n",
       "    </tr>\n",
       "    <tr>\n",
       "      <th>3</th>\n",
       "      <td>60</td>\n",
       "      <td>48</td>\n",
       "    </tr>\n",
       "    <tr>\n",
       "      <th>4</th>\n",
       "      <td>39</td>\n",
       "      <td>51</td>\n",
       "    </tr>\n",
       "  </tbody>\n",
       "</table>\n",
       "</div>"
      ],
      "text/plain": [
       "    A   B\n",
       "0  47  49\n",
       "1  50  52\n",
       "2  37  54\n",
       "3  60  48\n",
       "4  39  51"
      ]
     },
     "execution_count": 12,
     "metadata": {},
     "output_type": "execute_result"
    }
   ],
   "source": [
    "# [과제] 정규분포를 가정할 수 없는 경우 독립표본에 대한 가설검정을 수행하세요.\n",
    "data = pd.read_csv('./data/ch11_training_ind.csv')\n",
    "data2 = data[:5].copy()\n",
    "data2"
   ]
  },
  {
   "cell_type": "code",
   "execution_count": 13,
   "id": "48aab5b0",
   "metadata": {},
   "outputs": [
    {
     "data": {
      "text/plain": [
       "0.30952380952380953"
      ]
     },
     "execution_count": 13,
     "metadata": {},
     "output_type": "execute_result"
    }
   ],
   "source": [
    "training_ind = pd.read_csv('./data/ch11_training_ind.csv')\n",
    "u,p = stats.mannwhitneyu(data2['A'],data2['B'],alternative='two-sided')\n",
    "p\n"
   ]
  },
  {
   "cell_type": "markdown",
   "id": "f7cba924",
   "metadata": {},
   "source": [
    "[과제] 독립성 검정이 필요한 사례 2가지를 작성하세요."
   ]
  },
  {
   "cell_type": "code",
   "execution_count": 48,
   "id": "ffd29d9a",
   "metadata": {},
   "outputs": [
    {
     "name": "stdout",
     "output_type": "stream",
     "text": [
      "1000 \n",
      "\n"
     ]
    },
    {
     "data": {
      "text/html": [
       "<div>\n",
       "<style scoped>\n",
       "    .dataframe tbody tr th:only-of-type {\n",
       "        vertical-align: middle;\n",
       "    }\n",
       "\n",
       "    .dataframe tbody tr th {\n",
       "        vertical-align: top;\n",
       "    }\n",
       "\n",
       "    .dataframe thead th {\n",
       "        text-align: right;\n",
       "    }\n",
       "</style>\n",
       "<table border=\"1\" class=\"dataframe\">\n",
       "  <thead>\n",
       "    <tr style=\"text-align: right;\">\n",
       "      <th></th>\n",
       "      <th>광고</th>\n",
       "      <th>구입</th>\n",
       "    </tr>\n",
       "  </thead>\n",
       "  <tbody>\n",
       "    <tr>\n",
       "      <th>0</th>\n",
       "      <td>B</td>\n",
       "      <td>하지 않았다</td>\n",
       "    </tr>\n",
       "    <tr>\n",
       "      <th>1</th>\n",
       "      <td>B</td>\n",
       "      <td>하지 않았다</td>\n",
       "    </tr>\n",
       "    <tr>\n",
       "      <th>2</th>\n",
       "      <td>A</td>\n",
       "      <td>했다</td>\n",
       "    </tr>\n",
       "    <tr>\n",
       "      <th>3</th>\n",
       "      <td>A</td>\n",
       "      <td>했다</td>\n",
       "    </tr>\n",
       "    <tr>\n",
       "      <th>4</th>\n",
       "      <td>B</td>\n",
       "      <td>하지 않았다</td>\n",
       "    </tr>\n",
       "  </tbody>\n",
       "</table>\n",
       "</div>"
      ],
      "text/plain": [
       "  광고      구입\n",
       "0  B  하지 않았다\n",
       "1  B  하지 않았다\n",
       "2  A      했다\n",
       "3  A      했다\n",
       "4  B  하지 않았다"
      ]
     },
     "execution_count": 48,
     "metadata": {},
     "output_type": "execute_result"
    }
   ],
   "source": [
    "df = pd.read_csv('./data/ch11_ad.csv')\n",
    "print(len(df),'\\n')\n",
    "df.head()"
   ]
  },
  {
   "cell_type": "code",
   "execution_count": 50,
   "id": "e8e63a66",
   "metadata": {},
   "outputs": [
    {
     "data": {
      "text/html": [
       "<div>\n",
       "<style scoped>\n",
       "    .dataframe tbody tr th:only-of-type {\n",
       "        vertical-align: middle;\n",
       "    }\n",
       "\n",
       "    .dataframe tbody tr th {\n",
       "        vertical-align: top;\n",
       "    }\n",
       "\n",
       "    .dataframe thead th {\n",
       "        text-align: right;\n",
       "    }\n",
       "</style>\n",
       "<table border=\"1\" class=\"dataframe\">\n",
       "  <thead>\n",
       "    <tr style=\"text-align: right;\">\n",
       "      <th>구입</th>\n",
       "      <th>하지 않았다</th>\n",
       "      <th>했다</th>\n",
       "    </tr>\n",
       "    <tr>\n",
       "      <th>광고</th>\n",
       "      <th></th>\n",
       "      <th></th>\n",
       "    </tr>\n",
       "  </thead>\n",
       "  <tbody>\n",
       "    <tr>\n",
       "      <th>A</th>\n",
       "      <td>351</td>\n",
       "      <td>49</td>\n",
       "    </tr>\n",
       "    <tr>\n",
       "      <th>B</th>\n",
       "      <td>549</td>\n",
       "      <td>51</td>\n",
       "    </tr>\n",
       "  </tbody>\n",
       "</table>\n",
       "</div>"
      ],
      "text/plain": [
       "구입  하지 않았다  했다\n",
       "광고            \n",
       "A      351  49\n",
       "B      549  51"
      ]
     },
     "execution_count": 50,
     "metadata": {},
     "output_type": "execute_result"
    }
   ],
   "source": [
    "# 교차집계표\n",
    "ad_cross = pd.crosstab(df.광고, df.구입)\n",
    "ad_cross"
   ]
  },
  {
   "cell_type": "code",
   "execution_count": 52,
   "id": "0e11c6ef",
   "metadata": {},
   "outputs": [
    {
     "data": {
      "text/plain": [
       "(3.75, 0.052807511416113395, 1)"
      ]
     },
     "execution_count": 52,
     "metadata": {},
     "output_type": "execute_result"
    }
   ],
   "source": [
    "# p값이 0.05보다 크므로 귀무가설을 채택하며 '광고 A와 광고 b에 유의미한 차이가 인정되지 않는다'고 결론 내릴 수 있다\n",
    "chi2, p, dof, ef = stats.chi2_contingency(ad_cross, correction=False)\n",
    "chi2,p,dof"
   ]
  },
  {
   "cell_type": "code",
   "execution_count": null,
   "id": "d23e7c2f",
   "metadata": {},
   "outputs": [],
   "source": [
    "# [과제] 기대도수와 관측도수(실측)의 차이를 측정해서 검정 수행"
   ]
  },
  {
   "cell_type": "code",
   "execution_count": null,
   "id": "ede0d6f0",
   "metadata": {},
   "outputs": [],
   "source": []
  }
 ],
 "metadata": {
  "kernelspec": {
   "display_name": "Python 3 (ipykernel)",
   "language": "python",
   "name": "python3"
  },
  "language_info": {
   "codemirror_mode": {
    "name": "ipython",
    "version": 3
   },
   "file_extension": ".py",
   "mimetype": "text/x-python",
   "name": "python",
   "nbconvert_exporter": "python",
   "pygments_lexer": "ipython3",
   "version": "3.8.12"
  }
 },
 "nbformat": 4,
 "nbformat_minor": 5
}
