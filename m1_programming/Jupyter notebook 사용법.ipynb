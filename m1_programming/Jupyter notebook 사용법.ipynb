{
 "cells": [
  {
   "cell_type": "code",
   "execution_count": 1,
   "id": "3ed9013c",
   "metadata": {},
   "outputs": [
    {
     "name": "stdout",
     "output_type": "stream",
     "text": [
      "Hello Python\n"
     ]
    }
   ],
   "source": [
    "print('Hello Python')"
   ]
  },
  {
   "cell_type": "markdown",
   "id": "5e0009d4",
   "metadata": {},
   "source": [
    "# 주피터 노트북 사용법\n",
    "## 주피터 노트북 사용법\n",
    "### 주피터 노트북 사용법\n",
    "#### 주피터 노트북 사용법\n",
    "- 주피터\n",
    "- 노트북 \n",
    "\n",
    "#### 주피터 노트북 사용법\n",
    "1. 주피터\n",
    "2. 노트북"
   ]
  },
  {
   "cell_type": "markdown",
   "id": "6d7c811e",
   "metadata": {},
   "source": [
    "단축키\n",
    "- ESC를 눌러 커맨드 모드로 진입하여 Enter를 통해 cell을 수정할 수 있다. \n",
    "- A\n",
    "- B\n",
    "- M\n",
    "- Y\n",
    "- Ctrl + Enter, Shift + Enter, Alt + Enter"
   ]
  },
  {
   "cell_type": "markdown",
   "id": "7050e928",
   "metadata": {},
   "source": [
    "매직명령어 : 맨 앞에 %를 붙이고 특정 명령을 수행할 수 있다. 파이썬 문법에는 포함되지 않는 Jupyter notebook만의 기능\n",
    "<img src = '매직명령어.jpg' STYLE='width:800px:'>"
   ]
  },
  {
   "cell_type": "code",
   "execution_count": 4,
   "id": "870cded2",
   "metadata": {},
   "outputs": [
    {
     "name": "stdout",
     "output_type": "stream",
     "text": [
      " C 드라이브의 볼륨에는 이름이 없습니다.\n",
      " 볼륨 일련 번호: B0F9-D068\n",
      "\n",
      " C:\\cakd5\\workspace\\m1_programming 디렉터리\n",
      "\n",
      "2021-12-28  오후 04:27    <DIR>          .\n",
      "2021-12-28  오후 04:27    <DIR>          ..\n",
      "2021-12-28  오후 03:49    <DIR>          .ipynb_checkpoints\n",
      "2021-12-28  오후 04:27             2,460 Jupyter noteboik 사용법.ipynb\n",
      "2021-12-28  오후 03:49             1,095 기초.ipynb\n",
      "2021-12-28  오후 04:18            94,995 매직명령어.jpg\n",
      "               3개 파일              98,550 바이트\n",
      "               3개 디렉터리  928,849,465,344 바이트 남음\n"
     ]
    }
   ],
   "source": [
    "%ls"
   ]
  },
  {
   "cell_type": "markdown",
   "id": "9278fc6a",
   "metadata": {},
   "source": [
    "매직명령어 : 맨 앞에 %를 붙이고 특정 명령을 수행할 수 있다. 파이썬 문법에는 포함되지 않는 Jupyter notebook만의 기능\n",
    "<img src = '매직명령어.jpg' STYLE='width:800px:'>"
   ]
  },
  {
   "cell_type": "code",
   "execution_count": 5,
   "id": "48e13ff0",
   "metadata": {},
   "outputs": [],
   "source": [
    "# 수식 문법\n",
    "# - markdown 셀을 이용\n",
    "# - $혹은 $$를 앞뒤로 감싸서 수식을 기술\n",
    "#  * $: 문장 안에 기술해야 하는 경우\n",
    "#  * $$: 전체 라인으로 표기\n",
    "# - _와 ^기호를 이용해서 아래첨자와 위첨자를 사용 : a_1, a_{ij}, b^2, b^{ij}, c_1^2"
   ]
  },
  {
   "cell_type": "markdown",
   "id": "a8165ccc",
   "metadata": {},
   "source": [
    "$a^2 + b^2 = c^2$\n",
    "\n",
    "$$ E = mc^2 $$"
   ]
  },
  {
   "cell_type": "markdown",
   "id": "59302324",
   "metadata": {},
   "source": [
    "https://www.youtube.com/channel/UCOlMZP-QJc0sWC2T0Rg2ZfA"
   ]
  }
 ],
 "metadata": {
  "kernelspec": {
   "display_name": "Python 3 (ipykernel)",
   "language": "python",
   "name": "python3"
  },
  "language_info": {
   "codemirror_mode": {
    "name": "ipython",
    "version": 3
   },
   "file_extension": ".py",
   "mimetype": "text/x-python",
   "name": "python",
   "nbconvert_exporter": "python",
   "pygments_lexer": "ipython3",
   "version": "3.8.12"
  }
 },
 "nbformat": 4,
 "nbformat_minor": 5
}
