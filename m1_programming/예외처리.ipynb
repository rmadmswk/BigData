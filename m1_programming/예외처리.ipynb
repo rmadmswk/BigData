{
 "cells": [
  {
   "cell_type": "code",
   "execution_count": 1,
   "id": "27038e64",
   "metadata": {},
   "outputs": [
    {
     "ename": "SyntaxError",
     "evalue": "EOL while scanning string literal (Temp/ipykernel_7528/2517040979.py, line 4)",
     "output_type": "error",
     "traceback": [
      "\u001b[1;36m  File \u001b[1;32m\"C:\\Users\\admin\\AppData\\Local\\Temp/ipykernel_7528/2517040979.py\"\u001b[1;36m, line \u001b[1;32m4\u001b[0m\n\u001b[1;33m    print('구문오류!)\u001b[0m\n\u001b[1;37m                 ^\u001b[0m\n\u001b[1;31mSyntaxError\u001b[0m\u001b[1;31m:\u001b[0m EOL while scanning string literal\n"
     ]
    }
   ],
   "source": [
    "# 구문 오류 : 프로그램 실행전에 발생하는 오류\n",
    "# 예외 또는 런타임 오류 : 프로그램 실행중에 발생하는 오류\n",
    "\n",
    "print('구문오류!)"
   ]
  },
  {
   "cell_type": "code",
   "execution_count": 3,
   "id": "353e8bba",
   "metadata": {},
   "outputs": [
    {
     "name": "stdout",
     "output_type": "stream",
     "text": [
      "정수 입력> 가\n"
     ]
    },
    {
     "ename": "ValueError",
     "evalue": "invalid literal for int() with base 10: '가'",
     "output_type": "error",
     "traceback": [
      "\u001b[1;31m---------------------------------------------------------------------------\u001b[0m",
      "\u001b[1;31mValueError\u001b[0m                                Traceback (most recent call last)",
      "\u001b[1;32m~\\AppData\\Local\\Temp/ipykernel_7528/745014739.py\u001b[0m in \u001b[0;36m<module>\u001b[1;34m\u001b[0m\n\u001b[0;32m      1\u001b[0m \u001b[1;31m# 정수를 입력하지 않은 경우 예외 발생\u001b[0m\u001b[1;33m\u001b[0m\u001b[1;33m\u001b[0m\u001b[1;33m\u001b[0m\u001b[0m\n\u001b[1;32m----> 2\u001b[1;33m \u001b[0mnum_input\u001b[0m \u001b[1;33m=\u001b[0m \u001b[0mint\u001b[0m\u001b[1;33m(\u001b[0m\u001b[0minput\u001b[0m\u001b[1;33m(\u001b[0m\u001b[1;34m'정수 입력> '\u001b[0m\u001b[1;33m)\u001b[0m\u001b[1;33m)\u001b[0m\u001b[1;33m\u001b[0m\u001b[1;33m\u001b[0m\u001b[0m\n\u001b[0m\u001b[0;32m      3\u001b[0m \u001b[0mprint\u001b[0m\u001b[1;33m(\u001b[0m\u001b[1;34m'원의 반지름: '\u001b[0m\u001b[1;33m,\u001b[0m \u001b[0mnum_input\u001b[0m\u001b[1;33m)\u001b[0m\u001b[1;33m\u001b[0m\u001b[1;33m\u001b[0m\u001b[0m\n",
      "\u001b[1;31mValueError\u001b[0m: invalid literal for int() with base 10: '가'"
     ]
    }
   ],
   "source": [
    "# 정수를 입력하지 않은 경우 예외 발생\n",
    "num_input = int(input('정수 입력> '))\n",
    "print('원의 반지름: ', num_input)"
   ]
  },
  {
   "cell_type": "code",
   "execution_count": 7,
   "id": "ea788df5",
   "metadata": {},
   "outputs": [
    {
     "name": "stdout",
     "output_type": "stream",
     "text": [
      "정수입력가\n",
      "오류\n"
     ]
    }
   ],
   "source": [
    "# 조건문으로 예외 처리\n",
    "num_input = input('정수입력')\n",
    "if num_input.isdigit() == True:\n",
    "    print(\"정수 : {0}\".format(num_input))\n",
    "else:\n",
    "    print(\"오류\")\n"
   ]
  },
  {
   "cell_type": "code",
   "execution_count": 6,
   "id": "612e8753",
   "metadata": {},
   "outputs": [
    {
     "name": "stdout",
     "output_type": "stream",
     "text": [
      "정수를 입력해 주세용 >> 가\n",
      "잘못 입력하셨어용\n"
     ]
    }
   ],
   "source": [
    "num_input = input('정수를 입력해 주세용 >> ')\n",
    "if str.isdigit(num_input) == 1:\n",
    "    print('입력한 정수:', int(num_input))\n",
    "else: print('잘못 입력하셨어용')\n"
   ]
  },
  {
   "cell_type": "code",
   "execution_count": 11,
   "id": "d1742e41",
   "metadata": {},
   "outputs": [
    {
     "name": "stdout",
     "output_type": "stream",
     "text": [
      "안녕하세요\n"
     ]
    },
    {
     "ename": "NameError",
     "evalue": "name 'param1' is not defined",
     "output_type": "error",
     "traceback": [
      "\u001b[1;31m---------------------------------------------------------------------------\u001b[0m",
      "\u001b[1;31mNameError\u001b[0m                                 Traceback (most recent call last)",
      "\u001b[1;32m~\\AppData\\Local\\Temp/ipykernel_7528/2855978258.py\u001b[0m in \u001b[0;36m<module>\u001b[1;34m\u001b[0m\n\u001b[0;32m      1\u001b[0m \u001b[1;31m# param = 1\u001b[0m\u001b[1;33m\u001b[0m\u001b[1;33m\u001b[0m\u001b[1;33m\u001b[0m\u001b[0m\n\u001b[0;32m      2\u001b[0m \u001b[0mprint\u001b[0m\u001b[1;33m(\u001b[0m\u001b[1;34m'안녕하세요'\u001b[0m\u001b[1;33m)\u001b[0m\u001b[1;33m\u001b[0m\u001b[1;33m\u001b[0m\u001b[0m\n\u001b[1;32m----> 3\u001b[1;33m \u001b[0mprint\u001b[0m\u001b[1;33m(\u001b[0m\u001b[0mparam1\u001b[0m\u001b[1;33m)\u001b[0m\u001b[1;33m\u001b[0m\u001b[1;33m\u001b[0m\u001b[0m\n\u001b[0m",
      "\u001b[1;31mNameError\u001b[0m: name 'param1' is not defined"
     ]
    }
   ],
   "source": [
    "# param = 1\n",
    "print('안녕하세요')\n",
    "print(param1)"
   ]
  },
  {
   "cell_type": "code",
   "execution_count": 12,
   "id": "e602dbc8",
   "metadata": {},
   "outputs": [
    {
     "name": "stdout",
     "output_type": "stream",
     "text": [
      "안녕하세요\n",
      "예외가 발생했습니다.\n"
     ]
    }
   ],
   "source": [
    "try:\n",
    "    print('안녕하세요')\n",
    "    print(param1)\n",
    "except:\n",
    "    print('예외가 발생했습니다.')"
   ]
  },
  {
   "cell_type": "code",
   "execution_count": 14,
   "id": "04263e63",
   "metadata": {},
   "outputs": [
    {
     "name": "stdout",
     "output_type": "stream",
     "text": [
      "안녕하세요\n",
      "예외가 발생했습니다.\n",
      "무조건 실행하는 코드\n"
     ]
    }
   ],
   "source": [
    "try:\n",
    "    print('안녕하세요')\n",
    "    print(param1)\n",
    "except:\n",
    "    print('예외가 발생했습니다.')\n",
    "finally:\n",
    "    print('무조건 실행하는 코드')"
   ]
  },
  {
   "cell_type": "code",
   "execution_count": 16,
   "id": "e88a203c",
   "metadata": {},
   "outputs": [
    {
     "name": "stdout",
     "output_type": "stream",
     "text": [
      "name 'param2' is not defined\n"
     ]
    }
   ],
   "source": [
    "# 코드에서 예외 발생 내용을 확인하고자 하는 경우 처리 방법\n",
    "\n",
    "try:\n",
    "    print(param2)\n",
    "except Exception as e:\n",
    "    print(e)"
   ]
  },
  {
   "cell_type": "code",
   "execution_count": 18,
   "id": "a7ab6c8a",
   "metadata": {},
   "outputs": [
    {
     "name": "stdout",
     "output_type": "stream",
     "text": [
      "1\n",
      "2\n",
      "3\n",
      "4\n",
      "5\n",
      "6\n",
      "7\n",
      "8\n",
      "사용자에 의해 프로그램이 중단되었습니다.\n"
     ]
    }
   ],
   "source": [
    "import time\n",
    "count = 1\n",
    "try:\n",
    "    5\n",
    "    while True:\n",
    "        print(count)\n",
    "        count += 1\n",
    "        time.sleep(0.5)\n",
    "except KeyboardInterrupt:\n",
    "    print('사용자에 의해 프로그램이 중단되었습니다.')"
   ]
  },
  {
   "cell_type": "code",
   "execution_count": 19,
   "id": "75b28374",
   "metadata": {},
   "outputs": [
    {
     "name": "stdout",
     "output_type": "stream",
     "text": [
      "52 273 32 103 "
     ]
    }
   ],
   "source": [
    "# Q. 리스트 ['52','273','32','문자','103'] 에서 숫자 부분만 출력하세요(예외처리 수행)"
   ]
  },
  {
   "cell_type": "code",
   "execution_count": null,
   "id": "60a48840",
   "metadata": {},
   "outputs": [],
   "source": [
    "# 수정 보완\n",
    "list = ['52','273','32','문자','103']\n",
    "for i in list:\n",
    "    try :\n",
    "        if i.isdigit():\n",
    "            print(i,end=' ')\n",
    "    except:\n",
    "        print('{0}는 숫자가 아닙니다'.format(i))"
   ]
  },
  {
   "cell_type": "code",
   "execution_count": 23,
   "id": "4b2d5d6d",
   "metadata": {},
   "outputs": [
    {
     "name": "stdout",
     "output_type": "stream",
     "text": [
      "['52', '273', '32', '103']\n"
     ]
    }
   ],
   "source": [
    "list_input = ['52', '273','32','문자','103']\n",
    "list_num = []\n",
    "for i in list_input:    \n",
    "    try:\n",
    "        int(i)\n",
    "        list_num.append(i)\n",
    "        \n",
    "    except:\n",
    "        pass\n",
    "print(list_num)\n"
   ]
  },
  {
   "cell_type": "code",
   "execution_count": null,
   "id": "3217c056",
   "metadata": {},
   "outputs": [],
   "source": [
    "# Q. 정수를 입력하면 '정수', 정수가 아니면 '정수 아님'을 출력하세요."
   ]
  },
  {
   "cell_type": "code",
   "execution_count": 27,
   "id": "3de04207",
   "metadata": {},
   "outputs": [
    {
     "name": "stdout",
     "output_type": "stream",
     "text": [
      "정수를 입력해 주세요. >> 5\n",
      "정수입니다.\n"
     ]
    }
   ],
   "source": [
    "num = input('정수를 입력해 주세요. >> ')\n",
    "\n",
    "try:\n",
    "    int(num)\n",
    "    print('정수입니다.')\n",
    "except:\n",
    "    print('정수가 아닙니다.')\n"
   ]
  },
  {
   "cell_type": "code",
   "execution_count": 25,
   "id": "ac13c5f2",
   "metadata": {},
   "outputs": [
    {
     "name": "stdout",
     "output_type": "stream",
     "text": [
      "입력: 가\n",
      "정수 아님\n"
     ]
    }
   ],
   "source": [
    "try:\n",
    "    num = int(input(\"입력: \"))\n",
    "    print(\"정수\")\n",
    "except:\n",
    "    print(\"정수 아님\")\n"
   ]
  },
  {
   "cell_type": "code",
   "execution_count": 30,
   "id": "65af3967",
   "metadata": {},
   "outputs": [
    {
     "name": "stdout",
     "output_type": "stream",
     "text": [
      "정수 입력> 가\n",
      "정수 아님\n"
     ]
    }
   ],
   "source": [
    "try:\n",
    "    num_input = int(input('정수 입력> '))\n",
    "except:\n",
    "    print('정수 아님')\n",
    "else:\n",
    "    print('정수')"
   ]
  },
  {
   "cell_type": "code",
   "execution_count": null,
   "id": "fb0b3f40",
   "metadata": {},
   "outputs": [],
   "source": [
    "# Q. 정수를 입력하면 '입력 정수' > '예외 발생하지 않음' > '프로그램 종료'\n",
    "# 정수가 아니면 '입력 값' > '정수 아님' > '프로그램 종료' 순서대로 출력하세요.(try ~ except ~ else ~ finally)"
   ]
  },
  {
   "cell_type": "code",
   "execution_count": 35,
   "id": "cfe8f0c7",
   "metadata": {},
   "outputs": [
    {
     "name": "stdout",
     "output_type": "stream",
     "text": [
      "정수를 입력해주세요.>> 가\n",
      "정수아님.\n",
      "프로그램 종료\n"
     ]
    }
   ],
   "source": [
    "try:\n",
    "    num = int(input('정수를 입력해주세요.>> '))    \n",
    "except:\n",
    "    \n",
    "    print(\"정수아님.\")\n",
    "else:\n",
    "    print(num)\n",
    "    print('예외 발생하지 않음')\n",
    "finally:\n",
    "    print(\"프로그램 종료\")\n"
   ]
  },
  {
   "cell_type": "code",
   "execution_count": 40,
   "id": "eed854e1",
   "metadata": {},
   "outputs": [
    {
     "name": "stdout",
     "output_type": "stream",
     "text": [
      "프로그램이 시작되었습니다.\n",
      "try 구문이 시작되었습니다.\n",
      "프로그램이 종료되었습니다.\n"
     ]
    }
   ],
   "source": [
    "print('프로그램이 시작되었습니다.')\n",
    "while True:\n",
    "    try:\n",
    "        print('try 구문이 시작되었습니다.')      \n",
    "        break\n",
    "    except:ㅠ\n",
    "        print('except 구문이 실행되었습니다.')\n",
    "        \n",
    "    print('finally 구문이 실행되었습니다.')\n",
    "    print('while 반복문의 마지막 줄입니다.')\n",
    "print('프로그램이 종료되었습니다.')"
   ]
  },
  {
   "cell_type": "code",
   "execution_count": null,
   "id": "d68b956a",
   "metadata": {},
   "outputs": [],
   "source": [
    "# 위 코드에서 try ~ except ~ finally를 사용하여 아래와 같이 출력하세요.\n",
    "\n",
    "프로그램이 시작되었습니다.\n",
    "try 구문이 시작되었습니다.\n",
    "except 구문이 실행되었습니다.\n",
    "finally 구문이 실행되었습니다.\n",
    "프로그램이 종료되었습니다."
   ]
  },
  {
   "cell_type": "code",
   "execution_count": 41,
   "id": "04104155",
   "metadata": {},
   "outputs": [
    {
     "name": "stdout",
     "output_type": "stream",
     "text": [
      "프로그램이 시작되었습니다.\n",
      "except 구문이 실행되었습니다.\n",
      "finally 구문이 실행되었습니다.\n",
      "while 반복문의 마지막 줄입니다.\n",
      "프로그램이 종료되었습니다.\n"
     ]
    }
   ],
   "source": [
    "# 수정 보완 요\n",
    "print('프로그램이 시작되었습니다.')\n",
    "while 1:\n",
    "    try :\n",
    "        int('a')\n",
    "        print('try 구문이 실행되었습니다.')\n",
    "        break\n",
    "    except:\n",
    "        print('except 구문이 실행되었습니다.')\n",
    "        break\n",
    "    finally:\n",
    "        print('finally 구문이 실행되었습니다.')\n",
    "        print('while 반복문의 마지막 줄입니다.')\n",
    "print('프로그램이 종료되었습니다.')\n"
   ]
  },
  {
   "cell_type": "code",
   "execution_count": 48,
   "id": "7e904cc8",
   "metadata": {},
   "outputs": [
    {
     "name": "stdout",
     "output_type": "stream",
     "text": [
      "프로그램이 시작되었습니다.\n",
      "try 구문이 시작되었습니다.\n",
      "except 구문이 실행되었습니다.\n",
      "finally 구문이 실행되었습니다.\n",
      "프로그램이 종료되었습니다.\n"
     ]
    }
   ],
   "source": [
    "print('프로그램이 시작되었습니다.')\n",
    "while 1:\n",
    "    try:\n",
    "        print('try 구문이 시작되었습니다.')\n",
    "        c = a + 1\n",
    "        print(c)\n",
    "        break\n",
    "    except:\n",
    "        print('except 구문이 실행되었습니다.')\n",
    "        break\n",
    "    finally:\n",
    "        print('finally 구문이 실행되었습니다.')        \n",
    "    print('while 반복문의 마지막 줄입니다.')\n",
    "print('프로그램이 종료되었습니다.')\n"
   ]
  },
  {
   "cell_type": "code",
   "execution_count": 50,
   "id": "aecfedf9",
   "metadata": {},
   "outputs": [
    {
     "name": "stdout",
     "output_type": "stream",
     "text": [
      "정수 입력> 가\n"
     ]
    },
    {
     "ename": "ValueError",
     "evalue": "invalid literal for int() with base 10: '가'",
     "output_type": "error",
     "traceback": [
      "\u001b[1;31m---------------------------------------------------------------------------\u001b[0m",
      "\u001b[1;31mValueError\u001b[0m                                Traceback (most recent call last)",
      "\u001b[1;32m~\\AppData\\Local\\Temp/ipykernel_7528/1760730484.py\u001b[0m in \u001b[0;36m<module>\u001b[1;34m\u001b[0m\n\u001b[0;32m      1\u001b[0m \u001b[1;31m# [과제] 숫자 대신 문자를 입력 시 예외가 발생되는데 아래 코드를 수정해서 예외 객체의 자료형과 예외 객체 자체를 출력하세요.\u001b[0m\u001b[1;33m\u001b[0m\u001b[1;33m\u001b[0m\u001b[1;33m\u001b[0m\u001b[0m\n\u001b[0;32m      2\u001b[0m \u001b[1;33m\u001b[0m\u001b[0m\n\u001b[1;32m----> 3\u001b[1;33m \u001b[0mnum_input\u001b[0m \u001b[1;33m=\u001b[0m \u001b[0mint\u001b[0m\u001b[1;33m(\u001b[0m\u001b[0minput\u001b[0m\u001b[1;33m(\u001b[0m\u001b[1;34m'정수 입력> '\u001b[0m\u001b[1;33m)\u001b[0m\u001b[1;33m)\u001b[0m\u001b[1;33m\u001b[0m\u001b[1;33m\u001b[0m\u001b[0m\n\u001b[0m\u001b[0;32m      4\u001b[0m \u001b[0mprint\u001b[0m\u001b[1;33m(\u001b[0m\u001b[1;34m'원의 반지름:'\u001b[0m\u001b[1;33m,\u001b[0m \u001b[0mnum_input\u001b[0m\u001b[1;33m)\u001b[0m\u001b[1;33m\u001b[0m\u001b[1;33m\u001b[0m\u001b[0m\n\u001b[0;32m      5\u001b[0m \u001b[0mprint\u001b[0m\u001b[1;33m(\u001b[0m\u001b[1;34m'원의 둘레:'\u001b[0m\u001b[1;33m,\u001b[0m \u001b[1;36m2\u001b[0m\u001b[1;33m*\u001b[0m\u001b[1;36m3.14\u001b[0m\u001b[1;33m*\u001b[0m\u001b[0mnum_input\u001b[0m\u001b[1;33m)\u001b[0m\u001b[1;33m\u001b[0m\u001b[1;33m\u001b[0m\u001b[0m\n",
      "\u001b[1;31mValueError\u001b[0m: invalid literal for int() with base 10: '가'"
     ]
    }
   ],
   "source": [
    "# [과제] 숫자 대신 문자를 입력 시 예외가 발생되는데 아래 코드를 수정해서 예외 객체의 자료형과 예외 객체 자체를 출력하세요.\n",
    "\n",
    "num_input = int(input('정수 입력> '))\n",
    "print('원의 반지름:', num_input)\n",
    "print('원의 둘레:', 2*3.14*num_input)\n",
    "print('원의 넓이:', 3.14*num_input*num_input)"
   ]
  },
  {
   "cell_type": "code",
   "execution_count": 1,
   "id": "42e0784f",
   "metadata": {},
   "outputs": [
    {
     "name": "stdout",
     "output_type": "stream",
     "text": [
      "정수 입력> 가\n",
      "정수를 입력하세요.\n"
     ]
    }
   ],
   "source": [
    "# 수정 보완 요\n",
    "try:\n",
    "    num_input = int(input('정수 입력> '))\n",
    "except:\n",
    "    print('정수를 입력하세요.')\n",
    "else :\n",
    "    print('원의 반지름:', num_input)\n",
    "    print('원의 둘레:', 2*3.14*num_input)\n",
    "    print('원의 넓이:', 3.14*num_input*num_input)\n"
   ]
  },
  {
   "cell_type": "code",
   "execution_count": 2,
   "id": "70542926",
   "metadata": {},
   "outputs": [
    {
     "name": "stdout",
     "output_type": "stream",
     "text": [
      "정수 > 가\n",
      "입력 값 >  가\n",
      "가의 타입은 <class 'str'>형입니다.\n"
     ]
    }
   ],
   "source": [
    "# 수정 보완 요\n",
    "while 1:\n",
    "    try:\n",
    "        num_input = input('정수 > ')\n",
    "        num_input = int(num_input)\n",
    "        print('원의 반지름:',num_input)\n",
    "        print('원 둘레:',round(2*3.14*num_input,2))\n",
    "        print('원 넓이:',round(3.14*num_input*num_input,2))\n",
    "        break\n",
    "    except:\n",
    "        print('입력 값 > ', num_input)\n",
    "        print('{}의 타입은 {}형입니다.'.format(num_input,type(num_input)))\n",
    "        break\n"
   ]
  },
  {
   "cell_type": "code",
   "execution_count": 3,
   "id": "731d79c6",
   "metadata": {},
   "outputs": [
    {
     "name": "stdout",
     "output_type": "stream",
     "text": [
      "정수 > 가\n",
      "<class 'ValueError'>\n",
      "invalid literal for int() with base 10: '가'\n"
     ]
    }
   ],
   "source": [
    "try:    \n",
    "    num_input = int(input('정수 > '))    \n",
    "    print('원의 반지름:',num_input)\n",
    "    print('원 둘레:',round(2*3.14*num_input,2))\n",
    "    print('원 넓이:',round(3.14*num_input*num_input,2))\n",
    "except Exception as e:\n",
    "    print(type(e))\n",
    "    print(e)"
   ]
  },
  {
   "cell_type": "code",
   "execution_count": 53,
   "id": "92ba809a",
   "metadata": {},
   "outputs": [
    {
     "name": "stdout",
     "output_type": "stream",
     "text": [
      "정수 입력> 7\n"
     ]
    },
    {
     "ename": "IndexError",
     "evalue": "list index out of range",
     "output_type": "error",
     "traceback": [
      "\u001b[1;31m---------------------------------------------------------------------------\u001b[0m",
      "\u001b[1;31mIndexError\u001b[0m                                Traceback (most recent call last)",
      "\u001b[1;32m~\\AppData\\Local\\Temp/ipykernel_7528/3747991884.py\u001b[0m in \u001b[0;36m<module>\u001b[1;34m\u001b[0m\n\u001b[0;32m      5\u001b[0m \u001b[1;33m\u001b[0m\u001b[0m\n\u001b[0;32m      6\u001b[0m \u001b[0mnum_input\u001b[0m \u001b[1;33m=\u001b[0m \u001b[0mint\u001b[0m\u001b[1;33m(\u001b[0m\u001b[0minput\u001b[0m\u001b[1;33m(\u001b[0m\u001b[1;34m'정수 입력> '\u001b[0m\u001b[1;33m)\u001b[0m\u001b[1;33m)\u001b[0m\u001b[1;33m\u001b[0m\u001b[1;33m\u001b[0m\u001b[0m\n\u001b[1;32m----> 7\u001b[1;33m \u001b[0mprint\u001b[0m\u001b[1;33m(\u001b[0m\u001b[1;34m'{}번째 요소: {}'\u001b[0m\u001b[1;33m.\u001b[0m\u001b[0mformat\u001b[0m\u001b[1;33m(\u001b[0m\u001b[0mnum_input\u001b[0m\u001b[1;33m,\u001b[0m \u001b[0mlist_num\u001b[0m\u001b[1;33m[\u001b[0m\u001b[0mnum_input\u001b[0m\u001b[1;33m-\u001b[0m\u001b[1;36m1\u001b[0m\u001b[1;33m]\u001b[0m\u001b[1;33m)\u001b[0m\u001b[1;33m)\u001b[0m\u001b[1;33m\u001b[0m\u001b[1;33m\u001b[0m\u001b[0m\n\u001b[0m",
      "\u001b[1;31mIndexError\u001b[0m: list index out of range"
     ]
    }
   ],
   "source": [
    "# [과제] 아래 코드를 보완하여 발생 가능한 모든 예외(정수, 인덱스, 미리 파악하지 못한 예외)를 처리한 후 마지막에 \"모든 예외처리 완료\"를\n",
    "# 출력하세요.\n",
    "\n",
    "list_num = [52,273,32,72,100]\n",
    "\n",
    "num_input = int(input('정수 입력> '))\n",
    "print('{}번째 요소: {}'.format(num_input, list_num[num_input-1]))"
   ]
  },
  {
   "cell_type": "code",
   "execution_count": 5,
   "id": "33ffe7c4",
   "metadata": {},
   "outputs": [
    {
     "name": "stdout",
     "output_type": "stream",
     "text": [
      "정수 입력 > 7\n",
      "인덱스 오류, 범위 안의 값을 입력하세요\n",
      "모든 예외처리 완료\n"
     ]
    }
   ],
   "source": [
    "# 수정 보완 요\n",
    "list_num = [52, 273, 32, 72, 100]\n",
    "\n",
    "try: \n",
    "    num_input = int(input('정수 입력 > '))\n",
    "    print('{}번째 요소: {}'.format(num_input, list_num[num_input -1]))\n",
    "except IndexError:\n",
    "    print(\"인덱스 오류, 범위 안의 값을 입력하세요\")\n",
    "except ValueError:\n",
    "    print(\"정수 값을 입력하세요\")\n",
    "except Excetion:\n",
    "    print(\"정수 값을 입력하세요\")\n",
    "finally:\n",
    "    print(\"모든 예외처리 완료\")\n"
   ]
  },
  {
   "cell_type": "code",
   "execution_count": 6,
   "id": "666bcbcf",
   "metadata": {},
   "outputs": [
    {
     "name": "stdout",
     "output_type": "stream",
     "text": [
      "정수 입력 > 가\n",
      "정수 값을 입력하세요\n",
      "모든 예외처리 완료\n",
      "정수 입력 > 7\n",
      "인덱스 오류, 범위 안의 값을 입력하세요\n",
      "모든 예외처리 완료\n",
      "정수 입력 > 3\n",
      "3번째 요소: 32\n",
      "모든 예외처리 완료\n"
     ]
    }
   ],
   "source": [
    "list_num = [52, 273, 32, 72, 100]\n",
    "\n",
    "while 1: \n",
    "    try: \n",
    "        num_input = int(input('정수 입력 > '))\n",
    "        print('{}번째 요소: {}'.format(num_input, list_num[num_input -1]))\n",
    "        break\n",
    "    except IndexError:\n",
    "        print(\"인덱스 오류, 범위 안의 값을 입력하세요\")\n",
    "    except ValueError:\n",
    "        print(\"정수 값을 입력하세요\")\n",
    "    except Excetion:\n",
    "        print(\"정수 값을 입력하세요\")\n",
    "    finally:\n",
    "        print(\"모든 예외처리 완료\")\n"
   ]
  },
  {
   "cell_type": "code",
   "execution_count": null,
   "id": "6ecda3bf",
   "metadata": {},
   "outputs": [],
   "source": [
    "# [과제] 자유 주제로 프로그램밍을 수행하세요. 단 예외처리 3건 이상\n",
    "# 별도의 주피터 파일로 제출(programming 기획 폴더에 업로드)"
   ]
  }
 ],
 "metadata": {
  "kernelspec": {
   "display_name": "Python 3 (ipykernel)",
   "language": "python",
   "name": "python3"
  },
  "language_info": {
   "codemirror_mode": {
    "name": "ipython",
    "version": 3
   },
   "file_extension": ".py",
   "mimetype": "text/x-python",
   "name": "python",
   "nbconvert_exporter": "python",
   "pygments_lexer": "ipython3",
   "version": "3.8.12"
  }
 },
 "nbformat": 4,
 "nbformat_minor": 5
}
