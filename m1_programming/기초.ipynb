{
 "cells": [
  {
   "cell_type": "markdown",
   "id": "4d8529cc",
   "metadata": {},
   "source": [
    "## 파이썬 기초"
   ]
  },
  {
   "cell_type": "markdown",
   "id": "baa52377",
   "metadata": {},
   "source": [
    "#### 파이썬 이란\n",
    "- 1990년 암스테르담의 귀도 반 로섬(Guido Van Rossum)이 개발한 인터프리터 언어\n",
    "- 컴퓨터 프로그래밍 교육을 위해 많이 사용하지만, 기업의 실무를 위해서도 많이 사용하는 언어. 구글에서 만든 소프트웨어의 50%이상이 파이썬으로 작성\n",
    "\n",
    "#### 파이썬의 특징\n",
    "- 파이썬은 인간다운 언어이다\n",
    "- 파이썬은 문법이 쉬워 빠르게 배울 수 있다\n",
    "- 파이썬은 무료이지만 강력하다\n",
    "- 파이썬은 간결하다\n",
    "- 파이썬은 프로그래밍을 즐기게 해준다\n",
    "- 파이썬은 개발 속도가 빠르다\n",
    "\n",
    "#### 파이썬으로 할 수 있는 일\n",
    "- 시스템 유틸리티 제작\n",
    "- GUI 프로그래밍\n",
    "- C/C++와의 결합\n",
    "- 웹 프로그래밍\n",
    "- 수치 연산 프로그래밍\n",
    "- 데이터베이스 프로그래밍\n",
    "- 데이터 분석, 사물 인터넷\n",
    "\n",
    "#### 참조\n",
    "- 표현식 : 어떠한 값을 만들어 내는 간단한 코드. 273, 10 + 20 + 30, \"Python Programming\"\n",
    "- 문장 : 표현식이 하나 이상 모이면 문장. print(\"Hello\")\n",
    "- 프로그램 : 문장이 모여서 프로그램\n",
    "- 식별자 : 프로그램밍 언어에서 이름을 붙일 때 사용하는 단어. 주로 변수 또는 함수 이름 등으로 사용\n",
    "- 주석 : 프로그램을 설명하기 위해 사용. # 기호로 주석 처리\n",
    "- 연산자 : 스스로 값이 되는 것이 아니고 값과 값 사이에 무언가 기능을 적용할 때 사용\n",
    "- 자료 : 리터럴이라고 하는데 숫자이든 문자이든 어떠한 값 자체를 의미. 1, 10, \"Hello\"\n",
    "- 키워드 : 파이썬이 만들어질 때 이미 사용하겠다고 예약해 놓는 것. False, None, True, ...\n",
    "- 프로그램밍 언어에서 사용자가 이름을 정할 때 키워드는 사용할 수 없음"
   ]
  },
  {
   "cell_type": "code",
   "execution_count": 1,
   "id": "7183f1db",
   "metadata": {},
   "outputs": [
    {
     "name": "stdout",
     "output_type": "stream",
     "text": [
      "Python 3.8.12\n"
     ]
    }
   ],
   "source": [
    "!python -V"
   ]
  },
  {
   "cell_type": "code",
   "execution_count": 4,
   "id": "39091224",
   "metadata": {},
   "outputs": [
    {
     "name": "stdout",
     "output_type": "stream",
     "text": [
      "273\n"
     ]
    },
    {
     "data": {
      "text/plain": [
       "60"
      ]
     },
     "execution_count": 4,
     "metadata": {},
     "output_type": "execute_result"
    }
   ],
   "source": [
    "# 표현식\n",
    "print(273)\n",
    "10+20+30"
   ]
  },
  {
   "cell_type": "code",
   "execution_count": 6,
   "id": "dd8ac23c",
   "metadata": {},
   "outputs": [
    {
     "name": "stdout",
     "output_type": "stream",
     "text": [
      "Hello Python\n",
      "52 Hello Python 8\n"
     ]
    }
   ],
   "source": [
    "# 표현식이 하나 이상씩 모이면 문장\n",
    "print(\"Hello Python\")\n",
    "print(52, 'Hello Python', 5+3)"
   ]
  },
  {
   "cell_type": "code",
   "execution_count": 7,
   "id": "c0dbd1ec",
   "metadata": {},
   "outputs": [
    {
     "name": "stdout",
     "output_type": "stream",
     "text": [
      "2\n"
     ]
    }
   ],
   "source": [
    "# 문장이 모여서 프로그램\n",
    "a = 1;b = 1;c=a+b\n",
    "print(c)"
   ]
  },
  {
   "cell_type": "code",
   "execution_count": 12,
   "id": "3ee4147e",
   "metadata": {},
   "outputs": [
    {
     "name": "stdout",
     "output_type": "stream",
     "text": [
      "['False', 'None', 'True', 'and', 'as', 'assert', 'async', 'await', 'break', 'class', 'continue', 'def', 'del', 'elif', 'else', 'except', 'finally', 'for', 'from', 'global', 'if', 'import', 'in', 'is', 'lambda', 'nonlocal', 'not', 'or', 'pass', 'raise', 'return', 'try', 'while', 'with', 'yield'] \n",
      "\n",
      "\n",
      "35\n"
     ]
    }
   ],
   "source": [
    "# python keyword\n",
    "import keyword\n",
    "print(keyword.kwlist,'\\n')\n",
    "print(len(keyword.kwlist))"
   ]
  },
  {
   "cell_type": "markdown",
   "id": "e078cd03",
   "metadata": {},
   "source": [
    "식별자 기본 규칙\n",
    "- 키워드를 사용하면 안된다.\n",
    "- 특수문자는 언더 바(_) 만 사용한다.\n",
    "- 숫자로 시작하면 안된다.\n",
    "- 공백을 포함할 수 없다."
   ]
  },
  {
   "cell_type": "code",
   "execution_count": null,
   "id": "a6c23873",
   "metadata": {},
   "outputs": [],
   "source": [
    "alpha\n",
    "break # 키워드\n",
    "alpha10\n",
    "_alpha\n",
    "273alpha # 숫자\n",
    "AlpHa\n",
    "ALPHA\n",
    "has space # 공백"
   ]
  },
  {
   "cell_type": "markdown",
   "id": "017c638e",
   "metadata": {},
   "source": [
    "https://bibi6666667.tistory.com/277  \n",
    "파이썬은 snake_case와 CamelCase를 모두 사용\n",
    "- itemlist     item_list     ItemList\n",
    "- loginstatus  login_status  LoginStatus\n",
    "- 캐멀 케이스(대문자로 시작) 클래스\n",
    "- 스네이크 케이스(소문자로 시작) 뒤에 ()가 있다 - 함수\n",
    "- 스네이크 케이스(소문자로 시작) 뒤에 ()가 없다 - 변수"
   ]
  },
  {
   "cell_type": "code",
   "execution_count": 13,
   "id": "57dd79be",
   "metadata": {},
   "outputs": [
    {
     "name": "stdout",
     "output_type": "stream",
     "text": [
      "3이 있습니다.\n"
     ]
    }
   ],
   "source": [
    "# 사람이 생각하는 방식을 그대로 표현할 수 있는 언어\n",
    "\n",
    "if 3 in [1,2,3,4]: print('3이 있습니다.')"
   ]
  },
  {
   "cell_type": "code",
   "execution_count": 14,
   "id": "8c0abc62",
   "metadata": {},
   "outputs": [
    {
     "name": "stdout",
     "output_type": "stream",
     "text": [
      "123\n",
      "-123\n",
      "0\n",
      "1.23\n",
      "127\n",
      "2748\n",
      "42\n"
     ]
    }
   ],
   "source": [
    "# 파이썬 자료형 - 숫자형(정수, 실수, 8진수, 16진수)\n",
    "a = 123\n",
    "b = -123\n",
    "c = 0\n",
    "d = 1.23\n",
    "e = 0o177 # 8진수 0o로 시작\n",
    "f = 0xABC # 16진수 0x로 시작\n",
    "g = 0b101010 # 2진수 0b로 시작\n",
    "print(a)\n",
    "print(b)\n",
    "print(c)\n",
    "print(d)\n",
    "print(e)\n",
    "print(f)\n",
    "print(g)"
   ]
  },
  {
   "cell_type": "code",
   "execution_count": 15,
   "id": "4bb827c0",
   "metadata": {},
   "outputs": [
    {
     "name": "stdout",
     "output_type": "stream",
     "text": [
      "10\n",
      "2\n",
      "12\n",
      "20\n",
      "5.0\n",
      "0\n",
      "5\n",
      "8\n"
     ]
    }
   ],
   "source": [
    "# 사칙연산\n",
    "a = 10\n",
    "b = 2\n",
    "c = a + b\n",
    "d = a * b\n",
    "e = a / b\n",
    "f = a % b  # 나머지\n",
    "g = a // b # 몫\n",
    "h = 2 ** 3 # 제곱\n",
    "print(a)\n",
    "print(b)\n",
    "print(c)\n",
    "print(d)\n",
    "print(e)\n",
    "print(f)\n",
    "print(g)\n",
    "print(h)"
   ]
  },
  {
   "cell_type": "code",
   "execution_count": 16,
   "id": "45a6a369",
   "metadata": {},
   "outputs": [
    {
     "ename": "TypeError",
     "evalue": "can only concatenate str (not \"int\") to str",
     "output_type": "error",
     "traceback": [
      "\u001b[1;31m---------------------------------------------------------------------------\u001b[0m",
      "\u001b[1;31mTypeError\u001b[0m                                 Traceback (most recent call last)",
      "\u001b[1;32m~\\AppData\\Local\\Temp/ipykernel_3188/1265390702.py\u001b[0m in \u001b[0;36m<module>\u001b[1;34m\u001b[0m\n\u001b[0;32m      2\u001b[0m \u001b[0mstring\u001b[0m \u001b[1;33m=\u001b[0m \u001b[1;34m\"문자열 \"\u001b[0m\u001b[1;33m\u001b[0m\u001b[1;33m\u001b[0m\u001b[0m\n\u001b[0;32m      3\u001b[0m \u001b[0mnumber\u001b[0m \u001b[1;33m=\u001b[0m \u001b[1;36m273\u001b[0m\u001b[1;33m\u001b[0m\u001b[1;33m\u001b[0m\u001b[0m\n\u001b[1;32m----> 4\u001b[1;33m \u001b[0mstring\u001b[0m \u001b[1;33m+\u001b[0m \u001b[0mnumber\u001b[0m\u001b[1;33m\u001b[0m\u001b[1;33m\u001b[0m\u001b[0m\n\u001b[0m",
      "\u001b[1;31mTypeError\u001b[0m: can only concatenate str (not \"int\") to str"
     ]
    }
   ],
   "source": [
    "# 다른 타입간 연산은 안됨\n",
    "string = \"문자열 \"\n",
    "number = 273\n",
    "string + number"
   ]
  },
  {
   "cell_type": "code",
   "execution_count": 21,
   "id": "36e39552",
   "metadata": {},
   "outputs": [
    {
     "data": {
      "text/plain": [
       "int"
      ]
     },
     "execution_count": 21,
     "metadata": {},
     "output_type": "execute_result"
    }
   ],
   "source": [
    "a = 10\n",
    "a = \"문자\"\n",
    "a = 100\n",
    "type(a)"
   ]
  },
  {
   "cell_type": "code",
   "execution_count": 22,
   "id": "ff3f39f3",
   "metadata": {},
   "outputs": [
    {
     "data": {
      "text/plain": [
       "200"
      ]
     },
     "execution_count": 22,
     "metadata": {},
     "output_type": "execute_result"
    }
   ],
   "source": [
    "# 복합 대입 연산자\n",
    "num = 10\n",
    "num += 10\n",
    "num *= 10\n",
    "num"
   ]
  },
  {
   "cell_type": "code",
   "execution_count": 24,
   "id": "7cb200ef",
   "metadata": {},
   "outputs": [
    {
     "data": {
      "text/plain": [
       "10"
      ]
     },
     "execution_count": 24,
     "metadata": {},
     "output_type": "execute_result"
    }
   ],
   "source": [
    "num = 100\n",
    "num *= 10\n",
    "num -= 990\n",
    "num"
   ]
  },
  {
   "cell_type": "code",
   "execution_count": 25,
   "id": "3a979a46",
   "metadata": {},
   "outputs": [
    {
     "name": "stdout",
     "output_type": "stream",
     "text": [
      "인사말을 입력하세요: 안녕하세요\n"
     ]
    },
    {
     "data": {
      "text/plain": [
       "'안녕하세요'"
      ]
     },
     "execution_count": 25,
     "metadata": {},
     "output_type": "execute_result"
    }
   ],
   "source": [
    "# 사용자 입력\n",
    "input('인사말을 입력하세요: ')"
   ]
  },
  {
   "cell_type": "code",
   "execution_count": 26,
   "id": "581ee25c",
   "metadata": {},
   "outputs": [
    {
     "name": "stdout",
     "output_type": "stream",
     "text": [
      "숫자를 입력하세요: 10\n",
      "10\n"
     ]
    },
    {
     "data": {
      "text/plain": [
       "str"
      ]
     },
     "execution_count": 26,
     "metadata": {},
     "output_type": "execute_result"
    }
   ],
   "source": [
    "num = input('숫자를 입력하세요: ')\n",
    "print(num)\n",
    "type(num)"
   ]
  },
  {
   "cell_type": "code",
   "execution_count": 27,
   "id": "9cae784e",
   "metadata": {},
   "outputs": [
    {
     "name": "stdout",
     "output_type": "stream",
     "text": [
      "숫자를 입력하세요5\n",
      "숫자를 입력하세요5\n",
      "55\n"
     ]
    }
   ],
   "source": [
    "num1 = input('숫자를 입력하세요')\n",
    "num2 = input('숫자를 입력하세요')\n",
    "print(num1 + num2)"
   ]
  },
  {
   "cell_type": "code",
   "execution_count": 28,
   "id": "de973308",
   "metadata": {},
   "outputs": [
    {
     "name": "stdout",
     "output_type": "stream",
     "text": [
      "숫자를 입력하세요5\n",
      "숫자를 입력하세요5\n",
      "10\n"
     ]
    }
   ],
   "source": [
    "# input() 함수를 사용하면 숫자도 문자로 전환되어 숫자연산을 위한 변환 필요\n",
    "num1 = input('숫자를 입력하세요')\n",
    "num1_n = int(num1)\n",
    "num2 = input('숫자를 입력하세요')\n",
    "num2_n = int(num2)\n",
    "print(num1_n + num2_n)"
   ]
  },
  {
   "cell_type": "code",
   "execution_count": null,
   "id": "c8958268",
   "metadata": {},
   "outputs": [],
   "source": [
    "# Q. 3과 3.3을 입력하고 숫자 연산을 수행하여 6.3을 출력하세요."
   ]
  },
  {
   "cell_type": "code",
   "execution_count": 31,
   "id": "de0c1442",
   "metadata": {},
   "outputs": [
    {
     "name": "stdout",
     "output_type": "stream",
     "text": [
      "숫자를 입력하세요3\n",
      "숫자를 입력하세요3.3\n",
      "6.3\n"
     ]
    }
   ],
   "source": [
    "# A.\n",
    "num1 = input('숫자를 입력하세요')\n",
    "num1_n = int(num1)\n",
    "num2 = input('숫자를 입력하세요')\n",
    "num2_n = float(num2)\n",
    "print(num1_n + num2_n)\n",
    "# print(num1 + num2)"
   ]
  },
  {
   "cell_type": "code",
   "execution_count": null,
   "id": "053ea39e",
   "metadata": {},
   "outputs": [],
   "source": [
    "# Q. a = 52와 b = 52.273일때 a+b는 5252.273으로 출력되도록 a와 b를 문자열 \n",
    "# 자료형으로 변환하세요."
   ]
  },
  {
   "cell_type": "code",
   "execution_count": 32,
   "id": "6aed79fc",
   "metadata": {},
   "outputs": [
    {
     "name": "stdout",
     "output_type": "stream",
     "text": [
      "5252.273\n"
     ]
    }
   ],
   "source": [
    "# A.\n",
    "a = 52\n",
    "b = 52.273\n",
    "print(str(a) + str(b))\n"
   ]
  },
  {
   "cell_type": "code",
   "execution_count": 34,
   "id": "4aae9fd7",
   "metadata": {},
   "outputs": [
    {
     "name": "stdout",
     "output_type": "stream",
     "text": [
      "python's value is great\n"
     ]
    }
   ],
   "source": [
    "# 문자열 : \"\", '', \"\"\" \"\"\", ''' '''\n",
    "p1 = \"python's value is great\"\n",
    "# p2 = 'python's value is great'\n",
    "print(p1)\n"
   ]
  },
  {
   "cell_type": "code",
   "execution_count": 35,
   "id": "fe6884a2",
   "metadata": {},
   "outputs": [
    {
     "data": {
      "text/plain": [
       "'\"python is valuable\" he says'"
      ]
     },
     "execution_count": 35,
     "metadata": {},
     "output_type": "execute_result"
    }
   ],
   "source": [
    "s1 = '\"python is valuable\" he says'\n",
    "s1"
   ]
  },
  {
   "cell_type": "code",
   "execution_count": 36,
   "id": "a25c5497",
   "metadata": {},
   "outputs": [
    {
     "data": {
      "text/plain": [
       "\"python's value is great\""
      ]
     },
     "execution_count": 36,
     "metadata": {},
     "output_type": "execute_result"
    }
   ],
   "source": [
    "s2 = 'python\\'s value is great'\n",
    "s2"
   ]
  },
  {
   "cell_type": "code",
   "execution_count": 37,
   "id": "9c4c0dc5",
   "metadata": {},
   "outputs": [
    {
     "name": "stdout",
     "output_type": "stream",
     "text": [
      "Once you study data analysis\n",
      "You need Python\n",
      "Once you study data analysis\n",
      "You need Python\n",
      "nce you study data analysis\n",
      "You need Python\n"
     ]
    }
   ],
   "source": [
    "y1 = \"Once you study data analysis\\nYou need Python\"\n",
    "print(y1)\n",
    "y2 = '''Once you study data analysis\n",
    "You need Python'''\n",
    "print(y2)\n",
    "y3 = \"\"\"nce you study data analysis\n",
    "You need Python\"\"\"\n",
    "print(y3)"
   ]
  },
  {
   "cell_type": "code",
   "execution_count": 39,
   "id": "ae237194",
   "metadata": {},
   "outputs": [
    {
     "name": "stdout",
     "output_type": "stream",
     "text": [
      "\"What a wonderful world!\"\n",
      "he said loudly\n"
     ]
    }
   ],
   "source": [
    "# string = '''\"What a wonderful world!\"\\n he said loudly'''\n",
    "string = '''\"What a wonderful world!\"\n",
    "he said loudly'''\n",
    "print(string)\n"
   ]
  },
  {
   "cell_type": "code",
   "execution_count": 40,
   "id": "26e88c82",
   "metadata": {},
   "outputs": [
    {
     "name": "stdout",
     "output_type": "stream",
     "text": [
      "Python is easy to learn\n",
      "PythonPythonPython\n",
      "====================\n"
     ]
    }
   ],
   "source": [
    "# 문자열 연산\n",
    "a1 = 'Python'\n",
    "a2 = ' is easy to learn'\n",
    "print(a1 + a2)\n",
    "print(a1 * 3)\n",
    "print(\"=\" * 20)"
   ]
  },
  {
   "cell_type": "code",
   "execution_count": 42,
   "id": "0422db75",
   "metadata": {},
   "outputs": [
    {
     "name": "stdout",
     "output_type": "stream",
     "text": [
      "[1, 'a', 'abc', [1, 2, 3, 4, 5], ['a', 'b', 'c']]\n"
     ]
    }
   ],
   "source": [
    "# 자료형 - List \n",
    "# 리스트는 [] 로 표시하며 []안의 요소를 콤마로 구분하여 순서있게 나열\n",
    "list1 = [1,2,3,4,5]\n",
    "list2 = ['a','b','c']\n",
    "list3 = [1,'a','abc',[1,2,3,4,5],['a','b','c']]\n",
    "print(list3)"
   ]
  },
  {
   "cell_type": "code",
   "execution_count": 43,
   "id": "8966f686",
   "metadata": {},
   "outputs": [
    {
     "data": {
      "text/plain": [
       "'b'"
      ]
     },
     "execution_count": 43,
     "metadata": {},
     "output_type": "execute_result"
    }
   ],
   "source": [
    "# 인덱싱\n",
    "list1 = [1,2,3,4,5]\n",
    "list1[:]\n",
    "list3[2]\n",
    "list3[3][4]\n",
    "list3[4][1]"
   ]
  },
  {
   "cell_type": "code",
   "execution_count": 46,
   "id": "1b5f20c5",
   "metadata": {},
   "outputs": [
    {
     "name": "stdout",
     "output_type": "stream",
     "text": [
      "[1, 1, 2, 3, 4, 5, 6, 7, 8, 9]\n",
      "['a', 'a', 'c']\n",
      "['a', 'c']\n"
     ]
    }
   ],
   "source": [
    "# 리스트 수정, 삭제\n",
    "\n",
    "a = [0, 1, 2, 3, 4, 5, 6, 7, 8, 9]\n",
    "b = ['a','b','c']\n",
    "a[0] = 1\n",
    "b[1] = 'a'\n",
    "print(a)\n",
    "print(b)\n",
    "del b[1]\n",
    "print(b)"
   ]
  },
  {
   "cell_type": "code",
   "execution_count": 48,
   "id": "5243e0e1",
   "metadata": {},
   "outputs": [
    {
     "name": "stdout",
     "output_type": "stream",
     "text": [
      "[0, 1, 2, 3, 4, 5, 6, 7, 8, 9, 'a', 'b', 'c']\n"
     ]
    },
    {
     "data": {
      "text/plain": [
       "[0, 1, 2, 3, 4, 5, 6, 7, 8, 9, 'a', 'b', 1]"
      ]
     },
     "execution_count": 48,
     "metadata": {},
     "output_type": "execute_result"
    }
   ],
   "source": [
    "a = [0, 1, 2, 3, 4, 5, 6, 7, 8, 9]\n",
    "b = ['a','b','c']\n",
    "c = a + b\n",
    "print(c)\n",
    "c[-1] = 1\n",
    "c"
   ]
  },
  {
   "cell_type": "code",
   "execution_count": 49,
   "id": "ca0e9f04",
   "metadata": {},
   "outputs": [
    {
     "data": {
      "text/plain": [
       "[0, 1, 2, 3, 4, 5, 6, 7, 8, 9, 'a', 2, 1]"
      ]
     },
     "execution_count": 49,
     "metadata": {},
     "output_type": "execute_result"
    }
   ],
   "source": [
    "c[-2] = 2\n",
    "c"
   ]
  },
  {
   "cell_type": "code",
   "execution_count": 53,
   "id": "15c3f47e",
   "metadata": {},
   "outputs": [
    {
     "name": "stdout",
     "output_type": "stream",
     "text": [
      "[1, 2, 3, 4]\n",
      "[4, 3, 2, 1]\n",
      "[4, 3, 2, 1]\n"
     ]
    }
   ],
   "source": [
    "# 정렬\n",
    "b = [2,4,3,1]\n",
    "b.sort()\n",
    "print(b)\n",
    "# 내림차순\n",
    "b_d = sorted(b, reverse=True)\n",
    "print(b_d)\n",
    "b.reverse()\n",
    "print(b)"
   ]
  },
  {
   "cell_type": "code",
   "execution_count": 54,
   "id": "5b1090e5",
   "metadata": {},
   "outputs": [
    {
     "name": "stdout",
     "output_type": "stream",
     "text": [
      "[1, 1, 1, 2, 2, 3, 4, 5, 6, 7, 8, 9]\n",
      "[9, 8, 7, 6, 5, 4, 3, 2, 2, 1, 1, 1]\n",
      "[9, 8, 7, 6, 5, 4, 3, 2, 2, 1, 1, 1]\n"
     ]
    }
   ],
   "source": [
    "# 정렬 ,내림차순으로 변환\n",
    "s = [1, 1, 2, 3, 4, 5, 6, 7, 8, 9, 2, 1]\n",
    "\n",
    "s.sort()\n",
    "print(s)\n",
    "s_d = sorted(s, reverse=True)\n",
    "print(s_d)\n",
    "s.reverse()\n",
    "print(s)"
   ]
  },
  {
   "cell_type": "code",
   "execution_count": 55,
   "id": "8287e61e",
   "metadata": {},
   "outputs": [
    {
     "name": "stdout",
     "output_type": "stream",
     "text": [
      "2\n"
     ]
    }
   ],
   "source": [
    "# 인덱스 위치 반환\n",
    "c = [1,2,3,1,5]\n",
    "print(c.index(3))"
   ]
  },
  {
   "cell_type": "code",
   "execution_count": 57,
   "id": "5e474645",
   "metadata": {},
   "outputs": [
    {
     "name": "stdout",
     "output_type": "stream",
     "text": [
      "[46, 31, 35, 91, 99, 94, 78, 69, 69, 63, 33, 57, 85, 12, 84, 1, 64, 71, 80, 50, 31, 59, 0, 38, 8, 42, 20, 87, 22, 0, 26, 15, 10, 91, 49, 50, 90, 5, 42, 45, 82, 68, 99, 6, 48, 59, 78, 31, 75, 14, 2, 29, 97, 9, 1, 23, 2, 94, 70, 38, 52, 58, 93, 84, 3, 15, 71, 15, 76, 80, 11, 61, 70, 42, 36, 46, 24, 60, 22, 94, 93, 32, 50, 36, 6, 47, 93, 33, 65, 19, 23, 62, 13, 91, 88, 62, 74, 17, 61, 86]\n"
     ]
    },
    {
     "data": {
      "text/plain": [
       "88"
      ]
     },
     "execution_count": 57,
     "metadata": {},
     "output_type": "execute_result"
    }
   ],
   "source": [
    "import numpy as np\n",
    "c = np.random.randint(100, size=100).tolist()\n",
    "print(c)\n",
    "c.index(65)"
   ]
  },
  {
   "cell_type": "code",
   "execution_count": 59,
   "id": "b9cbbfe4",
   "metadata": {},
   "outputs": [
    {
     "name": "stdout",
     "output_type": "stream",
     "text": [
      "2\n"
     ]
    }
   ],
   "source": [
    "# 개수 반환\n",
    "c = [1,1,3,3,3,5,5]\n",
    "print(c.count(5))"
   ]
  },
  {
   "cell_type": "code",
   "execution_count": 69,
   "id": "10a728e5",
   "metadata": {},
   "outputs": [
    {
     "name": "stdout",
     "output_type": "stream",
     "text": [
      "[1, 2, 3, 4, 5]\n",
      "[1, 2, 3, 4, 5, 6]\n",
      "[5, 1, 2, 3, 4, 5, 6]\n",
      "[5, 1, 2, 3, 4, 5, 6, 7]\n"
     ]
    },
    {
     "data": {
      "text/plain": [
       "8"
      ]
     },
     "execution_count": 69,
     "metadata": {},
     "output_type": "execute_result"
    }
   ],
   "source": [
    "# 리스트 확장\n",
    "h = [1,2,3]\n",
    "h.extend([4,5])\n",
    "print(h)\n",
    "# 추가\n",
    "h.append(6)\n",
    "print(h)\n",
    "h.insert(0,5)\n",
    "print(h)\n",
    "h.insert(10,7)\n",
    "print(h)\n",
    "len(h)"
   ]
  },
  {
   "cell_type": "code",
   "execution_count": 64,
   "id": "18115e31",
   "metadata": {},
   "outputs": [
    {
     "data": {
      "text/plain": [
       "'b'"
      ]
     },
     "execution_count": 64,
     "metadata": {},
     "output_type": "execute_result"
    }
   ],
   "source": [
    "# 튜플\n",
    "tuple1 = (1,2,3,4,5)\n",
    "tuple2 = ('a','b','c')\n",
    "tuple3 = (1,'a','abc',[1,2,3,4,5],['a','b','c'])\n",
    "\n",
    "tuple1[:]\n",
    "tuple3[2]\n",
    "tuple3[3][4]\n",
    "tuple3[4][1]"
   ]
  },
  {
   "cell_type": "code",
   "execution_count": 65,
   "id": "98cf7da6",
   "metadata": {},
   "outputs": [
    {
     "name": "stdout",
     "output_type": "stream",
     "text": [
      "[1, 2, 3, 4, 5]\n",
      "[6, 2, 3, 4, 5]\n"
     ]
    }
   ],
   "source": [
    "print(list1)\n",
    "list1[0] = 6\n",
    "print(list1)"
   ]
  },
  {
   "cell_type": "code",
   "execution_count": 66,
   "id": "3bd605aa",
   "metadata": {},
   "outputs": [
    {
     "ename": "TypeError",
     "evalue": "'tuple' object does not support item assignment",
     "output_type": "error",
     "traceback": [
      "\u001b[1;31m---------------------------------------------------------------------------\u001b[0m",
      "\u001b[1;31mTypeError\u001b[0m                                 Traceback (most recent call last)",
      "\u001b[1;32m~\\AppData\\Local\\Temp/ipykernel_3188/382731322.py\u001b[0m in \u001b[0;36m<module>\u001b[1;34m\u001b[0m\n\u001b[0;32m      1\u001b[0m \u001b[1;31m# 자료형 - Tuple\u001b[0m\u001b[1;33m\u001b[0m\u001b[1;33m\u001b[0m\u001b[1;33m\u001b[0m\u001b[0m\n\u001b[0;32m      2\u001b[0m \u001b[1;31m# 튜플의 요소 값은 변경할 수 없음 - 프로그램에서 그 값이 항상 변하지 않아야되는 경우 사용\u001b[0m\u001b[1;33m\u001b[0m\u001b[1;33m\u001b[0m\u001b[1;33m\u001b[0m\u001b[0m\n\u001b[1;32m----> 3\u001b[1;33m \u001b[0mtuple1\u001b[0m\u001b[1;33m[\u001b[0m\u001b[1;36m0\u001b[0m\u001b[1;33m]\u001b[0m \u001b[1;33m=\u001b[0m \u001b[1;36m6\u001b[0m\u001b[1;33m\u001b[0m\u001b[1;33m\u001b[0m\u001b[0m\n\u001b[0m\u001b[0;32m      4\u001b[0m \u001b[0mprint\u001b[0m\u001b[1;33m(\u001b[0m\u001b[0mtuple1\u001b[0m\u001b[1;33m)\u001b[0m\u001b[1;33m\u001b[0m\u001b[1;33m\u001b[0m\u001b[0m\n",
      "\u001b[1;31mTypeError\u001b[0m: 'tuple' object does not support item assignment"
     ]
    }
   ],
   "source": [
    "# 자료형 - Tuple\n",
    "# 튜플의 요소 값은 변경할 수 없음 - 프로그램에서 그 값이 항상 변하지 않아야되는 경우 사용\n",
    "tuple1[0] = 6\n",
    "print(tuple1)"
   ]
  },
  {
   "cell_type": "code",
   "execution_count": 67,
   "id": "f45b37a0",
   "metadata": {},
   "outputs": [
    {
     "name": "stdout",
     "output_type": "stream",
     "text": [
      "(1,)\n",
      "(1, 2, 3)\n",
      "(1, 2, 3, 1, 2, 3, 1, 2, 3)\n",
      "(1, 1, 2, 3)\n",
      "1\n"
     ]
    },
    {
     "data": {
      "text/plain": [
       "int"
      ]
     },
     "execution_count": 67,
     "metadata": {},
     "output_type": "execute_result"
    }
   ],
   "source": [
    "t1 = (1,) # 1개의 요소만 가질 때는 요소뒤에 콤마를 붙여야 함\n",
    "print(t1)\n",
    "t2 = 1,2,3\n",
    "print(t2)\n",
    "print(t2 * 3)\n",
    "t3 = t1 + t2\n",
    "print(t3)\n",
    "t4 = (1)\n",
    "print(t4)\n",
    "type(t4)"
   ]
  },
  {
   "cell_type": "code",
   "execution_count": 71,
   "id": "d0bf7f60",
   "metadata": {},
   "outputs": [
    {
     "name": "stdout",
     "output_type": "stream",
     "text": [
      "1\n",
      "{'a': 1, 'b': 5, 'c': 3}\n"
     ]
    }
   ],
   "source": [
    "# 자료형 - 사전(키와 값을 하나의 요소로 하는 순서가 없는 집합)\n",
    "d1 = {'a':1,'b':2,'c':3}\n",
    "print(d1['a'])\n",
    "d1['b'] = 5\n",
    "print(d1)"
   ]
  },
  {
   "cell_type": "code",
   "execution_count": 72,
   "id": "b22f4572",
   "metadata": {},
   "outputs": [
    {
     "name": "stdout",
     "output_type": "stream",
     "text": [
      "dict_keys(['a', 'b', 'c'])\n",
      "dict_values([1, 5, 3])\n",
      "dict_items([('a', 1), ('b', 5), ('c', 3)])\n"
     ]
    }
   ],
   "source": [
    "print(d1.keys())\n",
    "print(d1.values())\n",
    "print(d1.items())"
   ]
  },
  {
   "cell_type": "code",
   "execution_count": 74,
   "id": "510b1ffd",
   "metadata": {},
   "outputs": [
    {
     "name": "stdout",
     "output_type": "stream",
     "text": [
      "dict_keys(['삼각김밥', '컵라면', '감동란'])\n",
      "dict_values([1000, 1500, 2500])\n",
      "dict_items([('삼각김밥', 1000), ('컵라면', 1500), ('감동란', 2500)])\n"
     ]
    }
   ],
   "source": [
    "c1 = {'삼각김밥':700, '컵라면':1500, '감동란':2500}\n",
    "print(c1.keys())\n",
    "c1['삼각김밥'] = 1000\n",
    "print(c1.values())\n",
    "print(c1.items())\n"
   ]
  },
  {
   "cell_type": "code",
   "execution_count": 75,
   "id": "ea926095",
   "metadata": {},
   "outputs": [
    {
     "name": "stdout",
     "output_type": "stream",
     "text": [
      "{1, 2, 3, 4, 5}\n",
      "{'H', 'l', 'e', 'o'}\n"
     ]
    }
   ],
   "source": [
    "# 자료형 - 집합, set(중복을 허용하지 않으며 순서가 없다.)\n",
    "s1 = set([1,2,5,4,3])\n",
    "s2 = set('Hello')\n",
    "print(s1)\n",
    "print(s2)"
   ]
  },
  {
   "cell_type": "code",
   "execution_count": 76,
   "id": "4e3a0c93",
   "metadata": {},
   "outputs": [
    {
     "name": "stdout",
     "output_type": "stream",
     "text": [
      "2\n",
      "l\n"
     ]
    }
   ],
   "source": [
    "# 집합은 인덱싱으로 값을 얻을 수 없으며 필요시 리스트나 튜플로 변환 후 인덱싱\n",
    "l1 = list(s1)\n",
    "print(l1[1])\n",
    "l2 = list(s2)\n",
    "print(l2[1])"
   ]
  },
  {
   "cell_type": "code",
   "execution_count": 77,
   "id": "ae4714ba",
   "metadata": {},
   "outputs": [
    {
     "name": "stdout",
     "output_type": "stream",
     "text": [
      "[1, 2, 3, 4, 5, 6, 7, 8, 9]\n",
      "[4, 5, 6]\n"
     ]
    }
   ],
   "source": [
    "# Q. s1, s2의 합집합과 교집합을 각각 리스트로 출력하세요.\n",
    "# 합집합(s1 | s2), 교집합(s1 & s2)\n",
    "s1 = set([1, 2, 3, 4, 5, 6])\n",
    "s2 = set([4, 5, 6, 7, 8, 9])\n",
    "\n",
    "print(list(s1|s2))\n",
    "print(list(s1&s2))\n"
   ]
  },
  {
   "cell_type": "code",
   "execution_count": 79,
   "id": "d4634081",
   "metadata": {},
   "outputs": [
    {
     "name": "stdout",
     "output_type": "stream",
     "text": [
      "a가 li에 있습니다.\n"
     ]
    }
   ],
   "source": [
    "# 들여쓰기\n",
    "li = ['a','b','c']\n",
    "if 'a' in li:\n",
    "    print('a가 li에 있습니다.')\n",
    "else:\n",
    "    print('a가 li에 없습니다.')"
   ]
  },
  {
   "cell_type": "code",
   "execution_count": 81,
   "id": "9ef588c7",
   "metadata": {},
   "outputs": [
    {
     "data": {
      "text/plain": [
       "'나의 이름은 홍길순입니다. 나이는 20입니다.'"
      ]
     },
     "execution_count": 81,
     "metadata": {},
     "output_type": "execute_result"
    }
   ],
   "source": [
    "# 문자열 포멧\n",
    "\n",
    "name = '홍길순'\n",
    "age = 20\n",
    "f'나의 이름은 {name}입니다. 나이는 {age}입니다.'"
   ]
  },
  {
   "cell_type": "code",
   "execution_count": 82,
   "id": "c8b21c50",
   "metadata": {},
   "outputs": [
    {
     "data": {
      "text/plain": [
       "'나의 이름은 홍길동입니다. 나이는 30입니다.'"
      ]
     },
     "execution_count": 82,
     "metadata": {},
     "output_type": "execute_result"
    }
   ],
   "source": [
    "d = {'name':'홍길동', 'age':30}\n",
    "f'나의 이름은 {d[\"name\"]}입니다. 나이는 {d[\"age\"]}입니다.'"
   ]
  },
  {
   "cell_type": "code",
   "execution_count": 84,
   "id": "bc36b25b",
   "metadata": {},
   "outputs": [
    {
     "data": {
      "text/plain": [
       "'3.4213'"
      ]
     },
     "execution_count": 84,
     "metadata": {},
     "output_type": "execute_result"
    }
   ],
   "source": [
    "y = 3.42134234\n",
    "f'{y:0.4f}'  # 소수점 4자리까지만 표현"
   ]
  },
  {
   "cell_type": "code",
   "execution_count": 87,
   "id": "ab4a102e",
   "metadata": {},
   "outputs": [
    {
     "data": {
      "text/plain": [
       "'    3.4213'"
      ]
     },
     "execution_count": 87,
     "metadata": {},
     "output_type": "execute_result"
    }
   ],
   "source": [
    "f'{y:10.4f}'  # 소수점 4자리까지 표현하고 총 자리수를 10으로 맞춤"
   ]
  },
  {
   "cell_type": "code",
   "execution_count": 88,
   "id": "56bb5972",
   "metadata": {},
   "outputs": [
    {
     "name": "stdout",
     "output_type": "stream",
     "text": [
      "홍길동 선수가 1등입니다.\n",
      "홍길동 선수가 1등입니다.\n"
     ]
    }
   ],
   "source": [
    "# 포멧함수\n",
    "f1 = \"{} 선수가 {}등입니다.\".format('홍길동',1)\n",
    "# f1 = \"{1} 선수가 {0}등입니다.\".format(1,'홍길동')\n",
    "print(f1)\n",
    "print(\"%s 선수가 %d등입니다.\" %(\"홍길동\",1))"
   ]
  },
  {
   "cell_type": "code",
   "execution_count": null,
   "id": "e5ce77d7",
   "metadata": {},
   "outputs": [],
   "source": [
    "파이썬은 자바보다 2배 쉽습니다."
   ]
  },
  {
   "cell_type": "code",
   "execution_count": 89,
   "id": "e768e751",
   "metadata": {},
   "outputs": [
    {
     "name": "stdout",
     "output_type": "stream",
     "text": [
      "파이썬은 자바보다 2배 쉽습니다\n",
      "파이썬은 자바보다 2배 쉅습니다.\n"
     ]
    }
   ],
   "source": [
    "f1=\"{}은 {}보다 {}배 쉽습니다\".format(\"파이썬\",\"자바\",2)\n",
    "print(f1)\n",
    "print(\"%s은 %s보다 %d배 쉅습니다.\"%(\"파이썬\",\"자바\",2))\n"
   ]
  },
  {
   "cell_type": "code",
   "execution_count": 1,
   "id": "b6b04c7f",
   "metadata": {},
   "outputs": [
    {
     "name": "stdout",
     "output_type": "stream",
     "text": [
      "12345\n",
      "     12345\n",
      "12.345679\n",
      "          12.346\n"
     ]
    }
   ],
   "source": [
    "# [과제] 아래와 같이 출력하세요.\n",
    "num1 = 12345\n",
    "print(num1)\n",
    "print(f'{num1:10.0f}')\n",
    "num2 = 12.345679\n",
    "print(num2)\n",
    "print(f'{num2:16.3f}')\n"
   ]
  },
  {
   "cell_type": "code",
   "execution_count": 92,
   "id": "3c58914b",
   "metadata": {},
   "outputs": [
    {
     "name": "stdout",
     "output_type": "stream",
     "text": [
      "현상 유지\n"
     ]
    }
   ],
   "source": [
    "# 제어문 - if~elif~else\n",
    "# \"수입과 지출금액을 비교해서 수입이 많은면 저축 증가, 반대이면 빚이 증가, \n",
    "# 같으면 현상 유지\"\n",
    "i = 5,000,000\n",
    "e = 5,000,000\n",
    "\n",
    "if i > e:\n",
    "    print('저축 증가')\n",
    "elif i < e:\n",
    "    print('빛이 증가')\n",
    "else:\n",
    "    print('현상 유지')"
   ]
  },
  {
   "cell_type": "code",
   "execution_count": 5,
   "id": "1e17b64a",
   "metadata": {},
   "outputs": [
    {
     "name": "stdout",
     "output_type": "stream",
     "text": [
      "5 15 6 20 7 25 "
     ]
    }
   ],
   "source": [
    "# for 반복문\n",
    "numbers = [5,15,6,20,7,25]\n",
    "for number in numbers:\n",
    "    print(number,end=' ')"
   ]
  },
  {
   "cell_type": "code",
   "execution_count": 109,
   "id": "40ea9ae8",
   "metadata": {},
   "outputs": [
    {
     "name": "stdout",
     "output_type": "stream",
     "text": [
      "1 2 3 4 5 "
     ]
    }
   ],
   "source": [
    "# for ~ continue ~ break\n",
    "# 1~10 법위의 정수에서 1부터 5까지만 출력하세요\n",
    "for i in range(1,11):\n",
    "    print(i,end=' ')\n",
    "    if i < 5:\n",
    "        continue\n",
    "    else:\n",
    "        break"
   ]
  },
  {
   "cell_type": "code",
   "execution_count": 111,
   "id": "279036c6",
   "metadata": {},
   "outputs": [
    {
     "name": "stdout",
     "output_type": "stream",
     "text": [
      "15 20 25 "
     ]
    }
   ],
   "source": [
    "# numbers 리스트에서 15,20,25를 출력하세요.(for문과 if 조건 사용 필수)\n",
    "numbers = [5,15,6,20,7,25]\n",
    "\n",
    "for number in numbers:\n",
    "    if number > 10:\n",
    "        print(number,end = ' ')\n",
    "    else:\n",
    "        continue\n"
   ]
  },
  {
   "cell_type": "code",
   "execution_count": 112,
   "id": "61cc7fba",
   "metadata": {},
   "outputs": [
    {
     "name": "stdout",
     "output_type": "stream",
     "text": [
      "15 20 25 "
     ]
    }
   ],
   "source": [
    "for number in numbers:\n",
    "    if number < 10:\n",
    "        continue\n",
    "    else:\n",
    "        print(number,end = ' ')"
   ]
  },
  {
   "cell_type": "code",
   "execution_count": 113,
   "id": "0c34fd02",
   "metadata": {},
   "outputs": [
    {
     "name": "stdout",
     "output_type": "stream",
     "text": [
      "45\n",
      "1035\n"
     ]
    }
   ],
   "source": [
    "# while\n",
    "# 정수 1부터 n까지 더할 때 그 합이 1000보다 커지게 되는 n과 합을 구하세요\n",
    "\n",
    "x = 1\n",
    "sum = 0\n",
    "while 1:\n",
    "    sum = sum + x\n",
    "    if sum > 1000:\n",
    "        print(x)\n",
    "        print(sum)\n",
    "        break\n",
    "    x = x + 1"
   ]
  },
  {
   "cell_type": "code",
   "execution_count": 114,
   "id": "5e8ba2dc",
   "metadata": {},
   "outputs": [
    {
     "name": "stdout",
     "output_type": "stream",
     "text": [
      "166833\n"
     ]
    }
   ],
   "source": [
    "# while문을 사용해 1부터 1000까지의 정수 중 3의 배수의 합을 구해 보세요.\n",
    "i=0\n",
    "sum=0\n",
    "\n",
    "while i<1000:\n",
    "    i+=1\n",
    "    if i%3==0:\n",
    "        sum =sum+i\n",
    "\n",
    "print(sum)\n"
   ]
  },
  {
   "cell_type": "code",
   "execution_count": 2,
   "id": "e98a7f8a",
   "metadata": {},
   "outputs": [
    {
     "name": "stdout",
     "output_type": "stream",
     "text": [
      "4550\n"
     ]
    }
   ],
   "source": [
    "# [과제] 1부터 100까지의 정수중 5에서 95까지의 합을 구하세요.\n",
    "num = 1\n",
    "sum = 0\n",
    "while num <= 100:\n",
    "    if (num >= 5 and num <= 95):\n",
    "        sum += num\n",
    "    num += 1\n",
    "    \n",
    "print(sum)\n"
   ]
  },
  {
   "cell_type": "code",
   "execution_count": 94,
   "id": "841ee795",
   "metadata": {},
   "outputs": [
    {
     "name": "stdout",
     "output_type": "stream",
     "text": [
      "2\n",
      "1\n"
     ]
    }
   ],
   "source": [
    "# 5를 2로 나누었을때의 몫과 나머지를 구하세요.\n",
    "a = 5\n",
    "b = 2\n",
    "print(a//b)\n",
    "print(a%b)"
   ]
  },
  {
   "cell_type": "code",
   "execution_count": 95,
   "id": "5b7ca15c",
   "metadata": {},
   "outputs": [
    {
     "name": "stdout",
     "output_type": "stream",
     "text": [
      "1030301\n"
     ]
    }
   ],
   "source": [
    "# 101의 3승을 구하세요\n",
    "print(101**3)"
   ]
  },
  {
   "cell_type": "code",
   "execution_count": 96,
   "id": "dd03b96a",
   "metadata": {},
   "outputs": [
    {
     "name": "stdout",
     "output_type": "stream",
     "text": [
      "Python 3.8.3\n"
     ]
    }
   ],
   "source": [
    "# Python과 3.8.3을 합쳐서 Python 3.8.3으로 출력하세요\n",
    "a = 'Python'\n",
    "b = ' 3.8.3'\n",
    "print(a+b)"
   ]
  },
  {
   "cell_type": "code",
   "execution_count": 97,
   "id": "103aa88f",
   "metadata": {},
   "outputs": [
    {
     "data": {
      "text/plain": [
       "int"
      ]
     },
     "execution_count": 97,
     "metadata": {},
     "output_type": "execute_result"
    }
   ],
   "source": [
    "# a = 5 a = '10' a = 15일때 a의 자료형은 무엇인가?\n",
    "a = 5;a = '10';a = 15\n",
    "type(a)"
   ]
  },
  {
   "cell_type": "code",
   "execution_count": 102,
   "id": "6f394cc9",
   "metadata": {},
   "outputs": [
    {
     "name": "stdout",
     "output_type": "stream",
     "text": [
      "2\n",
      "2\n"
     ]
    }
   ],
   "source": [
    "# 5의 3승을 3으로 나누었을때의 나머지를 복합 대입 연산자를 이용해서 구하세요.\n",
    "print((5**3)%3)\n",
    "\n",
    "tmp=5**3\n",
    "tmp%=3\n",
    "print(tmp)"
   ]
  },
  {
   "cell_type": "code",
   "execution_count": 104,
   "id": "ff5ac523",
   "metadata": {},
   "outputs": [
    {
     "name": "stdout",
     "output_type": "stream",
     "text": [
      "성함을 입력해주세요: kevin\n"
     ]
    },
    {
     "data": {
      "text/plain": [
       "'kevin입니다.'"
      ]
     },
     "execution_count": 104,
     "metadata": {},
     "output_type": "execute_result"
    }
   ],
   "source": [
    "# 이름을 물어보고 답하는 내용을 출력하세요\n",
    "name = input(\"성함을 입력해주세요: \")\n",
    "f'{name}입니다.'\n"
   ]
  },
  {
   "cell_type": "code",
   "execution_count": 105,
   "id": "b0b5e620",
   "metadata": {},
   "outputs": [
    {
     "name": "stdout",
     "output_type": "stream",
     "text": [
      "이름이 무엇인가요? kevin\n",
      "제 이름은 kevin입니다.\n"
     ]
    }
   ],
   "source": [
    "name = input('이름이 무엇인가요? ')\n",
    "print('제 이름은 '+name+'입니다.')\n"
   ]
  },
  {
   "cell_type": "code",
   "execution_count": 106,
   "id": "4f043b90",
   "metadata": {},
   "outputs": [
    {
     "name": "stdout",
     "output_type": "stream",
     "text": [
      "첫 번째 숫자를 입력해 주세요.3\n",
      "두 번째 숫자를 입력해 주세요.5\n",
      "세 번째 숫자를 입력해 주세요.7\n",
      "34\n"
     ]
    }
   ],
   "source": [
    "# 숫자 3개를 입력해서 첫번째 숫자를 두번째 숫자 승한 뒤에 세번째 숫자로 나누었을 때 \n",
    "# 몫을 구하세요.\n",
    "a = int(input('첫 번째 숫자를 입력해 주세요.'))\n",
    "b = int(input('두 번째 숫자를 입력해 주세요.'))\n",
    "c = int(input('세 번째 숫자를 입력해 주세요.'))\n",
    "d = (a**b)//c\n",
    "\n",
    "print(d)"
   ]
  },
  {
   "cell_type": "code",
   "execution_count": 4,
   "id": "5ccb3f69",
   "metadata": {},
   "outputs": [
    {
     "name": "stdout",
     "output_type": "stream",
     "text": [
      "33165\n"
     ]
    }
   ],
   "source": [
    "# [과제]\n",
    "# Q. while문을 사용해 1부터 1000까지의 정수 중 3과 5의 공배수의 합을 구해 보세요.\n",
    "i=0\n",
    "sum=0\n",
    "while i<1000:\n",
    "    i+=1\n",
    "    if i%15==0:\n",
    "        sum+=i\n",
    "print(sum)\n"
   ]
  },
  {
   "cell_type": "code",
   "execution_count": 5,
   "id": "e800bd3c",
   "metadata": {},
   "outputs": [
    {
     "name": "stdout",
     "output_type": "stream",
     "text": [
      "1입력1\n",
      "2입력2\n",
      "3입력3\n",
      "4입력4\n",
      "5입력5\n"
     ]
    },
    {
     "data": {
      "text/plain": [
       "'12345'"
      ]
     },
     "execution_count": 5,
     "metadata": {},
     "output_type": "execute_result"
    }
   ],
   "source": [
    "# [과제] 1부터 5까지 입력해서 12345를 출력하세요\n",
    "sum = \"\"\n",
    "var1 = input(\"1입력\")\n",
    "var2 = input(\"2입력\")\n",
    "var3 = input(\"3입력\")\n",
    "var4 = input(\"4입력\")\n",
    "var5 = input(\"5입력\")\n",
    "\n",
    "sum+=var1+var2+var3+var4+var5\n",
    "sum\n"
   ]
  },
  {
   "cell_type": "code",
   "execution_count": 6,
   "id": "6e249cb5",
   "metadata": {},
   "outputs": [
    {
     "name": "stdout",
     "output_type": "stream",
     "text": [
      "[0, 1, 2, 3, 4, 5, 6, 7, 8, 'b', 'c']\n"
     ]
    }
   ],
   "source": [
    "# [과제] [0, 1, 2, 3, 4, 5, 6, 7, 8, 9, 'a', 'b', 'c']에서 9와 'a'를 삭제 후 리스트로 출력하세요\n",
    "a=[0,1,2,3,4,5,6,7,8,9,'a','b','c']\n",
    "del a[9]\n",
    "del a[9]\n",
    "print(a)"
   ]
  },
  {
   "cell_type": "code",
   "execution_count": 7,
   "id": "983b6a26",
   "metadata": {},
   "outputs": [
    {
     "name": "stdout",
     "output_type": "stream",
     "text": [
      "0 1 2 3 4 5 6 7 9 b "
     ]
    }
   ],
   "source": [
    "# [과제] [0, 1, 2, 3, 4, 5, 6, 7, 8, 'b', 'c']에서 'c'를 삭제 후 출력하세요.\n",
    "a=[0,1,2,3,4,5,6,7,9,'b','c']\n",
    "i=0\n",
    "del a[-1]\n",
    "for i in a:\n",
    "    print(i,end=' ')\n"
   ]
  },
  {
   "cell_type": "code",
   "execution_count": 8,
   "id": "a7bc0483",
   "metadata": {},
   "outputs": [
    {
     "name": "stdout",
     "output_type": "stream",
     "text": [
      "[9, 9, 8, 8, 5, 4, 4, 4, 3, 1]\n"
     ]
    }
   ],
   "source": [
    "# [과제] [4, 8, 5, 4, 8, 4, 3, 9, 1, 9]를 내림차순으로 정렬하세요\n",
    "list3 = [4, 8, 5, 4, 8, 4, 3, 9, 1, 9]\n",
    "list3_desc = sorted(list3, reverse = True)\n",
    "print(list3_desc)\n"
   ]
  },
  {
   "cell_type": "code",
   "execution_count": 11,
   "id": "f3b8a839",
   "metadata": {},
   "outputs": [
    {
     "name": "stdout",
     "output_type": "stream",
     "text": [
      "2021-12-30 09:43:54.719625\n",
      "2021\n"
     ]
    },
    {
     "data": {
      "text/plain": [
       "'2021년 12월 30일 9시 43분 54초'"
      ]
     },
     "execution_count": 11,
     "metadata": {},
     "output_type": "execute_result"
    }
   ],
   "source": [
    "# [과제] format 함수를 이용해서 다음과 같은 형식으로 현재 날짜/시간을 출력하세요.\n",
    "# 2021년 12월 29일 15시 47분 30초\n",
    "\n",
    "from datetime import datetime\n",
    "now = datetime.now()\n",
    "print(now)\n",
    "print(now.year)\n",
    "f'{now.year}년 {now.month}월 {now.day}일 {now.hour}시 {now.minute}분 {now.second}초'\n"
   ]
  },
  {
   "cell_type": "code",
   "execution_count": 15,
   "id": "643eda89",
   "metadata": {},
   "outputs": [
    {
     "name": "stdout",
     "output_type": "stream",
     "text": [
      "현재시간은 9시로 오전입니다\n"
     ]
    }
   ],
   "source": [
    "# [과제] 현재 시각을 오전과 오후로 구분하는 프로그램을 작성하세요.\n",
    "\n",
    "import datetime\n",
    "\n",
    "now=datetime.datetime.now()\n",
    "\n",
    "\n",
    "# t = input('현재 시간을 입력하세요')\n",
    "\n",
    "if now.hour < 12:\n",
    "    print(f'현재시간은 {now.hour}시로 오전입니다')\n",
    "else:\n",
    "    print(f'현재 시간은 {now.hour}시로 오후입니다')\n"
   ]
  },
  {
   "cell_type": "code",
   "execution_count": 16,
   "id": "a06fa60a",
   "metadata": {},
   "outputs": [
    {
     "name": "stdout",
     "output_type": "stream",
     "text": [
      "number5\n",
      "입력한 숫자 5은 홀수입니다.\n"
     ]
    }
   ],
   "source": [
    "# [과제] 정수를 입력하면 홀수 짝수를 판별하는 프로그램 작성\n",
    "num=input('number')\n",
    "if int(num)%2==0:\n",
    "    print(f'입력한 숫자 {num}은 짝수입니다')\n",
    "else: \n",
    "    print(f'입력한 숫자 {num}은 홀수입니다.')\n"
   ]
  },
  {
   "cell_type": "code",
   "execution_count": 17,
   "id": "1343e8ea",
   "metadata": {},
   "outputs": [
    {
     "name": "stdout",
     "output_type": "stream",
     "text": [
      "태어난 해를 입력하세요1993\n",
      "닭 띠 입니다.\n"
     ]
    }
   ],
   "source": [
    "# [과제] 태어난 연도를 입력받아 띠를 출력하는 프로그램을 작성하세요.\n",
    "# 원숭이, 닭, 개, 돼지, 쥐, 소, 범, 토끼, 용, 뱀, 말, 양띠\n",
    "\n",
    "year_input=int(input(\"태어난 해를 입력하세요\"))\n",
    "birth_year = year_input%12\n",
    "\n",
    "if birth_year==0:\n",
    "    print(\"원숭이 띠 입니다.\")\n",
    "elif birth_year==1:\n",
    "    print(\"닭 띠 입니다.\")\n",
    "elif birth_year==2:\n",
    "    print(\"개 띠 입니다.\")\n",
    "elif birth_year==3:\n",
    "    print(\"돼지 띠 입니다.\")\n",
    "elif birth_year==4:\n",
    "    print(\"쥐 띠 입니다.\")\n",
    "elif birth_year==5:\n",
    "    print(\"소 띠 입니다.\")\n",
    "elif birth_year==6:\n",
    "    print(\"범 띠 입니다.\")\n",
    "elif birth_year==7:\n",
    "    print(\"토끼 띠 입니다.\")\n",
    "elif birth_year==8:\n",
    "    print(\"용 띠 입니다.\")\n",
    "elif birth_year==9:\n",
    "    print(\"뱀 띠 입니다.\")\n",
    "elif birth_year==10:\n",
    "    print(\"말 띠 입니다.\")\n",
    "else:\n",
    "    print(\"양 띠 입니다\")\n"
   ]
  },
  {
   "cell_type": "code",
   "execution_count": 18,
   "id": "9e89aa8c",
   "metadata": {},
   "outputs": [
    {
     "name": "stdout",
     "output_type": "stream",
     "text": [
      "당신이 태어난 연도 : 1993\n",
      "닭띠입니다.\n"
     ]
    }
   ],
   "source": [
    "x = int(input(\"당신이 태어난 연도 : \"))\n",
    "y = ['원숭이', '닭', '개', '돼지', '쥐', '소', '범', '토끼', '용', '뱀', '말', '양띠']\n",
    "print(y[x%12] + '띠입니다.')\n"
   ]
  },
  {
   "cell_type": "markdown",
   "id": "306c655c",
   "metadata": {},
   "source": [
    "[과제] 계절 구분 프로그램\n",
    "<!--  - 시나리오 : 3 ~ 5월은 봄, 6 ~ 8월은 여름, 9 ~ 11월은 가을, 12 ~ 2월은 겨울로 구분. 지금 계절을 알려주는 프로그램 -->\n",
    " - 각 계절별 출력 멘트는 계절에 맞게 창작\n",
    " - if 조건문으로 datetime 모듈을 import해서 datetime.now 함수를 사용해서 작성 "
   ]
  },
  {
   "cell_type": "code",
   "execution_count": 19,
   "id": "99690846",
   "metadata": {},
   "outputs": [
    {
     "name": "stdout",
     "output_type": "stream",
     "text": [
      "이번달은 12으로 겨울입니다\n"
     ]
    }
   ],
   "source": [
    "# 수정 요\n",
    "import datetime\n",
    "s=datetime.datetime.now()\n",
    "\n",
    "if 1<=s.month <=3: \n",
    "    print('이번달은 {}이므로 봄입니다'.format(s.month))\n",
    "elif 4<= s.month <=6: \n",
    "    print('이번달은 {}이므로 여름입니다'.format(s.month))\n",
    "elif 8<= s.month <=10: \n",
    "    print('이번달은 {}이므로 가을입니다'.format(s.month))\n",
    "else: \n",
    "    print('이번달은 {}월이므로 겨울입니다'.format(s.month))\n"
   ]
  },
  {
   "cell_type": "code",
   "execution_count": 20,
   "id": "15773bd6",
   "metadata": {},
   "outputs": [
    {
     "name": "stdout",
     "output_type": "stream",
     "text": [
      "지금 우리가 지내는 계절은 어디쯤에 있나요?\n",
      "살고 싶으면 장롱에 있던 히트텍 꺼내라 ㅋㅋ\n"
     ]
    }
   ],
   "source": [
    "import datetime\n",
    "t = datetime.datetime.now()\n",
    "\n",
    "print('지금 우리가 지내는 계절은 어디쯤에 있나요?')\n",
    "if t.month<12 and t.month>=9:\n",
    "    print('단풍이 지천을 물들이는 계절, 가을입니다.')\n",
    "elif t.month<9 and t.month>=6:\n",
    "    print('작열하는 태양과 신록이 공존하는 계절, 여름입니다.')\n",
    "elif t.month<6 and t.month>=3:\n",
    "    print('벚꽃의 꽃말은 기말고사, 봄입니다.')\n",
    "else: print('살고 싶으면 장롱에 있던 히트텍 꺼내라 ㅋㅋ')\n"
   ]
  },
  {
   "cell_type": "code",
   "execution_count": 21,
   "id": "61d37f64",
   "metadata": {},
   "outputs": [
    {
     "name": "stdout",
     "output_type": "stream",
     "text": [
      "32\n",
      "25\n"
     ]
    }
   ],
   "source": [
    "# 수정 보완 필요\n",
    "# [과제] 람다 함수를 이용해서 a의 b제곱을 구하는 식을 만들고\n",
    "# a, b가 아래와 같이 주어졌을 때 각각의 값을 구하세요. \n",
    "# a = 2, b = 5\n",
    "# a= 5, b = 2\n",
    "\n",
    "a=2\n",
    "b=5\n",
    "process = lambda num1,num2:num1**num2\n",
    "print(process(a,b))\n",
    "a=5\n",
    "b=2\n",
    "print(process(a,b))\n"
   ]
  },
  {
   "cell_type": "code",
   "execution_count": 22,
   "id": "e6e31205",
   "metadata": {},
   "outputs": [
    {
     "name": "stdout",
     "output_type": "stream",
     "text": [
      "32\n",
      "25\n"
     ]
    }
   ],
   "source": [
    "x = lambda a,b:a**b\n",
    "print(x(2,5))\n",
    "print(x(5,2))"
   ]
  },
  {
   "cell_type": "markdown",
   "id": "e2c298ad",
   "metadata": {},
   "source": [
    "[과제] 커피 자판기 프로그램\n",
    "- 시나리오 : 자판기 커피 재고 5잔, 커피 1잔 가격 300원, 재고 범위내에서 300원 이상 돈을 넣으면 거스름돈과 커피를 주고 그렇지 않으면 반환하며 재고가 소진되면 안내멘트 출력\n",
    "- 각 Case별 멘트 출력은 상황에 맞게 창작\n",
    "- while, if ~ elif ~ else 제어문을 사용하여 작성"
   ]
  },
  {
   "cell_type": "code",
   "execution_count": 1,
   "id": "93ae257c",
   "metadata": {},
   "outputs": [
    {
     "name": "stdout",
     "output_type": "stream",
     "text": [
      "맛있는 커피를 300원에 드립니다. 현금을 넣어주세요!!300\n",
      "커피를 맛있게 드세요\n",
      "맛있는 커피를 300원에 드립니다. 현금을 넣어주세요!!1000\n",
      "따뜻한 커피 드시고 잔돈 700원을 챙기세요\n",
      "맛있는 커피를 300원에 드립니다. 현금을 넣어주세요!!200\n",
      "커피는 300원입니다. 현금을 다시 넣어 주세요.\n",
      "맛있는 커피를 300원에 드립니다. 현금을 넣어주세요!!300\n",
      "커피를 맛있게 드세요\n",
      "맛있는 커피를 300원에 드립니다. 현금을 넣어주세요!!300\n",
      "커피를 맛있게 드세요\n",
      "맛있는 커피를 300원에 드립니다. 현금을 넣어주세요!!300\n",
      "커피를 맛있게 드세요\n",
      "커피가 다 떨어졌어요~ 잠시 판매 중단합니다.\n"
     ]
    }
   ],
   "source": [
    "coffee = 5\n",
    "price = 300\n",
    "\n",
    "while 1:\n",
    "    money = int(input(\"맛있는 커피를 300원에 드립니다. 현금을 넣어주세요!!\"))\n",
    "    if money == 300:\n",
    "        print('커피를 맛있게 드세요')\n",
    "        coffee -= 1\n",
    "    elif money > 300:\n",
    "        c = money - 300\n",
    "        print(f'따뜻한 커피 드시고 잔돈 {c}원을 챙기세요' )\n",
    "        coffee -= 1\n",
    "    else:\n",
    "        print(f'커피는 {price}원입니다. 현금을 다시 넣어 주세요.')\n",
    "    if coffee == 0:\n",
    "        print('커피가 다 떨어졌어요~ 잠시 판매 중단합니다.')\n",
    "        break"
   ]
  },
  {
   "cell_type": "code",
   "execution_count": 23,
   "id": "482232ed",
   "metadata": {},
   "outputs": [
    {
     "name": "stdout",
     "output_type": "stream",
     "text": [
      "자판기를 이용하시려면 돈을 넣어주세요: 300\n",
      "따뜻한 커피 나왔습니다\n",
      "자판기를 이용하시려면 돈을 넣어주세요: 1000\n",
      "몇 잔의 커피를 뽑으시겠습니까?1\n",
      "커피 1잔 나왔습니다. 거스름돈은 700원 입니다.\n",
      "자판기를 이용하시려면 돈을 넣어주세요: 200\n",
      "금액이 모자랍니다. 300원 이상 넣어주세요!\n",
      "자판기를 이용하시려면 돈을 넣어주세요: 300\n",
      "따뜻한 커피 나왔습니다\n",
      "자판기를 이용하시려면 돈을 넣어주세요: 300\n",
      "따뜻한 커피 나왔습니다\n",
      "자판기를 이용하시려면 돈을 넣어주세요: 300\n",
      "따뜻한 커피 나왔습니다\n",
      "금일 준비한 커피가 모두 소진되어 판매를 일시 중단합니다.\n"
     ]
    }
   ],
   "source": [
    "coffee = 5\n",
    "while 1:\n",
    "    money = int(input('자판기를 이용하시려면 돈을 넣어주세요: '))\n",
    "    change = money - 300\n",
    "    if money == 300:\n",
    "        print('따뜻한 커피 나왔습니다')\n",
    "        coffee = coffee - 1\n",
    "    elif money > 300 and money <= 600:\n",
    "        print('따뜻한 커피 나왔습니다. 거스름돈은 %d원입니다.' % change)\n",
    "        coffee = coffee - 1\n",
    "    elif money > 600:\n",
    "        coffee_num = int(input('몇 잔의 커피를 뽑으시겠습니까?'))\n",
    "        change_2 = money - (coffee_num * 300)\n",
    "        if coffee < coffee_num:\n",
    "            print(f'죄송합니다. 재고가 모자랍니다. 현재 재고는 {coffee}개 입니다. 잔돈을 반환합니다.')\n",
    "        elif money % 300 == 0:\n",
    "            print(f'커피 {coffee_num}잔 나왔습니다.')\n",
    "            coffee = coffee - coffee_num\n",
    "        elif money < coffee_num * 300:\n",
    "            print('금액이 모자랍니다.')\n",
    "        else:\n",
    "            print(f'커피 {coffee_num}잔 나왔습니다. 거스름돈은 {change_2}원 입니다.')\n",
    "            coffee = coffee - coffee_num\n",
    "    else:\n",
    "        print('금액이 모자랍니다. 300원 이상 넣어주세요!')\n",
    "        \n",
    "    if coffee == 0:\n",
    "        print('금일 준비한 커피가 모두 소진되어 판매를 일시 중단합니다.')\n",
    "        break\n"
   ]
  },
  {
   "cell_type": "code",
   "execution_count": 1,
   "id": "75e84c40",
   "metadata": {},
   "outputs": [
    {
     "name": "stdout",
     "output_type": "stream",
     "text": [
      "금액을 투입해주세요: 300\n",
      "커피 1잔 구매\n",
      "\n",
      "금액을 투입해주세요: 200\n",
      "잔액이 부족합니다.\n",
      "거스름돈 200원 반납\n",
      "\n",
      "금액을 투입해주세요: 500\n",
      "커피 1잔 구매\n",
      "거스름돈 200원 반환\n",
      "\n",
      "금액을 투입해주세요: 300\n",
      "커피 1잔 구매\n",
      "\n",
      "금액을 투입해주세요: 300\n",
      "커피 1잔 구매\n",
      "\n",
      "금액을 투입해주세요: 300\n",
      "커피 1잔 구매\n",
      "\n",
      "재고가 다 소진되었습니다.\n"
     ]
    }
   ],
   "source": [
    "stock = 5\n",
    "fee = 300\n",
    "\n",
    "while 1:\n",
    "    if(stock==0):\n",
    "        print(\"재고가 다 소진되었습니다.\")\n",
    "        break\n",
    "    \n",
    "    money = int(input(\"금액을 투입해주세요: \"))\n",
    "    \n",
    "    if(money>=300):\n",
    "        if(money>=600):\n",
    "            sold = int(input(\"몇 잔 구매하시나요? > \"))\n",
    "            charge = money-(sold*fee)\n",
    "        else:\n",
    "            sold = money//fee\n",
    "            charge = money%fee\n",
    "        \n",
    "        if(stock<sold):\n",
    "            print(\"재고가 부족합니다. 부족한 만큼의 금액을 반환합니다.\")\n",
    "            sold=stock\n",
    "            charge=money-(sold*fee)\n",
    "            \n",
    "        print(\"커피 %d잔 구매\" %sold)\n",
    "    \n",
    "        if(charge!=0):\n",
    "            print(\"거스름돈 %d원 반환\" %charge)\n",
    "        stock-=sold\n",
    "        \n",
    "    else:\n",
    "        print(\"잔액이 부족합니다.\")\n",
    "        charge=money\n",
    "        print(\"거스름돈 %d원 반납\" %charge)\n",
    "    \n",
    "    print()\n"
   ]
  },
  {
   "cell_type": "code",
   "execution_count": 2,
   "id": "aa307406",
   "metadata": {},
   "outputs": [
    {
     "name": "stdout",
     "output_type": "stream",
     "text": [
      "자판기에 돈넣으시오300\n",
      "잔액:0\n",
      "재고: 4\n",
      "커피 더뽑으시겠습니까? 더뽑으려면 1 아니면 2누르시오1\n",
      "돈부족하니 300원이상 넣으시오\n"
     ]
    }
   ],
   "source": [
    "# 수정 보완 필요\n",
    "stock = 5\n",
    "input_cash = int(input(\"자판기에 돈넣으시오\"))\n",
    "while stock>0:\n",
    "    if input_cash>=300:\n",
    "        stock -= 1\n",
    "        input_cash -= 300\n",
    "        print(\"잔액:{}\".format(input_cash))\n",
    "        print(\"재고: {}\".format(stock))\n",
    "    else:\n",
    "        print(\"돈부족하니 300원이상 넣으시오\")\n",
    "        input_cash = 0\n",
    "        break\n",
    "    \n",
    "    if stock!=0:\n",
    "        get_more_coffee = input(\"커피 더뽑으시겠습니까? 더뽑으려면 1 아니면 2누르시오\")\n",
    "        if int(get_more_coffee) == 2:\n",
    "            break\n"
   ]
  },
  {
   "cell_type": "markdown",
   "id": "435d47d6",
   "metadata": {},
   "source": [
    "내장함수, 외장함수\n",
    "\n",
    "https://codedrive.tistory.com/91"
   ]
  },
  {
   "cell_type": "code",
   "execution_count": 3,
   "id": "a20c87bd",
   "metadata": {},
   "outputs": [
    {
     "data": {
      "text/plain": [
       "1"
      ]
     },
     "execution_count": 3,
     "metadata": {},
     "output_type": "execute_result"
    }
   ],
   "source": [
    "# 2와 5를 더한 후 3으로 나눈 나머지 값을 사용자 함수를 이용하여 구하세요.\n",
    "def cal_abc(a,b,c):\n",
    "    return(a+b)%c\n",
    "\n",
    "cal_abc(2,5,3)    "
   ]
  },
  {
   "cell_type": "code",
   "execution_count": 4,
   "id": "1e6741a8",
   "metadata": {},
   "outputs": [
    {
     "name": "stdout",
     "output_type": "stream",
     "text": [
      "It is true\n",
      "'Python is fit for data analysis'\n"
     ]
    }
   ],
   "source": [
    "# 문자열 앞의 공백을 제거하고 아래와 같이 출력하세요# 문자열 앞의 공백을 제거하고 아래와 같이 출력하세요\n",
    "\n",
    "input_a = \"\"\"\n",
    "                       It is true\n",
    "'Python is fit for data analysis'\n",
    "\"\"\"\n",
    "print(input_a.strip())"
   ]
  },
  {
   "cell_type": "code",
   "execution_count": 7,
   "id": "e7db5824",
   "metadata": {},
   "outputs": [
    {
     "name": "stdout",
     "output_type": "stream",
     "text": [
      "['10', '20', '30', '40', '50']\n"
     ]
    },
    {
     "data": {
      "text/plain": [
       "['10', '20', '30', '40', '50']"
      ]
     },
     "execution_count": 7,
     "metadata": {},
     "output_type": "execute_result"
    }
   ],
   "source": [
    "# \"10/20/30/40/50\"을 '/'을 기준으로 자르세요.\n",
    "a = \"10/20/30/40/50\"\n",
    "b = \"10,20,30,40,50\"\n",
    "print(a.split(\"/\"))\n",
    "b.split(\",\")"
   ]
  },
  {
   "cell_type": "code",
   "execution_count": 11,
   "id": "14aef903",
   "metadata": {},
   "outputs": [
    {
     "name": "stdout",
     "output_type": "stream",
     "text": [
      "3\n",
      "6\n",
      "다시 입력해 주세요\n"
     ]
    }
   ],
   "source": [
    "# 짝수와 짝수를 입력하면 곱한 값을 출력하고 홀수와 홀수를 입력하면 덧셈 값을 출력하고 그외는 다시 입력하라는 메시지를 출력하세요.\n",
    "x = int(input())\n",
    "y = int(input())\n",
    "\n",
    "if (x % 2 == 0) & (y % 2 == 0):\n",
    "    print(x * y)\n",
    "elif (x % 2 == 1) & (y % 2 == 1):\n",
    "    print(x + y)\n",
    "else:\n",
    "    print('다시 입력해 주세요')"
   ]
  },
  {
   "cell_type": "code",
   "execution_count": null,
   "id": "ef122fd5",
   "metadata": {},
   "outputs": [],
   "source": [
    "# [과제] 1부터 100까지 아래와 같이 2개의 수를 곱해서 가장 큰 수를 구하세요.\n",
    "1*99, 2*98 ...99*1"
   ]
  },
  {
   "cell_type": "code",
   "execution_count": 2,
   "id": "55ed2789",
   "metadata": {},
   "outputs": [
    {
     "name": "stdout",
     "output_type": "stream",
     "text": [
      "2500\n"
     ]
    }
   ],
   "source": [
    "n = 1\n",
    "result = 0\n",
    "while n<=100:\n",
    "    a = n*(100-n)\n",
    "    if a>result:\n",
    "        result = a\n",
    "        n+=1\n",
    "    else:\n",
    "        n+=1\n",
    "        continue\n",
    "print(result)"
   ]
  },
  {
   "cell_type": "code",
   "execution_count": 3,
   "id": "499a3898",
   "metadata": {},
   "outputs": [
    {
     "name": "stdout",
     "output_type": "stream",
     "text": [
      "2500\n"
     ]
    }
   ],
   "source": [
    "def findBiggestOne():\n",
    "    biggestNum = 0\n",
    "    for i,j in zip(range(1,100), range(99,0,-1)):\n",
    "        if i*j >biggestNum:\n",
    "            biggestNum = i*j\n",
    "    return biggestNum\n",
    "print(findBiggestOne())\n"
   ]
  },
  {
   "cell_type": "code",
   "execution_count": null,
   "id": "17e3936c",
   "metadata": {},
   "outputs": [],
   "source": [
    "# [과제] [    ]을 채워서 아래의 출력과 같이 출력하세요.\n",
    "# 출력 :\n",
    "# [[1,4,7],[2,5,8],[3,6,9]]\n",
    "\n",
    "numbers = [1,2,3,4,5,6,7,8,9]\n",
    "output = [[], [], []]\n",
    "\n",
    "for number in numbers:\n",
    "    output[           ].append(number)\n",
    "print(output)"
   ]
  },
  {
   "cell_type": "code",
   "execution_count": 4,
   "id": "098bdcf4",
   "metadata": {},
   "outputs": [
    {
     "name": "stdout",
     "output_type": "stream",
     "text": [
      "[[1, 4, 7], [2, 5, 8], [3, 6, 9]]\n"
     ]
    }
   ],
   "source": [
    "numbers = [1,2,3,4,5,6,7,8,9]\n",
    "output = [[],[],[]]\n",
    "\n",
    "for number in numbers:\n",
    "    output[(number-1)%3].append(number)\n",
    "print(output)\n"
   ]
  },
  {
   "cell_type": "markdown",
   "id": "1f01c224",
   "metadata": {},
   "source": [
    "python random 모듈\n",
    "\n",
    "https://nittaku.tistory.com/443"
   ]
  },
  {
   "cell_type": "code",
   "execution_count": 19,
   "id": "7a798a4b",
   "metadata": {},
   "outputs": [
    {
     "data": {
      "text/plain": [
       "array([12, 15,  0,  3,  3,  7,  9, 19, 18,  4,  6, 12,  1,  6,  7, 14, 17,\n",
       "        5, 13,  8])"
      ]
     },
     "execution_count": 19,
     "metadata": {},
     "output_type": "execute_result"
    }
   ],
   "source": [
    "import numpy as np\n",
    "np.random.seed(0)\n",
    "num = np.random.randint(20,size=20)\n",
    "num"
   ]
  },
  {
   "cell_type": "code",
   "execution_count": 5,
   "id": "e2aa6915",
   "metadata": {},
   "outputs": [
    {
     "name": "stdout",
     "output_type": "stream",
     "text": [
      "게임 수 : 5\n",
      "[9, 13, 17, 36, 39, 41]\n",
      "[3, 8, 17, 33, 36, 38]\n",
      "[7, 10, 20, 22, 39, 41]\n",
      "[10, 21, 23, 31, 38, 41]\n",
      "[11, 18, 22, 26, 38, 44]\n"
     ]
    }
   ],
   "source": [
    "# [과제] 사용자가 입력한 게임 회수만큼 로또 번호를 출력하는 프로그램을 작성하세요.\n",
    "import random\n",
    "\n",
    "num = input(\"게임 수 : \")\n",
    "\n",
    "for i in range(0, int(num)):\n",
    "    lotto = random.sample(range(1, 46), 6)\n",
    "    lotto.sort()\n",
    "    print(lotto)\n"
   ]
  },
  {
   "cell_type": "code",
   "execution_count": 10,
   "id": "7d79be32",
   "metadata": {},
   "outputs": [
    {
     "name": "stdout",
     "output_type": "stream",
     "text": [
      "게임횟수 입력5\n",
      "[[9, 6, 46, 24, 16, 87], [67, 1, 18, 74, 51, 36], [13, 99, 8, 1, 74, 79], [66, 2, 2, 13, 86, 85], [54, 40, 18, 96, 31, 49]] \n",
      "\n"
     ]
    }
   ],
   "source": [
    "# 수정 보완\n",
    "import random\n",
    "timesForGame = int(input(\"게임횟수 입력\"))\n",
    "list = []\n",
    "sub_list = []\n",
    "\n",
    "for i in range(0, timesForGame):\n",
    "    for j in range(0,6):\n",
    "        lotteryNum = random.randint(1,99)\n",
    "        sub_list.append(lotteryNum)\n",
    "    list.append(sub_list)\n",
    "    sub_list = []\n",
    "print(list,\"\\n\")\n"
   ]
  },
  {
   "cell_type": "code",
   "execution_count": 7,
   "id": "98f209f2",
   "metadata": {},
   "outputs": [
    {
     "name": "stdout",
     "output_type": "stream",
     "text": [
      "☆★로또번호 생성기★☆\n",
      "게임 횟수를 입력하세요(숫자만 입력): 5\n",
      "[19, 38, 39, 14, 31, 43]\n",
      "[25, 40, 3, 29, 45, 41]\n",
      "[33, 6, 44, 42, 38, 22]\n",
      "[33, 34, 39, 8, 43, 23]\n",
      "[44, 12, 8, 6, 30, 36]\n"
     ]
    }
   ],
   "source": [
    "import random, string\n",
    "cn = 'y'\n",
    "print('☆★로또번호 생성기★☆')\n",
    "while(cn == 'y'):\n",
    "    game = input('게임 횟수를 입력하세요(숫자만 입력): ')\n",
    "    if(game.isdigit() == True):\n",
    "        for i in range(0, int(game)):\n",
    "            lotto = random.sample(range(1,46),6)\n",
    "            #lotto.sort() #예쁘게 보고 싶으면 하면 됩니다\n",
    "            print(lotto)\n",
    "            cn = 'n'\n",
    "    else:\n",
    "        print(\"숫자를 입력하세요\")\n",
    "        continue\n"
   ]
  },
  {
   "cell_type": "code",
   "execution_count": 9,
   "id": "2200283d",
   "metadata": {},
   "outputs": [
    {
     "name": "stdout",
     "output_type": "stream",
     "text": [
      "로또 회수를 입력하세요> 5\n",
      "로또번호 1: [21, 27, 32, 33, 38, 43]\n",
      "로또번호 2: [4, 9, 16, 22, 27, 28]\n",
      "로또번호 3: [2, 6, 14, 22, 23, 38]\n",
      "로또번호 4: [2, 9, 16, 18, 29, 43]\n",
      "로또번호 5: [4, 11, 15, 18, 26, 42]\n"
     ]
    }
   ],
   "source": [
    "from random import shuffle\n",
    "from time import sleep\n",
    "\n",
    "gnum = int(input('로또 회수를 입력하세요> '))\n",
    "for i in range(gnum):\n",
    "    lt = [x+1 for x in range(45)]\n",
    "    ret = []\n",
    "    for j in range(6):\n",
    "        shuffle(lt)\n",
    "        num = lt.pop()\n",
    "        ret.append(num)\n",
    "        ret.sort()\n",
    "    print('로또번호 %d: ' %(i+1), end='')\n",
    "    print(ret)\n",
    "    sleep(2)\n",
    "    "
   ]
  },
  {
   "cell_type": "code",
   "execution_count": 18,
   "id": "0c731796",
   "metadata": {},
   "outputs": [
    {
     "name": "stdout",
     "output_type": "stream",
     "text": [
      "입력> 29\n",
      "['권혁종', '김기연', '김기현', '김민성', '김영수', '김재경', '김정수', '김태형', '마경수', '문성윤', '박광민', '박종석', '손창효', '어정호', '예지우', '오주완', '용지영', '이동연', '이용준', '이재우', '이재호', '이현정', '임재곤', '장종호', '정현우', '조경윤', '조남현', '최종원', '최지원']\n"
     ]
    }
   ],
   "source": [
    "# Q. 발표할 인원을 입력하면 랜덤으로 발표자를 리스트로 출력해 주는 프로그램을 작성하세요(중복 허용하지 않음)\n",
    "\n",
    "import random\n",
    "\n",
    "\n",
    "num = int(input('입력> '))\n",
    "li = []\n",
    "for i in range(num):\n",
    "    p = random.randint(0,29)\n",
    "    while p in li:\n",
    "        p = random.randint(0,29)\n",
    "    li.append(p)\n",
    "    \n",
    "alist = []\n",
    "name = ['권혁종', '김기연', '김기현', '김민성', '김영수', '김재경', '김정수', '김태형', '마경수', '문성윤',\n",
    "       '박광민','박종석','손창효','어정호','예지우','오주완','용지영','이동연','이용준','이재우',\n",
    "       '이재호','이현정','임재곤','장종호','정현우','조경윤','조남현','최종원','최지원']\n",
    "\n",
    "for i in range(len(li)):\n",
    "    a = name[i]\n",
    "    alist.append(a)\n",
    "print(alist)"
   ]
  },
  {
   "cell_type": "code",
   "execution_count": 5,
   "id": "1878a995",
   "metadata": {},
   "outputs": [
    {
     "name": "stdout",
     "output_type": "stream",
     "text": [
      "발표한 인원 : 20\n",
      "['최종원', '김기연', '이동연', '김기현', '임재곤', '손창효', '김정수', '김영수', '김태형', '어정호', '장종호', '이재우', '정현우', '예지우', '마경수', '김민성', '최지원', '조남현', '권혁종', '이현정']\n"
     ]
    }
   ],
   "source": [
    "import random\n",
    "li = ['권혁종', '김기연', '김기현', '김민성', '김영수', '김재경', '김정수', '김태형', '마경수', '문성윤',\n",
    "       '박광민','박종석','손창효','어정호','예지우','오주완','용지영','이동연','이용준','이재우',\n",
    "       '이재호','이현정','임재곤','장종호','정현우','조경윤','조남현','최종원','최지원']\n",
    "li2=[]\n",
    "n = int(input('발표한 인원 : '))\n",
    "num = random.sample(range(len(li)),n)\n",
    "for i in num:\n",
    "    li2.append(li[i])\n",
    "print(li2)\n"
   ]
  },
  {
   "cell_type": "code",
   "execution_count": 7,
   "id": "2eb614db",
   "metadata": {},
   "outputs": [
    {
     "name": "stdout",
     "output_type": "stream",
     "text": [
      "발표할 인원을 입력하세요 : 29\n",
      "['김기연', '예지우', '오주완', '이재우', '정현우', '박종석', '임재곤', '이현정', '용지영', '이재호', '김영수', '김기현', '박광민', '이용준', '최종원', '김민성', '문성윤', '어정호', '김정수', '김태형', '조경윤', '권혁종', '조남현', '마경수', '장종호', '김재경', '손창효', '최지원', '이동연']\n"
     ]
    }
   ],
   "source": [
    "from random import shuffle\n",
    "name = ['권혁종', '김기연', '김기현', '김민성', '김영수', '김재경', '김정수', '김태형', '마경수', '문성윤',\n",
    "       '박광민','박종석','손창효','어정호','예지우','오주완','용지영','이동연','이용준','이재우',\n",
    "       '이재호','이현정','임재곤','장종호','정현우','조경윤','조남현','최종원','최지원']\n",
    "member=[]\n",
    "shuffle(name)\n",
    "num=int(input('발표할 인원을 입력하세요 : '))\n",
    "for i in range(num):\n",
    "    member.append(name[i])\n",
    "    \n",
    "print(member)\n"
   ]
  },
  {
   "cell_type": "code",
   "execution_count": null,
   "id": "10d9514f",
   "metadata": {},
   "outputs": [],
   "source": [
    "# [과제] 남녀 파트너 정해주기 프로그램을 작성하세요(5개 커플)\n",
    "import random\n",
    "random.shuffle()"
   ]
  },
  {
   "cell_type": "code",
   "execution_count": 11,
   "id": "29f53143",
   "metadata": {},
   "outputs": [
    {
     "name": "stdout",
     "output_type": "stream",
     "text": [
      "[['남자3호', '여자2호'], ['남자4호', '여자3호'], ['남자1호', '여자5호'], ['남자5호', '여자1호'], ['남자2호', '여자4호']]\n"
     ]
    }
   ],
   "source": [
    "import random\n",
    "male=['남자1호','남자2호','남자3호','남자4호','남자5호']\n",
    "female=['여자1호','여자2호','여자3호','여자4호','여자5호']\n",
    "couple=[]\n",
    "for i in range(5):\n",
    "    random.shuffle(male)\n",
    "    random.shuffle(female)\n",
    "    c=[male[0],female[0]]\n",
    "    couple.append(c)\n",
    "    del male[0]\n",
    "    del female[0]\n",
    "print((couple))\n"
   ]
  },
  {
   "cell_type": "code",
   "execution_count": 12,
   "id": "60d8e821",
   "metadata": {},
   "outputs": [
    {
     "name": "stdout",
     "output_type": "stream",
     "text": [
      "커플1: 강동원 ♥️ 이나영\n",
      "커플2: 정우성 ♥️ 한예슬\n",
      "커플3: 원 빈 ♥️ 신민아\n",
      "커플4: 조인성 ♥️ 천우희\n",
      "커플5: 이광수 ♥️ 김혜수\n"
     ]
    }
   ],
   "source": [
    "from random import shuffle\n",
    "\n",
    "male = ['정우성', '원 빈', '강동원', '조인성', '이광수']\n",
    "female = ['김혜수', '신민아', '이나영', '천우희', '한예슬']\n",
    "\n",
    "random.shuffle(male)\n",
    "random.shuffle(female)\n",
    "\n",
    "for i in range(0, 5):\n",
    "   print(f'커플{i+1}: {male[i]} ♥️ {female[i]}')\n"
   ]
  },
  {
   "cell_type": "code",
   "execution_count": 1,
   "id": "07cc8822",
   "metadata": {},
   "outputs": [
    {
     "name": "stdout",
     "output_type": "stream",
     "text": [
      "Couple1: 5-d\n",
      "Couple2: 4-c\n",
      "Couple3: 1-b\n",
      "Couple4: 3-a\n",
      "Couple5: 2-e\n"
     ]
    }
   ],
   "source": [
    "import random\n",
    "m = list('12345')\n",
    "f = list('abcde')\n",
    "random.shuffle(m)\n",
    "random.shuffle(f)\n",
    "couples = zip(m,f)\n",
    "for i, couple in enumerate(couples):\n",
    "    print('Couple%d: %s-%s' %(i+1, couple[0],couple[1]))"
   ]
  },
  {
   "cell_type": "code",
   "execution_count": 21,
   "id": "f315b9e1",
   "metadata": {},
   "outputs": [
    {
     "name": "stdout",
     "output_type": "stream",
     "text": [
      "['a', 'b', 'c', 'd', 'e']\n"
     ]
    },
    {
     "data": {
      "text/plain": [
       "'bcdea'"
      ]
     },
     "execution_count": 21,
     "metadata": {},
     "output_type": "execute_result"
    }
   ],
   "source": [
    "# 입력받은 문자열의 각 문자를 그 다음 문자로 변경하여 출력하세요.\n",
    "# 입력 abcde -> 출력 bcdea\n",
    "\n",
    "str = \"abcde\"\n",
    "lst = list(str)\n",
    "print(lst)\n",
    "lst.append(lst[0])\n",
    "lst.remove(lst[0])\n",
    "str = ''.join(lst)\n",
    "str\n"
   ]
  },
  {
   "cell_type": "code",
   "execution_count": 22,
   "id": "23004458",
   "metadata": {},
   "outputs": [
    {
     "name": "stdout",
     "output_type": "stream",
     "text": [
      "입력 : 정현우\n",
      "현우정\n"
     ]
    }
   ],
   "source": [
    "a=list(input(\"입력 : \"))\n",
    "\n",
    "for i in range(len(a)-1):\n",
    "    print(a[i+1],end='')\n",
    "print(a[0])\n"
   ]
  },
  {
   "cell_type": "code",
   "execution_count": 23,
   "id": "23964bc4",
   "metadata": {},
   "outputs": [
    {
     "name": "stdout",
     "output_type": "stream",
     "text": [
      "문장을 입력하세요> 박기범\n",
      "기범박\n"
     ]
    }
   ],
   "source": [
    "text = input('문장을 입력하세요> ')\n",
    "ret = ''\n",
    "for i in range(len(text)):\n",
    "    if i != len(text)-1:\n",
    "        ret += text[i+1]\n",
    "    else:\n",
    "        ret += text[0]\n",
    "print(ret)"
   ]
  },
  {
   "cell_type": "code",
   "execution_count": null,
   "id": "c9b52ad2",
   "metadata": {},
   "outputs": [],
   "source": [
    "# 음식점의 음식 주문가격 산출 프로그램을 자유롭게 작성하세요\n",
    "'''\n",
    "중앙 식당에 오신 것을 환영합니다\n",
    "\n",
    "========================================\n",
    "\n",
    "          - 메  뉴 -\n",
    "    1. 불고기 비빔밥 : 12,000원\n",
    "    2. 야채 비빔밥 : 8,000원\n",
    "    3. 전주 비빔밥 : 10,000원\n",
    "\n",
    "    세트 주문시 : 3000원 추가\n",
    "    (세트는 밥과 반찬이 추가됩니다.)\n",
    "\n",
    "========================================\n",
    "\n",
    "비빔밥 메뉴를 선택해 주세요. 1, 2, 3 >>> 2\n",
    "세트 주문을 하시겠습니까? 3,000원 추가. y, n >>> y\n",
    "총 금액은 11000원 입니다.\n",
    "'''"
   ]
  },
  {
   "cell_type": "code",
   "execution_count": 24,
   "id": "19a84b52",
   "metadata": {},
   "outputs": [
    {
     "name": "stdout",
     "output_type": "stream",
     "text": [
      "중앙매점에 오신 것을 환영합니다\n",
      "=============================\n",
      "\n",
      "         - 메  뉴 -\n",
      "   1. 떡볶이 : 6,000원\n",
      "   2. 순대   : 7,000원\n",
      "   3. 김밥   : 3,000원\n",
      "\n",
      "세트 주문시 : 3,000원 추가\n",
      "  (음료수 추가와 곱빼기)\n",
      "\n",
      "==============================\n",
      "메뉴를 선택해 주세요.1,2,3: 2\n",
      "세트 주문을 하시겠습니까? 3,000원 추가. y,n: y\n",
      "총 금액은 10,000원입니다.\n"
     ]
    }
   ],
   "source": [
    "print('중앙매점에 오신 것을 환영합니다\\n=============================\\n\\n         \n",
    "- 메  뉴 -\\n   1. 떡볶이 : 6,000원\\n   2. 순대   : 7,000원\\n   3. 김밥   : 3,000원\\n\\n세트 주문시 : 3,000원 추가\\n  (음료수 추가와 곱빼기)\\n\\n==============================')\n",
    "\n",
    "\n",
    "m=int(input('메뉴를 선택해 주세요.1,2,3: '))\n",
    "s=input('세트 주문을 하시겠습니까? 3,000원 추가. y,n: ')\n",
    "if (m==1):\n",
    "    if (s==\"y\"):\n",
    "        print('총 금액은 9,000원입니다.')\n",
    "    else:\n",
    "        print('총 금액은 6,000원입니다.')\n",
    "elif (m==2):\n",
    "    if (s==\"y\"):\n",
    "        print('총 금액은 10,000원입니다.')\n",
    "    else:\n",
    "        print('총 금액은 7,000원입니다.')\n",
    "else:\n",
    "    if (s==\"y\"):\n",
    "        print('총 금액은 6,000원입니다.')\n",
    "    else:\n",
    "        print('총 금액은 3,000원입니다.')\n"
   ]
  },
  {
   "cell_type": "code",
   "execution_count": 2,
   "id": "89bde9a3",
   "metadata": {},
   "outputs": [
    {
     "name": "stdout",
     "output_type": "stream",
     "text": [
      "\n",
      "오늘도 큰솥 도시락을 찾아주셔서 감사합니다.\n",
      "\n",
      "    치킨마요 \\ 3500\n",
      "    참치마요 \\ 3000\n",
      "포테이토마요 \\ 3300\n",
      "\n",
      "※ 토핑 추가 \\ 500\n",
      "\n",
      "어떤 메뉴를 고르시겠어요? 참치\n",
      "주문하신 메뉴는 없는 메뉴입니다.\n",
      "어떤 메뉴를 고르시겠어요? 치킨마요\n",
      "치킨마요의 가격은 3500원입니다.\n",
      "토핑을 추가하시겠어요? [네/아니오] y\n",
      "주문 오류입니다. 다시 주문해 주세요.\n",
      "어떤 메뉴를 고르시겠어요? 네\n",
      "주문하신 메뉴는 없는 메뉴입니다.\n",
      "어떤 메뉴를 고르시겠어요? 치킨마요\n",
      "치킨마요의 가격은 3500원입니다.\n",
      "토핑을 추가하시겠어요? [네/아니오] 네\n",
      "주문하신 메뉴의 총 가격은 4000원입니다.\n",
      "맛있게 드세요.\n"
     ]
    }
   ],
   "source": [
    "menu = {'치킨마요':3500, '참치마요':3000, '포테이토마요':3300, '토핑':500}\n",
    "\n",
    "print(f'''\n",
    "오늘도 큰솥 도시락을 찾아주셔서 감사합니다.\n",
    "\n",
    "    치킨마요 \\ {menu['치킨마요']}\n",
    "    참치마요 \\ {menu['참치마요']}\n",
    "포테이토마요 \\ {menu['포테이토마요']}\n",
    "\n",
    "※ 토핑 추가 \\ {menu['토핑']}\n",
    "''')\n",
    "while 1:\n",
    "    food = input('어떤 메뉴를 고르시겠어요? ')\n",
    "\n",
    "    if food in menu:\n",
    "        print(f'{food}의 가격은 {menu[food]}원입니다.')\n",
    "        top = input('토핑을 추가하시겠어요? [네/아니오] ')\n",
    "        if top=='네':\n",
    "            print('주문하신 메뉴의 총 가격은 %d원입니다.\\n맛있게 드세요.' %(int(menu[food])+int(menu['토핑'])))\n",
    "            break\n",
    "        elif top=='아니오':\n",
    "            print(f'주문하신 메뉴의 총 가격은 {menu[food]}원입니다.\\n맛있게 드세요.')\n",
    "            break\n",
    "        else: print('주문 오류입니다. 다시 주문해 주세요.')\n",
    "    \n",
    "    else: print('주문하신 메뉴는 없는 메뉴입니다.')\n"
   ]
  },
  {
   "cell_type": "code",
   "execution_count": 2,
   "id": "74371464",
   "metadata": {},
   "outputs": [
    {
     "name": "stdout",
     "output_type": "stream",
     "text": [
      "♣♣♣중앙 식당에 오신 것을 환영합니다♣♣♣\n",
      "\n",
      "========================================\n",
      "\n",
      "          - 메  뉴 -\n",
      "          \n",
      "    1. 불고기 비빔밥 : 12,000원\n",
      "    2. 야채 비빔밥 : 8,000원\n",
      "    3. 전주 비빔밥 : 10,000원\n",
      "\n",
      "    세트 주문시 : 3000원 추가\n",
      "    (세트는 밥과 반찬이 추가됩니다.)\n",
      "\n",
      "========================================\n",
      "\n",
      "■장바구니\n",
      " 불고기 비빔밥 0개: 0원\n",
      " 불고기 비빔밥 세트 0개: 0원\n",
      " 야채 비빔밥 0개: 0원\n",
      " 야채 비빔밥 세트 0개: 0원\n",
      " 전주 비빔밥 0개: 0원\n",
      " 전주 비빔밥 세트 0개: 0원\n",
      " 총 금액 0원\n",
      "\n",
      "●주문할 메뉴를 골라주세요. (불고기 비빔밥:1, 야채 비빔밥:2, 전주 비빔밥:3, 전체 취소:0, 주문확정:주문)\n",
      "1\n",
      "\n",
      "●3000원을 추가해 세트(밥, 반찬 추가)로 주문하시겠습니까? (일반주문시:n, 세트주문시:y, 이외는 취소)\n",
      "y\n",
      "\n",
      "●불고기 비빔밥 세트 몇개 주문 하시겠습니까?\n",
      "3\n",
      "\n",
      "불고기 버거 세트 3개가 장바구니에 담겼습니다.\n",
      "\n",
      "♣♣♣중앙 식당에 오신 것을 환영합니다♣♣♣\n",
      "\n",
      "========================================\n",
      "\n",
      "          - 메  뉴 -\n",
      "          \n",
      "    1. 불고기 비빔밥 : 12,000원\n",
      "    2. 야채 비빔밥 : 8,000원\n",
      "    3. 전주 비빔밥 : 10,000원\n",
      "\n",
      "    세트 주문시 : 3000원 추가\n",
      "    (세트는 밥과 반찬이 추가됩니다.)\n",
      "\n",
      "========================================\n",
      "\n",
      "■장바구니\n",
      " 불고기 비빔밥 0개: 0원\n",
      " 불고기 비빔밥 세트 3개: 45000원\n",
      " 야채 비빔밥 0개: 0원\n",
      " 야채 비빔밥 세트 0개: 0원\n",
      " 전주 비빔밥 0개: 0원\n",
      " 전주 비빔밥 세트 0개: 0원\n",
      " 총 금액 45000원\n",
      "\n",
      "●주문할 메뉴를 골라주세요. (불고기 비빔밥:1, 야채 비빔밥:2, 전주 비빔밥:3, 전체 취소:0, 주문확정:주문)\n",
      "2\n",
      "\n",
      "●3000원을 추가해 세트(밥, 반찬 추가)로 주문하시겠습니까? (일반주문시:n, 세트주문시:y, 이외는 취소)\n",
      "o\n",
      "\u001b[31m\n",
      "★취소 되었습니다. 초기 화면으로 돌아갑니다★\n",
      "\u001b[0m\n",
      "♣♣♣중앙 식당에 오신 것을 환영합니다♣♣♣\n",
      "\n",
      "========================================\n",
      "\n",
      "          - 메  뉴 -\n",
      "          \n",
      "    1. 불고기 비빔밥 : 12,000원\n",
      "    2. 야채 비빔밥 : 8,000원\n",
      "    3. 전주 비빔밥 : 10,000원\n",
      "\n",
      "    세트 주문시 : 3000원 추가\n",
      "    (세트는 밥과 반찬이 추가됩니다.)\n",
      "\n",
      "========================================\n",
      "\n",
      "■장바구니\n",
      " 불고기 비빔밥 0개: 0원\n",
      " 불고기 비빔밥 세트 3개: 45000원\n",
      " 야채 비빔밥 0개: 0원\n",
      " 야채 비빔밥 세트 0개: 0원\n",
      " 전주 비빔밥 0개: 0원\n",
      " 전주 비빔밥 세트 0개: 0원\n",
      " 총 금액 45000원\n",
      "\n",
      "●주문할 메뉴를 골라주세요. (불고기 비빔밥:1, 야채 비빔밥:2, 전주 비빔밥:3, 전체 취소:0, 주문확정:주문)\n",
      "주문\n",
      "\n",
      "●주문하려면 결제해주세요. 결제금액은 45000원 입니다.\n",
      "45000\n",
      "\u001b[31m\n",
      "☆★☆★☆★☆★결제가 완료되었습니다. 조금만 기다려주세요!★☆★☆★☆★☆\u001b[0m\n"
     ]
    }
   ],
   "source": [
    "import string\n",
    "\n",
    "current_bul = 0\n",
    "current_bulset = 0\n",
    "current_veg = 0\n",
    "current_vegset = 0\n",
    "current_jeon = 0\n",
    "current_jeonset = 0\n",
    "price_bul = 12000\n",
    "price_veg = 8000\n",
    "price_jeon = 10000\n",
    "price_set = 3000\n",
    "price_total = 0\n",
    "\n",
    "while 1:\n",
    "    menu = input(f\"\"\"♣♣♣중앙 식당에 오신 것을 환영합니다♣♣♣\n",
    "\n",
    "========================================\n",
    "\n",
    "          - 메  뉴 -\n",
    "          \n",
    "    1. 불고기 비빔밥 : 12,000원\n",
    "    2. 야채 비빔밥 : 8,000원\n",
    "    3. 전주 비빔밥 : 10,000원\n",
    "\n",
    "    세트 주문시 : 3000원 추가\n",
    "    (세트는 밥과 반찬이 추가됩니다.)\n",
    "\n",
    "========================================\n",
    "\n",
    "■장바구니\n",
    " 불고기 비빔밥 {current_bul}개: {current_bul*price_bul}원\n",
    " 불고기 비빔밥 세트 {current_bulset}개: {current_bulset*(price_bul+3000)}원\n",
    " 야채 비빔밥 {current_veg}개: {current_veg*price_veg}원\n",
    " 야채 비빔밥 세트 {current_vegset}개: {current_vegset*(price_veg+3000)}원\n",
    " 전주 비빔밥 {current_jeon}개: {current_jeon*price_jeon}원\n",
    " 전주 비빔밥 세트 {current_jeonset}개: {current_jeonset*(price_jeon+3000)}원\n",
    " 총 금액 {price_total}원\n",
    "\n",
    "●주문할 메뉴를 골라주세요. (불고기 비빔밥:1, 야채 비빔밥:2, 전주 비빔밥:3, 전체 취소:0, 주문확정:주문)\\n\"\"\")\n",
    "    if(menu.isdigit() == True):\n",
    "        if int(menu) == 1:\n",
    "            while 1:\n",
    "                bul_choice = input('\\n●3000원을 추가해 세트(밥, 반찬 추가)로 주문하시겠습니까? (일반주문시:n, 세트주문시:y, 이외는 취소)\\n')\n",
    "                if bul_choice == 'y':\n",
    "                    bulset_num = input('\\n●불고기 비빔밥 세트 몇개 주문 하시겠습니까?\\n')\n",
    "                    if(bulset_num.isdigit() == True):\n",
    "                        if int(bulset_num) > 0:\n",
    "                            print(f'\\n불고기 버거 세트 {bulset_num}개가 장바구니에 담겼습니다.\\n')\n",
    "                            current_bulset += int(bulset_num)\n",
    "                            price_total += int(bulset_num) * (price_bul + price_set)\n",
    "                            break\n",
    "                        else:\n",
    "                            print('\\033[31m' + '\\n★양수만 입력하세요. 세트 선택으로 돌아갑니다★' + '\\033[0m')\n",
    "                            \n",
    "                            continue\n",
    "    \n",
    "                    else:\n",
    "                        print('\\033[31m' + '\\n★숫자만 입력하세요!! 세트 선택으로 돌아갑니다.★' + '\\033[0m')\n",
    "                        continue\n",
    "                                \n",
    "                elif bul_choice == 'n':\n",
    "                    bul_num = input('\\n●불고기 비빔밥 몇개 주문 하시겠습니까?\\n')\n",
    "                    if(bul_num.isdigit() == True):\n",
    "                        if int(bul_num) > 0:\n",
    "                            print(f'\\n불고기 버거 세트 {bul_num}개가 장바구니에 담겼습니다.\\n')\n",
    "                            current_bul += int(bul_num)\n",
    "                            price_total += int(bul_num) * price_bul\n",
    "                            break\n",
    "                        else:\n",
    "                            print('\\033[31m' + '\\n★양수만 입력하세요. 세트 선택으로 돌아갑니다★' + '\\033[0m')\n",
    "                            continue\n",
    "    \n",
    "                    else:\n",
    "                        print('\\033[31m' + '\\n★숫자만 입력하세요!! 세트 선택으로 돌아갑니다.★' + '\\033[0m')\n",
    "                        continue\n",
    "\n",
    "                else:\n",
    "                    print('\\033[31m' + '\\n★취소 되었습니다. 초기 화면으로 돌아갑니다★\\n' + '\\033[0m')\n",
    "                    break\n",
    "                \n",
    "        if int(menu) == 2:\n",
    "            while 1:\n",
    "                veg_choice = input('\\n●3000원을 추가해 세트(밥, 반찬 추가)로 주문하시겠습니까? (일반주문시:n, 세트주문시:y, 이외는 취소)\\n')\n",
    "                if veg_choice == 'y':\n",
    "                    vegset_num = input('\\n●야채 비빔밥 세트 몇개 주문 하시겠습니까?\\n')\n",
    "                    if(vegset_num.isdigit() == True):\n",
    "                        if int(vegset_num) > 0:\n",
    "                            print(f'\\n야채 비빔밥 세트 {vegset_num}개가 장바구니에 담겼습니다.\\n')\n",
    "                            current_vegset += int(vegset_num)\n",
    "                            price_total += int(vegset_num) * (price_veg + price_set)\n",
    "                            break\n",
    "                        else:\n",
    "                            print('\\033[31m' + '\\n★양수만 입력하세요. 세트 선택으로 돌아갑니다★' + '\\033[0m')\n",
    "                            continue\n",
    "\n",
    "                    else:\n",
    "                        print('\\033[31m' + '\\n★숫자만 입력하세요!! 세트 선택으로 돌아갑니다.★' + '\\033[0m')\n",
    "                        continue\n",
    "                                \n",
    "                elif veg_choice == 'n':\n",
    "                    veg_num = input('\\n●야채 비빔밥 몇개 주문 하시겠습니까?\\n')\n",
    "                    if(veg_num.isdigit() == True):\n",
    "                        if int(veg_num) > 0:\n",
    "                            print(f'\\n야채 버거 세트 {veg_num}개가 장바구니에 담겼습니다.\\n')\n",
    "                            current_veg += int(veg_num)\n",
    "                            price_total += int(veg_num) * price_veg\n",
    "                            break\n",
    "                        else:\n",
    "                            print('\\033[31m' + '\\n★양수만 입력하세요. 세트 선택으로 돌아갑니다★' + '\\033[0m')\n",
    "                            continue\n",
    "\n",
    "                    else:\n",
    "                        print('\\033[31m' + '\\n★숫자만 입력하세요!! 세트 선택으로 돌아갑니다.★' + '\\033[0m')\n",
    "                        continue\n",
    "\n",
    "                else:\n",
    "                    print('\\033[31m' + '\\n★취소 되었습니다. 초기 화면으로 돌아갑니다★\\n' + '\\033[0m')\n",
    "                    break\n",
    "                \n",
    "        if int(menu) == 3:\n",
    "            while 1:\n",
    "                jeon_choice = input('\\n●3000원을 추가해 세트(밥, 반찬 추가)로 주문하시겠습니까? (일반주문시:n, 세트주문시:y, 이외는 취소)\\n')\n",
    "                if jeon_choice == 'y':\n",
    "                    jeonset_num = input('\\n●전주 비빔밥 세트 몇개 주문 하시겠습니까?\\n')\n",
    "                    if(jeonset_num.isdigit() == True):\n",
    "                        if int(jeonset_num) > 0:\n",
    "                            print(f'\\n전주 비빔밥 세트 {jeonset_num}개가 장바구니에 담겼습니다.\\n')\n",
    "                            current_jeonset += int(jeonset_num)\n",
    "                            price_total += int(jeonset_num) * (price_jeon + price_set)\n",
    "                            break\n",
    "                        else:\n",
    "                            print('\\033[31m' + '\\n★양수만 입력하세요. 세트 선택으로 돌아갑니다★' + '\\033[0m')\n",
    "                            continue\n",
    "\n",
    "                    else:\n",
    "                        print('\\033[31m' + '\\n★숫자만 입력하세요!! 세트 선택으로 돌아갑니다.★' + '\\033[0m')\n",
    "                        continue\n",
    "                            \n",
    "                elif jeon_choice == 'n':\n",
    "                    jeon_num = input('\\n●전주 비빔밥 몇개 주문 하시겠습니까?\\n')\n",
    "                    if(jeon_num.isdigit() == True):\n",
    "                        if int(jeon_num) > 0:\n",
    "                            print(f'\\n전주 비빔밥 세트 {jeon_num}개가 장바구니에 담겼습니다.\\n')\n",
    "                            current_jeon += int(jeon_num)\n",
    "                            price_total += int(jeon_num) * price_jeon\n",
    "                            break\n",
    "                        else:\n",
    "                            print('\\033[31m' + '\\n★양수만 입력하세요. 세트 선택으로 돌아갑니다★' + '\\033[0m')\n",
    "                            continue\n",
    "\n",
    "                    else:\n",
    "                        print('\\033[31m' + '\\n★숫자만 입력하세요!! 세트 선택으로 돌아갑니다.★' + '\\033[0m')\n",
    "                        continue\n",
    "    \n",
    "                else:\n",
    "                    print('\\033[31m' + '\\n★취소 되었습니다. 초기 화면으로 돌아갑니다★\\n' + '\\033[0m')\n",
    "                    break\n",
    "        elif int(menu) == 0:\n",
    "            print('\\033[31m' + '\\n★전체 주문을 취소합니다★\\n' + '\\033[0m')\n",
    "            current_bul = 0\n",
    "            current_bulset = 0\n",
    "            current_veg = 0\n",
    "            current_vegset = 0\n",
    "            current_jeon = 0\n",
    "            current_jeonset = 0\n",
    "            price_total = 0\n",
    "            continue\n",
    "    elif(menu.isdigit() == False):\n",
    "        if menu != '주문':\n",
    "            print('\\033[31m' + '\\n\\n★메뉴의 지정된 숫자로 입력하세요★\\n\\n' + '\\033[0m')\n",
    "            continue\n",
    "        else:\n",
    "            if price_total == 0:\n",
    "                print('\\033[31m' + '\\n★메뉴를 고르고 주문해주세요!★\\n' + '\\033[0m')\n",
    "                continue\n",
    "            else:\n",
    "                while 1:\n",
    "                    pay = input(f'\\n●주문하려면 결제해주세요. 결제금액은 {price_total}원 입니다.\\n')\n",
    "                    if(pay.isdigit() == True):\n",
    "                        if int(pay) == price_total:\n",
    "                            print('\\033[31m' + '\\n☆★☆★☆★☆★결제가 완료되었습니다. 조금만 기다려주세요!★☆★☆★☆★☆' + '\\033[0m')\n",
    "                            break\n",
    "                        \n",
    "                        else:\n",
    "                            print('\\033[31m' + '\\n★결제금액이 다릅니다. 다시 결제해 주세요★\\n' + '\\033[0m')\n",
    "                            continue\n",
    "                    else:\n",
    "                        print('\\033[31m' + '\\n★결제가 잘못되었습니다. 다시 진행해주세요★\\n' + '\\033[0m')\n",
    "                break"
   ]
  },
  {
   "cell_type": "code",
   "execution_count": 3,
   "id": "aacc7adf",
   "metadata": {},
   "outputs": [
    {
     "name": "stdout",
     "output_type": "stream",
     "text": [
      "중앙 식당에 오신 것을 환영합니다.\n",
      "\n",
      "========================================\n",
      "\n",
      "           - 메  뉴 -\n",
      "\n",
      "     1. 떡볶이 : 6,000원\n",
      "     2. 순대   : 7,000원\n",
      "     3. 김밥   : 3,000원\n",
      "     \n",
      "     세트 주문시 : 3000원 추가\n",
      "     \n",
      "\n",
      "========================================\n",
      "\n",
      "메뉴를 선택해 주세요. 1,2,3 >>> 5\n",
      "없는 메뉴입니다. 다시 주문해주세요\n",
      "메뉴를 선택해 주세요. 1,2,3 >>> 1\n",
      "세트 주문을 하시겠습니까? 3,000원 추가. y, n >>> o\n",
      "잘못 입력했습니다. y or n을 입력해 주세요\n",
      "메뉴를 선택해 주세요. 1,2,3 >>> 1\n",
      "세트 주문을 하시겠습니까? 3,000원 추가. y, n >>> y\n",
      "총 금액은 9000원 입니다.\n"
     ]
    }
   ],
   "source": [
    "# [과제] 수정 보완하세요.\n",
    "menu = \"\"\"\n",
    "           - 메  뉴 -\n",
    "\n",
    "     1. 떡볶이 : 6,000원\n",
    "     2. 순대   : 7,000원\n",
    "     3. 김밥   : 3,000원\n",
    "     \n",
    "     세트 주문시 : 3000원 추가\n",
    "     \n",
    "\"\"\"\n",
    "\n",
    "print('중앙 식당에 오신 것을 환영합니다.'+'\\n')\n",
    "print(\"=\"*40)\n",
    "print(menu)\n",
    "print(\"=\"*40)\n",
    "print()\n",
    "\n",
    "while 1:\n",
    "    order = input('메뉴를 선택해 주세요. 1,2,3 >>> ')\n",
    "    \n",
    "    \n",
    "    price = 0\n",
    "    if order == '1' or order == '2' or order == '3':\n",
    "        if order == '1':\n",
    "            price = 6000\n",
    "        elif order == '2':\n",
    "            price = 7000\n",
    "        else:\n",
    "            price = 3000\n",
    "        combo = input('세트 주문을 하시겠습니까? 3,000원 추가. y, n >>> ')\n",
    "    \n",
    "        if combo =='y':\n",
    "            price += 3000\n",
    "            break\n",
    "        elif combo =='n':\n",
    "            price = price\n",
    "            break\n",
    "        else:\n",
    "            print('잘못 입력했습니다. y or n을 입력해 주세요')\n",
    "    else:\n",
    "        print('없는 메뉴입니다. 다시 주문해주세요')\n",
    "print(f'총 금액은 {price}원 입니다.')\n"
   ]
  },
  {
   "cell_type": "code",
   "execution_count": null,
   "id": "594e5292",
   "metadata": {},
   "outputs": [],
   "source": [
    "# [과제] Player가 3승할 때까지 계속 진행되는 가위바위보 게임 프로그램을 작성하세요.\n",
    "# 게임은 Player와 컴퓨터가 진행"
   ]
  },
  {
   "cell_type": "code",
   "execution_count": 4,
   "id": "f1b3769a",
   "metadata": {},
   "outputs": [
    {
     "name": "stdout",
     "output_type": "stream",
     "text": [
      "가위 바위 보 게임입니다. 3승할 때까지 계속 진행됩니다!\n",
      "그 전에 게임을 종료하고 싶다면 E를 입력해주세요.\n",
      "\n",
      "무엇을 낼까요? (가위/바위/보) > 가위\n",
      "컴퓨터 > 가위\n",
      "비겼습니다. 다시 한 번 게임을 시작합니다!\n",
      "\n",
      "무엇을 낼까요? (가위/바위/보) > 가위\n",
      "컴퓨터 > 보\n",
      "게임에서 이겼습니다. 축하합니다!\n",
      "\n",
      "무엇을 낼까요? (가위/바위/보) > 가위\n",
      "컴퓨터 > 바위\n",
      "졌습니다. 다시 한 번 게임을 시작합니다!\n",
      "\n",
      "무엇을 낼까요? (가위/바위/보) > 가위\n",
      "컴퓨터 > 보\n",
      "게임에서 이겼습니다. 축하합니다!\n",
      "\n",
      "무엇을 낼까요? (가위/바위/보) > 가위\n",
      "컴퓨터 > 보\n",
      "게임에서 이겼습니다. 축하합니다!\n",
      "게임을 종료합니다. 수고하셨습니다.\n"
     ]
    }
   ],
   "source": [
    "# [과제] Player가 3승할 때까지 계속 진행되는 가위바위보 게임 프로그램을 작성하세요.\n",
    "# 게임을 Player와 컴퓨터가 진행\n",
    "\n",
    "import numpy as np\n",
    "\n",
    "cnt = 0\n",
    "rsp = ['가위', '바위', '보']\n",
    "\n",
    "print(\"가위 바위 보 게임입니다. 3승할 때까지 계속 진행됩니다!\")\n",
    "print(\"그 전에 게임을 종료하고 싶다면 E를 입력해주세요.\")\n",
    "\n",
    "while cnt < 3:\n",
    "    print()\n",
    "    pl = input(\"무엇을 낼까요? (가위/바위/보) > \")\n",
    "    if(pl=='E'): break\n",
    "    elif(pl not in rsp):\n",
    "        print(\"[가위] [바위] [보] 중 하나를 내주세요!\")\n",
    "        continue\n",
    "    pc = rsp[np.random.randint(3)]\n",
    "    print(f'컴퓨터 > {pc}')\n",
    "    \n",
    "    if(pl=='가위'):\n",
    "        if(pc=='바위'):\n",
    "            print(\"졌습니다. 다시 한 번 게임을 시작합니다!\")\n",
    "            continue\n",
    "        elif(pc=='보'):\n",
    "            print(\"게임에서 이겼습니다. 축하합니다!\")\n",
    "            cnt+=1\n",
    "            continue\n",
    "            \n",
    "    elif(pl=='바위'):\n",
    "        if(pc=='보'):\n",
    "            print(\"졌습니다. 다시 한 번 게임을 시작합니다!\")\n",
    "            continue\n",
    "        elif(pc=='가위'):\n",
    "            print(\"게임에서 이겼습니다. 축하합니다!\")\n",
    "            cnt+=1\n",
    "            continue\n",
    "            \n",
    "    elif(pl=='보'):\n",
    "        if(pc=='가위'):\n",
    "            print(\"졌습니다. 다시 한 번 게임을 시작합니다!\")\n",
    "            continue\n",
    "        elif(pc=='바위'):\n",
    "            print(\"게임에서 이겼습니다. 축하합니다!\")\n",
    "            cnt+=1\n",
    "            continue\n",
    "            \n",
    "    print(\"비겼습니다. 다시 한 번 게임을 시작합니다!\")\n",
    "    \n",
    "print(\"게임을 종료합니다. 수고하셨습니다.\")"
   ]
  },
  {
   "cell_type": "code",
   "execution_count": 1,
   "id": "c0eed6be",
   "metadata": {},
   "outputs": [
    {
     "name": "stdout",
     "output_type": "stream",
     "text": [
      "가위:0 바위:1 보:2 내시오0\n",
      "1번째 시도: player는 가위를, computer는 바위를 냈음\n",
      "가위:0 바위:1 보:2 내시오0\n",
      "2번째 시도: player는 가위를, computer는 가위를 냈음\n",
      "가위:0 바위:1 보:2 내시오0\n",
      "3번째 시도: player는 가위를, computer는 가위를 냈음\n",
      "가위:0 바위:1 보:2 내시오0\n",
      "4번째 시도: player는 가위를, computer는 보를 냈음\n",
      "player 이겼음, 1승\n",
      "가위:0 바위:1 보:2 내시오0\n",
      "5번째 시도: player는 가위를, computer는 바위를 냈음\n",
      "가위:0 바위:1 보:2 내시오0\n",
      "6번째 시도: player는 가위를, computer는 가위를 냈음\n",
      "가위:0 바위:1 보:2 내시오0\n",
      "7번째 시도: player는 가위를, computer는 바위를 냈음\n",
      "가위:0 바위:1 보:2 내시오1\n",
      "8번째 시도: player는 바위를, computer는 바위를 냈음\n",
      "가위:0 바위:1 보:2 내시오1\n",
      "9번째 시도: player는 바위를, computer는 보를 냈음\n",
      "가위:0 바위:1 보:2 내시오1\n",
      "10번째 시도: player는 바위를, computer는 가위를 냈음\n",
      "player 이겼음, 2승\n",
      "가위:0 바위:1 보:2 내시오1\n",
      "11번째 시도: player는 바위를, computer는 보를 냈음\n",
      "가위:0 바위:1 보:2 내시오1\n",
      "12번째 시도: player는 바위를, computer는 바위를 냈음\n",
      "가위:0 바위:1 보:2 내시오1\n",
      "13번째 시도: player는 바위를, computer는 바위를 냈음\n",
      "가위:0 바위:1 보:2 내시오1\n",
      "14번째 시도: player는 바위를, computer는 바위를 냈음\n",
      "가위:0 바위:1 보:2 내시오1\n",
      "15번째 시도: player는 바위를, computer는 보를 냈음\n",
      "가위:0 바위:1 보:2 내시오1\n",
      "16번째 시도: player는 바위를, computer는 가위를 냈음\n",
      "player 이겼음, 3승\n"
     ]
    }
   ],
   "source": [
    "import random\n",
    "\n",
    "player = [\"가위\",\"바위\",\"보\"]\n",
    "comp = [\"가위\",\"바위\",\"보\"]\n",
    "\n",
    "win_num = 0\n",
    "attempt = 0\n",
    "\n",
    "def rsp_result():\n",
    "    print(\"{}번째 시도: player는 {}를, computer는 {}를 냈음\".format(attempt,player[x],comp[y]))\n",
    "def player_win():\n",
    "    print(\"player 이겼음, {}승\".format(win_num+1))\n",
    "    \n",
    "while win_num != 3:\n",
    "    attempt +=1\n",
    "    x = int(input(\"가위:0 바위:1 보:2 내시오\"))\n",
    "    if(x==0 or x == 1 or x == 2):\n",
    "        y = random.randint(0,2)\n",
    "        if player[x] == \"가위\" and comp[y] == \"보\":\n",
    "            rsp_result()\n",
    "            player_win()\n",
    "            win_num += 1\n",
    "        elif player[x] == \"바위\" and comp[y] == \"가위\":\n",
    "            rsp_result()\n",
    "            player_win()\n",
    "            win_num += 1\n",
    "        elif player[x] == \"보\" and comp[y] == \"바위\":\n",
    "            rsp_result()\n",
    "            player_win()\n",
    "            win_num += 1\n",
    "\n",
    "        else:\n",
    "            rsp_result()\n",
    "    else:\n",
    "        print(\"0,1,2중 고르시오\")\n"
   ]
  },
  {
   "cell_type": "code",
   "execution_count": 29,
   "id": "19924d6a",
   "metadata": {},
   "outputs": [
    {
     "name": "stdout",
     "output_type": "stream",
     "text": [
      "게임을 하시겠습니까?[y/n]: y\n",
      "숫자를 입력하세요(0~10): 5\n",
      "up\n",
      "숫자를 입력하세요(0~10): 8\n",
      "up\n",
      "숫자를 입력하세요(0~10): 9\n",
      "범위 안의 숫자를 입력해주세요.\n",
      "정답입니다.\n",
      "게임을 하시겠습니까?[y/n]: y\n",
      "숫자를 입력하세요(0~10): 10\n",
      "down\n",
      "숫자를 입력하세요(0~10): 1\n",
      "up\n",
      "숫자를 입력하세요(0~10): 5\n",
      "down\n",
      "숫자를 입력하세요(0~10): 3\n",
      "up\n",
      "숫자를 입력하세요(0~10): 4\n",
      "범위 안의 숫자를 입력해주세요.\n",
      "정답입니다.\n",
      "게임을 하시겠습니까?[y/n]: n\n",
      "게임을 종료합니다.\n"
     ]
    }
   ],
   "source": [
    "# 컴퓨터가 랜덤하게 생성하는 숫자 맞추기 게임 프로그램을 작성하세요\n",
    "import numpy as np\n",
    "while(1):\n",
    "    s_e=input(\"게임을 하시겠습니까?[y/n]: \")\n",
    "\n",
    "    if(s_e==\"y\"):\n",
    "        anser= np.random.randint(0,10)\n",
    "        while(a != anser):\n",
    "            a=int(input(\"숫자를 입력하세요(0~10): \"))\n",
    "            if(a>anser):\n",
    "                print(\"down\")\n",
    "            elif(a<anser):\n",
    "                print(\"up\")\n",
    "            else:\n",
    "                print(\"범위 안의 숫자를 입력해주세요.\")\n",
    "        print(\"정답입니다.\")\n",
    "    else:\n",
    "        print(\"게임을 종료합니다.\")\n",
    "        break\n"
   ]
  }
 ],
 "metadata": {
  "kernelspec": {
   "display_name": "Python 3 (ipykernel)",
   "language": "python",
   "name": "python3"
  },
  "language_info": {
   "codemirror_mode": {
    "name": "ipython",
    "version": 3
   },
   "file_extension": ".py",
   "mimetype": "text/x-python",
   "name": "python",
   "nbconvert_exporter": "python",
   "pygments_lexer": "ipython3",
   "version": "3.8.12"
  }
 },
 "nbformat": 4,
 "nbformat_minor": 5
}
