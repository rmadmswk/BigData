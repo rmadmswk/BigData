{
 "cells": [
  {
   "cell_type": "markdown",
   "metadata": {},
   "source": [
    "## 프로젝트 기반 AI 빅데이터 서비스 솔루션 개발 전문과정\n",
    "\n",
    "#### 교과목명 : 프로그래밍 언어 활용\n",
    "\n",
    "- 평가일 : 22.01.07\n",
    "- 성명 : kevin\n",
    "- 점수 : 100\n",
    "\n",
    "※ 문제당 5점으로 채점"
   ]
  },
  {
   "cell_type": "markdown",
   "metadata": {},
   "source": [
    "#### 1. numbers 리스트에서 15, 20, 25를 출력하세요.(for문과 if 조건 사용 필수)  \n",
    "numbers = [5, 15, 6, 20, 7, 25]"
   ]
  },
  {
   "cell_type": "code",
   "execution_count": 1,
   "metadata": {},
   "outputs": [
    {
     "name": "stdout",
     "output_type": "stream",
     "text": [
      "[15, 20, 25]\n"
     ]
    }
   ],
   "source": [
    "numbers = [5, 15, 6, 20, 7, 25]\n",
    "\n",
    "li = []\n",
    "for i in numbers:\n",
    "    if i > 10:\n",
    "        li.append(i)\n",
    "print(li)        "
   ]
  },
  {
   "cell_type": "markdown",
   "metadata": {},
   "source": [
    "#### 2. 아래 사용자 함수, 변수 리스트 및 2개의 내장함수를 각각 이용해서  [1, 4, 9, 16, 25], [1, 2]를 출력하세요.(내장함수 2개 사용 필수) "
   ]
  },
  {
   "cell_type": "code",
   "execution_count": 4,
   "metadata": {},
   "outputs": [],
   "source": [
    "# 함수를 선언합니다.\n",
    "def power(item):\n",
    "    return item * item\n",
    "def under_3(item):\n",
    "    return item < 3\n",
    "\n",
    "# 변수를 선언합니다.\n",
    "list_input_a = [1, 2, 3, 4, 5]"
   ]
  },
  {
   "cell_type": "code",
   "execution_count": 8,
   "metadata": {},
   "outputs": [
    {
     "name": "stdout",
     "output_type": "stream",
     "text": [
      "[1, 4, 9, 16, 25]\n",
      "[1, 2]\n"
     ]
    }
   ],
   "source": [
    "def power(item):\n",
    "    return item * item\n",
    "def under_3(item):\n",
    "    return item < 3\n",
    "\n",
    "# 변수를 선언합니다.\n",
    "input_a = [1, 2, 3, 4, 5]\n",
    "\n",
    "out_a = map(power, input_a)\n",
    "print(list(out_a))\n",
    "\n",
    "out_b = filter(under_3, input_a)\n",
    "print(list(out_b))"
   ]
  },
  {
   "cell_type": "markdown",
   "metadata": {},
   "source": [
    "#### 3. 정수를 입력하면 짝수 홀수 여부를 반환해주는 프로그램을 작성하세요.(정수 입력 후 '짝수', '홀수'가 일치하게 출력) "
   ]
  },
  {
   "cell_type": "code",
   "execution_count": 24,
   "metadata": {},
   "outputs": [
    {
     "name": "stdout",
     "output_type": "stream",
     "text": [
      "정수> 5.5\n",
      "입력한 내용 5.5 : 정수가 아닙니다. \n",
      "정수> 3\n",
      "홀수\n"
     ]
    }
   ],
   "source": [
    "while 1:\n",
    "    num = input('정수> ')\n",
    "    if num.isdigit():\n",
    "        num = int(num)\n",
    "        if num % 2 == 0:\n",
    "            print('짝수')\n",
    "            break\n",
    "        else:\n",
    "            print('홀수')\n",
    "            break\n",
    "    else:\n",
    "        print(f'입력한 내용 {num} : 정수가 아닙니다. ')"
   ]
  },
  {
   "cell_type": "markdown",
   "metadata": {},
   "source": [
    "#### 4. 람다 함수를 이용해서 a의 b제곱에서 a x b를 뺀 수를 구하는 식을 만들고 그 식을 이용해서  a, b가 아래와 같이 주어졌을 때 각각의 값을 구하세요. \n",
    "a = 2, b = 5 \\\n",
    "a= 5, b = 2"
   ]
  },
  {
   "cell_type": "code",
   "execution_count": 16,
   "metadata": {},
   "outputs": [
    {
     "name": "stdout",
     "output_type": "stream",
     "text": [
      "22\n",
      "15\n"
     ]
    }
   ],
   "source": [
    "x = lambda a,b : a**b - a*b\n",
    "print(x(2,5))\n",
    "print(x(5,2))"
   ]
  },
  {
   "cell_type": "markdown",
   "metadata": {},
   "source": [
    "#### 5. 123456789를 입력하면 천 단위로 콤마로 구분하여 출력하세요."
   ]
  },
  {
   "cell_type": "code",
   "execution_count": 51,
   "metadata": {},
   "outputs": [
    {
     "name": "stdout",
     "output_type": "stream",
     "text": [
      "아무 숫자를 입력하세요: 123456789\n",
      "123,456,789\n"
     ]
    }
   ],
   "source": [
    "num = input('아무 숫자를 입력하세요: ')\n",
    "if num.isdigit():\n",
    "    num = num[::-1]\n",
    "    ret = ''\n",
    "    for i, c in enumerate(num):\n",
    "        i += 1\n",
    "        if i != len(num) and i % 3 == 0:\n",
    "            ret += (c + ',')\n",
    "        else:\n",
    "            ret += c\n",
    "    ret = ret[::-1]\n",
    "    print(ret)\n",
    "else:\n",
    "    print(f'입력한 내용 {num} : 숫자가 아닙니다. ')"
   ]
  },
  {
   "cell_type": "markdown",
   "metadata": {},
   "source": [
    "#### 6. example_list = [\"요소A\", \"요소B\", \"요소C\"]를 파이썬 내장함수를 이용하여 아래와 같이 출력하세요. \n",
    "0번째 요소는 요소A입니다.\\\n",
    "1번째 요소는 요소B입니다.\\\n",
    "2번째 요소는 요소C입니다."
   ]
  },
  {
   "cell_type": "code",
   "execution_count": 30,
   "metadata": {},
   "outputs": [
    {
     "name": "stdout",
     "output_type": "stream",
     "text": [
      "0번째 요소는 요소A입니다.\n",
      "1번째 요소는 요소B입니다.\n",
      "2번째 요소는 요소C입니다.\n"
     ]
    }
   ],
   "source": [
    "example_list = [\"요소A\", \"요소B\", \"요소C\"]\n",
    "for i,value in enumerate(example_list):\n",
    "    print(f'{i}번째 요소는 {value}입니다.')"
   ]
  },
  {
   "cell_type": "markdown",
   "metadata": {},
   "source": [
    "#### 7. 97을 40으로 나눈 몫과 나머지를 내장함수를 이용하여 구하세요.(튜플로 출력 필수) "
   ]
  },
  {
   "cell_type": "code",
   "execution_count": 31,
   "metadata": {},
   "outputs": [
    {
     "data": {
      "text/plain": [
       "(2, 17)"
      ]
     },
     "execution_count": 31,
     "metadata": {},
     "output_type": "execute_result"
    }
   ],
   "source": [
    "divmod(97,40)"
   ]
  },
  {
   "cell_type": "markdown",
   "metadata": {},
   "source": [
    "#### 8. list_number = [52, 273, 32, 72, 100]로 변수 선언하고 정수를 입력하면 그 정수 인덱스와 리스트에서 해당하는 값을 출력하는 프로그램을 작성하세요. 단, 모든 예외처리를 수행하며 특히 ValueError와 IndexError는 별도 구분해서 예외처리 한 후 '예외처리 완료'를 마지막으로 출력하세요.\n",
    "\n",
    "- 4 입력시 \\\n",
    "정수 입력> 4 \\\n",
    "4번째 요소: 100\n",
    "예외 처리 완료\n",
    "\n",
    "- 문자 입력시 \\\n",
    "정수 입력> 가 \\\n",
    "정수를 입력해 주세요!\n",
    "예외 처리 완료\n",
    "\n",
    "- 5 입력시 \\\n",
    "정수 입력> 5 \\\n",
    "리스트의 인덱스를 벗어났어요!\n",
    "예외 처리 완료"
   ]
  },
  {
   "cell_type": "code",
   "execution_count": 32,
   "metadata": {},
   "outputs": [
    {
     "name": "stdout",
     "output_type": "stream",
     "text": [
      "0~4 정수 입력> 가\n",
      "정수를 입력해 주세요\n",
      "예외 처리 완료\n"
     ]
    }
   ],
   "source": [
    "list_number = [52, 273, 32, 72, 100]\n",
    "\n",
    "try:\n",
    "    num = int(input('0~4 정수 입력> '))\n",
    "    print(f'{num}번째 요소: {list_number[num]}')\n",
    "except ValueError:\n",
    "    print('정수를 입력해 주세요')\n",
    "except IndexError:\n",
    "    print('리스트의 인덱스를 벗어났어요!')\n",
    "except Exception as e:\n",
    "    print(e)\n",
    "finally:\n",
    "    print('예외 처리 완료')"
   ]
  },
  {
   "cell_type": "markdown",
   "metadata": {},
   "source": [
    "#### 9. 사용자로부터 서로 다른 숫자 두 개를 입력받고 첫 번째 와 두 번째중 큰 숫자를 구하는 프로그램을 수행하세요."
   ]
  },
  {
   "cell_type": "code",
   "execution_count": 33,
   "metadata": {},
   "outputs": [
    {
     "name": "stdout",
     "output_type": "stream",
     "text": [
      "정수 입력> 5\n",
      "정수 입력> 3\n",
      "5\n"
     ]
    }
   ],
   "source": [
    "n1 = int(input('정수 입력> '))\n",
    "n2 = int(input('정수 입력> '))\n",
    "\n",
    "if n1 > n2:\n",
    "    print(n1)\n",
    "else:\n",
    "    print(n2)"
   ]
  },
  {
   "cell_type": "markdown",
   "metadata": {},
   "source": [
    "#### 10. 1부터 100까지 아래와 같은 방식으로 2개의 수를 곱해서 가장 큰 수를 구하세요.\n",
    "\n",
    " 1 * 99 ...99 * 1"
   ]
  },
  {
   "cell_type": "code",
   "execution_count": 34,
   "metadata": {},
   "outputs": [
    {
     "name": "stdout",
     "output_type": "stream",
     "text": [
      "2500\n"
     ]
    }
   ],
   "source": [
    "max_value = 0\n",
    "for i in range(1,100):\n",
    "    j = 100 - i\n",
    "    current = i * j\n",
    "    if max_value < current:\n",
    "        max_value = current\n",
    "print(max_value)"
   ]
  },
  {
   "cell_type": "markdown",
   "metadata": {},
   "source": [
    "#### 11. 정규표현식을 사용하여 text에서 지역코드만 출력하세요.\n",
    "text = \"문의사항이 있으면 032-232-3245 으로 연락주시기 바랍니다.\""
   ]
  },
  {
   "cell_type": "code",
   "execution_count": 36,
   "metadata": {},
   "outputs": [
    {
     "data": {
      "text/plain": [
       "'032'"
      ]
     },
     "execution_count": 36,
     "metadata": {},
     "output_type": "execute_result"
    }
   ],
   "source": [
    "import re\n",
    "text = \"문의사항이 있으면 032-232-3245 으로 연락주시기 바랍니다.\"\n",
    "p = re.compile('(\\d+)-(\\d+)-(\\d+)')\n",
    "m = p.search(text)\n",
    "m.group(1)"
   ]
  },
  {
   "cell_type": "markdown",
   "metadata": {},
   "source": [
    "#### 12. 'abcdefghij' 에 대하여 중첩을 적용한 서브그룹 5개로 컴파일하여 group()함수를 이용하여 'abcdefghi'와 e'를 출력하세요"
   ]
  },
  {
   "cell_type": "code",
   "execution_count": 52,
   "metadata": {},
   "outputs": [
    {
     "name": "stdout",
     "output_type": "stream",
     "text": [
      "abcdefghi\n",
      "e\n"
     ]
    }
   ],
   "source": [
    "import re\n",
    "text = 'abcdefghij'\n",
    "p = re.compile('(a(b(c(d(e)f)g)h)i)j')\n",
    "m = p.search(text)\n",
    "print(m.group(1))\n",
    "print(m.group(5))"
   ]
  },
  {
   "cell_type": "markdown",
   "metadata": {},
   "source": [
    "#### 13. [0, 1, 2, 3, 4, 5, 6, 7, 8, 9, 'a', 'b', 'c']에서 9와 'a'를 삭제 후 리스트로 출력하세요"
   ]
  },
  {
   "cell_type": "code",
   "execution_count": 38,
   "metadata": {},
   "outputs": [
    {
     "data": {
      "text/plain": [
       "[0, 1, 2, 3, 4, 5, 6, 7, 8, 'b', 'c']"
      ]
     },
     "execution_count": 38,
     "metadata": {},
     "output_type": "execute_result"
    }
   ],
   "source": [
    "li = [0, 1, 2, 3, 4, 5, 6, 7, 8, 9, 'a', 'b', 'c']\n",
    "del li[-4:-2]\n",
    "li"
   ]
  },
  {
   "cell_type": "markdown",
   "metadata": {},
   "source": [
    "#### 14. 500 ~ 1000사이의 정수 중 5와 7의 공배수의 합을 구하세요"
   ]
  },
  {
   "cell_type": "code",
   "execution_count": 39,
   "metadata": {},
   "outputs": [
    {
     "name": "stdout",
     "output_type": "stream",
     "text": [
      "10535\n"
     ]
    }
   ],
   "source": [
    "sum = 0\n",
    "for i in range(500,1001):\n",
    "    if i % 35 == 0:\n",
    "        sum += i\n",
    "print(sum)"
   ]
  },
  {
   "cell_type": "markdown",
   "metadata": {},
   "source": [
    "#### 15. [    ]을 채워서 아래와 같이 출력하세요.\n",
    "[[1, 4, 7], [2, 5, 8], [3, 6, 9]]"
   ]
  },
  {
   "cell_type": "code",
   "execution_count": null,
   "metadata": {},
   "outputs": [],
   "source": [
    "numbers = [1,2,3,4,5,6,7,8,9]\n",
    "output = [[], [], []]\n",
    "\n",
    "for number in numbers:\n",
    "    output[     ].append(number)\n",
    "print(output)"
   ]
  },
  {
   "cell_type": "code",
   "execution_count": 40,
   "metadata": {},
   "outputs": [
    {
     "name": "stdout",
     "output_type": "stream",
     "text": [
      "[[1, 4, 7], [2, 5, 8], [3, 6, 9]]\n"
     ]
    }
   ],
   "source": [
    "numbers = [1,2,3,4,5,6,7,8,9]\n",
    "output = [[], [], []]\n",
    "\n",
    "for number in numbers:\n",
    "    output[(number+2)%3].append(number)\n",
    "print(output)"
   ]
  },
  {
   "cell_type": "markdown",
   "metadata": {},
   "source": [
    "####  16. numbers 내부에 들어 있는 숫자가 몇 번 등장하는지를 출력하는 코드를 작성하세요.\n",
    "numbers = [3,6,3,5,8,2,9,7,4,3,6,3,5,8,2,9,7,4]"
   ]
  },
  {
   "cell_type": "code",
   "execution_count": 41,
   "metadata": {},
   "outputs": [
    {
     "name": "stdout",
     "output_type": "stream",
     "text": [
      "{3: 4, 6: 2, 5: 2, 8: 2, 2: 2, 9: 2, 7: 2, 4: 2}\n"
     ]
    }
   ],
   "source": [
    "numbers = [3,6,3,5,8,2,9,7,4,3,6,3,5,8,2,9,7,4]\n",
    "counter = {}\n",
    "for num in numbers:\n",
    "    if num in counter:\n",
    "        counter[num] += 1\n",
    "    else:\n",
    "        counter[num] = 1\n",
    "print(counter)"
   ]
  },
  {
   "cell_type": "markdown",
   "metadata": {},
   "source": [
    "#### 17. 클래스 Country를 완성하여 아래와 같이 출력하세요."
   ]
  },
  {
   "cell_type": "code",
   "execution_count": 26,
   "metadata": {},
   "outputs": [
    {
     "name": "stdout",
     "output_type": "stream",
     "text": [
      "한국의 인구는 5천만명이며 수도는 서울입니다.\n",
      "1인당 gnp는 USD 3만입니다.\n"
     ]
    }
   ],
   "source": [
    "class Country:\n",
    "  \n",
    "\n",
    "\n",
    "class Korea(Country):    \n",
    "\n",
    "    def desc1(self,gnp):\n",
    "        self.gnp = gnp\n",
    "        print('1인당 gnp는 USD %d만입니다.' %self.gnp)\n",
    "        \n",
    "obj = Korea('한국',5,'서울')\n",
    "obj.desc()\n",
    "obj.desc1(3)"
   ]
  },
  {
   "cell_type": "code",
   "execution_count": 42,
   "metadata": {},
   "outputs": [
    {
     "name": "stdout",
     "output_type": "stream",
     "text": [
      "한국의 인구는 5천만명이며 수도는 서울입니다.\n",
      "1인당 gnp는 USD 3만입니다.\n"
     ]
    }
   ],
   "source": [
    "class Country:\n",
    "    def __init__(self,name,pop,capital):\n",
    "        self.name = name\n",
    "        self.pop = pop\n",
    "        self.capital = capital\n",
    "        \n",
    "    def desc(self):\n",
    "        print('%s의 인구는 %d천만명이며 수도는 %s입니다.' %(self.name,self.pop,self.capital))\n",
    "\n",
    "class Korea(Country):    \n",
    "\n",
    "    def desc1(self,gnp):\n",
    "        self.gnp = gnp\n",
    "        print('1인당 gnp는 USD %d만입니다.' %self.gnp)\n",
    "        \n",
    "obj = Korea('한국',5,'서울')\n",
    "obj.desc()\n",
    "obj.desc1(3)"
   ]
  },
  {
   "cell_type": "markdown",
   "metadata": {},
   "source": [
    "#### 18. 사칙연산을 수행하는  클래스를 작성하여 객체를 만들고 2개의 정수 10, 5를 입력한 후 연산 결과를  포멧을 이용하여 출력하세요."
   ]
  },
  {
   "cell_type": "code",
   "execution_count": 44,
   "metadata": {},
   "outputs": [
    {
     "name": "stdout",
     "output_type": "stream",
     "text": [
      "정수 입력> 100\n",
      "정수 입력> 10\n",
      "덧셈:110, 곱셈:1000, 뺄셈:90, 나눗셈:10\n"
     ]
    }
   ],
   "source": [
    "class FourCal:\n",
    "    def __init__(self,first,second):\n",
    "        self.first = first\n",
    "        self.second = second\n",
    "    def sum(self):\n",
    "        result = self.first + self.second\n",
    "        return result\n",
    "    def mul(self):\n",
    "        result = self.first * self.second\n",
    "        return result\n",
    "    def sub(self):\n",
    "        result = self.first - self.second\n",
    "        return result\n",
    "    def div(self):\n",
    "        result = round(self.first / self.second)\n",
    "        return result\n",
    "    \n",
    "n1 = int(input('정수 입력> '))\n",
    "n2 = int(input('정수 입력> '))\n",
    "cal4 = FourCal(n1,n2)\n",
    "\n",
    "print(f'덧셈:{cal4.sum()}, 곱셈:{cal4.mul()}, 뺄셈:{cal4.sub()}, 나눗셈:{cal4.div()}')"
   ]
  },
  {
   "cell_type": "markdown",
   "metadata": {},
   "source": [
    "#### 19. 올해 경과된 날짜수를 계산하여 출력하세요."
   ]
  },
  {
   "cell_type": "code",
   "execution_count": 53,
   "metadata": {},
   "outputs": [
    {
     "data": {
      "text/plain": [
       "time.struct_time(tm_year=2022, tm_mon=1, tm_mday=7, tm_hour=16, tm_min=33, tm_sec=48, tm_wday=4, tm_yday=7, tm_isdst=0)"
      ]
     },
     "execution_count": 53,
     "metadata": {},
     "output_type": "execute_result"
    }
   ],
   "source": [
    "import time\n",
    "t = time.localtime()\n",
    "t"
   ]
  },
  {
   "cell_type": "code",
   "execution_count": 48,
   "metadata": {},
   "outputs": [
    {
     "name": "stdout",
     "output_type": "stream",
     "text": [
      "오늘은 2022-01-01 이후 7 일째 되는 날입니다.\n"
     ]
    }
   ],
   "source": [
    "import time\n",
    "t = time.localtime()\n",
    "start_day = f'{t.tm_year}-01-01'\n",
    "elapsed_day = t.tm_yday\n",
    "print(f'오늘은 {start_day} 이후 {elapsed_day} 일째 되는 날입니다.')"
   ]
  },
  {
   "cell_type": "markdown",
   "metadata": {},
   "source": [
    "#### 20. 2015년 인기순 상위5개 여아이름별 출생아수를 출력하세요.('data/names/yob2015.txt')"
   ]
  },
  {
   "cell_type": "code",
   "execution_count": 55,
   "metadata": {},
   "outputs": [
    {
     "name": "stdout",
     "output_type": "stream",
     "text": [
      "TOP_1 여자 아기 이름 : ('Emma', 20473)\n",
      "TOP_2 여자 아기 이름 : ('Noah', 19783)\n",
      "TOP_3 여자 아기 이름 : ('Olivia', 19714)\n",
      "TOP_4 여자 아기 이름 : ('Liam', 18406)\n",
      "TOP_5 여자 아기 이름 : ('Sophia', 17444)\n"
     ]
    }
   ],
   "source": [
    "filename = 'data/names/yob2015.txt'\n",
    "\n",
    "nameF = {}\n",
    "with open(filename,'r') as f:\n",
    "    data = f.readlines()\n",
    "    for d in data:\n",
    "        if d[-1] == '\\n':\n",
    "            d = d[:-1]\n",
    "        tmp = d.split(',')\n",
    "        name = tmp[0]\n",
    "        sex = tmp[1]       \n",
    "        birth = tmp[2]\n",
    "        \n",
    "        if sex == 'F':\n",
    "            ret = nameF\n",
    "        else:\n",
    "            pass\n",
    "        if name in ret:\n",
    "            ret[name] += int(birth)\n",
    "        else:\n",
    "            ret[name] = int(birth)\n",
    "            \n",
    "retF = sorted(nameF.items(),key = lambda x:x[1], reverse = True)\n",
    "\n",
    "for i,name in enumerate(retF):\n",
    "    if i > 4:\n",
    "        break\n",
    "    print(f'TOP_{i+1} 여자 아기 이름 : {name}')        "
   ]
  }
 ],
 "metadata": {
  "kernelspec": {
   "display_name": "Python 3 (ipykernel)",
   "language": "python",
   "name": "python3"
  },
  "language_info": {
   "codemirror_mode": {
    "name": "ipython",
    "version": 3
   },
   "file_extension": ".py",
   "mimetype": "text/x-python",
   "name": "python",
   "nbconvert_exporter": "python",
   "pygments_lexer": "ipython3",
   "version": "3.8.12"
  }
 },
 "nbformat": 4,
 "nbformat_minor": 2
}
