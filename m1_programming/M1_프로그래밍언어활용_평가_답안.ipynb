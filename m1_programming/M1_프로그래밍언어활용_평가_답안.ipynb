{
 "cells": [
  {
   "cell_type": "markdown",
   "metadata": {
    "id": "QGzsiXTPSXe2"
   },
   "source": [
    "## 빅데이터 기반 AI 응용 솔루션 개발자 전문과정\n",
    "\n",
    "#### 교과목명 : 프로그래밍 언어 활용\n",
    "\n",
    "- 평가일 : 21.07.02\n",
    "- 성명 :\n",
    "- 점수 :\n",
    "\n",
    "※ 문제당 5점으로 채점"
   ]
  },
  {
   "cell_type": "markdown",
   "metadata": {
    "id": "_g4g20IzSXe4"
   },
   "source": [
    "#### 1. numbers 리스트에서 15, 20, 25를 출력하세요.(for문과 if 조건 사용 필수)  \n",
    "numbers = [5, 15, 6, 20, 7, 25]"
   ]
  },
  {
   "cell_type": "code",
   "execution_count": null,
   "metadata": {
    "id": "GtALVUpxSXe5",
    "outputId": "b2af04f7-0de0-4834-a25f-0365cce2888f"
   },
   "outputs": [
    {
     "name": "stdout",
     "output_type": "stream",
     "text": [
      "15\n",
      "20\n",
      "25\n"
     ]
    }
   ],
   "source": [
    "# A.\n",
    "# 변수를 선언합니다.\n",
    "numbers = [5, 15, 6, 20, 7, 25]\n",
    "\n",
    "# 반복을 돌립니다.\n",
    "for number in numbers:\n",
    "    # number가 10보다 작으면 다음 반복으로 넘어갑니다.\n",
    "    \n",
    "    if number < 15:\n",
    "        continue\n",
    "    # 출력합니다.\n",
    "    print(number)"
   ]
  },
  {
   "cell_type": "markdown",
   "metadata": {
    "id": "b6ZqtswNSXe6"
   },
   "source": [
    "#### 2. 아래 사용자 함수, 변수 리스트 및 2개의 내장함수를 각각 이용해서  [1, 4, 9, 16, 25], [1, 2]를 출력하세요.(내장함수 2개 사용 필수) "
   ]
  },
  {
   "cell_type": "code",
   "execution_count": null,
   "metadata": {
    "id": "nYmrkkoDSXe6"
   },
   "outputs": [],
   "source": [
    "# 함수를 선언합니다.\n",
    "def power(item):\n",
    "    return item * item\n",
    "def under_3(item):\n",
    "    return item < 3\n",
    "\n",
    "# 변수를 선언합니다.\n",
    "list_input_a = [1, 2, 3, 4, 5]"
   ]
  },
  {
   "cell_type": "code",
   "execution_count": null,
   "metadata": {
    "colab": {
     "base_uri": "https://localhost:8080/"
    },
    "executionInfo": {
     "elapsed": 821,
     "status": "ok",
     "timestamp": 1625202260755,
     "user": {
      "displayName": "짱유",
      "photoUrl": "",
      "userId": "01848732291595922306"
     },
     "user_tz": -540
    },
    "id": "lOLCyzftSXe6",
    "outputId": "a45ba8ed-52d1-42f2-90f6-af1f966d6ce2"
   },
   "outputs": [
    {
     "name": "stdout",
     "output_type": "stream",
     "text": [
      "# map() 함수의 실행 결과\n",
      "map(power, list_input_a): <map object at 0x7fcc29670c90>\n",
      "map(power, list_input_a): [1, 4, 9, 16, 25]\n",
      "\n",
      "# filter() 함수의 실행 결과\n",
      "filter(under_3, list_input_a): <filter object at 0x7fcc2966d390>\n",
      "filter(under_3, list_input_a): [1, 2]\n"
     ]
    }
   ],
   "source": [
    "# A.\n",
    "# 함수를 선언합니다.\n",
    "def power(item):\n",
    "    return item * item\n",
    "def under_3(item):\n",
    "    return item < 3\n",
    "\n",
    "# 변수를 선언합니다.\n",
    "list_input_a = [1, 2, 3, 4, 5]\n",
    "\n",
    "# map() 함수를 사용합니다.\n",
    "output_a = map(power, list_input_a)\n",
    "print(\"# map() 함수의 실행 결과\")\n",
    "print(\"map(power, list_input_a):\", output_a)\n",
    "print(\"map(power, list_input_a):\", list(output_a))\n",
    "print()\n",
    "\n",
    "# filter() 함수를 사용합니다.\n",
    "output_b = filter(under_3, list_input_a)\n",
    "\n",
    "print(\"# filter() 함수의 실행 결과\")\n",
    "print(\"filter(under_3, list_input_a):\", output_b)\n",
    "print(\"filter(under_3, list_input_a):\", list(output_b))"
   ]
  },
  {
   "cell_type": "markdown",
   "metadata": {
    "id": "rEO1P0_9SXe7"
   },
   "source": [
    "#### 3. 정수를 입력하면 짝수 홀수 여부를 반환해주는 프로그램을 작성하세요.(정수 입력 후 '짝수', '홀수'가 일치하게 출력) "
   ]
  },
  {
   "cell_type": "code",
   "execution_count": null,
   "metadata": {
    "id": "dRSRSYpRSXe7",
    "outputId": "38e93372-7bd9-4018-f38f-c213afbe86a9"
   },
   "outputs": [
    {
     "name": "stdout",
     "output_type": "stream",
     "text": [
      "정수 입력>8\n",
      "짝수입니다\n"
     ]
    }
   ],
   "source": [
    "# A.\n",
    "try:\n",
    "    number = int(input('정수 입력>'))\n",
    "\n",
    "    if number % 2 == 0:\n",
    "        print('짝수입니다')\n",
    "\n",
    "    else:\n",
    "        print('홀수입니다.')\n",
    "except ValueError:\n",
    "    # ValueError가 발생시\n",
    "    print('정수를 입력해 주세요')\n",
    "    "
   ]
  },
  {
   "cell_type": "markdown",
   "metadata": {
    "id": "2CZ7L_m1SXe7"
   },
   "source": [
    "#### 4. 람다 함수를 이용해서 a의 b제곱에서 a x b를 뺀 수를 구하는 식을 만들고 그 식을 이용해서  a, b가 아래와 같이 주어졌을 때 각각의 값을 구하세요. \n",
    "a = 2, b = 5 \\\n",
    "a= 5, b = 2"
   ]
  },
  {
   "cell_type": "code",
   "execution_count": null,
   "metadata": {
    "id": "sv6TA-3tSXe8",
    "outputId": "3272b232-8cc4-43f3-cee0-8ff593290223"
   },
   "outputs": [
    {
     "name": "stdout",
     "output_type": "stream",
     "text": [
      "22\n",
      "15\n"
     ]
    }
   ],
   "source": [
    "# A.\n",
    "x = lambda a, b : a ** b - a*b\n",
    "print(x(2,5))\n",
    "print(x(5,2))"
   ]
  },
  {
   "cell_type": "markdown",
   "metadata": {
    "id": "BoTx1-avSXe8"
   },
   "source": [
    "#### 5. 123456789를 입력하면 천 단위로 콤마로 구분하여 출력하세요."
   ]
  },
  {
   "cell_type": "code",
   "execution_count": null,
   "metadata": {
    "id": "HXECWtHISXe8",
    "outputId": "48195d42-803b-4910-ab48-15f67d319d14"
   },
   "outputs": [
    {
     "name": "stdout",
     "output_type": "stream",
     "text": [
      "아무 숫자를 입력하세요: 123456789\n",
      "123,456,789\n"
     ]
    }
   ],
   "source": [
    "num = input('아무 숫자를 입력하세요: ')\n",
    "\n",
    "if num.isdigit():\n",
    "   num = num[::-1]\n",
    "   ret = ''\n",
    "   for i, c in enumerate(num):\n",
    "      i += 1\n",
    "      if i != len(num) and i%3 == 0:\n",
    "         ret += (c + ',')\n",
    "      else:\n",
    "         ret += c\n",
    "   ret = ret[::-1]\n",
    "   print(ret)\n",
    "else:\n",
    "   print('입력한 내용 [%s]: 숫자가 아닙니다.' %num)"
   ]
  },
  {
   "cell_type": "markdown",
   "metadata": {
    "id": "Gx9scM3YSXe8"
   },
   "source": [
    "#### 6. example_list = [\"요소A\", \"요소B\", \"요소C\"]를 파이썬 내장함수를 이용하여 아래와 같이 출력하세요. \n",
    "0번째 요소는 요소A입니다.\\\n",
    "1번째 요소는 요소B입니다.\\\n",
    "2번째 요소는 요소C입니다."
   ]
  },
  {
   "cell_type": "code",
   "execution_count": null,
   "metadata": {
    "id": "CAMtE-DSSXe9",
    "outputId": "db054830-f35f-41b5-d88b-727dcc35377c"
   },
   "outputs": [
    {
     "name": "stdout",
     "output_type": "stream",
     "text": [
      "0번째 요소는 요소A입니다.\n",
      "1번째 요소는 요소B입니다.\n",
      "2번째 요소는 요소C입니다.\n"
     ]
    }
   ],
   "source": [
    "# A.\n",
    "# 변수를 선언합니다.\n",
    "example_list = [\"요소A\", \"요소B\", \"요소C\"]\n",
    "\n",
    "for i, value in enumerate(example_list):\n",
    "    print(\"{}번째 요소는 {}입니다.\".format(i, value))"
   ]
  },
  {
   "cell_type": "markdown",
   "metadata": {
    "id": "VOQk2ne2SXe9"
   },
   "source": [
    "#### 7. 97을 40으로 나눈 몫과 나머지를 내장함수를 이용하여 구하세요.(튜플로 출력 필수) "
   ]
  },
  {
   "cell_type": "code",
   "execution_count": null,
   "metadata": {
    "id": "LDjCnt_ySXe9",
    "outputId": "6af237da-095e-4b4d-c65f-f32b1369e48c"
   },
   "outputs": [
    {
     "data": {
      "text/plain": [
       "(2, 17)"
      ]
     },
     "execution_count": 10,
     "metadata": {
      "tags": []
     },
     "output_type": "execute_result"
    }
   ],
   "source": [
    "# A.\n",
    "a, b = 97, 40\n",
    "divmod(a, b)"
   ]
  },
  {
   "cell_type": "markdown",
   "metadata": {
    "id": "zpy7mdKlSXe9"
   },
   "source": [
    "#### 8. list_number = [52, 273, 32, 72, 100]로 변수 선언하고 정수를 입력하면 그 정수 인덱스와 리스트에서 해당하는 값을 출력하는 프로그램을 작성하세요. 단, 모든 예외처리를 수행하며 특히 ValueError와 IndexError는 별도 구분해서 예외처리 한 후 '예외처리 완료'를 마지막으로 출력하세요.\n",
    "\n",
    "- 4 입력시 \\\n",
    "정수 입력> 4 \\\n",
    "4번째 요소: 100\n",
    "예외 처리 완료\n",
    "\n",
    "- 문자 입력시 \\\n",
    "정수 입력> 가 \\\n",
    "정수를 입력해 주세요!\n",
    "예외 처리 완료\n",
    "\n",
    "- 5 입력시 \\\n",
    "정수 입력> 5 \\\n",
    "리스트의 인덱스를 벗어났어요!\n",
    "예외 처리 완료"
   ]
  },
  {
   "cell_type": "code",
   "execution_count": null,
   "metadata": {
    "id": "OmLpF_dySXe-",
    "outputId": "4a208671-e228-4a16-c860-2a061cf70ed9"
   },
   "outputs": [
    {
     "name": "stdout",
     "output_type": "stream",
     "text": [
      "0~4 정수 입력> 가\n",
      "정수를 입력해 주세요!\n",
      "예외 처리 완료\n"
     ]
    }
   ],
   "source": [
    "# A.\n",
    "# 변수를 선언합니다.\n",
    "list_number = [52, 273, 32, 72, 100]\n",
    "\n",
    "# try except 구문으로 예외를 처리합니다.\n",
    "try:\n",
    "    # 숫자를 입력받습니다.\n",
    "    number_input = int(input(\"0~4 정수 입력> \"))\n",
    "    # 리스트의 요소를 출력합니다.\n",
    "    print(\"{}번째 요소: {}\".format(number_input, list_number[number_input]))\n",
    "except ValueError:\n",
    "    # ValueError가 발생하는 경우\n",
    "    print(\"정수를 입력해 주세요!\")\n",
    "except IndexError:\n",
    "    # IndexError가 발생하는 경우\n",
    "    print(\"리스트의 인덱스를 벗어났어요!\")\n",
    "except Exception as e:\n",
    "    print(e)\n",
    "finally:\n",
    "    print('예외 처리 완료')\n"
   ]
  },
  {
   "cell_type": "markdown",
   "metadata": {
    "id": "qiDiY_UqSXe-"
   },
   "source": [
    "#### 9. 사용자로부터 서로 다른 숫자 두 개를 입력받고 첫 번째 와 두 번째중 큰 숫자를 구하는 프로그램을 수행하세요."
   ]
  },
  {
   "cell_type": "code",
   "execution_count": null,
   "metadata": {
    "id": "x5flLLvKSXe-",
    "outputId": "b6c3c2da-6694-40a2-d180-39597f263eee"
   },
   "outputs": [
    {
     "name": "stdout",
     "output_type": "stream",
     "text": [
      "정수 입력>5\n",
      "정수 입력>7\n",
      "7\n"
     ]
    }
   ],
   "source": [
    "# A.\n",
    "n1 = input('정수 입력>')\n",
    "n1= int(n1)\n",
    "n2 = input('정수 입력>')\n",
    "n2= int(n2)\n",
    "if n1 > n2:\n",
    "    print(n1)\n",
    "else:\n",
    "    print(n2)"
   ]
  },
  {
   "cell_type": "markdown",
   "metadata": {
    "id": "r-XOKV3tSXe-"
   },
   "source": [
    "#### 10. 1부터 100까지 아래와 같은 방식으로 2개의 수를 곱해서 가장 큰 수를 구하세요.\n",
    "\n",
    " 1 * 99 ...99 * 1"
   ]
  },
  {
   "cell_type": "code",
   "execution_count": null,
   "metadata": {
    "id": "JpgVwkhTSXe-",
    "outputId": "74ed3ef1-5e14-464b-9a4c-392f897bfc3b"
   },
   "outputs": [
    {
     "name": "stdout",
     "output_type": "stream",
     "text": [
      "2500\n"
     ]
    }
   ],
   "source": [
    "# A.\n",
    "max_value = 0\n",
    "\n",
    "for i in range(1,100):\n",
    "    j = 100 - i\n",
    "    current = i * j\n",
    "    if max_value < current:\n",
    "        max_value = current\n",
    "print(max_value)"
   ]
  },
  {
   "cell_type": "markdown",
   "metadata": {
    "id": "_0fxU7pfSXe_"
   },
   "source": [
    "#### 11. 정규표현식을 사용하여 text에서 지역코드만 출력하세요."
   ]
  },
  {
   "cell_type": "code",
   "execution_count": null,
   "metadata": {
    "id": "wv4SkPgMSXe_",
    "outputId": "5382be0e-1fce-4ba3-b773-2c34edca3610"
   },
   "outputs": [
    {
     "name": "stdout",
     "output_type": "stream",
     "text": [
      "032\n"
     ]
    }
   ],
   "source": [
    "# A.\n",
    "import re\n",
    " \n",
    "text = \"문의사항이 있으면 032-232-3245 으로 연락주시기 바랍니다.\"\n",
    " \n",
    "regex = re.compile(r'(\\d{3})-(\\d{3}-\\d{4})')\n",
    "matchobj = regex.search(text)\n",
    "areaCode = matchobj.group(1)\n",
    "# num = matchobj.group(2)\n",
    "# fullNum = matchobj.group()\n",
    "print(areaCode) # 032 232-3245"
   ]
  },
  {
   "cell_type": "markdown",
   "metadata": {
    "id": "JfpsRAExSXe_"
   },
   "source": [
    "#### 12. 'abcdefghij' 에 대하여 중첩을 적용한 서브그룹 5개로 컴파일하여 group()함수를 이용하여 'abcdefghi'와 e'를 출력하세요"
   ]
  },
  {
   "cell_type": "code",
   "execution_count": null,
   "metadata": {
    "id": "bXFbiEPbSXe_",
    "outputId": "f4ff0730-3eb3-408c-900b-02a36e131bc9"
   },
   "outputs": [
    {
     "name": "stdout",
     "output_type": "stream",
     "text": [
      "abcdefghi\n",
      "e\n"
     ]
    }
   ],
   "source": [
    "# A.\n",
    "p = re.compile('(a(b(c(d(e)f)g)h)i)j')\n",
    "m = p.match('abcdefghij')\n",
    "print(m.group(1))\n",
    "print(m.group(5))"
   ]
  },
  {
   "cell_type": "markdown",
   "metadata": {
    "id": "JK3hksnPSXfA"
   },
   "source": [
    "#### 13. [0, 1, 2, 3, 4, 5, 6, 7, 8, 9, 'a', 'b', 'c']에서 9와 'a'를 삭제 후 리스트로 출력하세요"
   ]
  },
  {
   "cell_type": "code",
   "execution_count": null,
   "metadata": {
    "id": "WCVmniDhSXfA",
    "outputId": "e9657d4e-7b8a-4c51-9d33-9b9765485411"
   },
   "outputs": [
    {
     "data": {
      "text/plain": [
       "[0, 1, 2, 3, 4, 5, 6, 7, 8, 'b', 'c']"
      ]
     },
     "execution_count": 18,
     "metadata": {
      "tags": []
     },
     "output_type": "execute_result"
    }
   ],
   "source": [
    "# A\n",
    "a = [0, 1, 2, 3, 4, 5, 6, 7, 8, 9, 'a', 'b', 'c']\n",
    "a[9:11] = []\n",
    "a"
   ]
  },
  {
   "cell_type": "markdown",
   "metadata": {
    "id": "1nsbmCFjSXfA"
   },
   "source": [
    "#### 14. 500 ~ 1000사이의 정수 중 5와 7의 공배수의 합을 구하세요"
   ]
  },
  {
   "cell_type": "code",
   "execution_count": null,
   "metadata": {
    "id": "mxU2Zbs2SXfA",
    "outputId": "5bdaf4c4-573a-4c9b-faf4-b6ba4799c4d7"
   },
   "outputs": [
    {
     "name": "stdout",
     "output_type": "stream",
     "text": [
      "10535\n"
     ]
    }
   ],
   "source": [
    "# A.\n",
    "sum = 0\n",
    "for i in range(500,1001):\n",
    "    if (i % 5 ==0) & (i % 7 == 0):\n",
    "        sum += i\n",
    "    i += 1\n",
    "print(sum)"
   ]
  },
  {
   "cell_type": "markdown",
   "metadata": {
    "id": "HFVrkoxgSXfA"
   },
   "source": [
    "#### 15. [    ]을 채워서 아래와 같이 출력하세요."
   ]
  },
  {
   "cell_type": "code",
   "execution_count": null,
   "metadata": {
    "id": "uWXrp8oVSXfA"
   },
   "outputs": [],
   "source": [
    "numbers = [1,2,3,4,5,6,7,8,9]\n",
    "output = [[], [], []]\n",
    "\n",
    "for number in numbers:\n",
    "    output[     ].append(number)\n",
    "print(output)"
   ]
  },
  {
   "cell_type": "code",
   "execution_count": null,
   "metadata": {
    "id": "kZ8AGvIjSXfA",
    "outputId": "66d2fcf5-6dbd-41c3-f983-fdb1cb48ddde"
   },
   "outputs": [
    {
     "name": "stdout",
     "output_type": "stream",
     "text": [
      "[[1, 4, 7], [2, 5, 8], [3, 6, 9]]\n"
     ]
    }
   ],
   "source": [
    "# A.\n",
    "numbers = [1,2,3,4,5,6,7,8,9]\n",
    "output = [[], [], []]\n",
    "\n",
    "for number in numbers:\n",
    "    output[(number+2)%3].append(number)\n",
    "print(output)"
   ]
  },
  {
   "cell_type": "markdown",
   "metadata": {
    "id": "F9fdu8LgSXfB"
   },
   "source": [
    "####  16. numbers 내부에 들어 있는 숫자가 몇 번 등장하는지를 출력하는 코드를 작성하세요."
   ]
  },
  {
   "cell_type": "code",
   "execution_count": null,
   "metadata": {
    "id": "zp-VTioxSXfB",
    "outputId": "a2f2b6e3-4cc3-4d82-e787-efb4e08cbe9d"
   },
   "outputs": [
    {
     "name": "stdout",
     "output_type": "stream",
     "text": [
      "{3: 4, 6: 2, 5: 2, 8: 2, 2: 2, 9: 2, 7: 2, 4: 2}\n"
     ]
    }
   ],
   "source": [
    "# A.\n",
    "numbers = [3,6,3,5,8,2,9,7,4,3,6,3,5,8,2,9,7,4]\n",
    "counter = {}\n",
    "for number in numbers:\n",
    "    if number in counter:\n",
    "        counter[number] = counter[number] + 1\n",
    "    else:\n",
    "        counter[number] = 1\n",
    "print(counter)"
   ]
  },
  {
   "cell_type": "markdown",
   "metadata": {
    "id": "m5Bg3ee5SXfB"
   },
   "source": [
    "#### 17. 클래스 Country를 완성하여 아래와 같이 출력하세요."
   ]
  },
  {
   "cell_type": "code",
   "execution_count": null,
   "metadata": {
    "id": "WHDCR6hZSXfB",
    "outputId": "83db785e-12bf-4519-942e-75cd6c46a903"
   },
   "outputs": [
    {
     "name": "stdout",
     "output_type": "stream",
     "text": [
      "한국의 인구는 5천만명이며 수도는 서울입니다.\n",
      "1인당 gnp는 USD 3만입니다.\n"
     ]
    }
   ],
   "source": [
    "class Country:\n",
    "  \n",
    "\n",
    "\n",
    "class Korea(Country):    \n",
    "\n",
    "    def desc1(self,gnp):\n",
    "        self.gnp = gnp\n",
    "        print('1인당 gnp는 USD %d만입니다.' %self.gnp)\n",
    "        \n",
    "obj = Korea('한국',5,'서울')\n",
    "obj.desc()\n",
    "obj.desc1(3)"
   ]
  },
  {
   "cell_type": "code",
   "execution_count": null,
   "metadata": {
    "id": "N3CwvDCASXfB",
    "outputId": "802bd1b4-631d-45a9-874b-5fb5d38f2e29"
   },
   "outputs": [
    {
     "name": "stdout",
     "output_type": "stream",
     "text": [
      "한국의 인구는 5천만명이며 수도는 서울입니다.\n",
      "1인당 gnp는 USD 3만입니다.\n"
     ]
    }
   ],
   "source": [
    "# A.\n",
    "class Country:\n",
    "    def __init__(self, name, pop, capital):\n",
    "\n",
    "        self.name = name \n",
    "        self.pop = pop\n",
    "        self.capital = capital\n",
    "\n",
    "    def desc(self):\n",
    "        \n",
    "        print('%s의 인구는 %d천만명이며 수도는 %s입니다.' \n",
    "              %(self.name,self.pop,self.capital))    \n",
    "\n",
    "\n",
    "class Korea(Country):    \n",
    "\n",
    "    def desc1(self,gnp):\n",
    "        self.gnp = gnp\n",
    "        print('1인당 gnp는 USD %d만입니다.' %self.gnp)\n",
    "        \n",
    "obj = Korea('한국',5,'서울')\n",
    "obj.desc()\n",
    "obj.desc1(3)"
   ]
  },
  {
   "cell_type": "markdown",
   "metadata": {
    "id": "Q4bOMW-XSXfC"
   },
   "source": [
    "#### 18. 사칙연산을 수행하는  클래스를 작성하여 객체를 만들고 2개의 정수 10, 5를 입력한 후 연산 결과를  포멧을 이용하여 출력하세요."
   ]
  },
  {
   "cell_type": "code",
   "execution_count": null,
   "metadata": {
    "id": "skQ1dwoQSXfC"
   },
   "outputs": [],
   "source": [
    "#A.\n",
    "class FourCal:\n",
    "    def __init__(self, first, second):\n",
    "        self.first = first\n",
    "        self.second = second\n",
    "\n",
    "    def sum(self):\n",
    "        result = self.first + self.second\n",
    "        return result\n",
    "    def mul(self):\n",
    "        result = self.first * self.second\n",
    "        return result\n",
    "    def sub(self):\n",
    "        result = self.first - self.second\n",
    "        return result\n",
    "    def div(self):\n",
    "        result = self.first / self.second\n",
    "        return result\n",
    "\n",
    "i1 = int(input('정수입력> '))\n",
    "i2 = int(input('정수입력> '))\n",
    "cal4 = FourCal(i1,i2)\n",
    "\n",
    "print('덧셈: {}, 뺄셈: {}, 곱셈: {}, 나눗셈: {}'\n",
    "      .format(cal4.sum(),cal4.sub(),cal4.mul(),round(cal4.div())))"
   ]
  },
  {
   "cell_type": "markdown",
   "metadata": {
    "id": "xOXxcBhDSXfC"
   },
   "source": [
    "#### 19. 올해 경과된 날짜수를 계산하여 출력하세요."
   ]
  },
  {
   "cell_type": "code",
   "execution_count": null,
   "metadata": {
    "id": "t2RMZ87xSXfC",
    "outputId": "bc0145e6-9cfd-48f3-b927-fcda7ec496be"
   },
   "outputs": [
    {
     "name": "stdout",
     "output_type": "stream",
     "text": [
      "오늘은 2021-01-01 이후 182일째 되는 날입니다.\n"
     ]
    }
   ],
   "source": [
    "# A.\n",
    "import time\n",
    "t = time.localtime()\n",
    "start_day = '%d-01-01' %t.tm_year\n",
    "elapsed_day = t.tm_yday\n",
    "print('오늘은 %s 이후 %d일째 되는 날입니다.' %(start_day,elapsed_day))"
   ]
  },
  {
   "cell_type": "markdown",
   "metadata": {
    "id": "JaUXR1xfSXfD"
   },
   "source": [
    "#### 20. 2015년 인기순 상위5개 여아이름별 출생아수를 출력하세요.('data/names/yob2015.txt')"
   ]
  },
  {
   "cell_type": "code",
   "execution_count": 1,
   "metadata": {
    "id": "-40ijcRtSXfD",
    "outputId": "0cdc0933-3a55-44ba-a6c4-e59d45306341"
   },
   "outputs": [
    {
     "name": "stdout",
     "output_type": "stream",
     "text": [
      "TOP_1 여자아기이름: ('Emma', 20463)\n",
      "TOP_2 여자아기이름: ('Olivia', 19705)\n",
      "TOP_3 여자아기이름: ('Sophia', 17430)\n",
      "TOP_4 여자아기이름: ('Ava', 16383)\n",
      "TOP_5 여자아기이름: ('Isabella', 15633)\n"
     ]
    }
   ],
   "source": [
    "filename = 'data/names/yob2015.txt'\n",
    "nameF = {}\n",
    "nameM = {}\n",
    "\n",
    "with open(filename, 'r') as f:\n",
    "        data = f.readlines()\n",
    "        for d in data:\n",
    "            if d[-1] == '\\n':\n",
    "                d = d[:-1]\n",
    "\n",
    "            tmp = d.split(',')\n",
    "            name = tmp[0]\n",
    "            sex = tmp[1]\n",
    "            birth = tmp[2]\n",
    "\n",
    "            if sex == 'F':\n",
    "                ret = nameF\n",
    "            else:\n",
    "                ret = nameM\n",
    "            \n",
    "            if name in ret:\n",
    "                ret[name] += int(birth)\n",
    "            else:\n",
    "                ret[name] = int(birth)\n",
    "\n",
    "retF = sorted(nameF.items(), key=lambda x:x[1], reverse=True)\n",
    "\n",
    "\n",
    "for i, name in enumerate(retF):\n",
    "    if i > 4:\n",
    "        break            \n",
    "    print('TOP_%d 여자아기이름: %s' %(i+1, name))"
   ]
  }
 ],
 "metadata": {
  "colab": {
   "collapsed_sections": [],
   "name": "프로그래밍언어활용_평가_답안.ipynb",
   "provenance": []
  },
  "kernelspec": {
   "display_name": "Python 3 (ipykernel)",
   "language": "python",
   "name": "python3"
  },
  "language_info": {
   "codemirror_mode": {
    "name": "ipython",
    "version": 3
   },
   "file_extension": ".py",
   "mimetype": "text/x-python",
   "name": "python",
   "nbconvert_exporter": "python",
   "pygments_lexer": "ipython3",
   "version": "3.8.12"
  }
 },
 "nbformat": 4,
 "nbformat_minor": 1
}
