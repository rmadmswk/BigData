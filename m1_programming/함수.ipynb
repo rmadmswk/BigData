{
 "cells": [
  {
   "cell_type": "code",
   "execution_count": null,
   "id": "628c7e1d",
   "metadata": {
    "id": "628c7e1d",
    "outputId": "53bc7973-837e-4b38-e79b-f991ebe5e385"
   },
   "outputs": [
    {
     "name": "stdout",
     "output_type": "stream",
     "text": [
      "HI\n"
     ]
    }
   ],
   "source": [
    "# 입력값이 없고 결과값만 있는 함수\n",
    "def say():\n",
    "    return 'HI'\n",
    "\n",
    "a = say()\n",
    "print(a)"
   ]
  },
  {
   "cell_type": "code",
   "execution_count": null,
   "id": "2265b9fc",
   "metadata": {
    "id": "2265b9fc",
    "outputId": "13f89e22-cbeb-4200-ca49-cce8253ff57f"
   },
   "outputs": [
    {
     "name": "stdout",
     "output_type": "stream",
     "text": [
      "3, 4의 합은 7입니다.\n"
     ]
    }
   ],
   "source": [
    "# 입력값은 있고 결과값이 없는 함수\n",
    "# 결과값은 오직 return 명령어로만 돌려 받을 수 있음\n",
    "def add(a,b):\n",
    "    print('%d, %d의 합은 %d입니다.' %(a,b,a+b))\n",
    "add(3,4)"
   ]
  },
  {
   "cell_type": "code",
   "execution_count": null,
   "id": "d4178154",
   "metadata": {
    "id": "d4178154",
    "outputId": "2f2101a2-4070-450d-9a8d-e2c9017a5715"
   },
   "outputs": [
    {
     "name": "stdout",
     "output_type": "stream",
     "text": [
      "Hi\n"
     ]
    }
   ],
   "source": [
    "# 입력값도 결과값도 없는 함수\n",
    "\n",
    "def say():\n",
    "    print('Hi')\n",
    "    \n",
    "say()"
   ]
  },
  {
   "cell_type": "code",
   "execution_count": null,
   "id": "a64e2f72",
   "metadata": {
    "id": "a64e2f72",
    "outputId": "b0580642-8cd9-486f-8524-1aa65546da17"
   },
   "outputs": [
    {
     "data": {
      "text/plain": [
       "30"
      ]
     },
     "execution_count": 12,
     "metadata": {},
     "output_type": "execute_result"
    }
   ],
   "source": [
    "# 입력값, 결과값이 모두 있는 함수\n",
    "def max(a,b,c):\n",
    "    if a>b:\n",
    "        if a>c:\n",
    "            return a\n",
    "        elif a<c:\n",
    "            return c\n",
    "    if a<b:\n",
    "        if b>c:\n",
    "            return b\n",
    "        else:\n",
    "            return c\n",
    "\n",
    "# print(\"가장 큰 수는 %d입니다.\" %(max(20,1,30)))\n",
    "max(10,20,30)\n"
   ]
  },
  {
   "cell_type": "code",
   "execution_count": null,
   "id": "ae65873e",
   "metadata": {
    "id": "ae65873e",
    "outputId": "1bb3049f-b748-43e0-e90f-596b6029bb71"
   },
   "outputs": [
    {
     "data": {
      "text/plain": [
       "5"
      ]
     },
     "execution_count": 16,
     "metadata": {},
     "output_type": "execute_result"
    }
   ],
   "source": [
    "def math(x, y, z):\n",
    "    if z == '*':\n",
    "        return x*y\n",
    "    elif z== '/':\n",
    "        return x/y\n",
    "    elif z== '+':\n",
    "        return x+y\n",
    "    elif z== '%':\n",
    "        return x%y\n",
    "    elif z== '^':\n",
    "        return x**y\n",
    "    elif z== '-':\n",
    "        return x-y\n",
    "    elif z== '//':\n",
    "        return x//y\n",
    "    else:\n",
    "        return\n",
    "\n",
    "# print(math(int(input(\"숫자1 : \")), int(input(\"숫자2 : \")), input(\"기호 : \")))\n",
    "math(10,2,'//')\n"
   ]
  },
  {
   "cell_type": "code",
   "execution_count": null,
   "id": "a2846810",
   "metadata": {
    "id": "a2846810",
    "outputId": "dfbfd10f-93cf-43af-c742-814e735dba75"
   },
   "outputs": [
    {
     "data": {
      "text/plain": [
       "'3 equal 3'"
      ]
     },
     "execution_count": 18,
     "metadata": {},
     "output_type": "execute_result"
    }
   ],
   "source": [
    "def com(a,b):\n",
    "    if a>b:\n",
    "        return f'{a} bigger than {b}'\n",
    "    elif a<b:\n",
    "        return f'{a} smaller than {b}'\n",
    "    else:\n",
    "        return f'{a} equal {b}'\n",
    "com(3,3)\n"
   ]
  },
  {
   "cell_type": "code",
   "execution_count": null,
   "id": "e77da357",
   "metadata": {
    "id": "e77da357",
    "outputId": "fd808ef6-56cf-41a6-c0e0-0dc0e9279ab5"
   },
   "outputs": [
    {
     "data": {
      "text/plain": [
       "55"
      ]
     },
     "execution_count": 22,
     "metadata": {},
     "output_type": "execute_result"
    }
   ],
   "source": [
    "# 여러 개의 입력값을 받는 함수 만들기\n",
    "# *args 처럼 입력 변수명 앞에 *를 붙이면 입력값들을 전부 모아서 튜플로 만들어 줌\n",
    "\n",
    "def add_many(*args):\n",
    "    add = 0\n",
    "    for i in args:\n",
    "        add += i\n",
    "    return add\n",
    "\n",
    "add_many(1,2,3,4,5,6,7,8,9,10)"
   ]
  },
  {
   "cell_type": "code",
   "execution_count": null,
   "id": "c32e9f7d",
   "metadata": {
    "id": "c32e9f7d",
    "outputId": "9c0b1bf7-155c-42d6-bd54-47569b46df30"
   },
   "outputs": [
    {
     "name": "stdout",
     "output_type": "stream",
     "text": [
      "(7, 12)\n"
     ]
    }
   ],
   "source": [
    "# 함수의 반환 값은 언제나 하나임 - 결과 값으로 튜플 값 하나를 갖게 됨\n",
    "def add_and_mul(a,b):\n",
    "    return a+b, a*b\n",
    "\n",
    "result = add_and_mul(3,4)\n",
    "print(result)"
   ]
  },
  {
   "cell_type": "code",
   "execution_count": null,
   "id": "857888c5",
   "metadata": {
    "id": "857888c5"
   },
   "outputs": [],
   "source": [
    "# add_mul() 함수를 정의하여 1,2,3,4,5를 입력 값으로 적용하여 덧셈,곱셈 연산을 수행하세요.\n",
    "def add_mul(choice, *args):\n",
    "    \n",
    "    \n",
    "add_mul('add', 1,2,3,4,5)"
   ]
  },
  {
   "cell_type": "code",
   "execution_count": null,
   "id": "743d0c9c",
   "metadata": {
    "id": "743d0c9c",
    "outputId": "035c5ca6-306b-4ee8-a431-82363dd92d26"
   },
   "outputs": [
    {
     "data": {
      "text/plain": [
       "15"
      ]
     },
     "execution_count": 29,
     "metadata": {},
     "output_type": "execute_result"
    }
   ],
   "source": [
    "def add_mul(choice, *args):\n",
    "    if choice == '+':\n",
    "        result = 0\n",
    "        for i in args:\n",
    "            result += i\n",
    "        return result\n",
    "    elif choice == '*':\n",
    "        result = 1\n",
    "        for i in args:\n",
    "            result *= i\n",
    "        return result\n",
    "    else :\n",
    "        print('수행할 수 없는 연산입니다.')\n",
    "\n",
    "add_mul('*',1,2,3,4,5)\n",
    "add_mul('+',1,2,3,4,5)"
   ]
  },
  {
   "cell_type": "code",
   "execution_count": null,
   "id": "2febf000",
   "metadata": {
    "id": "2febf000"
   },
   "outputs": [],
   "source": [
    "# [과제] 뻴셈, 나눗셈 멀티 계산 함수를 작성\n",
    "# ('sub', 2,4,6,8,10)\n",
    "# ('div', 2,4,6,8,10)"
   ]
  },
  {
   "cell_type": "code",
   "execution_count": 3,
   "id": "49cbda0d",
   "metadata": {
    "id": "49cbda0d",
    "outputId": "07242b81-71b2-48cd-da2c-e204f28f6512"
   },
   "outputs": [
    {
     "name": "stdout",
     "output_type": "stream",
     "text": [
      "-26\n",
      "0.5\n"
     ]
    }
   ],
   "source": [
    "def sub_div (choice, *args) :\n",
    "    if choice == \"sub\":\n",
    "        result = args[0]\n",
    "        for i in args[1:] : \n",
    "            result -= i\n",
    "        return result\n",
    "    elif choice == 'div':\n",
    "        result = args[0]\n",
    "        for i in args[1:] :\n",
    "            if i == 0:\n",
    "                return print(\"오류\")\n",
    "            result /= i\n",
    "        return result \n",
    "\n",
    "print(sub_div('sub', 2,4,6,8,10))\n",
    "print(sub_div('div', 2,4,6,8,10))\n"
   ]
  },
  {
   "cell_type": "code",
   "execution_count": null,
   "id": "30097b5c",
   "metadata": {
    "id": "30097b5c",
    "outputId": "4bee3303-25c4-46a2-e8b9-2ca60a34e7f4"
   },
   "outputs": [
    {
     "data": {
      "text/plain": [
       "0.0010416666666666667"
      ]
     },
     "execution_count": 2,
     "metadata": {},
     "output_type": "execute_result"
    }
   ],
   "source": [
    "# 수정 요\n",
    "def sub_div(choice,*args):\n",
    "    if choice == 'sub':\n",
    "        result = args[0]\n",
    "        for i in range(1,len(args)):\n",
    "            result -= args[i]\n",
    "        return result\n",
    "            \n",
    "    elif choice == 'div':\n",
    "        if 0 in args:\n",
    "            return 'failed to calculate'\n",
    "        result = args[0]\n",
    "        for i in range(1,len(args)):\n",
    "            result /= args[i]\n",
    "        return result\n",
    "    else:\n",
    "        return 'wrong input'\n",
    "        \n",
    "sub_div('div',2,4,6,8,10)\n"
   ]
  },
  {
   "cell_type": "code",
   "execution_count": null,
   "id": "09e65afa",
   "metadata": {
    "id": "09e65afa",
    "outputId": "1aba6284-20cb-4175-bbb8-00f865b17981"
   },
   "outputs": [
    {
     "name": "stdout",
     "output_type": "stream",
     "text": [
      "None\n",
      "1\n"
     ]
    }
   ],
   "source": [
    "# 함수 안에서 선언된 변수의 효력 범위\n",
    "a = 1\n",
    "def vartest(a):    \n",
    "    a = a + 1\n",
    "    \n",
    "print(vartest(a))\n",
    "print(a)"
   ]
  },
  {
   "cell_type": "code",
   "execution_count": null,
   "id": "42fc130b",
   "metadata": {
    "id": "42fc130b",
    "outputId": "e15d6557-a5a7-48fe-9ecc-d1ea69635118"
   },
   "outputs": [
    {
     "name": "stdout",
     "output_type": "stream",
     "text": [
      "2\n"
     ]
    }
   ],
   "source": [
    "# 함수 안에서 함수 밖의 변수를 변경하는 방법 - return 이용\n",
    "\n",
    "a = 1\n",
    "def vartest(a):\n",
    "    a =  a+1\n",
    "    return a\n",
    "a = vartest(a)\n",
    "print(a)"
   ]
  },
  {
   "cell_type": "code",
   "execution_count": null,
   "id": "4ca65865",
   "metadata": {
    "id": "4ca65865",
    "outputId": "09be6115-7285-450a-b25e-41e17da1d6f5"
   },
   "outputs": [
    {
     "name": "stdout",
     "output_type": "stream",
     "text": [
      "2\n"
     ]
    }
   ],
   "source": [
    "# global 명령을 이용하는 방법\n",
    "a = 1\n",
    "def vartest():\n",
    "    global a\n",
    "    a = a + 1\n",
    "    \n",
    "vartest()\n",
    "print(a)"
   ]
  },
  {
   "cell_type": "code",
   "execution_count": null,
   "id": "6eecb2b5",
   "metadata": {
    "id": "6eecb2b5",
    "outputId": "65904b73-df57-4a33-b3fb-01baf8a301c0"
   },
   "outputs": [
    {
     "data": {
      "text/plain": [
       "'C:\\\\cakd5\\\\workspace\\\\m1_programming'"
      ]
     },
     "execution_count": 8,
     "metadata": {},
     "output_type": "execute_result"
    }
   ],
   "source": [
    "%pwd"
   ]
  },
  {
   "cell_type": "code",
   "execution_count": null,
   "id": "7cc0d478",
   "metadata": {
    "id": "7cc0d478"
   },
   "outputs": [],
   "source": [
    "# 파일 읽고 쓰기\n",
    "f = open('test1.txt','w')\n",
    "f.close()"
   ]
  },
  {
   "cell_type": "code",
   "execution_count": null,
   "id": "c0a16a3c",
   "metadata": {
    "id": "c0a16a3c"
   },
   "outputs": [],
   "source": [
    "f = open('test1.txt','w')\n",
    "for i in range(1,11):\n",
    "    data = '%d번째 줄입니다.\\n' %i\n",
    "    f.write(data)\n",
    "f.close()"
   ]
  },
  {
   "cell_type": "code",
   "execution_count": null,
   "id": "9dd8c8c7",
   "metadata": {
    "id": "9dd8c8c7",
    "outputId": "dca81f10-643b-4887-ff63-37dc3c258ad8"
   },
   "outputs": [
    {
     "name": "stdout",
     "output_type": "stream",
     "text": [
      "1번째 줄입니다.\n",
      "\n"
     ]
    }
   ],
   "source": [
    "f = open('test1.txt','r')\n",
    "line = f.readline()\n",
    "print(line)\n",
    "f.close()"
   ]
  },
  {
   "cell_type": "code",
   "execution_count": null,
   "id": "fedd8ae7",
   "metadata": {
    "id": "fedd8ae7",
    "outputId": "77b28439-8d0d-4728-ec8c-8d92a4fbb40e"
   },
   "outputs": [
    {
     "name": "stdout",
     "output_type": "stream",
     "text": [
      "1번째 줄입니다.\n",
      "\n",
      "2번째 줄입니다.\n",
      "\n",
      "3번째 줄입니다.\n",
      "\n",
      "4번째 줄입니다.\n",
      "\n",
      "5번째 줄입니다.\n",
      "\n",
      "6번째 줄입니다.\n",
      "\n",
      "7번째 줄입니다.\n",
      "\n",
      "8번째 줄입니다.\n",
      "\n",
      "9번째 줄입니다.\n",
      "\n",
      "10번째 줄입니다.\n",
      "\n"
     ]
    }
   ],
   "source": [
    "f = open('test1.txt', 'r')\n",
    "for i in range(10):\n",
    "    line = f.readline()\n",
    "    print(line)\n",
    "f.close()"
   ]
  },
  {
   "cell_type": "code",
   "execution_count": null,
   "id": "d8c7be22",
   "metadata": {
    "id": "d8c7be22",
    "outputId": "6e32ad1b-b156-4bfc-d5fd-7440d3df0ba0"
   },
   "outputs": [
    {
     "name": "stdout",
     "output_type": "stream",
     "text": [
      "1번째 줄입니다.\n",
      "\n",
      "2번째 줄입니다.\n",
      "\n",
      "3번째 줄입니다.\n",
      "\n",
      "4번째 줄입니다.\n",
      "\n",
      "5번째 줄입니다.\n",
      "\n",
      "6번째 줄입니다.\n",
      "\n",
      "7번째 줄입니다.\n",
      "\n",
      "8번째 줄입니다.\n",
      "\n",
      "9번째 줄입니다.\n",
      "\n",
      "10번째 줄입니다.\n",
      "\n"
     ]
    }
   ],
   "source": [
    "f = open('test1.txt','r')\n",
    "while True:\n",
    "    line = f.readline()\n",
    "    if not line: break\n",
    "    print(line)\n",
    "f.close()"
   ]
  },
  {
   "cell_type": "code",
   "execution_count": null,
   "id": "052f8f3c",
   "metadata": {
    "id": "052f8f3c",
    "outputId": "2051a589-e6d3-4d54-9a18-23d5fe277e6c"
   },
   "outputs": [
    {
     "name": "stdout",
     "output_type": "stream",
     "text": [
      "1번째 줄입니다.\n",
      "2번째 줄입니다.\n",
      "3번째 줄입니다.\n",
      "4번째 줄입니다.\n",
      "5번째 줄입니다.\n",
      "6번째 줄입니다.\n",
      "7번째 줄입니다.\n",
      "8번째 줄입니다.\n",
      "9번째 줄입니다.\n",
      "10번째 줄입니다.\n",
      "\n"
     ]
    }
   ],
   "source": [
    "# f.read()는 파일 내용 전체를 문자열로 반환\n",
    "f = open('test.txt','r')\n",
    "data = f.read()\n",
    "print(data)\n",
    "f.close()"
   ]
  },
  {
   "cell_type": "code",
   "execution_count": null,
   "id": "40a04a77",
   "metadata": {
    "id": "40a04a77"
   },
   "outputs": [],
   "source": [
    "f = open('test1.txt', 'a')\n",
    "for i in range(11,16):\n",
    "    data = '%d번째 줄입니다.\\n' %i\n",
    "    f.write(data)\n",
    "f.close()"
   ]
  },
  {
   "cell_type": "code",
   "execution_count": null,
   "id": "07047a52",
   "metadata": {
    "id": "07047a52",
    "outputId": "8e3cfbd5-d818-4a42-a25d-17e95a910957"
   },
   "outputs": [
    {
     "name": "stdout",
     "output_type": "stream",
     "text": [
      "1번째 줄입니다.\n",
      "2번째 줄입니다.\n",
      "3번째 줄입니다.\n",
      "4번째 줄입니다.\n",
      "5번째 줄입니다.\n",
      "6번째 줄입니다.\n",
      "7번째 줄입니다.\n",
      "8번째 줄입니다.\n",
      "9번째 줄입니다.\n",
      "10번째 줄입니다.\n",
      "11번째 줄입니다.\n",
      "12번째 줄입니다.\n",
      "13번째 줄입니다.\n",
      "14번째 줄입니다.\n",
      "15번째 줄입니다.\n",
      "\n"
     ]
    }
   ],
   "source": [
    "f = open('test1.txt','r')\n",
    "data = f.read()\n",
    "print(data)\n",
    "f.close()"
   ]
  },
  {
   "cell_type": "code",
   "execution_count": null,
   "id": "a9c0ec63",
   "metadata": {
    "id": "a9c0ec63"
   },
   "outputs": [],
   "source": [
    "# with문과 같이 사용\n",
    "with open('foo.txt','w') as f:\n",
    "    f.write('파이썬을 배웁시다.')"
   ]
  },
  {
   "cell_type": "code",
   "execution_count": null,
   "id": "70538f5d",
   "metadata": {
    "id": "70538f5d",
    "outputId": "a5d8bbba-2d72-4c2b-8552-f9e0882d9c4b"
   },
   "outputs": [
    {
     "name": "stdout",
     "output_type": "stream",
     "text": [
      "파이썬을 배웁시다.\n"
     ]
    }
   ],
   "source": [
    "with open('foo.txt','r') as f:\n",
    "    data = f.read()\n",
    "    print(data)"
   ]
  },
  {
   "cell_type": "code",
   "execution_count": null,
   "id": "ce405056",
   "metadata": {
    "id": "ce405056"
   },
   "outputs": [],
   "source": [
    "with open('test1.txt','w') as f:\n",
    "      for i in range(1,11):\n",
    "          data = f'{i}번째 줄입니다.\\n'\n",
    "          f.write(data)          "
   ]
  },
  {
   "cell_type": "code",
   "execution_count": null,
   "id": "e665f440",
   "metadata": {
    "id": "e665f440"
   },
   "outputs": [],
   "source": [
    "with open('test1.txt','a') as f:\n",
    "      for i in range(11,16):\n",
    "          data = f'{i}번째 줄입니다.\\n'\n",
    "          f.write(data) "
   ]
  },
  {
   "cell_type": "code",
   "execution_count": null,
   "id": "533fc595",
   "metadata": {
    "id": "533fc595",
    "outputId": "91fbcfd9-319a-47af-b1ab-e80a5fa79da6"
   },
   "outputs": [
    {
     "name": "stdout",
     "output_type": "stream",
     "text": [
      "1번째 줄입니다.\n",
      "2번째 줄입니다.\n",
      "3번째 줄입니다.\n",
      "4번째 줄입니다.\n",
      "5번째 줄입니다.\n",
      "6번째 줄입니다.\n",
      "7번째 줄입니다.\n",
      "8번째 줄입니다.\n",
      "9번째 줄입니다.\n",
      "10번째 줄입니다.\n",
      "11번째 줄입니다.\n",
      "12번째 줄입니다.\n",
      "13번째 줄입니다.\n",
      "14번째 줄입니다.\n",
      "15번째 줄입니다.\n",
      "\n"
     ]
    }
   ],
   "source": [
    "with open('test1.txt','r') as f:\n",
    "    data = f.read()\n",
    "    print(data)"
   ]
  },
  {
   "cell_type": "markdown",
   "id": "tM-yKJ96m0Gq",
   "metadata": {
    "id": "tM-yKJ96m0Gq"
   },
   "source": [
    "내장함수, 외장함수\n",
    "\n",
    "https://codedrive.tistory.com/91"
   ]
  },
  {
   "cell_type": "code",
   "execution_count": null,
   "id": "ef6f8b16",
   "metadata": {
    "id": "ef6f8b16",
    "outputId": "d0fb5645-56d9-415e-d3b4-ad580dc4a1bb"
   },
   "outputs": [
    {
     "name": "stdout",
     "output_type": "stream",
     "text": [
      "3\n",
      "False\n",
      "True\n",
      "A\n"
     ]
    }
   ],
   "source": [
    "# 내장함수\n",
    "print(abs(-3))\n",
    "print(all([1,2,3,0])) # x가 모두 참이면 True, 거짓이 하나라도 있으면 False\n",
    "print(any([1,2,3,0])) # x가 하나라도 참이면 True, 모두 거짓이면 False\n",
    "print(chr(65))"
   ]
  },
  {
   "cell_type": "code",
   "execution_count": null,
   "id": "41726e4b",
   "metadata": {
    "id": "41726e4b",
    "outputId": "00f2d743-21cd-4a87-d858-f4db817e6612"
   },
   "outputs": [
    {
     "data": {
      "text/plain": [
       "7"
      ]
     },
     "execution_count": 35,
     "metadata": {},
     "output_type": "execute_result"
    }
   ],
   "source": [
    "sum = lambda a,b:a+b\n",
    "sum(3,4)"
   ]
  },
  {
   "cell_type": "code",
   "execution_count": null,
   "id": "12ccea92",
   "metadata": {
    "id": "12ccea92",
    "outputId": "3c49ba7b-8c54-448a-ca07-79b580c63fa3"
   },
   "outputs": [
    {
     "name": "stdout",
     "output_type": "stream",
     "text": [
      "7\n",
      "12\n"
     ]
    }
   ],
   "source": [
    "myList = [lambda a,b:a+b, lambda a,b:a*b]\n",
    "print(myList[0](3,4))\n",
    "print(myList[1](3,4))"
   ]
  },
  {
   "cell_type": "code",
   "execution_count": null,
   "id": "7d159390",
   "metadata": {
    "id": "7d159390",
    "outputId": "de360b79-26eb-4dcd-c2ba-ef2797eac39a"
   },
   "outputs": [
    {
     "name": "stdout",
     "output_type": "stream",
     "text": [
      "6\n",
      "3\n",
      "3\n"
     ]
    }
   ],
   "source": [
    "print(len('python'))\n",
    "print(len([1,2,3]))\n",
    "print(len([1,2,'a']))"
   ]
  },
  {
   "cell_type": "code",
   "execution_count": null,
   "id": "0acd79c4",
   "metadata": {
    "id": "0acd79c4",
    "outputId": "baad6199-e35f-40ef-d5ed-2dfdef9219c4"
   },
   "outputs": [
    {
     "data": {
      "text/plain": [
       "[0, -1, -2, -3, -4, -5, -6, -7, -8, -9]"
      ]
     },
     "execution_count": 43,
     "metadata": {},
     "output_type": "execute_result"
    }
   ],
   "source": [
    "list(range(5))\n",
    "list(range(1,6))\n",
    "list(range(1,10, 2))\n",
    "list(range(0, -10, -1))"
   ]
  },
  {
   "cell_type": "code",
   "execution_count": null,
   "id": "0641e566",
   "metadata": {
    "id": "0641e566",
    "outputId": "593cb6ab-fc95-460a-9d64-ce60575e814b"
   },
   "outputs": [
    {
     "name": "stdout",
     "output_type": "stream",
     "text": [
      "(2, 1)\n"
     ]
    }
   ],
   "source": [
    "print(divmod(7,3))"
   ]
  },
  {
   "cell_type": "code",
   "execution_count": null,
   "id": "ad2ccdaa",
   "metadata": {
    "id": "ad2ccdaa",
    "outputId": "64a54a6a-a965-4f0e-9fc4-7997d57a0769"
   },
   "outputs": [
    {
     "name": "stdout",
     "output_type": "stream",
     "text": [
      "0 james\n",
      "1 tom\n",
      "2 susan\n"
     ]
    }
   ],
   "source": [
    "# 순서가 있는 자료형을 입력으로 받아 인덱스 값을 포함한 enumerate 객체를 리턴\n",
    "for i, name in enumerate(['james','tom','susan']):\n",
    "    print(i,name)"
   ]
  },
  {
   "cell_type": "code",
   "execution_count": null,
   "id": "95352319",
   "metadata": {
    "id": "95352319",
    "outputId": "5e44945d-023a-4bf8-8387-ce22483675db"
   },
   "outputs": [
    {
     "name": "stdout",
     "output_type": "stream",
     "text": [
      "3\n"
     ]
    }
   ],
   "source": [
    "# 실행 가능한 문자열 입력으로 받아 문자열을 실행한 결과값을 리턴\n",
    "print(eval('1+2'))"
   ]
  },
  {
   "cell_type": "code",
   "execution_count": null,
   "id": "17572dab",
   "metadata": {
    "id": "17572dab",
    "outputId": "ab949c3e-99e2-4bcd-a89a-8c71ef89d58b"
   },
   "outputs": [
    {
     "data": {
      "text/plain": [
       "[5, 4, 3, 2, 1, 0]"
      ]
     },
     "execution_count": 49,
     "metadata": {},
     "output_type": "execute_result"
    }
   ],
   "source": [
    "li = [0,1,2,3,5,4]\n",
    "li.sort(reverse=True)\n",
    "li"
   ]
  },
  {
   "cell_type": "code",
   "execution_count": null,
   "id": "1fb43bba",
   "metadata": {
    "id": "1fb43bba",
    "outputId": "acdadc5b-83a9-4522-f572-02bdae17ea7b"
   },
   "outputs": [
    {
     "name": "stdout",
     "output_type": "stream",
     "text": [
      "[0, 1, 2, 4, 5]\n"
     ]
    },
    {
     "data": {
      "text/plain": [
       "[0, 2, 1, 5, 4]"
      ]
     },
     "execution_count": 51,
     "metadata": {},
     "output_type": "execute_result"
    }
   ],
   "source": [
    "# 정렬된 결과를 반환하는 함수는 본체는 변형되지 않는다.\n",
    "li = [0,2,1,5,4]\n",
    "s = sorted(li)\n",
    "print(s)\n",
    "li"
   ]
  },
  {
   "cell_type": "code",
   "execution_count": null,
   "id": "5c52a14d",
   "metadata": {
    "id": "5c52a14d"
   },
   "outputs": [],
   "source": [
    "# 외장함수 : 전 세계 파이썬 사용자들이 만든 유용한 프로그램을 모아 놓은 파이썬 라이브러리. 파이썬을 설치할 때 자동으로 설치\n",
    "# pickle은 객체의 형태를 유지하면서 파일에 저장하고 불러올 수 있게 하는 모듈\n",
    "\n",
    "import pickle\n",
    "f = open('test.txt', 'wb')\n",
    "data = {1:'python',2:'you need'}\n",
    "pickle.dump(data,f)\n",
    "f.close()"
   ]
  },
  {
   "cell_type": "code",
   "execution_count": null,
   "id": "ac04caa8",
   "metadata": {
    "id": "ac04caa8",
    "outputId": "1ca178fa-a81c-41cd-d621-59bafcfc91a3"
   },
   "outputs": [
    {
     "name": "stdout",
     "output_type": "stream",
     "text": [
      "{1: 'python', 2: 'you need'}\n"
     ]
    }
   ],
   "source": [
    "import pickle\n",
    "f = open('test.txt','rb')\n",
    "data = pickle.load(f)\n",
    "print(data)\n",
    "f.close()"
   ]
  },
  {
   "cell_type": "code",
   "execution_count": null,
   "id": "6f87e727",
   "metadata": {
    "id": "6f87e727",
    "outputId": "9f8fa38d-3378-4d79-c9c2-eccde0f55b5b"
   },
   "outputs": [
    {
     "data": {
      "text/plain": [
       "'C:\\\\Users\\\\admin\\\\anaconda3\\\\envs\\\\cakd5;C:\\\\Users\\\\admin\\\\anaconda3\\\\envs\\\\cakd5\\\\Library\\\\mingw-w64\\\\bin;C:\\\\Users\\\\admin\\\\anaconda3\\\\envs\\\\cakd5\\\\Library\\\\usr\\\\bin;C:\\\\Users\\\\admin\\\\anaconda3\\\\envs\\\\cakd5\\\\Library\\\\bin;C:\\\\Users\\\\admin\\\\anaconda3\\\\envs\\\\cakd5\\\\Scripts;C:\\\\WINDOWS\\\\system32;C:\\\\WINDOWS;C:\\\\WINDOWS\\\\System32\\\\Wbem;C:\\\\WINDOWS\\\\System32\\\\WindowsPowerShell\\\\v1.0\\\\;C:\\\\WINDOWS\\\\System32\\\\OpenSSH\\\\;C:\\\\Users\\\\admin\\\\anaconda3;C:\\\\Users\\\\admin\\\\anaconda3\\\\Library\\\\mingw-w64\\\\bin;C:\\\\Users\\\\admin\\\\anaconda3\\\\Library\\\\bin;C:\\\\Users\\\\admin\\\\anaconda3\\\\Scripts;C:\\\\Users\\\\admin\\\\AppData\\\\Local\\\\Microsoft\\\\WindowsApps;'"
      ]
     },
     "execution_count": 54,
     "metadata": {},
     "output_type": "execute_result"
    }
   ],
   "source": [
    "import os\n",
    "os.environ['PATH']"
   ]
  },
  {
   "cell_type": "code",
   "execution_count": null,
   "id": "12fed91a",
   "metadata": {
    "id": "12fed91a",
    "outputId": "2bd2e97d-f799-4308-d67f-7f9ba37589c9"
   },
   "outputs": [
    {
     "data": {
      "text/plain": [
       "'C:\\\\cakd5\\\\workspace\\\\m1_programming'"
      ]
     },
     "execution_count": 55,
     "metadata": {},
     "output_type": "execute_result"
    }
   ],
   "source": [
    "%pwd"
   ]
  },
  {
   "cell_type": "code",
   "execution_count": null,
   "id": "0178dcac",
   "metadata": {
    "id": "0178dcac"
   },
   "outputs": [],
   "source": [
    "# 폴더변경\n",
    "os.chdir('C:\\cakd5\\workspace')"
   ]
  },
  {
   "cell_type": "code",
   "execution_count": null,
   "id": "64f2b0de",
   "metadata": {
    "id": "64f2b0de"
   },
   "outputs": [],
   "source": [
    "os.chdir('C:\\cakd5\\workspace\\m1_programming')"
   ]
  },
  {
   "cell_type": "code",
   "execution_count": null,
   "id": "0cb997f0",
   "metadata": {
    "id": "0cb997f0",
    "outputId": "7f8a2cb8-276b-4996-bb7f-957ba5656326"
   },
   "outputs": [
    {
     "data": {
      "text/plain": [
       "'C:\\\\cakd5\\\\workspace\\\\m1_programming'"
      ]
     },
     "execution_count": 59,
     "metadata": {},
     "output_type": "execute_result"
    }
   ],
   "source": [
    "%pwd"
   ]
  },
  {
   "cell_type": "code",
   "execution_count": null,
   "id": "9bc31b5d",
   "metadata": {
    "id": "9bc31b5d",
    "outputId": "82847fd7-00d2-46b9-f1e2-d6d005ff260c"
   },
   "outputs": [
    {
     "data": {
      "text/plain": [
       "'C:\\\\cakd5\\\\workspace\\\\m1_programming'"
      ]
     },
     "execution_count": 60,
     "metadata": {},
     "output_type": "execute_result"
    }
   ],
   "source": [
    "os.getcwd()"
   ]
  },
  {
   "cell_type": "code",
   "execution_count": null,
   "id": "3c1f0757",
   "metadata": {
    "id": "3c1f0757",
    "outputId": "ff1944f4-63bd-49ac-abab-39c18a80d790"
   },
   "outputs": [
    {
     "name": "stdout",
     "output_type": "stream",
     "text": [
      " C 드라이브의 볼륨에는 이름이 없습니다.\n",
      " 볼륨 일련 번호: B0F9-D068\n",
      "\n",
      " C:\\cakd5\\workspace\\m1_programming 디렉터리\n",
      "\n",
      "2021-12-31  오후 12:25    <DIR>          .\n",
      "2021-12-31  오후 12:25    <DIR>          ..\n",
      "2021-12-30  오후 02:48    <DIR>          .ipynb_checkpoints\n",
      "2021-12-31  오전 11:29                18 foo.txt\n",
      "2021-12-29  오전 09:10             3,886 Jupyter notebook 사용법.ipynb\n",
      "2021-12-31  오후 12:15                40 test.txt\n",
      "2021-12-31  오전 11:35               261 test_new.txt\n",
      "2021-12-31  오전 10:31           106,156 기초.ipynb\n",
      "2021-12-28  오후 04:18            94,995 매직명령어.jpg\n",
      "2021-12-31  오후 12:24            27,409 함수.ipynb\n",
      "               7개 파일             232,765 바이트\n",
      "               3개 디렉터리  923,144,957,952 바이트 남음\n"
     ]
    }
   ],
   "source": [
    "!dir"
   ]
  },
  {
   "cell_type": "code",
   "execution_count": null,
   "id": "af4775e7",
   "metadata": {
    "id": "af4775e7"
   },
   "outputs": [],
   "source": [
    "import os\n",
    "os.rename('test1.txt','test_new.txt')"
   ]
  },
  {
   "cell_type": "code",
   "execution_count": null,
   "id": "8cc2c8df",
   "metadata": {
    "id": "8cc2c8df",
    "outputId": "d5ef9fcd-0dc1-48b8-f265-df6add7f464a"
   },
   "outputs": [
    {
     "data": {
      "text/plain": [
       "['C:\\\\cakd5\\\\workspace\\\\m1_programming\\\\foo.txt',\n",
       " 'C:\\\\cakd5\\\\workspace\\\\m1_programming\\\\test.txt',\n",
       " 'C:\\\\cakd5\\\\workspace\\\\m1_programming\\\\test_new.txt']"
      ]
     },
     "execution_count": 6,
     "metadata": {},
     "output_type": "execute_result"
    }
   ],
   "source": [
    "# glob() 함수는 인자로 받은 패턴과 이름이 일치하는 모든 파일과 디렉토리의 리스트를 반환\n",
    "import glob\n",
    "glob.glob('C:\\cakd5\\workspace\\m1_programming/*.txt')"
   ]
  },
  {
   "cell_type": "code",
   "execution_count": 6,
   "id": "b639c483",
   "metadata": {
    "colab": {
     "base_uri": "https://localhost:8080/"
    },
    "executionInfo": {
     "elapsed": 284,
     "status": "ok",
     "timestamp": 1641092122274,
     "user": {
      "displayName": "kevin park",
      "photoUrl": "https://lh3.googleusercontent.com/a/default-user=s64",
      "userId": "02703084888761299921"
     },
     "user_tz": -540
    },
    "id": "b639c483",
    "outputId": "8e47f5b0-c711-4d5e-b5ee-373c5ccc84e0"
   },
   "outputs": [
    {
     "data": {
      "text/plain": [
       "1641092121.969425"
      ]
     },
     "execution_count": 6,
     "metadata": {},
     "output_type": "execute_result"
    }
   ],
   "source": [
    "import time\n",
    "time.time()"
   ]
  },
  {
   "cell_type": "code",
   "execution_count": null,
   "id": "46dc6516",
   "metadata": {
    "id": "46dc6516",
    "outputId": "c217c0a2-07ed-40a3-882c-e7ec87a4b217"
   },
   "outputs": [
    {
     "data": {
      "text/plain": [
       "time.struct_time(tm_year=2021, tm_mon=12, tm_mday=31, tm_hour=12, tm_min=32, tm_sec=2, tm_wday=4, tm_yday=365, tm_isdst=0)"
      ]
     },
     "execution_count": 8,
     "metadata": {},
     "output_type": "execute_result"
    }
   ],
   "source": [
    "# 반환된 실수값을 이용해서 연도, 월, 일, 시, 분, 초의 형태로 바꾸어 줌\n",
    "time.localtime(time.time())"
   ]
  },
  {
   "cell_type": "code",
   "execution_count": null,
   "id": "e0a21fd4",
   "metadata": {
    "id": "e0a21fd4",
    "outputId": "83916cdc-1e4b-4943-bc30-d411077b5930"
   },
   "outputs": [
    {
     "data": {
      "text/plain": [
       "'Fri Dec 31 12:32:39 2021'"
      ]
     },
     "execution_count": 9,
     "metadata": {},
     "output_type": "execute_result"
    }
   ],
   "source": [
    "# 날짜와 시간을 알아보기 쉬운 형태로 리턴# 날짜와 시간을 알아보기 쉬운 형태로 리턴\n",
    "time.asctime(time.localtime(time.time()))"
   ]
  },
  {
   "cell_type": "code",
   "execution_count": 7,
   "id": "ohVfsaY1tnEd",
   "metadata": {
    "colab": {
     "base_uri": "https://localhost:8080/",
     "height": 36
    },
    "executionInfo": {
     "elapsed": 283,
     "status": "ok",
     "timestamp": 1641092134071,
     "user": {
      "displayName": "kevin park",
      "photoUrl": "https://lh3.googleusercontent.com/a/default-user=s64",
      "userId": "02703084888761299921"
     },
     "user_tz": -540
    },
    "id": "ohVfsaY1tnEd",
    "outputId": "eafa85d5-9ae3-47b0-8301-110b95c66aa0"
   },
   "outputs": [
    {
     "data": {
      "application/vnd.google.colaboratory.intrinsic+json": {
       "type": "string"
      },
      "text/plain": [
       "'Sun Jan  2 02:55:33 2022'"
      ]
     },
     "execution_count": 7,
     "metadata": {},
     "output_type": "execute_result"
    }
   ],
   "source": [
    "# asctime과 다른 점은 ctime은 항상 현재 시간만을 리턴\n",
    "time.ctime()"
   ]
  },
  {
   "cell_type": "code",
   "execution_count": null,
   "id": "7add2ac4",
   "metadata": {
    "id": "7add2ac4",
    "outputId": "32918594-8b10-417b-d205-a75d34aade73"
   },
   "outputs": [
    {
     "name": "stdout",
     "output_type": "stream",
     "text": [
      "0\n",
      "1\n",
      "2\n",
      "3\n",
      "4\n"
     ]
    }
   ],
   "source": [
    "# time.sleep() : 일정한 시간 간격을 두고 루프를 실행할 수 있음\n",
    "\n",
    "import time\n",
    "for i in range(5):\n",
    "    print(i)\n",
    "    time.sleep(2)"
   ]
  },
  {
   "cell_type": "code",
   "execution_count": null,
   "id": "eeddb8ed",
   "metadata": {
    "id": "eeddb8ed",
    "outputId": "8a7ebf91-6f09-43ce-bdfa-7b234c2d542b"
   },
   "outputs": [
    {
     "name": "stdout",
     "output_type": "stream",
     "text": [
      "   December 2021\n",
      "Mo Tu We Th Fr Sa Su\n",
      "       1  2  3  4  5\n",
      " 6  7  8  9 10 11 12\n",
      "13 14 15 16 17 18 19\n",
      "20 21 22 23 24 25 26\n",
      "27 28 29 30 31\n",
      "None\n"
     ]
    }
   ],
   "source": [
    "import calendar\n",
    "print(calendar.prmonth(2021,12))"
   ]
  },
  {
   "cell_type": "code",
   "execution_count": null,
   "id": "8a8ce8c1",
   "metadata": {
    "id": "8a8ce8c1",
    "outputId": "961c549d-6b51-4037-edfb-3e0155e9acbd"
   },
   "outputs": [
    {
     "name": "stdout",
     "output_type": "stream",
     "text": [
      "4\n"
     ]
    }
   ],
   "source": [
    "# 요일(0 월요일 ~ 6 일요일)\n",
    "print(calendar.weekday(2021,12,31))"
   ]
  },
  {
   "cell_type": "code",
   "execution_count": null,
   "id": "a455aba2",
   "metadata": {
    "id": "a455aba2",
    "outputId": "3fb72fa5-0894-4b35-c43a-f3676d1777b4"
   },
   "outputs": [
    {
     "data": {
      "text/plain": [
       "(5, 31)"
      ]
     },
     "execution_count": 15,
     "metadata": {},
     "output_type": "execute_result"
    }
   ],
   "source": [
    "# 1일의 요일, 날수\n",
    "calendar.monthrange(2022,1)"
   ]
  },
  {
   "cell_type": "code",
   "execution_count": null,
   "id": "5954e0ec",
   "metadata": {
    "id": "5954e0ec",
    "outputId": "4433c6ec-55f7-464c-e984-5a61c0fe1a52"
   },
   "outputs": [
    {
     "data": {
      "text/plain": [
       "True"
      ]
     },
     "execution_count": 16,
     "metadata": {},
     "output_type": "execute_result"
    }
   ],
   "source": [
    "import webbrowser\n",
    "webbrowser.open('http://google.com')"
   ]
  },
  {
   "cell_type": "code",
   "execution_count": null,
   "id": "ce705d48",
   "metadata": {
    "id": "ce705d48",
    "outputId": "b82c52a9-e257-401b-98df-234932974ade"
   },
   "outputs": [
    {
     "name": "stdout",
     "output_type": "stream",
     "text": [
      "[0, 1, 3, 4, 5, 6]\n"
     ]
    }
   ],
   "source": [
    "# 내장함수를 이용해서 list = [0,1,2,3,4,5,6]에서 2를 삭제 후 출력하세요.\n",
    "a=[0,1,2,3,4,5,6]\n",
    "del a[2]\n",
    "print(a)\n"
   ]
  },
  {
   "cell_type": "code",
   "execution_count": null,
   "id": "31000fd0",
   "metadata": {
    "id": "31000fd0",
    "outputId": "2550c2bd-7535-4872-dfb5-d8b40bd47644"
   },
   "outputs": [
    {
     "name": "stdout",
     "output_type": "stream",
     "text": [
      "[0, 1, 2, 3, 4, 5, 6]\n",
      "[0, 1, 3, 4, 5, 6]\n"
     ]
    }
   ],
   "source": [
    "lt = [0, 1, 2, 3, 4, 5, 6]\n",
    "print(lt)\n",
    "lt.pop(2)\n",
    "print(lt)"
   ]
  },
  {
   "cell_type": "code",
   "execution_count": null,
   "id": "7fa87d49",
   "metadata": {
    "id": "7fa87d49",
    "outputId": "20db3cb1-5385-4f01-f923-de4016aed840"
   },
   "outputs": [
    {
     "data": {
      "text/plain": [
       "[0, 1, 3, 4, 5, 6]"
      ]
     },
     "execution_count": 19,
     "metadata": {},
     "output_type": "execute_result"
    }
   ],
   "source": [
    "lt = [0, 1, 2, 3, 4, 5, 6]\n",
    "lt.remove(2)\n",
    "lt"
   ]
  },
  {
   "cell_type": "code",
   "execution_count": null,
   "id": "14c3ce54",
   "metadata": {
    "id": "14c3ce54",
    "outputId": "06de43fa-55cf-4143-cafe-9c60411ca5e0"
   },
   "outputs": [
    {
     "name": "stdout",
     "output_type": "stream",
     "text": [
      "[]\n"
     ]
    }
   ],
   "source": [
    "# 내장함수를 이용해서 list = [0,1,2,3,4,5,6]에서 모든 원소를 삭제 후 출력하세요.\n",
    "List=[0,1,2,3,4,5,6]\n",
    "del List[:]\n",
    "print(List)\n"
   ]
  },
  {
   "cell_type": "code",
   "execution_count": null,
   "id": "db908464",
   "metadata": {
    "id": "db908464"
   },
   "outputs": [],
   "source": [
    "# 람다함수와 적합한 내장함수를 사용하여 아래와 같이 출력하세요\n",
    "[1,2,3,4,5] -> [1,4,9,16,25]\n",
    "[1,2,3,4,5] -> [1,2]"
   ]
  },
  {
   "cell_type": "code",
   "execution_count": null,
   "id": "baad7a5d",
   "metadata": {
    "id": "baad7a5d",
    "outputId": "7dce5e6c-ef68-40d0-ef3e-aaf899897c5c"
   },
   "outputs": [
    {
     "name": "stdout",
     "output_type": "stream",
     "text": [
      "[1, 4, 9, 16, 25]\n",
      "[1, 2]\n"
     ]
    }
   ],
   "source": [
    "square = lambda a: a*a \n",
    "lst = [square(i) for i in range(1,6)]\n",
    "print(lst)\n",
    "\n",
    "lst_2 = [1,2,3,4,5]\n",
    "filtered_list = filter(lambda a: (a < 3), lst_2)\n",
    "\n",
    "print(list(filtered_list))\n"
   ]
  },
  {
   "cell_type": "code",
   "execution_count": null,
   "id": "a1656998",
   "metadata": {
    "id": "a1656998",
    "outputId": "b77d4e06-e2e8-4ae6-95d3-30e08a0a38bd"
   },
   "outputs": [
    {
     "name": "stdout",
     "output_type": "stream",
     "text": [
      "[1, 4, 9, 16, 25]\n",
      "[1, 2]\n"
     ]
    }
   ],
   "source": [
    "li = [1,2,3,4,5]\n",
    "blank = [[],[],[],[],[]]\n",
    "\n",
    "exp = lambda a,b:(li[a]**b)\n",
    "for i in range(5):\n",
    "    blank[i]= exp(i,2)\n",
    "print(blank)\n",
    "\n",
    "del li[2:]\n",
    "print(li)\n"
   ]
  },
  {
   "cell_type": "code",
   "execution_count": null,
   "id": "115e5670",
   "metadata": {
    "id": "115e5670"
   },
   "outputs": [],
   "source": [
    "# [1,-3,2,0,-5,6] 에서 양수만 필터링해서 출력하세요(내장함수, 사용자함수 각각 이용)"
   ]
  },
  {
   "cell_type": "code",
   "execution_count": null,
   "id": "3b37e002",
   "metadata": {
    "id": "3b37e002",
    "outputId": "273bd70a-207f-4f03-b1c0-2803643dbbe2"
   },
   "outputs": [
    {
     "data": {
      "text/plain": [
       "[1, 2, 6]"
      ]
     },
     "execution_count": 25,
     "metadata": {},
     "output_type": "execute_result"
    }
   ],
   "source": [
    "x=[1,-3,2,0,-5,6]\n",
    "list(filter(lambda x: x > 0 , x))\n"
   ]
  },
  {
   "cell_type": "code",
   "execution_count": null,
   "id": "eaf194c0",
   "metadata": {
    "id": "eaf194c0"
   },
   "outputs": [],
   "source": [
    "# 내장함수를 이용하여 동일한 개수로 이루어진 자료형을 화살표 좌측에서 우측으로 변환하세요\n",
    "[1,2,3],[4,5,6] -> [(1,4),(2,5),(3,6)]\n",
    "[1,2,3],[4,5,6] [7,8,9] -> [(1,4,7),(2,5,8),(3,6,9)]\n",
    "('abc','def') -> [('a','d'),('b','e'),('c','f')]"
   ]
  },
  {
   "cell_type": "code",
   "execution_count": null,
   "id": "33181cbf",
   "metadata": {
    "id": "33181cbf",
    "outputId": "b202b1ff-cc5b-49c1-908b-00678496ba6d"
   },
   "outputs": [
    {
     "name": "stdout",
     "output_type": "stream",
     "text": [
      "[(1, 4), (2, 5), (3, 6)]\n",
      "[(1, 4, 7), (2, 5, 8), (3, 6, 9)]\n",
      "[('a', 'd'), ('b', 'e'), ('c', 'f')]\n"
     ]
    }
   ],
   "source": [
    "a = [1, 2, 3]\n",
    "b = [4, 5, 6]\n",
    "c = [7, 8, 9]\n",
    "\n",
    "ab = list(zip([1,2,3],[4,5,6]))\n",
    "print(ab)\n",
    "                        \n",
    "abc = list(zip([1,2,3],[4,5,6], [7,8,9]))\n",
    "print(abc)\n",
    "\n",
    "alp_1 = list(zip('abc', 'def'))\n",
    "print(alp_1)\n"
   ]
  },
  {
   "cell_type": "code",
   "execution_count": null,
   "id": "59d5bbe4",
   "metadata": {
    "id": "59d5bbe4",
    "outputId": "4cf7dfce-0152-4973-cea7-8eed60e9f849"
   },
   "outputs": [
    {
     "name": "stdout",
     "output_type": "stream",
     "text": [
      "(1, 'a')\n",
      "(2, 'b')\n",
      "(3, 'c')\n"
     ]
    }
   ],
   "source": [
    "num = [1,2,3]\n",
    "lt = ['a','b','c']\n",
    "for pair in zip(num, lt):\n",
    "    print(pair)\n"
   ]
  },
  {
   "cell_type": "code",
   "execution_count": null,
   "id": "905f0105",
   "metadata": {
    "id": "905f0105"
   },
   "outputs": [],
   "source": [
    "# 입력으로 들어오는 모든 수의 평균 값을 계산해 주는 함수를 작성한 후 1,2,3을 입력한 결과를 출력하세요."
   ]
  },
  {
   "cell_type": "code",
   "execution_count": null,
   "id": "29bdbacf",
   "metadata": {
    "id": "29bdbacf",
    "outputId": "86e48638-f7b5-4fc9-8533-b8a3f33e387e"
   },
   "outputs": [
    {
     "data": {
      "text/plain": [
       "2.5"
      ]
     },
     "execution_count": 31,
     "metadata": {},
     "output_type": "execute_result"
    }
   ],
   "source": [
    "def avg(*args):\n",
    "    sum=0\n",
    "    for i in args:\n",
    "        sum+=i\n",
    "    return sum/len(args)\n",
    "avg(1,2,3,4)\n"
   ]
  },
  {
   "cell_type": "code",
   "execution_count": 2,
   "id": "8db3b69d",
   "metadata": {
    "colab": {
     "base_uri": "https://localhost:8080/"
    },
    "executionInfo": {
     "elapsed": 439,
     "status": "ok",
     "timestamp": 1641090625575,
     "user": {
      "displayName": "kevin park",
      "photoUrl": "https://lh3.googleusercontent.com/a/default-user=s64",
      "userId": "02703084888761299921"
     },
     "user_tz": -540
    },
    "id": "8db3b69d",
    "outputId": "52bbb1e7-7a80-4e70-8837-ae37a8821d75"
   },
   "outputs": [
    {
     "data": {
      "text/plain": [
       "['bar', 'ababa', 'ca', 'aaaa', 'a']"
      ]
     },
     "execution_count": 2,
     "metadata": {},
     "output_type": "execute_result"
    }
   ],
   "source": [
    "# [과제] strings를 다양한 문자가 포함된 순서로 정렬하세요.\n",
    "strings = ['a', 'ca', 'bar', 'aaaa', 'ababa']\n",
    "\n",
    "strings.sort(key = lambda x:len(set(x)))\n",
    "strings[::-1]"
   ]
  },
  {
   "cell_type": "code",
   "execution_count": null,
   "id": "06751d0d",
   "metadata": {
    "id": "06751d0d"
   },
   "outputs": [],
   "source": [
    "# [과제] 튜플 형태인 strings를 다양한 문자가 포함된 순서로 정렬하세요.\n",
    "strings = ['a', 'ca', 'bar', 'aaaa', 'ababa']"
   ]
  },
  {
   "cell_type": "code",
   "execution_count": 3,
   "id": "GTi5Rdk90Mqi",
   "metadata": {
    "colab": {
     "base_uri": "https://localhost:8080/"
    },
    "executionInfo": {
     "elapsed": 323,
     "status": "ok",
     "timestamp": 1641090780218,
     "user": {
      "displayName": "kevin park",
      "photoUrl": "https://lh3.googleusercontent.com/a/default-user=s64",
      "userId": "02703084888761299921"
     },
     "user_tz": -540
    },
    "id": "GTi5Rdk90Mqi",
    "outputId": "35cb4966-ef69-4ff3-9f97-19a9178d4a45"
   },
   "outputs": [
    {
     "data": {
      "text/plain": [
       "['bar', 'ababa', 'ca', 'aaaa', 'a']"
      ]
     },
     "execution_count": 3,
     "metadata": {},
     "output_type": "execute_result"
    }
   ],
   "source": [
    "# Q. 튜플 형태인 strings를 다양한 문자가 포함된 순서로 정렬하세요,\n",
    "strings = ('a', 'ca', 'bar', 'aaaa', 'ababa')\n",
    "lists = list(strings)\n",
    "lists.sort(key=lambda x : len(set(x)))\n",
    "\n",
    "lists[::-1]"
   ]
  },
  {
   "cell_type": "code",
   "execution_count": 5,
   "id": "ob1jNq-wovDt",
   "metadata": {
    "colab": {
     "base_uri": "https://localhost:8080/"
    },
    "executionInfo": {
     "elapsed": 258,
     "status": "ok",
     "timestamp": 1641090877754,
     "user": {
      "displayName": "kevin park",
      "photoUrl": "https://lh3.googleusercontent.com/a/default-user=s64",
      "userId": "02703084888761299921"
     },
     "user_tz": -540
    },
    "id": "ob1jNq-wovDt",
    "outputId": "ef7e73d9-c732-4df3-88de-230d3268da41"
   },
   "outputs": [
    {
     "data": {
      "text/plain": [
       "('bar', 'ababa', 'ca', 'aaaa', 'a')"
      ]
     },
     "execution_count": 5,
     "metadata": {},
     "output_type": "execute_result"
    }
   ],
   "source": [
    "tup = tuple(lists)\n",
    "tup[::-1]"
   ]
  }
 ],
 "metadata": {
  "colab": {
   "collapsed_sections": [],
   "name": "함수.ipynb",
   "provenance": [
    {
     "file_id": "https://github.com/bnv20/cakd5/blob/main/m1_programming/%ED%95%A8%EC%88%98.ipynb",
     "timestamp": 1641000933597
    }
   ]
  },
  "kernelspec": {
   "display_name": "Python 3 (ipykernel)",
   "language": "python",
   "name": "python3"
  },
  "language_info": {
   "codemirror_mode": {
    "name": "ipython",
    "version": 3
   },
   "file_extension": ".py",
   "mimetype": "text/x-python",
   "name": "python",
   "nbconvert_exporter": "python",
   "pygments_lexer": "ipython3",
   "version": "3.8.12"
  }
 },
 "nbformat": 4,
 "nbformat_minor": 5
}
