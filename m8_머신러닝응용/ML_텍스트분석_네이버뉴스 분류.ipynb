{
 "cells": [
  {
   "cell_type": "markdown",
   "id": "4c41a3c0",
   "metadata": {},
   "source": [
    "[과제] https://news.naver.com/ 사이트에서 4개의 뉴스 카테고리를 선택해서 뉴스기사를 크롤링한 후 다음을 수행하세요.\n",
    "- 뉴스기사 카테로리별 저장(파일 OR DB)\n",
    "- 텍스트 전처리 및 피처 벡터화\n",
    "- 모델링 및 평가(성능개선 포함)"
   ]
  }
 ],
 "metadata": {
  "kernelspec": {
   "display_name": "Python 3 (ipykernel)",
   "language": "python",
   "name": "python3"
  },
  "language_info": {
   "codemirror_mode": {
    "name": "ipython",
    "version": 3
   },
   "file_extension": ".py",
   "mimetype": "text/x-python",
   "name": "python",
   "nbconvert_exporter": "python",
   "pygments_lexer": "ipython3",
   "version": "3.8.12"
  }
 },
 "nbformat": 4,
 "nbformat_minor": 5
}
