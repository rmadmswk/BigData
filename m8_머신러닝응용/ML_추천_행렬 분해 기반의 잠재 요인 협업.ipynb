{
 "cells": [
  {
   "cell_type": "code",
   "execution_count": 1,
   "id": "36789e8f",
   "metadata": {},
   "outputs": [],
   "source": [
    "import numpy as np\n",
    "from sklearn.metrics import mean_squared_error\n",
    "\n",
    "def get_rmse(R, P, Q, non_zeros):\n",
    "    error = 0\n",
    "    # 두개의 분해된 행렬 P와 Q.T의 내적 곱으로 예측 R 행렬 생성\n",
    "    full_pred_matrix = np.dot(P,Q.T)\n",
    "    \n",
    "    # 실제 R 행렬에서 NULL이 아닌 값의 위치 인덱스 추출하여 실제 R 행렬과 예측 행렬의 RMSE 추출\n",
    "    x_non_zero_ind = [non_zero[0] for non_zero in non_zeros]\n",
    "    y_non_zero_ind = [non_zero[1] for non_zero in non_zeros]\n",
    "    R_non_zeros = R[x_non_zero_ind, y_non_zero_ind]\n",
    "    \n",
    "    full_pred_matrix_non_zeros = full_pred_matrix[x_non_zero_ind,y_non_zero_ind]\n",
    "    \n",
    "    mse = mean_squared_error(R_non_zeros, full_pred_matrix_non_zeros)\n",
    "    rmse = np.sqrt(mse)\n",
    "    \n",
    "    return rmse"
   ]
  },
  {
   "cell_type": "code",
   "execution_count": 2,
   "id": "e5e64feb",
   "metadata": {},
   "outputs": [],
   "source": [
    "# 행렬 분해\n",
    "def matrix_factorization(R, K, steps=200, learning_rate=0.01, r_lambda=0.01):\n",
    "    num_users, num_items = R.shape\n",
    "    np.random.seed(1)\n",
    "    P = np.random.normal(scale=1./K, size = (num_users,K))\n",
    "    Q = np.random.normal(scale=1./K, size = (num_items,K))\n",
    "    \n",
    "    break_count = 0\n",
    "    \n",
    "    # R > 0인 행 위치, 열 위치, 값을 non_zeros 리스트 객체에 저장\n",
    "    non_zeros = [(i,j,R[i,j]) for i in range(num_users) for j in range(num_items) if R[i,j] > 0]\n",
    "    \n",
    "    # SGD 기법으로 P와 Q 매트릭스를 계속 업데이트\n",
    "    for step in range(steps):  # steps는 SGD의 반복횟수\n",
    "        for i, j, r in non_zeros:\n",
    "            # 실제 값과 예측 값의 차이인 오류 값 구함\n",
    "            eij = r - np.dot(P[i,:],Q[j,:].T)\n",
    "            # Regularization을 반영한 SGD 업데이트 공식 적용\n",
    "            P[i,:] = P[i,:] + learning_rate*(eij * Q[j,:] - r_lambda*P[i,:])\n",
    "            Q[j,:] = Q[j,:] + learning_rate*(eij * P[i,:] - r_lambda*Q[j,:])\n",
    "            \n",
    "        rmse = get_rmse(R,P,Q, non_zeros)\n",
    "        if ( step % 10) == 0: # 10회 반복할 때마다 오류 값 출력\n",
    "            print(f'iteration step: {step}, rmse: {rmse}')\n",
    "    return P, Q"
   ]
  },
  {
   "cell_type": "markdown",
   "id": "655dfb35",
   "metadata": {},
   "source": [
    "[과제] 주어진 데이터로 행렬 분해 기반의 잠재요인 협업필터링 추천을 아래와 같이 수행하세요.\n",
    "- 행렬분해 사용자 함수 matrix_factorization 이용(steps 200, K 50, L2 계수 0.01), 예측 사용자-아이템 평점 행렬을 df로 작성\n",
    "- 행렬 정보를 이용, 개인화된 영화 추천"
   ]
  },
  {
   "cell_type": "code",
   "execution_count": 4,
   "id": "9f7d623e",
   "metadata": {},
   "outputs": [],
   "source": [
    "import pandas as pd\n",
    "import numpy as np\n",
    "movies = pd.read_csv('dataset/ml-latest-small/movies.csv')\n",
    "ratings = pd.read_csv('dataset/ml-latest-small/ratings.csv')\n",
    "ratings = ratings[['userId','movieId','rating']]\n",
    "ratings_matrix = ratings.pivot_table('rating',index='userId',columns='movieId')"
   ]
  }
 ],
 "metadata": {
  "kernelspec": {
   "display_name": "Python 3 (ipykernel)",
   "language": "python",
   "name": "python3"
  },
  "language_info": {
   "codemirror_mode": {
    "name": "ipython",
    "version": 3
   },
   "file_extension": ".py",
   "mimetype": "text/x-python",
   "name": "python",
   "nbconvert_exporter": "python",
   "pygments_lexer": "ipython3",
   "version": "3.8.12"
  }
 },
 "nbformat": 4,
 "nbformat_minor": 5
}
