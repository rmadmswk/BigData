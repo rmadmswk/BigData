{
 "cells": [
  {
   "cell_type": "markdown",
   "id": "1e7d529b",
   "metadata": {},
   "source": [
    "http://matrix.skku.ac.kr/math4AI-tools/cosine_similarity/\n"
   ]
  },
  {
   "cell_type": "code",
   "execution_count": 5,
   "id": "3bc42f55",
   "metadata": {},
   "outputs": [],
   "source": [
    "import numpy as np\n",
    "def cos_similarity(v1,v2):\n",
    "    dot_product = np.dot(v1,v2)\n",
    "    l2_norm = (np.sqrt(sum(np.square(v1))) * np.sqrt(sum(np.square(v2))))\n",
    "    similarity = dot_product/l2_norm\n",
    "    return similarity"
   ]
  },
  {
   "cell_type": "code",
   "execution_count": 6,
   "id": "66821377",
   "metadata": {},
   "outputs": [
    {
     "data": {
      "text/plain": [
       "(3, 18)"
      ]
     },
     "execution_count": 6,
     "metadata": {},
     "output_type": "execute_result"
    }
   ],
   "source": [
    "from sklearn.feature_extraction.text import TfidfVectorizer\n",
    "\n",
    "doc_list = ['if you take the blue pill, the story ends' ,\n",
    "            'if you take the red pill, you stay in Wonderland',\n",
    "            'if you take the red pill, I show you how deep the rabbit hole goes']\n",
    "tfidf_vect_simple = TfidfVectorizer()\n",
    "feature_vect_simple = tfidf_vect_simple.fit_transform(doc_list)\n",
    "# feature_vect_simple.toarray()\n",
    "feature_vect_simple.shape"
   ]
  },
  {
   "cell_type": "code",
   "execution_count": 8,
   "id": "521079b7",
   "metadata": {},
   "outputs": [
    {
     "name": "stdout",
     "output_type": "stream",
     "text": [
      "코사인 유사도:0.4021\n"
     ]
    }
   ],
   "source": [
    "feature_vect_dense = feature_vect_simple.todense()\n",
    "vect1 = np.array(feature_vect_dense[0]).reshape(-1,)\n",
    "vect2 = np.array(feature_vect_dense[1]).reshape(-1,)\n",
    "\n",
    "similarity_simple = cos_similarity(vect1,vect2)\n",
    "print(f'코사인 유사도:{similarity_simple:.4f}')"
   ]
  },
  {
   "cell_type": "code",
   "execution_count": 9,
   "id": "5c5a50d3",
   "metadata": {},
   "outputs": [
    {
     "data": {
      "text/plain": [
       "array([[1.        , 0.40207758, 0.40425045]])"
      ]
     },
     "execution_count": 9,
     "metadata": {},
     "output_type": "execute_result"
    }
   ],
   "source": [
    "from sklearn.metrics.pairwise import cosine_similarity\n",
    "sim_pair = cosine_similarity(feature_vect_simple[0], feature_vect_simple)\n",
    "sim_pair"
   ]
  },
  {
   "cell_type": "code",
   "execution_count": 10,
   "id": "7919abbf",
   "metadata": {},
   "outputs": [
    {
     "data": {
      "text/plain": [
       "array([[0.40207758, 0.40425045]])"
      ]
     },
     "execution_count": 10,
     "metadata": {},
     "output_type": "execute_result"
    }
   ],
   "source": [
    "from sklearn.metrics.pairwise import cosine_similarity\n",
    "sim_pair1 = cosine_similarity(feature_vect_simple[0], feature_vect_simple[1:])\n",
    "sim_pair1"
   ]
  },
  {
   "cell_type": "code",
   "execution_count": 11,
   "id": "f8f883c5",
   "metadata": {},
   "outputs": [
    {
     "data": {
      "text/plain": [
       "array([[1.        , 0.40207758, 0.40425045],\n",
       "       [0.40207758, 1.        , 0.45647296],\n",
       "       [0.40425045, 0.45647296, 1.        ]])"
      ]
     },
     "execution_count": 11,
     "metadata": {},
     "output_type": "execute_result"
    }
   ],
   "source": [
    "from sklearn.metrics.pairwise import cosine_similarity\n",
    "sim_pair2 = cosine_similarity(feature_vect_simple, feature_vect_simple)\n",
    "sim_pair2"
   ]
  },
  {
   "cell_type": "markdown",
   "id": "6d9308ad",
   "metadata": {},
   "source": [
    "[과제] Opinion Review 데이터 셋을 이용한 문서 유사도를 측정하세요."
   ]
  }
 ],
 "metadata": {
  "kernelspec": {
   "display_name": "Python 3 (ipykernel)",
   "language": "python",
   "name": "python3"
  },
  "language_info": {
   "codemirror_mode": {
    "name": "ipython",
    "version": 3
   },
   "file_extension": ".py",
   "mimetype": "text/x-python",
   "name": "python",
   "nbconvert_exporter": "python",
   "pygments_lexer": "ipython3",
   "version": "3.8.12"
  }
 },
 "nbformat": 4,
 "nbformat_minor": 5
}
