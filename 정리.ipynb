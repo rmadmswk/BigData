{
 "cells": [
  {
   "cell_type": "code",
   "execution_count": null,
   "id": "43062171",
   "metadata": {},
   "outputs": [],
   "source": [
    "import pandas as pd\n",
    "import cx_Oracle\n",
    "import csv\n",
    "import numpy as np\n",
    "purprod = pd.read_csv('./data/구매상품TR.txt',encoding = \"cp949\")\n",
    "purprodA = purprod[purprod['제휴사']=='A']\n",
    "purprodA"
   ]
  },
  {
   "cell_type": "code",
   "execution_count": null,
   "id": "81859af1",
   "metadata": {},
   "outputs": [],
   "source": [
    "x = purprodA\n",
    "columns = ['제휴사','영수증번호','대분류코드','중분류코드','소분류코드', \n",
    "           '고객번호','점포코드','구매일자','구매시간','구매금액',\n",
    "           'YEAR','구매요일','월']\n",
    "df_md = pd.DataFrame(x,columns=columns)\n",
    "\n",
    "df_md['구매일자'] = df_md['구매일자'].astype(str)\n",
    "df_md['구매일자'] = pd.to_datetime(df_md['구매일자'])\n",
    "\n",
    "df_md['YEAR'] = df_md['구매일자'].dt.year\n",
    "df_md['구매요일'] = df_md['구매일자'].dt.dayofweek\n",
    "df_md['월'] = df_md['구매일자'].dt.month\n",
    "\n",
    "# 제휴사 A의 총매출과 평균금액\n",
    "md_sum = df_md['구매금액'].sum()\n",
    "md_avg = df_md['구매금액'].mean()\n",
    "md_count =df_md['영수증번호'].value_counts().sum()\n",
    "md_count_avg =df_md['영수증번호'].value_counts().mean()\n",
    "print(f'총금액:{md_sum}  평균금액:{round(md_avg,3)}')\n",
    "print(f'총 구매건수:{md_count} 구매건수평균:{round(md_count_avg,2)}')\n",
    "df_md"
   ]
  },
  {
   "cell_type": "code",
   "execution_count": null,
   "id": "836cea71",
   "metadata": {},
   "outputs": [],
   "source": [
    "a = df_md.loc[(df_md['월']<7) & (df_md['YEAR']==2014)]\n",
    "t = a.groupby(['고객번호']).sum()[['구매금액']]\n",
    "t"
   ]
  },
  {
   "cell_type": "code",
   "execution_count": null,
   "id": "016f1d80",
   "metadata": {},
   "outputs": [],
   "source": [
    "b = df_md.loc[(df_md['월']>6) & (df_md['월']<13) & (df_md['YEAR']==2014)]\n",
    "t1 = b.groupby(['고객번호']).sum()[['구매금액']]"
   ]
  },
  {
   "cell_type": "code",
   "execution_count": null,
   "id": "c9e5d8f4",
   "metadata": {},
   "outputs": [],
   "source": [
    "c = df_md.loc[(df_md['월']<7) & (df_md['YEAR']==2015)]\n",
    "t2 = c.groupby(['고객번호']).sum()[['구매금액']]\n",
    "t2"
   ]
  },
  {
   "cell_type": "code",
   "execution_count": null,
   "id": "e07b618c",
   "metadata": {},
   "outputs": [],
   "source": [
    "d = df_md.loc[(df_md['월']>6) & (df_md['월']<13) & (df_md['YEAR']==2015)]\n",
    "t3 = d.groupby(['고객번호']).sum()[['구매금액']]\n",
    "t3"
   ]
  },
  {
   "cell_type": "code",
   "execution_count": null,
   "id": "5a0376bb",
   "metadata": {},
   "outputs": [],
   "source": [
    "df1=pd.merge(t,t1, on='고객번호',how='left')\n",
    "df1=pd.merge(df1,t2, on='고객번호',how='left') \n",
    "df1=pd.merge(df1,t3, on='고객번호',how='left') \n",
    "df1=df1.sort_values(by='고객번호')\n",
    "# df1=df1.reset_index().drop(['index'], axis=1)\n",
    "df1"
   ]
  },
  {
   "cell_type": "code",
   "execution_count": null,
   "id": "4ef8b8e3",
   "metadata": {},
   "outputs": [],
   "source": [
    "import pandas as pd\n",
    "import cx_Oracle\n",
    "import csv\n",
    "import numpy as np\n",
    "gender = pd.read_csv('./data/고객DEMO.txt',encoding = \"cp949\")"
   ]
  },
  {
   "cell_type": "code",
   "execution_count": null,
   "id": "64c389c7",
   "metadata": {},
   "outputs": [],
   "source": [
    "## 성별 타입 변환\n",
    "y = gender\n",
    "columns = ['고객번호','성별']\n",
    "df_gender = pd.DataFrame(y,columns=columns)\n",
    "\n",
    "df_gender['성별'] = df_gender['성별'].astype(str)\n",
    "\n",
    "df_gender"
   ]
  },
  {
   "cell_type": "code",
   "execution_count": null,
   "id": "f4ff9005",
   "metadata": {},
   "outputs": [],
   "source": [
    "## 이름 바꿔서 합친거\n",
    "df3 = pd.concat([df_gender,df1],axis=1)\n",
    "df3.rename(columns={'구매금액_x':'14년상반기','구매금액_y':'14년하반기','구매금액_x':'15년상반기','구매금액_y':'15년하반기'},inplace=True)\n",
    "df3"
   ]
  },
  {
   "cell_type": "code",
   "execution_count": null,
   "id": "7f064d3c",
   "metadata": {},
   "outputs": [],
   "source": []
  },
  {
   "cell_type": "code",
   "execution_count": null,
   "id": "da6e5681",
   "metadata": {},
   "outputs": [],
   "source": []
  },
  {
   "cell_type": "code",
   "execution_count": null,
   "id": "eddbb72f",
   "metadata": {},
   "outputs": [],
   "source": [
    "# 월,년별 구매금액\n",
    "ex = df_md.groupby(['월','YEAR']).sum()[['구매금액']]\n",
    "ex"
   ]
  },
  {
   "cell_type": "code",
   "execution_count": null,
   "id": "f10f3f30",
   "metadata": {},
   "outputs": [],
   "source": []
  },
  {
   "cell_type": "code",
   "execution_count": null,
   "id": "05ad8aad",
   "metadata": {},
   "outputs": [],
   "source": []
  }
 ],
 "metadata": {
  "kernelspec": {
   "display_name": "Python 3 (ipykernel)",
   "language": "python",
   "name": "python3"
  },
  "language_info": {
   "codemirror_mode": {
    "name": "ipython",
    "version": 3
   },
   "file_extension": ".py",
   "mimetype": "text/x-python",
   "name": "python",
   "nbconvert_exporter": "python",
   "pygments_lexer": "ipython3",
   "version": "3.8.12"
  }
 },
 "nbformat": 4,
 "nbformat_minor": 5
}
