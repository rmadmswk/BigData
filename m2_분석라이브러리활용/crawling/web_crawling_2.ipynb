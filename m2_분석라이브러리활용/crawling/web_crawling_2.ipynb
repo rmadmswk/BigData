{
 "cells": [
  {
   "cell_type": "markdown",
   "id": "a15275ca",
   "metadata": {},
   "source": [
    "#### selenium 모듈\n",
    "- 웹 어플리케이션 테스트를 위한 프레임워크 : 홈페이지 테스트용으로 사용\n",
    "- 사용자가 아닌 프로그램이 웹 브라우저를 제어할 수 있도록 지원\n",
    "- 웹 브라우저마다 클라이언트 프로그램(Web Driver)이 별도로 필요(웹 브라우저 <-> 프로그램간 통신 목적)\n",
    "- 크롤링 보다는 웹을 제어하는 목적이 더 큼\n",
    "- pip install selenium 으로 설치\n",
    "- web driver 설치(크롬 버전 확인) : https://chromedriver.chromium.org/downloads\n",
    "- 압축 해제한 후 chromedrive.exe를 적당한 경로로 이동\n",
    "- selenium 모듈 호출 후 설치한 web driver 경로를 지정\n",
    "\n",
    "이벤트로 제어하기 : 브라우저를 직접 제어하기 때문에 직접 컨트롤하여 마우스 클릭, 키보드 입력, 자바 스크립트 이벤트 처리 가능\n",
    "- 마우스 클릭: click()\n",
    "- 키보드 입력: send_keys()\n",
    "- 자바스크립트 삽입: execute_script()\n",
    "- 입력 양식 전송: submit()\n",
    "- 스크린샷: screenshot(파일이름)\n",
    "- 글자 지움: clear()\n",
    "- 뒤로 가기: back()\n",
    "- 앞으로 가기: forward()\n",
    "\n",
    "#### 셀레니움 함수\n",
    "- find_element_by_id : id 속성을 사용하여 접근\n",
    "- find_element(s)_by_class_name : 클래스를 사용하여 접근\n",
    "- find_element(s)_by_name : name 속성을 사용하여 접근\n",
    "- find_element(s)_by_xpath : xpath 속성을 사용하여 접근\n",
    "- find_element(s)_by_link_text : 앵커태그(a)에 사용되는 텍스트로 접근\n",
    "- fint_element(s)_by_partial_link_text : 앵커태그(a)에 사용되는 일부 텍스트로 접근\n",
    "- find_element(s)_by_tag_name : 태그를 사용하여 접근\n",
    "- find_element(s)_by_css_selector : CSS 선택자를 사용하여 접근\n"
   ]
  },
  {
   "cell_type": "code",
   "execution_count": 1,
   "id": "98183d2d",
   "metadata": {},
   "outputs": [
    {
     "name": "stdout",
     "output_type": "stream",
     "text": [
      "Collecting selenium\n",
      "  Downloading selenium-4.1.0-py3-none-any.whl (958 kB)\n",
      "Collecting trio~=0.17\n",
      "  Downloading trio-0.19.0-py3-none-any.whl (356 kB)\n",
      "Collecting trio-websocket~=0.9\n",
      "  Downloading trio_websocket-0.9.2-py3-none-any.whl (16 kB)\n",
      "Requirement already satisfied: urllib3[secure]~=1.26 in c:\\users\\admin\\anaconda3\\envs\\cakd5\\lib\\site-packages (from selenium) (1.26.8)\n",
      "Collecting sniffio\n",
      "  Downloading sniffio-1.2.0-py3-none-any.whl (10 kB)\n",
      "Collecting outcome\n",
      "  Downloading outcome-1.1.0-py2.py3-none-any.whl (9.7 kB)\n",
      "Requirement already satisfied: attrs>=19.2.0 in c:\\users\\admin\\anaconda3\\envs\\cakd5\\lib\\site-packages (from trio~=0.17->selenium) (21.2.0)\n",
      "Requirement already satisfied: async-generator>=1.9 in c:\\users\\admin\\anaconda3\\envs\\cakd5\\lib\\site-packages (from trio~=0.17->selenium) (1.10)\n",
      "Requirement already satisfied: cffi>=1.14 in c:\\users\\admin\\anaconda3\\envs\\cakd5\\lib\\site-packages (from trio~=0.17->selenium) (1.15.0)\n",
      "Collecting sortedcontainers\n",
      "  Downloading sortedcontainers-2.4.0-py2.py3-none-any.whl (29 kB)\n",
      "Requirement already satisfied: idna in c:\\users\\admin\\anaconda3\\envs\\cakd5\\lib\\site-packages (from trio~=0.17->selenium) (3.3)\n",
      "Requirement already satisfied: pycparser in c:\\users\\admin\\anaconda3\\envs\\cakd5\\lib\\site-packages (from cffi>=1.14->trio~=0.17->selenium) (2.21)\n",
      "Collecting wsproto>=0.14\n",
      "  Downloading wsproto-1.0.0-py3-none-any.whl (24 kB)\n",
      "Requirement already satisfied: certifi in c:\\users\\admin\\anaconda3\\envs\\cakd5\\lib\\site-packages (from urllib3[secure]~=1.26->selenium) (2021.10.8)\n",
      "Collecting cryptography>=1.3.4\n",
      "  Downloading cryptography-36.0.1-cp36-abi3-win_amd64.whl (2.2 MB)\n",
      "Collecting pyOpenSSL>=0.14\n",
      "  Downloading pyOpenSSL-22.0.0-py2.py3-none-any.whl (55 kB)\n",
      "Collecting h11<1,>=0.9.0\n",
      "  Downloading h11-0.13.0-py3-none-any.whl (58 kB)\n",
      "Installing collected packages: sortedcontainers, sniffio, outcome, h11, cryptography, wsproto, trio, pyOpenSSL, trio-websocket, selenium\n",
      "Successfully installed cryptography-36.0.1 h11-0.13.0 outcome-1.1.0 pyOpenSSL-22.0.0 selenium-4.1.0 sniffio-1.2.0 sortedcontainers-2.4.0 trio-0.19.0 trio-websocket-0.9.2 wsproto-1.0.0\n"
     ]
    }
   ],
   "source": [
    "!pip install selenium"
   ]
  },
  {
   "cell_type": "code",
   "execution_count": 5,
   "id": "bbb4e42e",
   "metadata": {},
   "outputs": [],
   "source": [
    "# 네이버 사이트 불러오기\n",
    "import selenium\n",
    "from selenium import webdriver\n",
    "from selenium.webdriver.common.keys import Keys\n",
    "import warnings\n",
    "warnings.filterwarnings('ignore')\n",
    "\n",
    "url = 'https://naver.com'\n",
    "path = 'C:/tool/chromedriver.exe'\n",
    "driver = webdriver.Chrome(path)\n",
    "driver.get(url)"
   ]
  },
  {
   "cell_type": "code",
   "execution_count": 6,
   "id": "e11e4102",
   "metadata": {},
   "outputs": [
    {
     "name": "stdout",
     "output_type": "stream",
     "text": [
      "https://www.naver.com/\n"
     ]
    }
   ],
   "source": [
    "print(driver.current_url)"
   ]
  },
  {
   "cell_type": "code",
   "execution_count": 7,
   "id": "e96ea124",
   "metadata": {},
   "outputs": [],
   "source": [
    "driver.close()"
   ]
  },
  {
   "cell_type": "code",
   "execution_count": 9,
   "id": "a4a8e02d",
   "metadata": {},
   "outputs": [
    {
     "name": "stdout",
     "output_type": "stream",
     "text": [
      "https://www.google.com/\n"
     ]
    }
   ],
   "source": [
    "# 브라우저 창을 띄우지 않고 수행\n",
    "options = webdriver.ChromeOptions()\n",
    "options.add_argument('headless')\n",
    "driver = webdriver.Chrome('C:/tool/chromedriver.exe',options=options)\n",
    "driver.get('https://google.com')\n",
    "print(driver.current_url)\n",
    "driver.close()"
   ]
  },
  {
   "cell_type": "code",
   "execution_count": 10,
   "id": "7f7e8d3d",
   "metadata": {},
   "outputs": [],
   "source": [
    "# 브라우저 최소화/최대화\n",
    "driver = webdriver.Chrome(path)\n",
    "driver.get('https://google.com')\n",
    "driver.maximize_window()"
   ]
  },
  {
   "cell_type": "code",
   "execution_count": 11,
   "id": "6f0e0f89",
   "metadata": {},
   "outputs": [],
   "source": [
    "driver.minimize_window()"
   ]
  },
  {
   "cell_type": "code",
   "execution_count": 12,
   "id": "58f8b6f9",
   "metadata": {},
   "outputs": [],
   "source": [
    "# Implicit Waits(암묵적 대기) : 찾으려는 element가 로드될 때까지 지정한 시간만큼 대기할 수 있도록 설정\n",
    "from selenium.webdriver.common.by import By\n",
    "from selenium.webdriver.support.ui import WebDriverWait\n",
    "from selenium.webdriver.support import expected_conditions as EC\n",
    "\n",
    "driver = webdriver.Chrome(path)\n",
    "driver.get('https://google.com')\n",
    "\n",
    "try:\n",
    "    element = WebDriverWait(driver, 5).until(\n",
    "    EC.presence_of_element_located((By.CLASS_NAME, 'gLFyf'))\n",
    "    )\n",
    "finally:\n",
    "    driver.quit()"
   ]
  },
  {
   "cell_type": "code",
   "execution_count": 24,
   "id": "791c2bfc",
   "metadata": {},
   "outputs": [
    {
     "name": "stdout",
     "output_type": "stream",
     "text": [
      "빅데이터란\n",
      "빅데이터\n",
      "빅데이터\n"
     ]
    }
   ],
   "source": [
    "from time import sleep\n",
    "driver = webdriver.Chrome(path)\n",
    "driver.get('https://naver.com')\n",
    "search_box = driver.find_element_by_xpath('//*[@id=\"query\"]')\n",
    "search_box.send_keys('빅데이터')\n",
    "search_box.send_keys(Keys.RETURN)\n",
    "\n",
    "elements = driver.find_elements_by_xpath('//*[@id=\"main_pack\"]/section/div/div/div/div/h3/a')\n",
    "\n",
    "for element in elements:\n",
    "    print(element.text)\n",
    "    print(element.text, file=open('test_set1.txt', 'w',encoding='utf-8'))\n",
    "sleep(3)\n",
    "driver.close()    "
   ]
  },
  {
   "cell_type": "code",
   "execution_count": null,
   "id": "a28a6771",
   "metadata": {},
   "outputs": [],
   "source": [
    "import time\n",
    "driver = webdriver.Chrome(path)\n",
    "driver.get('https://naver.com')\n",
    "driver.maximize_window()\n",
    "driver.find_element_by_class_name('link_login').click()\n",
    "time.sleep(1)\n",
    "driver.back()\n",
    "driver.forward()\n",
    "driver.refresh()\n",
    "time.sleep(2)\n",
    "driver.back()\n",
    "elem = driver.find_element_by_id('query')\n",
    "elem.send_keys(Keys.ENTER)\n",
    "els = driver.find_elements_by_tag_name('a')\n",
    "for e in els:\n",
    "    print(e.get_attribute('href'))\n",
    "driver.close()"
   ]
  },
  {
   "cell_type": "code",
   "execution_count": 29,
   "id": "b417e3f1",
   "metadata": {},
   "outputs": [
    {
     "name": "stdout",
     "output_type": "stream",
     "text": [
      "https://search.naver.com/search.naver?where=nexearch&sm=top_hty&fbm=0&ie=utf8&query=#lnb\n",
      "https://search.naver.com/search.naver?where=nexearch&sm=top_hty&fbm=0&ie=utf8&query=#content\n",
      "https://www.naver.com/\n",
      "https://search.naver.com/search.naver?where=nexearch&sm=top_hty&fbm=0&ie=utf8&query=#\n",
      "https://search.naver.com/search.naver?where=nexearch&sm=top_hty&fbm=0&ie=utf8&query=#\n"
     ]
    }
   ],
   "source": [
    "import time\n",
    "driver = webdriver.Chrome(path)\n",
    "driver.get('https://naver.com')\n",
    "driver.maximize_window()\n",
    "driver.find_element_by_class_name('link_login').click()\n",
    "time.sleep(1)\n",
    "driver.back()\n",
    "elem = driver.find_element_by_id('query')\n",
    "elem.send_keys(Keys.ENTER)\n",
    "els = driver.find_elements_by_tag_name('a')\n",
    "for i, e in enumerate(els):\n",
    "    if i < 5:\n",
    "        print(e.get_attribute('href'))\n",
    "    else:\n",
    "        pass\n",
    "driver.refresh()\n",
    "driver.get('http://daum.net')\n",
    "driver.close()"
   ]
  },
  {
   "cell_type": "code",
   "execution_count": null,
   "id": "718e8b7a",
   "metadata": {},
   "outputs": [],
   "source": [
    "# Q. 다음사이트에서 빅데이터 관련 검색하여 출력한 후 구글 페이지로 이동"
   ]
  },
  {
   "cell_type": "code",
   "execution_count": 35,
   "id": "bf486355",
   "metadata": {},
   "outputs": [
    {
     "name": "stdout",
     "output_type": "stream",
     "text": [
      "백과사전\n",
      "빅데이터\n",
      "빅데이터(big data)란 복잡하고 다양한 대규모 데이터세트 자체는 물론 이 데이터세트로부터 정보를 추출하고 결과를 분석하여 더 큰 가치를 창출하는 기술을 뜻한다. 수치 데이터 등 기존의 정형화된 정보뿐 아니라 텍스트 ・ 이미지 ・ 오디오 ・ 로그기...\n",
      "경제금융용어 700선\n",
      "빅데이터\n",
      "빅데이터의 등장 오늘날 정보 통신 분야에서의 화두는 단연 빅데이터이다. 빅데이터는 기존 데이터보다 너무 방대하여 기존의 방법이나 도구로 수집/저장/분석 등이 어려운 정형 및 비정형 데이터들을 의미한다. 아래 그림에서 보여주듯 1분 동안 구글에서...\n",
      "국립중앙과학관：빅데이터 과학관\n",
      "왜 한국을 ‘이 세상에서 가장 흥미로운 장소’라고 하는가? , 빅 데이터\n",
      "가장 작은 데이터 단위는 0 혹은 1을 나타낼 수 있는 비트(bit)며, 8개의 비트가 모여 1바이트(byte)가 된다. 이후 1,024를 곱할 때마다 킬로바이트(KB) · 메가바이트(MB) · 기가바이트(GB) · 테라바이트(TB) · 페타바이트(PB) · 엑사바이트(EB) · ...\n",
      "재미있는 영어 인문학 이야기 2\n",
      "백과사전 더보기\n"
     ]
    }
   ],
   "source": [
    "driver = webdriver.Chrome(path)\n",
    "driver.get('http://daum.net')\n",
    "driver.maximize_window()\n",
    "search_box = driver.find_element_by_xpath('//*[@id=\"q\"]')\n",
    "search_box.send_keys('빅데이터')\n",
    "search_box.send_keys(Keys.ENTER)\n",
    "# driver.find_element_by_xpath('//*[@id=\"pediaColl\"]/div[2]/ul/li[1]/div/div/div[1]/a').click()\n",
    "els = driver.find_elements_by_xpath('//*[@id=\"pediaColl\"]')\n",
    "for i in els:\n",
    "    print(i.text)\n",
    "driver.refresh()\n",
    "driver.get('http://google.com')\n",
    "time.sleep(1)\n",
    "driver.close()"
   ]
  },
  {
   "cell_type": "code",
   "execution_count": 32,
   "id": "0b7bcb0f",
   "metadata": {},
   "outputs": [
    {
     "name": "stdout",
     "output_type": "stream",
     "text": [
      "[경제 톡톡톡]강남 4구 아파트값…1년 8개월 만에 하락\n",
      "\"올림픽서 이런 추태를…\" 아이스하키장서 벌어진 집단 난투극\n",
      "확진자 기억력 의존… 셀프 역학조사, ‘숨은 감염’ 어쩌나\n",
      "'김혜경 의혹' 법인카드 사적 유용 10건 추가 입수\n",
      "中 동계올림픽 성화 참여 '바이두 자동차로봇' 공개\n"
     ]
    }
   ],
   "source": [
    "import time\n",
    "driver = webdriver.Chrome(path)\n",
    "driver.get('https://naver.com')\n",
    "driver.maximize_window()\n",
    "driver.find_element_by_css_selector('#NM_FAVORITE > div.group_nav > ul.list_nav.NM_FAVORITE_LIST > li:nth-child(2) > a').click()\n",
    "elements = driver.find_elements_by_css_selector('#ct > div > section.main_content > div.main_brick > div > div> div > div > div > div> a > div> div')\n",
    "for i, e in enumerate(elements):\n",
    "    if i < 5:\n",
    "        print(e.text)\n",
    "    else:\n",
    "        pass\n",
    "driver.close()\n"
   ]
  },
  {
   "cell_type": "code",
   "execution_count": null,
   "id": "593a98cd",
   "metadata": {},
   "outputs": [],
   "source": [
    "# [과제] 한빛미디어 사이트 로그인한 후 마일리지 점수 2000을 출력하세요(셀레니움 이용 브라우저 제어방식으로 진행)"
   ]
  },
  {
   "cell_type": "code",
   "execution_count": null,
   "id": "18eb2f27",
   "metadata": {},
   "outputs": [],
   "source": [
    "# [도전과제] 네이버 로그인 후 메일 리스트 출력하기"
   ]
  }
 ],
 "metadata": {
  "kernelspec": {
   "display_name": "Python 3 (ipykernel)",
   "language": "python",
   "name": "python3"
  },
  "language_info": {
   "codemirror_mode": {
    "name": "ipython",
    "version": 3
   },
   "file_extension": ".py",
   "mimetype": "text/x-python",
   "name": "python",
   "nbconvert_exporter": "python",
   "pygments_lexer": "ipython3",
   "version": "3.8.12"
  }
 },
 "nbformat": 4,
 "nbformat_minor": 5
}
