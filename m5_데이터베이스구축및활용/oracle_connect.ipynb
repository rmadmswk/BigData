{
 "cells": [
  {
   "cell_type": "code",
   "execution_count": 1,
   "id": "1e853f96",
   "metadata": {},
   "outputs": [
    {
     "name": "stdout",
     "output_type": "stream",
     "text": [
      "Collecting cx_oracle\n",
      "  Downloading cx_Oracle-8.3.0-cp38-cp38-win_amd64.whl (219 kB)\n",
      "Installing collected packages: cx-oracle\n",
      "Successfully installed cx-oracle-8.3.0\n"
     ]
    }
   ],
   "source": [
    "!pip install cx_oracle"
   ]
  },
  {
   "cell_type": "code",
   "execution_count": 1,
   "id": "e4b64242",
   "metadata": {},
   "outputs": [
    {
     "data": {
      "text/plain": [
       "'(DESCRIPTION=(ADDRESS=(PROTOCOL=TCP)(HOST=localhost)(PORT=1521))(CONNECT_DATA=(SID=xe)))'"
      ]
     },
     "execution_count": 1,
     "metadata": {},
     "output_type": "execute_result"
    }
   ],
   "source": [
    "import cx_Oracle\n",
    "dsn = cx_Oracle.makedsn('localhost',1521,'xe')\n",
    "dsn"
   ]
  },
  {
   "cell_type": "code",
   "execution_count": 2,
   "id": "fbc0c433",
   "metadata": {},
   "outputs": [
    {
     "data": {
      "text/plain": [
       "<cx_Oracle.Connection to C##CAKD5@(DESCRIPTION=(ADDRESS=(PROTOCOL=TCP)(HOST=localhost)(PORT=1521))(CONNECT_DATA=(SID=xe)))>"
      ]
     },
     "execution_count": 2,
     "metadata": {},
     "output_type": "execute_result"
    }
   ],
   "source": [
    "db = cx_Oracle.connect('C##CAKD5','CAKD5',dsn)\n",
    "db"
   ]
  },
  {
   "cell_type": "code",
   "execution_count": 3,
   "id": "f7bd9707",
   "metadata": {},
   "outputs": [
    {
     "data": {
      "text/html": [
       "<div>\n",
       "<style scoped>\n",
       "    .dataframe tbody tr th:only-of-type {\n",
       "        vertical-align: middle;\n",
       "    }\n",
       "\n",
       "    .dataframe tbody tr th {\n",
       "        vertical-align: top;\n",
       "    }\n",
       "\n",
       "    .dataframe thead th {\n",
       "        text-align: right;\n",
       "    }\n",
       "</style>\n",
       "<table border=\"1\" class=\"dataframe\">\n",
       "  <thead>\n",
       "    <tr style=\"text-align: right;\">\n",
       "      <th></th>\n",
       "      <th>BOOKID</th>\n",
       "      <th>BOOKNAME</th>\n",
       "      <th>PUBLISHER</th>\n",
       "      <th>PRICE</th>\n",
       "    </tr>\n",
       "  </thead>\n",
       "  <tbody>\n",
       "    <tr>\n",
       "      <th>0</th>\n",
       "      <td>1</td>\n",
       "      <td>축구의 역사</td>\n",
       "      <td>굿스포츠</td>\n",
       "      <td>7000</td>\n",
       "    </tr>\n",
       "    <tr>\n",
       "      <th>1</th>\n",
       "      <td>2</td>\n",
       "      <td>축구아는 여자</td>\n",
       "      <td>나무수</td>\n",
       "      <td>13000</td>\n",
       "    </tr>\n",
       "    <tr>\n",
       "      <th>2</th>\n",
       "      <td>3</td>\n",
       "      <td>축구의 이해</td>\n",
       "      <td>대한미디어</td>\n",
       "      <td>22000</td>\n",
       "    </tr>\n",
       "    <tr>\n",
       "      <th>3</th>\n",
       "      <td>4</td>\n",
       "      <td>골프 바이블</td>\n",
       "      <td>대한미디어</td>\n",
       "      <td>35000</td>\n",
       "    </tr>\n",
       "    <tr>\n",
       "      <th>4</th>\n",
       "      <td>5</td>\n",
       "      <td>피겨 교본</td>\n",
       "      <td>굿스포츠</td>\n",
       "      <td>8000</td>\n",
       "    </tr>\n",
       "  </tbody>\n",
       "</table>\n",
       "</div>"
      ],
      "text/plain": [
       "   BOOKID BOOKNAME PUBLISHER  PRICE\n",
       "0       1   축구의 역사      굿스포츠   7000\n",
       "1       2  축구아는 여자       나무수  13000\n",
       "2       3   축구의 이해     대한미디어  22000\n",
       "3       4   골프 바이블     대한미디어  35000\n",
       "4       5    피겨 교본      굿스포츠   8000"
      ]
     },
     "execution_count": 3,
     "metadata": {},
     "output_type": "execute_result"
    }
   ],
   "source": [
    "import pandas as pd\n",
    "cursor = db.cursor()\n",
    "cursor.execute('select * from book')\n",
    "x = cursor.fetchall()\n",
    "columns = ['BOOKID','BOOKNAME','PUBLISHER','PRICE']\n",
    "df = pd.DataFrame(x,columns=columns)\n",
    "df.head()"
   ]
  },
  {
   "cell_type": "code",
   "execution_count": 5,
   "id": "c8b75970",
   "metadata": {},
   "outputs": [],
   "source": [
    "# create\n",
    "import cx_Oracle\n",
    "con = cx_Oracle.connect('C##CAKD5/CAKD5@localhost:1521/xe')\n",
    "cursor = con.cursor()\n",
    "sql=\"create table sample1(id varchar2(10), score number)\"\n",
    "cursor.execute(sql)\n",
    "cursor.close()\n",
    "con.commit()\n",
    "con.close()"
   ]
  },
  {
   "cell_type": "code",
   "execution_count": 6,
   "id": "3bdffea8",
   "metadata": {},
   "outputs": [],
   "source": [
    "# insert\n",
    "def insert(t):\n",
    "    con = cx_Oracle.connect('C##CAKD5/CAKD5@localhost:1521/xe')\n",
    "    cursor = con.cursor()\n",
    "    sql=\"insert into sample1 (id,score) values(:1,:2)\"\n",
    "    cursor.execute(sql,t)\n",
    "    cursor.close()\n",
    "    con.commit()\n",
    "    con.close()\n",
    "insert(('111',80))\n",
    "    "
   ]
  },
  {
   "cell_type": "code",
   "execution_count": 8,
   "id": "a7ad6e49",
   "metadata": {},
   "outputs": [],
   "source": [
    "# insert - executemany\n",
    "rows = [('112',90),('113',70),('114',80),('115',90),('116',85)]\n",
    "def insertmany(t):\n",
    "    con = cx_Oracle.connect('C##CAKD5/CAKD5@localhost:1521/xe')\n",
    "    cursor = con.cursor()\n",
    "    sql=\"insert into sample1 (id,score) values(:1,:2)\"\n",
    "    cursor.executemany(sql,t)\n",
    "    cursor.close()\n",
    "    con.commit()\n",
    "    con.close()\n",
    "\n",
    "insertmany(rows)"
   ]
  },
  {
   "cell_type": "code",
   "execution_count": null,
   "id": "484cc065",
   "metadata": {},
   "outputs": [],
   "source": [
    "# Q. 3개의 속성(col01, col02, col03)으로 구성되는 테이블 sample2을 생성하고 10개의 데이터를 입력하세요.(사용자 함수 사용)\n",
    "# 단, col01에 대하여 제약조건 primary key 설정(제약조건 이름 sample_pk)"
   ]
  },
  {
   "cell_type": "code",
   "execution_count": 9,
   "id": "636f6796",
   "metadata": {},
   "outputs": [],
   "source": [
    "import cx_Oracle\n",
    "con = cx_Oracle.connect('C##CAKD5/CAKD5@localhost:1521/xe')\n",
    "cursor = con.cursor()\n",
    "sql=\"create table sample2(col01 varchar2(10), col02 varchar2(10), col03 varchar2(10),constraint sample_pk primary key (col01))\"\n",
    "cursor.execute(sql)\n",
    "cursor.close()\n",
    "con.commit()\n",
    "con.close()"
   ]
  },
  {
   "cell_type": "code",
   "execution_count": 10,
   "id": "e45453ee",
   "metadata": {},
   "outputs": [],
   "source": [
    "def insertcol(t):\n",
    "    con = cx_Oracle.connect('C##CAKD5/CAKD5@localhost:1521/xe')\n",
    "    cursor = con.cursor()\n",
    "    sql=\"insert into sample2 (col01,col02,col03) values(:1,:2,:3)\"\n",
    "    cursor.executemany(sql,t)\n",
    "    cursor.close()\n",
    "    con.commit()\n",
    "    con.close()\n",
    "\n",
    "rows = [('1','1','1'),('2','1','1'),('3','1','1'),('4','1','1'),('5','1','1'),('6','1','1'),('7','1','1'),('8','1','1'),('9','1','1'),('10','1','1')]\n",
    "insertcol(rows)"
   ]
  },
  {
   "cell_type": "code",
   "execution_count": 12,
   "id": "de2f1fdc",
   "metadata": {},
   "outputs": [],
   "source": [
    "# update\n",
    "def updatecol(t):\n",
    "    con = cx_Oracle.connect('C##CAKD5/CAKD5@localhost:1521/xe')\n",
    "    cursor = con.cursor()\n",
    "    sql=\"update sample2 set col03=:1 where col01=:2 \"\n",
    "    cursor.execute(sql,t)\n",
    "    cursor.close()\n",
    "    con.commit()\n",
    "    con.close()\n",
    "updatecol(('3','1'))"
   ]
  },
  {
   "cell_type": "code",
   "execution_count": 16,
   "id": "9cab2b20",
   "metadata": {},
   "outputs": [],
   "source": [
    "# delete\n",
    "def deletecol(t):\n",
    "    con = cx_Oracle.connect('C##CAKD5/CAKD5@localhost:1521/xe')\n",
    "    cursor = con.cursor()\n",
    "    sql=\"delete from sample2 where col01=:1\"\n",
    "    cursor.execute(sql,t)\n",
    "    cursor.close()\n",
    "    con.commit()\n",
    "    con.close()\n",
    "deletecol(('10',))"
   ]
  },
  {
   "cell_type": "code",
   "execution_count": 23,
   "id": "45fafa9c",
   "metadata": {},
   "outputs": [
    {
     "data": {
      "text/html": [
       "<div>\n",
       "<style scoped>\n",
       "    .dataframe tbody tr th:only-of-type {\n",
       "        vertical-align: middle;\n",
       "    }\n",
       "\n",
       "    .dataframe tbody tr th {\n",
       "        vertical-align: top;\n",
       "    }\n",
       "\n",
       "    .dataframe thead th {\n",
       "        text-align: right;\n",
       "    }\n",
       "</style>\n",
       "<table border=\"1\" class=\"dataframe\">\n",
       "  <thead>\n",
       "    <tr style=\"text-align: right;\">\n",
       "      <th></th>\n",
       "      <th>COL01</th>\n",
       "      <th>COL02</th>\n",
       "      <th>COL03</th>\n",
       "    </tr>\n",
       "  </thead>\n",
       "  <tbody>\n",
       "    <tr>\n",
       "      <th>0</th>\n",
       "      <td>1</td>\n",
       "      <td>1</td>\n",
       "      <td>3</td>\n",
       "    </tr>\n",
       "    <tr>\n",
       "      <th>1</th>\n",
       "      <td>2</td>\n",
       "      <td>1</td>\n",
       "      <td>1</td>\n",
       "    </tr>\n",
       "    <tr>\n",
       "      <th>2</th>\n",
       "      <td>3</td>\n",
       "      <td>1</td>\n",
       "      <td>1</td>\n",
       "    </tr>\n",
       "    <tr>\n",
       "      <th>3</th>\n",
       "      <td>4</td>\n",
       "      <td>1</td>\n",
       "      <td>1</td>\n",
       "    </tr>\n",
       "    <tr>\n",
       "      <th>4</th>\n",
       "      <td>5</td>\n",
       "      <td>1</td>\n",
       "      <td>1</td>\n",
       "    </tr>\n",
       "  </tbody>\n",
       "</table>\n",
       "</div>"
      ],
      "text/plain": [
       "  COL01 COL02 COL03\n",
       "0     1     1     3\n",
       "1     2     1     1\n",
       "2     3     1     1\n",
       "3     4     1     1\n",
       "4     5     1     1"
      ]
     },
     "execution_count": 23,
     "metadata": {},
     "output_type": "execute_result"
    }
   ],
   "source": [
    "import pandas as pd\n",
    "con = cx_Oracle.connect('C##CAKD5/CAKD5@localhost:1521/xe')\n",
    "cursor = con.cursor()\n",
    "cursor.execute(\"select * from sample2\")\n",
    "x = cursor.fetchall()\n",
    "df_col = pd.DataFrame(x)\n",
    "cursor.execute(\"select column_name from user_tab_columns where table_name='SAMPLE2'\")\n",
    "col = cursor.fetchall()\n",
    "list_py = []\n",
    "for i in col:\n",
    "    for j in i:\n",
    "        list_py.append(j)\n",
    "df_col.columns = list_py\n",
    "df_col.head()"
   ]
  },
  {
   "cell_type": "code",
   "execution_count": 25,
   "id": "4cd22f3b",
   "metadata": {},
   "outputs": [],
   "source": [
    "df_col.to_csv('./data/col3.csv')"
   ]
  },
  {
   "cell_type": "code",
   "execution_count": 34,
   "id": "07fdce5b",
   "metadata": {},
   "outputs": [
    {
     "data": {
      "text/plain": [
       "[('1', '1', '3'),\n",
       " ('2', '1', '1'),\n",
       " ('3', '1', '1'),\n",
       " ('4', '1', '1'),\n",
       " ('5', '1', '1'),\n",
       " ('6', '1', '1'),\n",
       " ('7', '1', '1'),\n",
       " ('8', '1', '1'),\n",
       " ('9', '1', '1')]"
      ]
     },
     "execution_count": 34,
     "metadata": {},
     "output_type": "execute_result"
    }
   ],
   "source": [
    "import csv\n",
    "with open('./data/col3.csv','r') as csv_file:\n",
    "    csv_reader = csv.reader(csv_file)\n",
    "    next(csv_reader)\n",
    "    data = []\n",
    "    for line in csv_reader:\n",
    "        data.append((line[1],line[2],line[3]))\n",
    "data"
   ]
  },
  {
   "cell_type": "code",
   "execution_count": 35,
   "id": "f5480fb9",
   "metadata": {},
   "outputs": [],
   "source": [
    "con = cx_Oracle.connect('C##CAKD5/CAKD5@localhost:1521/xe')\n",
    "cursor = con.cursor()\n",
    "sql=\"alter table sample2 drop constraint sample_pk\"\n",
    "cursor.execute(sql)\n",
    "cursor.close()\n",
    "con.commit()\n",
    "con.close()"
   ]
  },
  {
   "cell_type": "code",
   "execution_count": 37,
   "id": "9dc603a7",
   "metadata": {},
   "outputs": [],
   "source": [
    "with open('./data/col3.csv','r') as csv_file:\n",
    "    csv_reader = csv.reader(csv_file)\n",
    "    next(csv_reader)\n",
    "    con = cx_Oracle.connect('C##CAKD5/CAKD5@localhost:1521/xe')\n",
    "    cursor = con.cursor()\n",
    "    sql = \"insert into sample2 (col01,col02,col03) values(:1,:2,:3)\"\n",
    "    data = []\n",
    "    for line in csv_reader:\n",
    "        data.append((line[1],line[2],line[3]))\n",
    "    cursor.executemany(sql,data)\n",
    "    cursor.close()\n",
    "    con.commit()\n",
    "    con.close()    "
   ]
  },
  {
   "cell_type": "code",
   "execution_count": 38,
   "id": "37b3435c",
   "metadata": {},
   "outputs": [],
   "source": [
    "import cx_Oracle\n",
    "con = cx_Oracle.connect('C##CAKD5/CAKD5@localhost:1521/xe')\n",
    "cursor = con.cursor()\n",
    "sql=\"create table sample3(id varchar2(10), sales number)\"\n",
    "cursor.execute(sql)\n",
    "cursor.close()\n",
    "con.commit()\n",
    "con.close()"
   ]
  },
  {
   "cell_type": "code",
   "execution_count": 39,
   "id": "5316c581",
   "metadata": {},
   "outputs": [
    {
     "data": {
      "text/html": [
       "<div>\n",
       "<style scoped>\n",
       "    .dataframe tbody tr th:only-of-type {\n",
       "        vertical-align: middle;\n",
       "    }\n",
       "\n",
       "    .dataframe tbody tr th {\n",
       "        vertical-align: top;\n",
       "    }\n",
       "\n",
       "    .dataframe thead th {\n",
       "        text-align: right;\n",
       "    }\n",
       "</style>\n",
       "<table border=\"1\" class=\"dataframe\">\n",
       "  <thead>\n",
       "    <tr style=\"text-align: right;\">\n",
       "      <th></th>\n",
       "      <th>id</th>\n",
       "      <th>sales</th>\n",
       "    </tr>\n",
       "  </thead>\n",
       "  <tbody>\n",
       "    <tr>\n",
       "      <th>0</th>\n",
       "      <td>0</td>\n",
       "      <td>47</td>\n",
       "    </tr>\n",
       "    <tr>\n",
       "      <th>1</th>\n",
       "      <td>1</td>\n",
       "      <td>70</td>\n",
       "    </tr>\n",
       "    <tr>\n",
       "      <th>2</th>\n",
       "      <td>2</td>\n",
       "      <td>94</td>\n",
       "    </tr>\n",
       "    <tr>\n",
       "      <th>3</th>\n",
       "      <td>3</td>\n",
       "      <td>95</td>\n",
       "    </tr>\n",
       "    <tr>\n",
       "      <th>4</th>\n",
       "      <td>4</td>\n",
       "      <td>34</td>\n",
       "    </tr>\n",
       "  </tbody>\n",
       "</table>\n",
       "</div>"
      ],
      "text/plain": [
       "   id  sales\n",
       "0   0     47\n",
       "1   1     70\n",
       "2   2     94\n",
       "3   3     95\n",
       "4   4     34"
      ]
     },
     "execution_count": 39,
     "metadata": {},
     "output_type": "execute_result"
    }
   ],
   "source": [
    "# 대량 데이터 입력\n",
    "import numpy as np\n",
    "import pandas as pd\n",
    "\n",
    "df = pd.DataFrame()\n",
    "df['id'] = np.arange(10000)\n",
    "df['sales'] = np.random.randint(1,100,size=10000)\n",
    "df.head()"
   ]
  },
  {
   "cell_type": "code",
   "execution_count": 40,
   "id": "24997a02",
   "metadata": {},
   "outputs": [
    {
     "name": "stdout",
     "output_type": "stream",
     "text": [
      "<class 'pandas.core.frame.DataFrame'>\n",
      "RangeIndex: 10000 entries, 0 to 9999\n",
      "Data columns (total 2 columns):\n",
      " #   Column  Non-Null Count  Dtype\n",
      "---  ------  --------------  -----\n",
      " 0   id      10000 non-null  int32\n",
      " 1   sales   10000 non-null  int32\n",
      "dtypes: int32(2)\n",
      "memory usage: 78.2 KB\n"
     ]
    }
   ],
   "source": [
    "df.info()"
   ]
  },
  {
   "cell_type": "code",
   "execution_count": 41,
   "id": "78fe3264",
   "metadata": {},
   "outputs": [],
   "source": [
    "df['id'] = df.id.astype('str')"
   ]
  },
  {
   "cell_type": "code",
   "execution_count": 42,
   "id": "756cbde2",
   "metadata": {},
   "outputs": [
    {
     "data": {
      "text/plain": [
       "[('0', 47),\n",
       " ('1', 70),\n",
       " ('2', 94),\n",
       " ('3', 95),\n",
       " ('4', 34),\n",
       " ('5', 26),\n",
       " ('6', 75),\n",
       " ('7', 99),\n",
       " ('8', 64),\n",
       " ('9', 95)]"
      ]
     },
     "execution_count": 42,
     "metadata": {},
     "output_type": "execute_result"
    }
   ],
   "source": [
    "ar = df.values\n",
    "results = list([tuple(e) for e in ar])\n",
    "results[:10]"
   ]
  },
  {
   "cell_type": "code",
   "execution_count": 45,
   "id": "5aec4a1d",
   "metadata": {},
   "outputs": [],
   "source": [
    "con = cx_Oracle.connect('C##CAKD5/CAKD5@localhost:1521/xe')\n",
    "cursor = con.cursor()\n",
    "sql=\"insert into sample3 (id,sales) values(:1,:2)\"\n",
    "\n",
    "cursor.executemany(sql,results)\n",
    "cursor.close()\n",
    "con.commit()\n",
    "con.close()"
   ]
  },
  {
   "cell_type": "code",
   "execution_count": null,
   "id": "3d7ce3eb",
   "metadata": {},
   "outputs": [],
   "source": [
    "# Q. ID의 자료 타입을 NUMBER로 변경하여 ID 기준으로 올림차순 정렬하여 출력하세요."
   ]
  },
  {
   "cell_type": "code",
   "execution_count": 48,
   "id": "9cf6ab7b",
   "metadata": {},
   "outputs": [],
   "source": [
    "con = cx_Oracle.connect('C##CAKD5/CAKD5@localhost:1521/xe')\n",
    "cursor = con.cursor()\n",
    "sql=\"alter table sample3 modify id number\"\n",
    "# sql = 'truncate table sample3'\n",
    "cursor.execute(sql)\n",
    "cursor.close()\n",
    "con.commit()\n",
    "con.close()"
   ]
  },
  {
   "cell_type": "code",
   "execution_count": 49,
   "id": "45a99bcf",
   "metadata": {},
   "outputs": [],
   "source": [
    "con = cx_Oracle.connect('C##CAKD5/CAKD5@localhost:1521/xe')\n",
    "cursor = con.cursor()\n",
    "sql=\"insert into sample3 (id,sales) values(:1,:2)\"\n",
    "\n",
    "cursor.executemany(sql,results)\n",
    "cursor.close()\n",
    "con.commit()\n",
    "con.close()"
   ]
  },
  {
   "cell_type": "markdown",
   "id": "74cee3a5",
   "metadata": {},
   "source": [
    "[과제] employees 테이블을 불러와서 다음사항을 수행하세요.\n",
    "- 컬럼명을 포함하여 employees 테이블을 데이터프레임으로 출력\n",
    "- department_id별 평균 연봉을 출력\n",
    "- 부서별 평균 연봉을 수평 그래프로 시각화"
   ]
  },
  {
   "cell_type": "markdown",
   "id": "1674c5cd",
   "metadata": {},
   "source": [
    "[과제] PURPROD 테이블을 불러와서 다음사항을 수행하세요.\n",
    "- 데이터프레임으로 출력\n",
    "- 고객별 2014년 2015년 총구매액 및 평균구매액 출력\n",
    "- 고객별 2014 VS 2015 총구매액 기준 성장율"
   ]
  }
 ],
 "metadata": {
  "kernelspec": {
   "display_name": "Python 3 (ipykernel)",
   "language": "python",
   "name": "python3"
  },
  "language_info": {
   "codemirror_mode": {
    "name": "ipython",
    "version": 3
   },
   "file_extension": ".py",
   "mimetype": "text/x-python",
   "name": "python",
   "nbconvert_exporter": "python",
   "pygments_lexer": "ipython3",
   "version": "3.8.12"
  }
 },
 "nbformat": 4,
 "nbformat_minor": 5
}
